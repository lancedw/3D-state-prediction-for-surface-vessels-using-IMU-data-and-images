{
 "cells": [
  {
   "cell_type": "markdown",
   "metadata": {},
   "source": [
    "# Pitch & Roll prediction w/Images"
   ]
  },
  {
   "cell_type": "code",
   "execution_count": 1,
   "metadata": {},
   "outputs": [],
   "source": [
    "import gc\n",
    "import os\n",
    "import cv2\n",
    "import json\n",
    "import math\n",
    "import pickle\n",
    "import random\n",
    "import platform\n",
    "import numpy as np\n",
    "import pandas as pd\n",
    "from PIL import Image\n",
    "import multiprocessing\n",
    "from tqdm.notebook import tqdm\n",
    "import matplotlib.pyplot as plt\n",
    "\n",
    "import torch\n",
    "import torch.nn as nn\n",
    "import torch.optim as optim\n",
    "import torch.nn.functional as F\n",
    "import torch.autograd as autograd\n",
    "from torchvision import transforms\n",
    "from torch.utils.data import Dataset, DataLoader\n",
    "\n",
    "import pytorch_lightning as pl"
   ]
  },
  {
   "cell_type": "code",
   "execution_count": 2,
   "metadata": {},
   "outputs": [
    {
     "name": "stdout",
     "output_type": "stream",
     "text": [
      "1.11.0\n",
      "1.6.1\n"
     ]
    }
   ],
   "source": [
    "print(torch.__version__)\n",
    "print(pl.__version__)"
   ]
  },
  {
   "cell_type": "code",
   "execution_count": 3,
   "metadata": {},
   "outputs": [
    {
     "name": "stdout",
     "output_type": "stream",
     "text": [
      "device: cuda\n",
      "CPU count: 16\n",
      "Platform: windows\n",
      "number of workers: 0\n"
     ]
    }
   ],
   "source": [
    "device = torch.device('cuda' if torch.cuda.is_available() else 'cpu')\n",
    "print(\"device:\", device)\n",
    "cpu_count = multiprocessing.cpu_count()\n",
    "print('CPU count:', cpu_count)\n",
    "platform_os = \"windows\" if platform.system() == \"Windows\" else \"linux\"\n",
    "print(\"Platform:\", platform_os)\n",
    "\n",
    "# Pytorch Dataloader can't handle n_workers > 0 on windows due to bugs\n",
    "N_WORKERS = 0 if platform_os==\"windows\" else cpu_count\n",
    "print(f\"number of workers: {N_WORKERS}\")"
   ]
  },
  {
   "cell_type": "markdown",
   "metadata": {},
   "source": [
    "# Constants"
   ]
  },
  {
   "cell_type": "code",
   "execution_count": 4,
   "metadata": {},
   "outputs": [],
   "source": [
    "# change to appropriate location\n",
    "TRAIN_FOLDER = \"../3dmodel/test_4_episode_\"\n",
    "MODEL_NAME = \"CNN_img-PR-to-PR\"\n",
    "MODEL_STATE_FOLDER = f\"model_states/{MODEL_NAME}\"\n",
    "RESULT_FOLDER = f\"../results/{MODEL_NAME}\"\n",
    "TRAIN_RESULT_FOLDER = f\"training_results/{MODEL_NAME}\"\n",
    "SAVE_RESULTS = True"
   ]
  },
  {
   "cell_type": "code",
   "execution_count": 5,
   "metadata": {},
   "outputs": [],
   "source": [
    "if not os.path.exists(MODEL_STATE_FOLDER):\n",
    "    os.mkdir(MODEL_STATE_FOLDER)\n",
    "if not os.path.exists(TRAIN_RESULT_FOLDER):\n",
    "    os.mkdir(TRAIN_RESULT_FOLDER)\n",
    "if not os.path.exists(RESULT_FOLDER):\n",
    "    os.mkdir(RESULT_FOLDER)"
   ]
  },
  {
   "cell_type": "code",
   "execution_count": 6,
   "metadata": {},
   "outputs": [],
   "source": [
    "FRAMES_IN = 10\n",
    "FRAMES_OUT = 60\n",
    "\n",
    "N_EPISODES = 540\n",
    "FRAMES_PER_EPISODE = 400\n",
    "\n",
    "TRAIN_SIZE = 0.8\n",
    "NUM_EPOCHS = 50\n",
    "BATCH_SIZE = 128\n",
    "LEARNING_RATE = 0.002\n",
    "\n",
    "CUDA = device.type == 'cuda'"
   ]
  },
  {
   "cell_type": "markdown",
   "metadata": {},
   "source": [
    "# Load data from episodes"
   ]
  },
  {
   "cell_type": "code",
   "execution_count": 7,
   "metadata": {},
   "outputs": [
    {
     "data": {
      "text/html": [
       "<div>\n",
       "<style scoped>\n",
       "    .dataframe tbody tr th:only-of-type {\n",
       "        vertical-align: middle;\n",
       "    }\n",
       "\n",
       "    .dataframe tbody tr th {\n",
       "        vertical-align: top;\n",
       "    }\n",
       "\n",
       "    .dataframe thead th {\n",
       "        text-align: right;\n",
       "    }\n",
       "</style>\n",
       "<table border=\"1\" class=\"dataframe\">\n",
       "  <thead>\n",
       "    <tr style=\"text-align: right;\">\n",
       "      <th></th>\n",
       "      <th>pitch</th>\n",
       "      <th>roll</th>\n",
       "    </tr>\n",
       "  </thead>\n",
       "  <tbody>\n",
       "    <tr>\n",
       "      <th>0</th>\n",
       "      <td>15.915869</td>\n",
       "      <td>2.358416</td>\n",
       "    </tr>\n",
       "    <tr>\n",
       "      <th>1</th>\n",
       "      <td>14.295925</td>\n",
       "      <td>1.700391</td>\n",
       "    </tr>\n",
       "    <tr>\n",
       "      <th>2</th>\n",
       "      <td>6.213590</td>\n",
       "      <td>1.611325</td>\n",
       "    </tr>\n",
       "    <tr>\n",
       "      <th>3</th>\n",
       "      <td>1.235337</td>\n",
       "      <td>6.175461</td>\n",
       "    </tr>\n",
       "    <tr>\n",
       "      <th>4</th>\n",
       "      <td>1.341678</td>\n",
       "      <td>3.695468</td>\n",
       "    </tr>\n",
       "  </tbody>\n",
       "</table>\n",
       "</div>"
      ],
      "text/plain": [
       "       pitch      roll\n",
       "0  15.915869  2.358416\n",
       "1  14.295925  1.700391\n",
       "2   6.213590  1.611325\n",
       "3   1.235337  6.175461\n",
       "4   1.341678  3.695468"
      ]
     },
     "execution_count": 7,
     "metadata": {},
     "output_type": "execute_result"
    }
   ],
   "source": [
    "# view first episode 's datapoints\n",
    "filename = TRAIN_FOLDER + \"1/\"\n",
    "data = []\n",
    "labels = json.load(open(filename+\"labels_0.json\"))\n",
    "ep1 = pd.DataFrame(labels)\n",
    "ep1 = ep1.transpose()\n",
    "ep1.rename(columns = {0:'pitch', 1:'roll'}, inplace=True)\n",
    "ep1.head(5)"
   ]
  },
  {
   "cell_type": "code",
   "execution_count": 8,
   "metadata": {},
   "outputs": [
    {
     "data": {
      "text/plain": [
       "(400, torch.Size([54, 96, 3]))"
      ]
     },
     "execution_count": 8,
     "metadata": {},
     "output_type": "execute_result"
    }
   ],
   "source": [
    "img_tensors_array = []\n",
    "filename = TRAIN_FOLDER + \"1/\"\n",
    "for index, row in ep1.iterrows():\n",
    "    img = cv2.imread(filename + str(index) + \".png\")\n",
    "    img_tensors_array.append(torch.Tensor(img))\n",
    "\n",
    "len(img_tensors_array), img_tensors_array[0].shape"
   ]
  },
  {
   "cell_type": "code",
   "execution_count": 9,
   "metadata": {},
   "outputs": [],
   "source": [
    "# Function to normalize pixels\n",
    "def norm_pixel(x):\n",
    "    x = x.astype('float32')\n",
    "    return (x*2)/255-1\n",
    "\n",
    "# Function to denormalize pixels\n",
    "def denorm_pixel(x):\n",
    "    x = x.astype('float32')\n",
    "    return (x+1)*255/2"
   ]
  },
  {
   "cell_type": "code",
   "execution_count": 10,
   "metadata": {},
   "outputs": [],
   "source": [
    "# Function to normalize pitch and roll angles\n",
    "def norm_pr(x, min = -90.0, max = 90.0):\n",
    "    return ((x - min) * 2) / (max - min) - 1\n",
    "\n",
    "# Function to denormalize pitch and roll angles\n",
    "def denorm_pr(x, min = -90.0, max = 90.0):\n",
    "    return ((x + 1) * (max - min))/2 + min"
   ]
  },
  {
   "cell_type": "code",
   "execution_count": 11,
   "metadata": {},
   "outputs": [
    {
     "data": {
      "application/vnd.jupyter.widget-view+json": {
       "model_id": "34f5008d3d6f4a3e8272f04bde939d22",
       "version_major": 2,
       "version_minor": 0
      },
      "text/plain": [
       "  0%|          | 0/540 [00:00<?, ?it/s]"
      ]
     },
     "metadata": {},
     "output_type": "display_data"
    },
    {
     "data": {
      "text/plain": [
       "(216000, torch.Size([54, 96, 3]))"
      ]
     },
     "execution_count": 11,
     "metadata": {},
     "output_type": "execute_result"
    }
   ],
   "source": [
    "# load all data\n",
    "episodes_data = []\n",
    "img_tensors_array = []\n",
    "\n",
    "for ep in tqdm(range(1, N_EPISODES+1)):\n",
    "    folder = TRAIN_FOLDER + str(ep) + \"/\"\n",
    "    filename = folder + \"labels_0.json\"\n",
    "    labels = json.load(open(filename))\n",
    "    for i in labels:\n",
    "        # load image, normalize and convert to tensor\n",
    "        img = cv2.imread(folder + str(i) + \".png\")\n",
    "        img = norm_pixel(img)\n",
    "        img_tensors_array.append(torch.Tensor(img))\n",
    "\n",
    "        # pitch and roll is read with labels[i] as [pitch, roll]\n",
    "        episodes_data.append(labels[i])\n",
    "\n",
    "# verify that 216.000 images were loaded\n",
    "len(img_tensors_array), img_tensors_array[0].shape"
   ]
  },
  {
   "cell_type": "code",
   "execution_count": 12,
   "metadata": {},
   "outputs": [
    {
     "name": "stdout",
     "output_type": "stream",
     "text": [
      "(216000, 2)\n"
     ]
    },
    {
     "data": {
      "text/html": [
       "<div>\n",
       "<style scoped>\n",
       "    .dataframe tbody tr th:only-of-type {\n",
       "        vertical-align: middle;\n",
       "    }\n",
       "\n",
       "    .dataframe tbody tr th {\n",
       "        vertical-align: top;\n",
       "    }\n",
       "\n",
       "    .dataframe thead th {\n",
       "        text-align: right;\n",
       "    }\n",
       "</style>\n",
       "<table border=\"1\" class=\"dataframe\">\n",
       "  <thead>\n",
       "    <tr style=\"text-align: right;\">\n",
       "      <th></th>\n",
       "      <th>pitch</th>\n",
       "      <th>roll</th>\n",
       "    </tr>\n",
       "  </thead>\n",
       "  <tbody>\n",
       "    <tr>\n",
       "      <th>0</th>\n",
       "      <td>0.176843</td>\n",
       "      <td>0.026205</td>\n",
       "    </tr>\n",
       "    <tr>\n",
       "      <th>1</th>\n",
       "      <td>0.158844</td>\n",
       "      <td>0.018893</td>\n",
       "    </tr>\n",
       "    <tr>\n",
       "      <th>2</th>\n",
       "      <td>0.069040</td>\n",
       "      <td>0.017904</td>\n",
       "    </tr>\n",
       "    <tr>\n",
       "      <th>3</th>\n",
       "      <td>0.013726</td>\n",
       "      <td>0.068616</td>\n",
       "    </tr>\n",
       "    <tr>\n",
       "      <th>4</th>\n",
       "      <td>0.014908</td>\n",
       "      <td>0.041061</td>\n",
       "    </tr>\n",
       "  </tbody>\n",
       "</table>\n",
       "</div>"
      ],
      "text/plain": [
       "      pitch      roll\n",
       "0  0.176843  0.026205\n",
       "1  0.158844  0.018893\n",
       "2  0.069040  0.017904\n",
       "3  0.013726  0.068616\n",
       "4  0.014908  0.041061"
      ]
     },
     "execution_count": 12,
     "metadata": {},
     "output_type": "execute_result"
    }
   ],
   "source": [
    "# build dataframe with pitch and roll, cast as float and normalize\n",
    "p_r_df = pd.DataFrame(episodes_data)\n",
    "p_r_df.rename(columns = {0:'pitch', 1:'roll'}, inplace=True)\n",
    "p_r_df = p_r_df.astype({\"pitch\": float, \"roll\": float})\n",
    "p_r_df['pitch'] = p_r_df['pitch'].apply(lambda x : norm_pr(x))\n",
    "p_r_df['roll'] = p_r_df['roll'].apply(lambda x : norm_pr(x))\n",
    "print(p_r_df.shape)\n",
    "p_r_df.head(5)"
   ]
  },
  {
   "cell_type": "code",
   "execution_count": 13,
   "metadata": {},
   "outputs": [
    {
     "data": {
      "text/plain": [
       "torch.Size([216000, 54, 96, 3])"
      ]
     },
     "execution_count": 13,
     "metadata": {},
     "output_type": "execute_result"
    }
   ],
   "source": [
    "# tranform the array of image tensors into one tensor of shape: (samples, height, width, channels)\n",
    "img_tensor = torch.stack(img_tensors_array)\n",
    "img_tensor_array = None # free this memory\n",
    "img_tensor.shape"
   ]
  },
  {
   "cell_type": "code",
   "execution_count": 14,
   "metadata": {},
   "outputs": [
    {
     "data": {
      "text/plain": [
       "torch.Size([216000, 3, 54, 96])"
      ]
     },
     "execution_count": 14,
     "metadata": {},
     "output_type": "execute_result"
    }
   ],
   "source": [
    "# Permute from (n, h, w, c) to (n, c, h, w) format for pytorch CNN\n",
    "img_tensor = img_tensor.permute(0,3,1,2)\n",
    "img_tensor.shape"
   ]
  },
  {
   "cell_type": "code",
   "execution_count": 15,
   "metadata": {},
   "outputs": [
    {
     "data": {
      "text/plain": [
       "18"
      ]
     },
     "execution_count": 15,
     "metadata": {},
     "output_type": "execute_result"
    }
   ],
   "source": [
    "# clear memory\n",
    "gc.collect()"
   ]
  },
  {
   "cell_type": "markdown",
   "metadata": {},
   "source": [
    "# Create input and output sequences"
   ]
  },
  {
   "cell_type": "code",
   "execution_count": 16,
   "metadata": {},
   "outputs": [],
   "source": [
    "# function to create sequences with one target column\n",
    "def create_sequences(\n",
    "        input_data: pd.DataFrame, \n",
    "        input_images,\n",
    "        input_feature_columns,\n",
    "        output_target_columns, \n",
    "        input_sequence_length=FRAMES_IN, \n",
    "        output_sequence_length=FRAMES_OUT,  \n",
    "        episode_length = FRAMES_PER_EPISODE, \n",
    "        n_episodes = N_EPISODES\n",
    "    ):\n",
    "    input_sequences= []\n",
    "    output_sequences= []\n",
    "\n",
    "    # make sequences per episode, one sequence can only hold data of one and the same episode!\n",
    "    for n in tqdm(range(n_episodes)):\n",
    "\n",
    "        for l in range(episode_length-output_sequence_length-input_sequence_length+1):\n",
    "            \n",
    "            i = l+(n*episode_length)\n",
    "\n",
    "            # grab image input tensors from list with img_tensors\n",
    "            img_sequence = input_images[i:i+input_sequence_length]\n",
    "            pr_sequence = input_data[i:i+input_sequence_length]\n",
    "\n",
    "            # grab pr output sequence from dataframe\n",
    "            target_position = i + input_sequence_length\n",
    "            target = input_data.iloc[target_position:target_position+output_sequence_length].transpose()\n",
    "\n",
    "            input_sequences.append((img_sequence, pr_sequence))\n",
    "            output_sequences.append(target)\n",
    "\n",
    "    return input_sequences, output_sequences"
   ]
  },
  {
   "cell_type": "code",
   "execution_count": 17,
   "metadata": {},
   "outputs": [
    {
     "data": {
      "application/vnd.jupyter.widget-view+json": {
       "model_id": "c9d9a6f170ff471a815f15cc1efb8d61",
       "version_major": 2,
       "version_minor": 0
      },
      "text/plain": [
       "  0%|          | 0/540 [00:00<?, ?it/s]"
      ]
     },
     "metadata": {},
     "output_type": "display_data"
    }
   ],
   "source": [
    "# use images to predict pitch and roll\n",
    "input_features = [\"pitch\", \"roll\"]\n",
    "output_features = [\"pitch\", \"roll\"]\n",
    "input_sequences, output_sequences = create_sequences(p_r_df, img_tensor, input_features, output_features)"
   ]
  },
  {
   "cell_type": "code",
   "execution_count": 18,
   "metadata": {},
   "outputs": [
    {
     "data": {
      "text/plain": [
       "(178740, torch.Size([10, 3, 54, 96]), (10, 2))"
      ]
     },
     "execution_count": 18,
     "metadata": {},
     "output_type": "execute_result"
    }
   ],
   "source": [
    "len(input_sequences), input_sequences[0][0].shape , input_sequences[0][1].shape"
   ]
  },
  {
   "cell_type": "code",
   "execution_count": 19,
   "metadata": {},
   "outputs": [
    {
     "data": {
      "text/plain": [
       "(178740, (2, 60))"
      ]
     },
     "execution_count": 19,
     "metadata": {},
     "output_type": "execute_result"
    }
   ],
   "source": [
    "len(output_sequences), output_sequences[0].shape"
   ]
  },
  {
   "cell_type": "code",
   "execution_count": 20,
   "metadata": {},
   "outputs": [
    {
     "data": {
      "text/plain": [
       "torch.Size([10, 3, 54, 96])"
      ]
     },
     "execution_count": 20,
     "metadata": {},
     "output_type": "execute_result"
    }
   ],
   "source": [
    "# first input sequence's images\n",
    "input_sequences[0][0].shape"
   ]
  },
  {
   "cell_type": "code",
   "execution_count": 21,
   "metadata": {},
   "outputs": [
    {
     "data": {
      "text/html": [
       "<div>\n",
       "<style scoped>\n",
       "    .dataframe tbody tr th:only-of-type {\n",
       "        vertical-align: middle;\n",
       "    }\n",
       "\n",
       "    .dataframe tbody tr th {\n",
       "        vertical-align: top;\n",
       "    }\n",
       "\n",
       "    .dataframe thead th {\n",
       "        text-align: right;\n",
       "    }\n",
       "</style>\n",
       "<table border=\"1\" class=\"dataframe\">\n",
       "  <thead>\n",
       "    <tr style=\"text-align: right;\">\n",
       "      <th></th>\n",
       "      <th>pitch</th>\n",
       "      <th>roll</th>\n",
       "    </tr>\n",
       "  </thead>\n",
       "  <tbody>\n",
       "    <tr>\n",
       "      <th>0</th>\n",
       "      <td>0.176843</td>\n",
       "      <td>0.026205</td>\n",
       "    </tr>\n",
       "    <tr>\n",
       "      <th>1</th>\n",
       "      <td>0.158844</td>\n",
       "      <td>0.018893</td>\n",
       "    </tr>\n",
       "    <tr>\n",
       "      <th>2</th>\n",
       "      <td>0.069040</td>\n",
       "      <td>0.017904</td>\n",
       "    </tr>\n",
       "    <tr>\n",
       "      <th>3</th>\n",
       "      <td>0.013726</td>\n",
       "      <td>0.068616</td>\n",
       "    </tr>\n",
       "    <tr>\n",
       "      <th>4</th>\n",
       "      <td>0.014908</td>\n",
       "      <td>0.041061</td>\n",
       "    </tr>\n",
       "  </tbody>\n",
       "</table>\n",
       "</div>"
      ],
      "text/plain": [
       "      pitch      roll\n",
       "0  0.176843  0.026205\n",
       "1  0.158844  0.018893\n",
       "2  0.069040  0.017904\n",
       "3  0.013726  0.068616\n",
       "4  0.014908  0.041061"
      ]
     },
     "execution_count": 21,
     "metadata": {},
     "output_type": "execute_result"
    }
   ],
   "source": [
    "# first input sequence's PR values\n",
    "input_sequences[0][1].head()"
   ]
  },
  {
   "cell_type": "code",
   "execution_count": 22,
   "metadata": {},
   "outputs": [
    {
     "name": "stdout",
     "output_type": "stream",
     "text": [
      "True\n",
      "Training size: 142992 | Test size: 35748\n",
      "[167621, 29184, 6556, 72097, 64196, 58513, 36579, 26868, 177392, 142964]\n",
      "[1, 3, 4, 5, 131080, 12, 131085, 131087, 17, 21]\n"
     ]
    }
   ],
   "source": [
    "# Grab random subsets from all sequences for training and test data (without overlapping data)\n",
    "data_size = len(input_sequences)\n",
    "data_indices = list(np.arange(0, data_size, 1))\n",
    "\n",
    "# train indices are random sample from all data indices\n",
    "random.seed(42)\n",
    "train_size = int(TRAIN_SIZE * data_size)\n",
    "train_indices = random.sample(data_indices, train_size)\n",
    "\n",
    "# test indices are the difference of all data indices and train indices\n",
    "test_indices = list(set(data_indices) - set(train_indices))\n",
    "\n",
    "print((len(train_indices) + len(test_indices)) <= data_size)\n",
    "print(\"Training size:\", len(train_indices),\"| Test size:\", len(test_indices))\n",
    "print(train_indices[:10])\n",
    "print(test_indices[:10])"
   ]
  },
  {
   "cell_type": "code",
   "execution_count": 23,
   "metadata": {},
   "outputs": [
    {
     "data": {
      "application/vnd.jupyter.widget-view+json": {
       "model_id": "3f4b88d84d7d49b2b6e117c608d83821",
       "version_major": 2,
       "version_minor": 0
      },
      "text/plain": [
       "  0%|          | 0/142992 [00:00<?, ?it/s]"
      ]
     },
     "metadata": {},
     "output_type": "display_data"
    },
    {
     "data": {
      "application/vnd.jupyter.widget-view+json": {
       "model_id": "f3916d3796404ed481e74ad8409155f0",
       "version_major": 2,
       "version_minor": 0
      },
      "text/plain": [
       "  0%|          | 0/35748 [00:00<?, ?it/s]"
      ]
     },
     "metadata": {},
     "output_type": "display_data"
    },
    {
     "name": "stdout",
     "output_type": "stream",
     "text": [
      "True\n",
      "142992 torch.Size([10, 3, 54, 96]) (10, 2) (2, 60)\n",
      "35748 torch.Size([10, 3, 54, 96]) (10, 2) (2, 60)\n"
     ]
    }
   ],
   "source": [
    "train_sequences = []\n",
    "test_sequences = []\n",
    "\n",
    "for idx in tqdm(train_indices):\n",
    "    seq = input_sequences[idx]\n",
    "    label = output_sequences[idx]\n",
    "    train_sequences.append((seq,label))\n",
    "\n",
    "for idx in tqdm(test_indices):\n",
    "    seq = input_sequences[idx]\n",
    "    label = output_sequences[idx]\n",
    "    test_sequences.append((seq,label))\n",
    "\n",
    "print((len(train_sequences) + len(test_sequences)) <= len(output_sequences))\n",
    "print(len(train_sequences), train_sequences[0][0][0].shape, train_sequences[0][0][1].shape, train_sequences[0][1].shape) \n",
    "print(len(test_sequences), test_sequences[0][0][0].shape, test_sequences[0][0][1].shape, test_sequences[0][1].shape)"
   ]
  },
  {
   "cell_type": "markdown",
   "metadata": {},
   "source": [
    "## Pytorch Dataset and DataLoader"
   ]
  },
  {
   "cell_type": "code",
   "execution_count": 27,
   "metadata": {},
   "outputs": [],
   "source": [
    "class PRDataset(Dataset):\n",
    "    def __init__(self, sequences):\n",
    "        self.sequences = sequences\n",
    "\n",
    "    def __len__(self):\n",
    "        return len(self.sequences)\n",
    "\n",
    "    def __getitem__(self, index):\n",
    "        (img_sequence, pr_sequence), labels = self.sequences[index]\n",
    "\n",
    "        return dict(\n",
    "            input_img_sequence = img_sequence,\n",
    "            input_pr_sequence = torch.Tensor(pr_sequence.to_numpy()),\n",
    "            output_sequence = torch.Tensor(labels.to_numpy())\n",
    "        )"
   ]
  },
  {
   "cell_type": "code",
   "execution_count": 28,
   "metadata": {},
   "outputs": [],
   "source": [
    "class PRDataModule(pl.LightningDataModule):\n",
    "    def __init__(self, train_sequences, test_sequences, batchsize = BATCH_SIZE):\n",
    "        super().__init__()\n",
    "        self.train_sequences = train_sequences\n",
    "        self.test_sequences = test_sequences\n",
    "        self.batchsize = batchsize\n",
    "\n",
    "    # turns normal list object into Dataset object\n",
    "    def setup(self):\n",
    "        self.train_dataset = PRDataset(self.train_sequences)\n",
    "        self.test_dataset = PRDataset(self.test_sequences)\n",
    "\n",
    "    def train_dataloader(self):\n",
    "        return DataLoader(\n",
    "            self.train_dataset,\n",
    "            batch_size = self.batchsize,\n",
    "            shuffle = False,\n",
    "            num_workers=N_WORKERS,\n",
    "            pin_memory = True,\n",
    "        )\n",
    "\n",
    "    def val_dataloader(self):\n",
    "        return DataLoader(\n",
    "            self.test_dataset,\n",
    "            batch_size = self.batchsize,\n",
    "            shuffle = False,\n",
    "            num_workers=N_WORKERS,\n",
    "            pin_memory = True,\n",
    "        )\n",
    "\n",
    "    def test_dataloader(self):\n",
    "        return DataLoader(\n",
    "            self.test_dataset,\n",
    "            batch_size = 1,\n",
    "            shuffle = False,\n",
    "            num_workers=N_WORKERS,\n",
    "        )"
   ]
  },
  {
   "cell_type": "code",
   "execution_count": 29,
   "metadata": {},
   "outputs": [],
   "source": [
    "data_module = PRDataModule(train_sequences, test_sequences, BATCH_SIZE)\n",
    "data_module.setup()"
   ]
  },
  {
   "cell_type": "code",
   "execution_count": 30,
   "metadata": {},
   "outputs": [
    {
     "name": "stdout",
     "output_type": "stream",
     "text": [
      "torch.Size([128, 10, 3, 54, 96])\n",
      "torch.Size([128, 10, 2])\n",
      "torch.Size([128, 2, 60])\n"
     ]
    }
   ],
   "source": [
    "# batch size first\n",
    "for batch in data_module.train_dataloader():\n",
    "    print(batch[\"input_img_sequence\"].shape)\n",
    "    print(batch[\"input_pr_sequence\"].shape)\n",
    "    print(batch[\"output_sequence\"].shape)\n",
    "    break"
   ]
  },
  {
   "cell_type": "markdown",
   "metadata": {},
   "source": [
    "## CNN Model"
   ]
  },
  {
   "cell_type": "code",
   "execution_count": 42,
   "metadata": {},
   "outputs": [],
   "source": [
    "class CNN_encoder(nn.Module):\n",
    "\n",
    "    def __init__(self, channels=3):\n",
    "        super(CNN_encoder, self).__init__()\n",
    "\n",
    "        # outputs a tensor of shape (batch, out_channels, h/2/2, w/2/2)\n",
    "        self.cnn_encoder = nn.Sequential(\n",
    "            nn.Conv2d(in_channels=channels, out_channels=8, kernel_size=5, padding=2),\n",
    "            nn.ReLU(inplace=True),\n",
    "            nn.MaxPool2d(kernel_size=2, stride=2),\n",
    "    \n",
    "            nn.Conv2d(in_channels=8, out_channels=16, kernel_size=3, padding=1),\n",
    "            nn.ReLU(inplace=True),\n",
    "            nn.MaxPool2d(kernel_size=2, stride=2),\n",
    "        )\n",
    "\n",
    "    def forward(self, img_sequence, pr_sequence, batch_size):\n",
    "        # x is of shape (batch, seq_lenth, channels, height, width)\n",
    "        # iterate over the sequence and encode a feature vector for each image\n",
    "        img_features = [self.cnn_encoder(img_sequence[:,i,:,:,:].squeeze(1)) for i in range(img_sequence.size(1))]\n",
    "        \n",
    "        # flatten individual feature vectors in img_features to (batch, n)\n",
    "        img_features = [img.reshape(batch_size, -1) for img in img_features]\n",
    "\n",
    "        # append pitch and roll to the end of each img feature vector\n",
    "        # pr_sequence is of shape (batch, seq_lenth, 2)\n",
    "        # TODO: change to other operation because cat is very slow on GPU\n",
    "        img_features = [torch.cat((img_features[i], pr_sequence[:,i,:]), dim=1) for i in range(len(img_features))]\n",
    "\n",
    "        # convert list of vectors into tensor of shape: (batch, len(img_features), features)\n",
    "        img_features = torch.stack(img_features, 1)\n",
    "\n",
    "        # reshape into (batch, 1, n*features)\n",
    "        img_features = img_features.reshape(batch_size, -1).unsqueeze(1)\n",
    "\n",
    "        return img_features"
   ]
  },
  {
   "cell_type": "code",
   "execution_count": 32,
   "metadata": {},
   "outputs": [],
   "source": [
    "# get the first batch out of the dataloader for testing purposes\n",
    "for batch in data_module.train_dataloader():\n",
    "    img_train = batch[\"input_img_sequence\"]\n",
    "    pr_train = batch[\"input_pr_sequence\"]\n",
    "    y_train = batch[\"output_sequence\"]\n",
    "    break"
   ]
  },
  {
   "cell_type": "code",
   "execution_count": 33,
   "metadata": {},
   "outputs": [
    {
     "data": {
      "text/plain": [
       "torch.Size([128, 1, 49940])"
      ]
     },
     "execution_count": 33,
     "metadata": {},
     "output_type": "execute_result"
    }
   ],
   "source": [
    "model = CNN_encoder()\n",
    "img_features = model.forward(img_train, pr_train, BATCH_SIZE)\n",
    "img_features.shape"
   ]
  },
  {
   "cell_type": "code",
   "execution_count": 34,
   "metadata": {},
   "outputs": [],
   "source": [
    "# ENCODER\n",
    "class LSTM_encoder(nn.Module):\n",
    "    def __init__(self, input_size, hidden_size=1024, num_layers=1):\n",
    "       \n",
    "        super(LSTM_encoder, self).__init__()\n",
    "\n",
    "        self.hidden_size = hidden_size\n",
    "        self.num_layers = num_layers\n",
    "        self.input_size = input_size\n",
    "\n",
    "        self.encoder_lstm = nn.LSTM(\n",
    "            input_size=input_size, \n",
    "            hidden_size=hidden_size, \n",
    "            num_layers=num_layers,\n",
    "            batch_first=True,\n",
    "        )\n",
    "\n",
    "    def forward(self, input_seq):\n",
    "\n",
    "        ouputs, hidden = self.encoder_lstm(input_seq)\n",
    "        \n",
    "        return ouputs, hidden"
   ]
  },
  {
   "cell_type": "code",
   "execution_count": 35,
   "metadata": {},
   "outputs": [
    {
     "data": {
      "text/plain": [
       "torch.Size([128, 1, 1024])"
      ]
     },
     "execution_count": 35,
     "metadata": {},
     "output_type": "execute_result"
    }
   ],
   "source": [
    "model = LSTM_encoder(img_features.size(2))\n",
    "output, hidden = model.forward(img_features)\n",
    "output.shape"
   ]
  },
  {
   "cell_type": "code",
   "execution_count": 36,
   "metadata": {},
   "outputs": [],
   "source": [
    "# DECODER\n",
    "class Decoder(nn.Module):\n",
    "    def __init__(self, output_size, hidden_size=1024, num_layers=1):\n",
    "        super(Decoder, self).__init__()\n",
    "\n",
    "        self.output_size = output_size\n",
    "        self.hidden_size = hidden_size\n",
    "        self.num_layers = num_layers\n",
    "\n",
    "        self.decoder_lstm = nn.LSTM(\n",
    "            input_size = hidden_size, \n",
    "            hidden_size = hidden_size,\n",
    "            num_layers = num_layers, \n",
    "            batch_first = True\n",
    "        )\n",
    "\n",
    "        self.decoder_fc_1 = nn.Linear(hidden_size, int(hidden_size/2))\n",
    "        self.decoder_fc_2 = nn.Linear(int(hidden_size/2), output_size)\n",
    "\n",
    "    def forward(self, x_input, hidden):\n",
    "        outputs = F.relu(x_input)\n",
    "\n",
    "        outputs, hidden = self.decoder_lstm(outputs, hidden)\n",
    "\n",
    "        outputs = F.relu(self.decoder_fc_1(outputs))\n",
    "        outputs = torch.tanh(self.decoder_fc_2(outputs))\n",
    "\n",
    "        return outputs, hidden"
   ]
  },
  {
   "cell_type": "code",
   "execution_count": 37,
   "metadata": {},
   "outputs": [
    {
     "data": {
      "text/plain": [
       "torch.Size([128, 1, 120])"
      ]
     },
     "execution_count": 37,
     "metadata": {},
     "output_type": "execute_result"
    }
   ],
   "source": [
    "model = Decoder(2*FRAMES_OUT)\n",
    "out, hidden = model.forward(output, hidden)\n",
    "out.shape"
   ]
  },
  {
   "cell_type": "code",
   "execution_count": 38,
   "metadata": {},
   "outputs": [],
   "source": [
    "# Wrapper class for encoder and decoder\n",
    "class CNN_LSTM_seq2seq(nn.Module):\n",
    "    def __init__(self, encoder_input_size, output_size, hidden_size = 1024):\n",
    "        super(CNN_LSTM_seq2seq, self).__init__()\n",
    "\n",
    "        self.input_size = encoder_input_size\n",
    "        self.output_size = output_size\n",
    "        self.hidden_size = hidden_size\n",
    "\n",
    "        self.cnn_encoder = CNN_encoder()\n",
    "        self.lstm_encoder = LSTM_encoder(input_size = encoder_input_size, hidden_size = hidden_size)\n",
    "        self.decoder = Decoder(output_size = output_size, hidden_size = hidden_size)\n",
    "\n",
    "    def forward(self, img_sequence, pr_sequence):\n",
    "        batch_size = pr_sequence.size(0)\n",
    "\n",
    "        features_vector = self.cnn_encoder(img_sequence, pr_sequence, batch_size)\n",
    "\n",
    "        encoder_outputs, encoder_hidden  = self.lstm_encoder.forward(features_vector)\n",
    "\n",
    "        output, decoder_hidden = self.decoder.forward(encoder_outputs, encoder_hidden)\n",
    "\n",
    "        output = output.reshape(batch_size, 2, FRAMES_OUT)\n",
    "\n",
    "        return output"
   ]
  },
  {
   "cell_type": "code",
   "execution_count": 43,
   "metadata": {},
   "outputs": [
    {
     "data": {
      "text/plain": [
       "torch.Size([128, 2, 60])"
      ]
     },
     "execution_count": 43,
     "metadata": {},
     "output_type": "execute_result"
    }
   ],
   "source": [
    "# TODO: make input size of encoder not hardcoded\n",
    "model = CNN_LSTM_seq2seq(encoder_input_size=49920, output_size=FRAMES_OUT*2)\n",
    "out = model.forward(img_train, pr_train)\n",
    "out.shape"
   ]
  },
  {
   "cell_type": "code",
   "execution_count": 44,
   "metadata": {},
   "outputs": [
    {
     "data": {
      "text/plain": [
       "torch.Size([128, 2, 60])"
      ]
     },
     "execution_count": 44,
     "metadata": {},
     "output_type": "execute_result"
    }
   ],
   "source": [
    "# TODO: make input size of encoder not hardcoded\n",
    "model = CNN_LSTM_seq2seq(encoder_input_size=49920, output_size=FRAMES_OUT*2)\n",
    "model.cuda()\n",
    "out = model.forward(img_train.cuda(), pr_train.cuda())\n",
    "out.shape"
   ]
  },
  {
   "cell_type": "markdown",
   "metadata": {},
   "source": [
    "# Training"
   ]
  },
  {
   "cell_type": "code",
   "execution_count": 82,
   "metadata": {},
   "outputs": [
    {
     "name": "stdout",
     "output_type": "stream",
     "text": [
      "torch.Size([64, 10, 3, 54, 96]) torch.Size([64, 10, 2]) torch.Size([64, 2, 60])\n"
     ]
    }
   ],
   "source": [
    "# get the first batch out of the dataloader for testing purposes\n",
    "for batch in data_module.train_dataloader():\n",
    "    img_train = batch[\"img_sequence\"]\n",
    "    pr_train = batch[\"pr_sequence\"]\n",
    "    y_train = batch[\"labels\"]\n",
    "    break\n",
    "\n",
    "print(img_train.shape, pr_train.shape, y_train.shape)"
   ]
  },
  {
   "cell_type": "code",
   "execution_count": 83,
   "metadata": {},
   "outputs": [
    {
     "data": {
      "text/plain": [
       "torch.Size([64, 2, 60])"
      ]
     },
     "execution_count": 83,
     "metadata": {},
     "output_type": "execute_result"
    }
   ],
   "source": [
    "model = CNN_LSTM_seq2seq(encoder_input_size=49940, output_size=FRAMES_OUT*2)\n",
    "ypred = model.forward(img_train, pr_train)\n",
    "ypred.shape"
   ]
  },
  {
   "cell_type": "markdown",
   "metadata": {},
   "source": [
    "### Training loop"
   ]
  },
  {
   "cell_type": "code",
   "execution_count": 93,
   "metadata": {},
   "outputs": [],
   "source": [
    "torch.cuda.empty_cache()"
   ]
  },
  {
   "cell_type": "code",
   "execution_count": 97,
   "metadata": {},
   "outputs": [
    {
     "data": {
      "application/vnd.jupyter.widget-view+json": {
       "model_id": "c00ca61717af47deb05cb2ce6a49aa67",
       "version_major": 2,
       "version_minor": 0
      },
      "text/plain": [
       "  0%|          | 0/50 [00:00<?, ?it/s]"
      ]
     },
     "metadata": {},
     "output_type": "display_data"
    },
    {
     "name": "stdout",
     "output_type": "stream",
     "text": [
      "training batch 376      \r"
     ]
    },
    {
     "ename": "KeyboardInterrupt",
     "evalue": "",
     "output_type": "error",
     "traceback": [
      "\u001b[1;31m---------------------------------------------------------------------------\u001b[0m",
      "\u001b[1;31mKeyboardInterrupt\u001b[0m                         Traceback (most recent call last)",
      "\u001b[1;32mc:\\Users\\lance\\Documents\\Thesis\\code\\notebooks\\cnn_img-pr.ipynb Cell 49'\u001b[0m in \u001b[0;36m<cell line: 17>\u001b[1;34m()\u001b[0m\n\u001b[0;32m     <a href='vscode-notebook-cell:/c%3A/Users/lance/Documents/Thesis/code/notebooks/cnn_img-pr.ipynb#ch0000048?line=55'>56</a>\u001b[0m y_train \u001b[39m=\u001b[39m batch[\u001b[39m\"\u001b[39m\u001b[39mlabels\u001b[39m\u001b[39m\"\u001b[39m]\n\u001b[0;32m     <a href='vscode-notebook-cell:/c%3A/Users/lance/Documents/Thesis/code/notebooks/cnn_img-pr.ipynb#ch0000048?line=57'>58</a>\u001b[0m \u001b[39mif\u001b[39;00m CUDA: \n\u001b[1;32m---> <a href='vscode-notebook-cell:/c%3A/Users/lance/Documents/Thesis/code/notebooks/cnn_img-pr.ipynb#ch0000048?line=58'>59</a>\u001b[0m     img_train \u001b[39m=\u001b[39m img_train\u001b[39m.\u001b[39;49mcuda()\n\u001b[0;32m     <a href='vscode-notebook-cell:/c%3A/Users/lance/Documents/Thesis/code/notebooks/cnn_img-pr.ipynb#ch0000048?line=59'>60</a>\u001b[0m     pr_train \u001b[39m=\u001b[39m pr_train\u001b[39m.\u001b[39mcuda()\n\u001b[0;32m     <a href='vscode-notebook-cell:/c%3A/Users/lance/Documents/Thesis/code/notebooks/cnn_img-pr.ipynb#ch0000048?line=60'>61</a>\u001b[0m     y_train \u001b[39m=\u001b[39m y_train\u001b[39m.\u001b[39mcuda()\n",
      "\u001b[1;31mKeyboardInterrupt\u001b[0m: "
     ]
    }
   ],
   "source": [
    "model = CNN_LSTM_seq2seq(encoder_input_size=49940, output_size=FRAMES_OUT*2)\n",
    "\n",
    "if CUDA:\n",
    "    model.cuda()\n",
    "\n",
    "criterion = nn.MSELoss()\n",
    "optimizer = optim.AdamW(model.parameters(), lr=LEARNING_RATE)\n",
    "\n",
    "# TRACKERS\n",
    "train_losses_epoch = []\n",
    "val_losses_epoch = []\n",
    "\n",
    "n_epochs = NUM_EPOCHS\n",
    "\n",
    "for epoch in tqdm(range(n_epochs)):\n",
    "\n",
    "    # validation loss\n",
    "    i = 0\n",
    "    with torch.no_grad():\n",
    "        i = 0\n",
    "        total_batch_loss = 0\n",
    "        for batch in data_module.val_dataloader():\n",
    "            print(f\"validation batch {i}\", end='\\r')\n",
    "            i += 1\n",
    "            img_val = batch[\"img_sequence\"]\n",
    "            pr_val = batch[\"pr_sequence\"]\n",
    "            y_val = batch[\"labels\"]\n",
    "\n",
    "            if CUDA: \n",
    "                img_val = img_val.cuda()\n",
    "                pr_val = pr_val.cuda()\n",
    "                y_val = y_val.cuda()\n",
    "            \n",
    "            # Predict on forward pass \n",
    "            y_pred = model.forward(img_val, pr_val)\n",
    "\n",
    "            loss = criterion(y_pred, y_val)\n",
    "            total_batch_loss += loss.item()\n",
    "\n",
    "        mean_val_loss = total_batch_loss/i\n",
    "        val_losses_epoch.append(mean_val_loss)\n",
    "        val_loss = round(mean_val_loss, 6)\n",
    "\n",
    "    losses_current_batch = []\n",
    "    i = 0\n",
    "    total_batch_loss = 0\n",
    "\n",
    "    for batch in data_module.train_dataloader():\n",
    "        print(f\"training batch {i}      \", end='\\r')\n",
    "        i += 1\n",
    "        img_train = batch[\"img_sequence\"]\n",
    "        pr_train = batch[\"pr_sequence\"]\n",
    "        y_train = batch[\"labels\"]\n",
    "\n",
    "        if CUDA: \n",
    "            img_train = img_train.cuda()\n",
    "            pr_train = pr_train.cuda()\n",
    "            y_train = y_train.cuda()\n",
    "        \n",
    "        # Predict on forward pass \n",
    "        y_pred = model.forward(img_train, pr_train)\n",
    "\n",
    "        # Calculate loss/error\n",
    "        loss = criterion(y_pred, y_train)\n",
    "        losses_current_batch.append(loss.item())\n",
    "        total_batch_loss += loss.item()\n",
    "\n",
    "        # Backpropagation\n",
    "        optimizer.zero_grad()\n",
    "        loss.backward()\n",
    "        optimizer.step()\n",
    "\n",
    "    mean_train_loss = total_batch_loss/i\n",
    "    train_losses_epoch.append(mean_train_loss)\n",
    "    train_loss = round(mean_train_loss, 6)\n",
    "\n",
    "    break\n",
    "\n",
    "    print(f\"EPOCH {epoch} training loss: {train_loss} | validation loss: {val_loss}\")"
   ]
  },
  {
   "cell_type": "markdown",
   "metadata": {},
   "source": [
    "### Save and load model"
   ]
  },
  {
   "cell_type": "code",
   "execution_count": null,
   "metadata": {},
   "outputs": [],
   "source": [
    "if SAVE_RESULTS:\n",
    "    # save train losses per epoch\n",
    "    filename = f'{TRAIN_RESULT_FOLDER}/train_loss_{FRAMES_IN}in_{FRAMES_OUT}out_{NUM_EPOCHS}epochs'\n",
    "    with open(filename, 'wb') as f: \n",
    "        pickle.dump(train_losses_epoch, f)\n",
    "    # save val losses per epoch\n",
    "    filename = f'{TRAIN_RESULT_FOLDER}/val_loss_{FRAMES_IN}in_{FRAMES_OUT}out_{NUM_EPOCHS}epochs'\n",
    "    with open(filename, 'wb') as f: \n",
    "        pickle.dump(val_losses_epoch, f)"
   ]
  },
  {
   "cell_type": "code",
   "execution_count": 42,
   "metadata": {},
   "outputs": [],
   "source": [
    "if SAVE_RESULTS:\n",
    "    filename = f'{MODEL_STATE_FOLDER}/{MODEL_NAME}_{FRAMES_IN}in_{FRAMES_OUT}out_epochs{NUM_EPOCHS}'\n",
    "    torch.save(model.state_dict(), filename)"
   ]
  },
  {
   "cell_type": "code",
   "execution_count": 43,
   "metadata": {},
   "outputs": [
    {
     "data": {
      "text/plain": [
       "CNN_LSTM_seq2seq(\n",
       "  (cnn_encoder): CNN_encoder(\n",
       "    (cnn_encoder): Sequential(\n",
       "      (0): Conv2d(3, 8, kernel_size=(5, 5), stride=(1, 1), padding=(2, 2))\n",
       "      (1): ReLU(inplace=True)\n",
       "      (2): MaxPool2d(kernel_size=2, stride=2, padding=0, dilation=1, ceil_mode=False)\n",
       "      (3): Conv2d(8, 16, kernel_size=(3, 3), stride=(1, 1), padding=(1, 1))\n",
       "      (4): ReLU(inplace=True)\n",
       "      (5): MaxPool2d(kernel_size=2, stride=2, padding=0, dilation=1, ceil_mode=False)\n",
       "    )\n",
       "  )\n",
       "  (lstm_encoder): LSTM_encoder(\n",
       "    (encoder_lstm): LSTM(49920, 1024, batch_first=True)\n",
       "  )\n",
       "  (decoder): Decoder(\n",
       "    (decoder_lstm): LSTM(1024, 1024, batch_first=True)\n",
       "    (decoder_fc_1): Linear(in_features=1024, out_features=512, bias=True)\n",
       "    (decoder_fc_2): Linear(in_features=512, out_features=120, bias=True)\n",
       "  )\n",
       ")"
      ]
     },
     "execution_count": 43,
     "metadata": {},
     "output_type": "execute_result"
    }
   ],
   "source": [
    "if SAVE_RESULTS:\n",
    "    filename = f'{MODEL_STATE_FOLDER}/{MODEL_NAME}_{FRAMES_IN}in_{FRAMES_OUT}out_epochs{NUM_EPOCHS}'\n",
    "    loaded_model = CNN_LSTM_seq2seq(input_size=FRAMES_IN, output_size=FRAMES_OUT)\n",
    "    loaded_model.load_state_dict(torch.load(filename))\n",
    "    if CUDA: \n",
    "        loaded_model = loaded_model.cuda()\n",
    "\n",
    "else:\n",
    "    loaded_model = model    \n",
    "\n",
    "loaded_model.eval()"
   ]
  },
  {
   "cell_type": "markdown",
   "metadata": {},
   "source": [
    "# Training results"
   ]
  },
  {
   "cell_type": "code",
   "execution_count": 44,
   "metadata": {},
   "outputs": [
    {
     "data": {
      "image/png": "[encoded data removed]",
      "text/plain": [
       "<Figure size 1080x504 with 1 Axes>"
      ]
     },
     "metadata": {
      "needs_background": "light"
     },
     "output_type": "display_data"
    }
   ],
   "source": [
    "plt.figure(figsize=(15, 7))\n",
    "plt.plot(range(n_epochs), train_losses_epoch, label='training loss')\n",
    "plt.plot(range(n_epochs), val_losses_epoch, label='validation loss')\n",
    "plt.xlabel(\"epochs\")\n",
    "plt.ylabel(\"MSE loss\")\n",
    "plt.title(\"Training and validation loss per epoch\")\n",
    "plt.legend()\n",
    "plt.savefig(f'{RESULT_FOLDER}/train-test-loss_{FRAMES_IN}in_{FRAMES_OUT}out_epochs{NUM_EPOCHS}')\n",
    "plt.show()"
   ]
  },
  {
   "cell_type": "markdown",
   "metadata": {},
   "source": [
    "# Testing"
   ]
  },
  {
   "cell_type": "code",
   "execution_count": 45,
   "metadata": {},
   "outputs": [
    {
     "name": "stdout",
     "output_type": "stream",
     "text": [
      "torch.Size([1, 10, 3, 54, 96]) torch.Size([1, 2, 60])\n"
     ]
    }
   ],
   "source": [
    "# get first I/O-sequence of test dataset for visualizing a prediction\n",
    "for batch in data_module.test_dataloader():\n",
    "    x_test = batch[\"sequence\"]\n",
    "    y_test = batch[\"labels\"]\n",
    "    break\n",
    "\n",
    "if CUDA:\n",
    "    x_test = x_test.cuda()\n",
    "    y_test = y_test.cuda()\n",
    "\n",
    "print(x_test.shape, y_test.shape)"
   ]
  },
  {
   "cell_type": "code",
   "execution_count": 46,
   "metadata": {},
   "outputs": [
    {
     "name": "stdout",
     "output_type": "stream",
     "text": [
      "predicted pitch: [-0.012, 0.1577, 0.0799, 0.1031, -0.0125, 0.1283, 0.1622, 0.0994, 0.0795, 0.1036, 0.103, 0.0823, -0.0806, -0.0392, -0.0869, 0.125, 0.0742, 0.1722, 0.1232, 0.1033, 0.1073, -0.0055, 0.0685, 0.123, 0.1121, 0.0481, 0.0413, 0.065, 0.059, -0.0373, 0.0331, 0.0945, -0.0912, -0.1736, -0.185, 0.0797, 0.2145, 0.1815, 0.166, 0.1856, 0.258, 0.2009, 0.1274, 0.0009, 0.1691, 0.004, 0.0378, 0.0816, 0.1063, -0.0084, 0.0068, -0.1219, 0.0209, 0.0103, 0.1156, 0.0931, 0.029, -0.0127, -0.0545, 0.007]\n",
      "real pitch:\t [-0.0037, 0.1525, 0.0912, 0.0933, -0.0128, 0.095, 0.1625, 0.1036, 0.0774, 0.0955, 0.0615, 0.1166, -0.1029, -0.039, -0.0965, 0.115, 0.0672, 0.1892, 0.1413, 0.0972, 0.0782, -0.0112, 0.0431, 0.1098, 0.081, 0.0346, 0.0441, 0.0603, 0.0499, -0.0585, 0.0075, 0.0952, -0.1104, -0.1677, -0.1942, 0.0601, 0.1967, 0.1765, 0.1818, 0.1645, 0.2538, 0.2093, 0.1261, -0.0085, 0.1973, 0.0156, 0.0242, 0.059, 0.1047, -0.0406, 0.0331, -0.1455, 0.0176, 0.0285, 0.1294, 0.1163, 0.0226, 0.0171, -0.066, 0.0246]\n",
      "loss: 0.000292\n"
     ]
    },
    {
     "data": {
      "text/plain": [
       "(torch.Size([10, 3, 54, 96]), torch.Size([2, 60]), torch.Size([2, 60]))"
      ]
     },
     "execution_count": 46,
     "metadata": {},
     "output_type": "execute_result"
    }
   ],
   "source": [
    "criterion = nn.MSELoss()\n",
    "\n",
    "# make one prediction for visualization\n",
    "with torch.no_grad():\n",
    "    y_pred = loaded_model(x_test.squeeze(1))\n",
    "    loss = criterion(y_pred, y_test)\n",
    "\n",
    "    # clean up tensor and round results to visually compare predicted sequence\n",
    "    a = y_pred.squeeze(0)[0].tolist()\n",
    "    a = [round(num, 4) for num in a]\n",
    "\n",
    "    b = y_test.squeeze(0)[0].tolist()\n",
    "    b = [round(num, 4) for num in b]\n",
    "\n",
    "    print(f'predicted pitch: {a}\\nreal pitch:\\t {b}')\n",
    "    print(\"loss:\", round(loss.item(), 6))\n",
    "\n",
    "# squeeze out batch size and convert into cpu format for plotting\n",
    "x_test.squeeze(0).shape\n",
    "input_sequence = x_test.squeeze(0).cpu()\n",
    "output_sequence = y_test.squeeze(0).cpu()\n",
    "predicted_sequence = y_pred.squeeze(0).cpu()\n",
    "input_sequence.shape, output_sequence.shape, predicted_sequence.shape"
   ]
  },
  {
   "cell_type": "markdown",
   "metadata": {},
   "source": [
    "### Prediction vs. real on first test I/O-sequence"
   ]
  },
  {
   "cell_type": "code",
   "execution_count": 47,
   "metadata": {},
   "outputs": [
    {
     "data": {
      "image/png": "[encoded data removed]",
      "text/plain": [
       "<Figure size 1080x504 with 1 Axes>"
      ]
     },
     "metadata": {
      "needs_background": "light"
     },
     "output_type": "display_data"
    }
   ],
   "source": [
    "frames = np.arange(0,FRAMES_OUT)\n",
    "fig, ax = plt.subplots(figsize=(15, 7))\n",
    "ax.plot(output_sequence[0], label=\"real\")\n",
    "ax.plot(predicted_sequence[0], color=\"red\", label='predicted')\n",
    "ax.set_xlabel('frames')\n",
    "ax.set_ylabel('pitch (normalized)')\n",
    "ax.set_title(f'{FRAMES_IN} to {FRAMES_OUT} prediction results')\n",
    "plt.legend()\n",
    "plt.savefig(f'{RESULT_FOLDER}/1ep_pitch-prediction_{FRAMES_IN}in_{FRAMES_OUT}out_epochs{NUM_EPOCHS}')\n",
    "plt.show()"
   ]
  },
  {
   "cell_type": "code",
   "execution_count": 48,
   "metadata": {},
   "outputs": [
    {
     "data": {
      "image/png": "[encoded data removed]",
      "text/plain": [
       "<Figure size 1080x504 with 1 Axes>"
      ]
     },
     "metadata": {
      "needs_background": "light"
     },
     "output_type": "display_data"
    }
   ],
   "source": [
    "frames = np.arange(0,FRAMES_OUT)\n",
    "fig, ax = plt.subplots(figsize=(15, 7))\n",
    "ax.plot(output_sequence[1], label=\"real\")\n",
    "ax.plot(predicted_sequence[1], color=\"red\", label='predicted')\n",
    "ax.set_xlabel('frames')\n",
    "ax.set_ylabel('roll (normalized)')\n",
    "ax.set_title(f'{FRAMES_IN} to {FRAMES_OUT} prediction results')\n",
    "plt.legend()\n",
    "plt.savefig(f'{RESULT_FOLDER}/1ep_roll-prediction_{FRAMES_IN}in_{FRAMES_OUT}out_epochs{NUM_EPOCHS}')\n",
    "plt.show()"
   ]
  },
  {
   "cell_type": "markdown",
   "metadata": {},
   "source": [
    "### Full test loop"
   ]
  },
  {
   "cell_type": "code",
   "execution_count": 49,
   "metadata": {},
   "outputs": [
    {
     "data": {
      "application/vnd.jupyter.widget-view+json": {
       "model_id": "e98d28c367d4462ba4096fabd39bac94",
       "version_major": 2,
       "version_minor": 0
      },
      "text/plain": [
       "  0%|          | 0/35748 [00:00<?, ?it/s]"
      ]
     },
     "metadata": {},
     "output_type": "display_data"
    }
   ],
   "source": [
    "predictions = []\n",
    "labels = []\n",
    "\n",
    "with torch.no_grad():\n",
    "    for batch in tqdm(data_module.test_dataloader()):\n",
    "        x_test = batch[\"sequence\"]\n",
    "        y_test = batch[\"labels\"]\n",
    "\n",
    "        if CUDA:\n",
    "            x_test = x_test.cuda()\n",
    "\n",
    "        output = loaded_model(x_test.squeeze(1))\n",
    "\n",
    "        # squeeze out batch size which is = 1 for test dataset\n",
    "        predictions.append(output.cpu().squeeze(0))\n",
    "        labels.append(y_test.squeeze(0))"
   ]
  },
  {
   "cell_type": "code",
   "execution_count": 50,
   "metadata": {},
   "outputs": [
    {
     "data": {
      "text/plain": [
       "tensor([-0.0120,  0.1577,  0.0799,  0.1031, -0.0125,  0.1283,  0.1622,  0.0994,\n",
       "         0.0795,  0.1036,  0.1030,  0.0823, -0.0806, -0.0392, -0.0869,  0.1250,\n",
       "         0.0742,  0.1722,  0.1232,  0.1033,  0.1073, -0.0055,  0.0685,  0.1230,\n",
       "         0.1121,  0.0481,  0.0413,  0.0650,  0.0590, -0.0373,  0.0331,  0.0945,\n",
       "        -0.0912, -0.1736, -0.1850,  0.0797,  0.2145,  0.1815,  0.1660,  0.1856,\n",
       "         0.2580,  0.2009,  0.1274,  0.0009,  0.1691,  0.0040,  0.0378,  0.0816,\n",
       "         0.1063, -0.0084,  0.0068, -0.1219,  0.0209,  0.0103,  0.1156,  0.0931,\n",
       "         0.0290, -0.0127, -0.0545,  0.0070])"
      ]
     },
     "execution_count": 50,
     "metadata": {},
     "output_type": "execute_result"
    }
   ],
   "source": [
    "predictions[0][0]"
   ]
  },
  {
   "cell_type": "code",
   "execution_count": 51,
   "metadata": {},
   "outputs": [
    {
     "data": {
      "text/plain": [
       "(torch.Size([60]), torch.Size([60]), torch.Size([60]), torch.Size([60]))"
      ]
     },
     "execution_count": 51,
     "metadata": {},
     "output_type": "execute_result"
    }
   ],
   "source": [
    "# Predictions[0] = tensor object\n",
    "# Predictions[0][0] = pitch value\n",
    "# Predictions[0][1] = roll value\n",
    "\n",
    "pitch_predictions = []\n",
    "roll_predictions = []\n",
    "\n",
    "pitch_label = []\n",
    "roll_label = []\n",
    "\n",
    "for i in range(len(predictions)):\n",
    "    pitch_predictions.append(predictions[i][0])\n",
    "    roll_predictions.append(predictions[i][1])\n",
    "    pitch_label.append(labels[i][0])\n",
    "    roll_label.append(labels[i][1])\n",
    "\n",
    "pitch_predictions[0].shape, roll_predictions[0].shape, pitch_label[0].shape, roll_label[0].shape"
   ]
  },
  {
   "cell_type": "markdown",
   "metadata": {},
   "source": [
    "### Average loss-per-frame over all datapoints"
   ]
  },
  {
   "cell_type": "code",
   "execution_count": 52,
   "metadata": {},
   "outputs": [],
   "source": [
    "# function that returns a list with loss-values per frame\n",
    "def loss_per_frame(predicted_sequence, real_sequence):\n",
    "    loss_per_frame = []\n",
    "    criterion = nn.MSELoss()\n",
    "    if predicted_sequence.shape != real_sequence.shape:\n",
    "        return loss_per_frame\n",
    "    for i in range(len(predicted_sequence)):\n",
    "        loss = criterion(predicted_sequence[i], real_sequence[i])\n",
    "        loss_per_frame.append(loss.item())\n",
    "    return loss_per_frame"
   ]
  },
  {
   "cell_type": "code",
   "execution_count": 53,
   "metadata": {},
   "outputs": [
    {
     "data": {
      "application/vnd.jupyter.widget-view+json": {
       "model_id": "23937d8c19524f259ee97367766695ec",
       "version_major": 2,
       "version_minor": 0
      },
      "text/plain": [
       "  0%|          | 0/35748 [00:00<?, ?it/s]"
      ]
     },
     "metadata": {},
     "output_type": "display_data"
    }
   ],
   "source": [
    "# calculate mean loss per frame over all test data\n",
    "total = len(pitch_predictions)\n",
    "pitch_total = np.zeros(FRAMES_OUT, dtype=np.float64)\n",
    "roll_total = np.zeros(FRAMES_OUT, dtype=np.float64)\n",
    "\n",
    "for i in tqdm(range(len(pitch_predictions))):\n",
    "    pitch_lpf = loss_per_frame(pitch_predictions[i], pitch_label[i])\n",
    "    roll_lpf = loss_per_frame(roll_predictions[i], roll_label[i])\n",
    "    pitch_total += pitch_lpf\n",
    "    roll_total += roll_lpf\n",
    "\n",
    "pitch_lpf_mse = pitch_total / total\n",
    "roll_lpf_mse = roll_total / total"
   ]
  },
  {
   "cell_type": "code",
   "execution_count": 54,
   "metadata": {},
   "outputs": [
    {
     "data": {
      "image/png": "[encoded data removed]",
      "text/plain": [
       "<Figure size 864x288 with 1 Axes>"
      ]
     },
     "metadata": {
      "needs_background": "light"
     },
     "output_type": "display_data"
    }
   ],
   "source": [
    "plt.figure(figsize=(12, 4))\n",
    "plt.plot(pitch_lpf_mse, label='pitch')\n",
    "plt.plot(roll_lpf_mse, color='orange', label='roll')\n",
    "plt.xlabel('predicted frame')\n",
    "plt.ylabel('MSE Loss')\n",
    "plt.title('Loss per frame: MSE')\n",
    "plt.legend()\n",
    "plt.savefig(f'{RESULT_FOLDER}/LPF-MSE_{FRAMES_IN}in_{FRAMES_OUT}out_epochs{NUM_EPOCHS}')\n",
    "plt.show()"
   ]
  },
  {
   "cell_type": "code",
   "execution_count": 55,
   "metadata": {},
   "outputs": [
    {
     "data": {
      "image/png": "[encoded data removed]",
      "text/plain": [
       "<Figure size 864x288 with 1 Axes>"
      ]
     },
     "metadata": {
      "needs_background": "light"
     },
     "output_type": "display_data"
    }
   ],
   "source": [
    "pitch_lpf_rmse = np.sqrt(pitch_lpf_mse)\n",
    "roll_lpf_rmse = np.sqrt(roll_lpf_mse)\n",
    "denorm = lambda x: denorm_pr(x)\n",
    "vfunc = np.vectorize(denorm)\n",
    "plt.figure(figsize=(12, 4))\n",
    "plt.plot(vfunc(pitch_lpf_rmse), label='pitch')\n",
    "plt.plot(vfunc(roll_lpf_rmse), color='orange', label='roll')\n",
    "plt.xlabel('predicted frame')\n",
    "plt.ylabel('Denormalized RMSE Loss (°)')\n",
    "plt.title('Loss per frame: denormalized RMSE')\n",
    "plt.legend()\n",
    "plt.savefig(f'{RESULT_FOLDER}/LPF-denorm-RMSE_{FRAMES_IN}in_{FRAMES_OUT}out_epochs{NUM_EPOCHS}')\n",
    "plt.show()"
   ]
  },
  {
   "cell_type": "markdown",
   "metadata": {},
   "source": [
    "### MSE results pitch"
   ]
  },
  {
   "cell_type": "code",
   "execution_count": 56,
   "metadata": {},
   "outputs": [
    {
     "name": "stdout",
     "output_type": "stream",
     "text": [
      "Pitch prediction\n",
      "   MSE: 0.00045\n",
      "   RMSE: 0.0212\n",
      "   RMSE denorm: 1.91°\n",
      "Zero prediction\n",
      "   MSE 0: 0.00494\n",
      "   RMSE 0: 0.0703\n",
      "   RMSE denorm: 6.33°\n",
      "Improvement on zero prediction:\n",
      "   MSE delta%: 1097.78 %\n",
      "   RMSE delta%: 331.6 %\n"
     ]
    }
   ],
   "source": [
    "n = len(pitch_predictions)\n",
    "loss0_tensor = torch.zeros(FRAMES_OUT)\n",
    "criterion = nn.MSELoss()\n",
    "\n",
    "loss = 0\n",
    "loss0 = 0\n",
    "\n",
    "for i in range(n):\n",
    "    loss += criterion(pitch_label[i], pitch_predictions[i]).item()\n",
    "    loss0 += criterion(pitch_label[i], loss0_tensor).item()\n",
    "\n",
    "mse = round(loss/n, 5)\n",
    "rmse = round(math.sqrt(loss/n), 4)\n",
    "mse0 = round(loss0/n, 5)\n",
    "rmse0 = round(math.sqrt(loss0/n), 4)\n",
    "\n",
    "print(\"Pitch prediction\")\n",
    "print(\"   MSE:\", mse)\n",
    "print(\"   RMSE:\", rmse)\n",
    "print(f\"   RMSE denorm: {round(denorm_pr(rmse), 2)}°\")\n",
    "print(\"Zero prediction\")\n",
    "print(\"   MSE 0:\", mse0)\n",
    "print(\"   RMSE 0:\", rmse0)\n",
    "print(f\"   RMSE denorm: {round(denorm_pr(rmse0), 2)}°\")\n",
    "print(\"Improvement on zero prediction:\")\n",
    "print(\"   MSE delta%:\", round(mse0/mse*100, 2), \"%\")\n",
    "print(\"   RMSE delta%:\", round(rmse0/rmse*100, 2), \"%\")"
   ]
  },
  {
   "cell_type": "markdown",
   "metadata": {},
   "source": [
    "### MSE results roll"
   ]
  },
  {
   "cell_type": "code",
   "execution_count": 57,
   "metadata": {},
   "outputs": [
    {
     "name": "stdout",
     "output_type": "stream",
     "text": [
      "Roll prediction\n",
      "   MSE: 0.00042\n",
      "   RMSE: 0.0205\n",
      "   RMSE denorm: 1.84°\n",
      "Zero prediction\n",
      "   MSE 0: 0.00682\n",
      "   RMSE 0: 0.0826\n",
      "   RMSE denorm: 7.43°\n",
      "Improvement on zero prediction:\n",
      "   MSE delta%: 1623.81 %\n",
      "   RMSE delta%: 402.93 %\n"
     ]
    }
   ],
   "source": [
    "n = len(pitch_predictions)\n",
    "loss0_tensor = torch.zeros(FRAMES_OUT)\n",
    "criterion = nn.MSELoss()\n",
    "\n",
    "loss = 0\n",
    "loss0 = 0\n",
    "\n",
    "for i in range(n):\n",
    "    loss += criterion(roll_label[i], roll_predictions[i]).item()\n",
    "    loss0 += criterion(roll_label[i], loss0_tensor).item()\n",
    "\n",
    "mse = round(loss/n, 5)\n",
    "rmse = round(math.sqrt(loss/n), 4)\n",
    "mse0 = round(loss0/n, 5)\n",
    "rmse0 = round(math.sqrt(loss0/n), 4)\n",
    "\n",
    "print(\"Roll prediction\")\n",
    "print(\"   MSE:\", mse)\n",
    "print(\"   RMSE:\", rmse)\n",
    "print(f\"   RMSE denorm: {round(denorm_pr(rmse), 2)}°\")\n",
    "print(\"Zero prediction\")\n",
    "print(\"   MSE 0:\", mse0)\n",
    "print(\"   RMSE 0:\", rmse0)\n",
    "print(f\"   RMSE denorm: {round(denorm_pr(rmse0), 2)}°\")\n",
    "print(\"Improvement on zero prediction:\")\n",
    "print(\"   MSE delta%:\", round(mse0/mse*100, 2), \"%\")\n",
    "print(\"   RMSE delta%:\", round(rmse0/rmse*100, 2), \"%\")"
   ]
  }
 ],
 "metadata": {
  "interpreter": {
   "hash": "4c1b2a501f02df7b26d92d459eb05316e48170af73a43fcdd672df666b3b816d"
  },
  "kernelspec": {
   "display_name": "Python 3.8.12 64-bit ('Thesis': conda)",
   "language": "python",
   "name": "python3"
  },
  "language_info": {
   "codemirror_mode": {
    "name": "ipython",
    "version": 3
   },
   "file_extension": ".py",
   "mimetype": "text/x-python",
   "name": "python",
   "nbconvert_exporter": "python",
   "pygments_lexer": "ipython3",
   "version": "3.8.13"
  },
  "orig_nbformat": 4
 },
 "nbformat": 4,
 "nbformat_minor": 2
}
