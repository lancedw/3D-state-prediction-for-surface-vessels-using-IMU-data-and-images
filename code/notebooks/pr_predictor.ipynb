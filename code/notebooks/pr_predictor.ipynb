{
 "cells": [
  {
   "cell_type": "markdown",
   "metadata": {},
   "source": [
    "# Pitch & Roll prediction model"
   ]
  },
  {
   "cell_type": "code",
   "execution_count": 1,
   "metadata": {},
   "outputs": [],
   "source": [
    "import gc\n",
    "import cv2\n",
    "import json\n",
    "import math\n",
    "import pickle\n",
    "import random\n",
    "import platform\n",
    "import numpy as np\n",
    "import pandas as pd\n",
    "import multiprocessing\n",
    "from tqdm.notebook import tqdm\n",
    "import matplotlib.pyplot as plt\n",
    "\n",
    "import torch\n",
    "import torch.nn as nn\n",
    "import torch.optim as optim\n",
    "import torch.nn.functional as F\n",
    "import torch.autograd as autograd\n",
    "from torch.utils.data import Dataset, DataLoader\n",
    "\n",
    "import pytorch_lightning as pl"
   ]
  },
  {
   "cell_type": "code",
   "execution_count": 5,
   "metadata": {},
   "outputs": [
    {
     "name": "stdout",
     "output_type": "stream",
     "text": [
      "1.10.2\n",
      "1.5.10\n"
     ]
    }
   ],
   "source": [
    "print(torch.__version__)\n",
    "print(pl.__version__)"
   ]
  },
  {
   "cell_type": "code",
   "execution_count": 3,
   "metadata": {},
   "outputs": [
    {
     "name": "stdout",
     "output_type": "stream",
     "text": [
      "device: cuda\n",
      "CPU count: 16\n",
      "Platform: windows\n",
      "number of workers: 0\n"
     ]
    }
   ],
   "source": [
    "device = torch.device('cuda' if torch.cuda.is_available() else 'cpu')\n",
    "print(\"device:\", device)\n",
    "cpu_count = multiprocessing.cpu_count()\n",
    "print('CPU count:', cpu_count)\n",
    "platform_os = \"windows\" if platform.system() == \"Windows\" else \"linux\"\n",
    "print(\"Platform:\", platform_os)\n",
    "\n",
    "# Pytorch Dataloader can't handle n_workers > 0 on windows due to bugs\n",
    "N_WORKERS = 0 if platform_os==\"windows\" else cpu_count\n",
    "print(f\"number of workers: {N_WORKERS}\")"
   ]
  },
  {
   "cell_type": "markdown",
   "metadata": {},
   "source": [
    "# Constants"
   ]
  },
  {
   "cell_type": "code",
   "execution_count": 14,
   "metadata": {},
   "outputs": [],
   "source": [
    "N_EPISODES = 540\n",
    "FRAMES_PER_EPISODE = 400\n",
    "TRAIN_FOLDER = \"3dmodel/test_4_episode_\"\n",
    "SEQUENCE_LENGTH = 10\n",
    "\n",
    "TRAIN_SIZE = 0.8\n",
    "N_EPOCHS = 100\n",
    "BATCH_SIZE = 64\n",
    "LEARNING_RATE = 0.0001\n",
    "\n",
    "CUDA = device.type == 'cuda'"
   ]
  },
  {
   "cell_type": "markdown",
   "metadata": {},
   "source": [
    "# Load data from episodes"
   ]
  },
  {
   "cell_type": "code",
   "execution_count": 6,
   "metadata": {},
   "outputs": [
    {
     "data": {
      "text/html": [
       "<div>\n",
       "<style scoped>\n",
       "    .dataframe tbody tr th:only-of-type {\n",
       "        vertical-align: middle;\n",
       "    }\n",
       "\n",
       "    .dataframe tbody tr th {\n",
       "        vertical-align: top;\n",
       "    }\n",
       "\n",
       "    .dataframe thead th {\n",
       "        text-align: right;\n",
       "    }\n",
       "</style>\n",
       "<table border=\"1\" class=\"dataframe\">\n",
       "  <thead>\n",
       "    <tr style=\"text-align: right;\">\n",
       "      <th></th>\n",
       "      <th>pitch</th>\n",
       "      <th>roll</th>\n",
       "    </tr>\n",
       "  </thead>\n",
       "  <tbody>\n",
       "    <tr>\n",
       "      <th>0</th>\n",
       "      <td>15.915869</td>\n",
       "      <td>2.358416</td>\n",
       "    </tr>\n",
       "    <tr>\n",
       "      <th>1</th>\n",
       "      <td>14.295925</td>\n",
       "      <td>1.700391</td>\n",
       "    </tr>\n",
       "    <tr>\n",
       "      <th>2</th>\n",
       "      <td>6.213590</td>\n",
       "      <td>1.611325</td>\n",
       "    </tr>\n",
       "    <tr>\n",
       "      <th>3</th>\n",
       "      <td>1.235337</td>\n",
       "      <td>6.175461</td>\n",
       "    </tr>\n",
       "    <tr>\n",
       "      <th>4</th>\n",
       "      <td>1.341678</td>\n",
       "      <td>3.695468</td>\n",
       "    </tr>\n",
       "  </tbody>\n",
       "</table>\n",
       "</div>"
      ],
      "text/plain": [
       "       pitch      roll\n",
       "0  15.915869  2.358416\n",
       "1  14.295925  1.700391\n",
       "2   6.213590  1.611325\n",
       "3   1.235337  6.175461\n",
       "4   1.341678  3.695468"
      ]
     },
     "execution_count": 6,
     "metadata": {},
     "output_type": "execute_result"
    }
   ],
   "source": [
    "# view first episode \n",
    "filename = TRAIN_FOLDER+\"test_4_episode_1/labels_0.json\"\n",
    "data = []\n",
    "labels = json.load(open(filename))\n",
    "ep1 = pd.DataFrame(labels)\n",
    "ep1 = ep1.transpose()\n",
    "ep1.rename(columns = {0:'pitch', 1:'roll'}, inplace=True)\n",
    "ep1.head()"
   ]
  },
  {
   "cell_type": "code",
   "execution_count": 7,
   "metadata": {},
   "outputs": [],
   "source": [
    "# load all data\n",
    "pr = []\n",
    "episodes = []\n",
    "for ep in range(1, N_EPISODES+1):\n",
    "    filename = \"../3dmodel/test_4_episode_\"+ str(ep) +\"/labels_0.json\"\n",
    "    labels = json.load(open(filename))\n",
    "    for i in labels:\n",
    "        pr.append(labels[i])\n",
    "        episodes.append(labels[i]+[ep, i])"
   ]
  },
  {
   "cell_type": "code",
   "execution_count": 8,
   "metadata": {},
   "outputs": [
    {
     "data": {
      "text/html": [
       "<div>\n",
       "<style scoped>\n",
       "    .dataframe tbody tr th:only-of-type {\n",
       "        vertical-align: middle;\n",
       "    }\n",
       "\n",
       "    .dataframe tbody tr th {\n",
       "        vertical-align: top;\n",
       "    }\n",
       "\n",
       "    .dataframe thead th {\n",
       "        text-align: right;\n",
       "    }\n",
       "</style>\n",
       "<table border=\"1\" class=\"dataframe\">\n",
       "  <thead>\n",
       "    <tr style=\"text-align: right;\">\n",
       "      <th></th>\n",
       "      <th>pitch</th>\n",
       "      <th>roll</th>\n",
       "      <th>episode</th>\n",
       "      <th>position_within_episode</th>\n",
       "    </tr>\n",
       "  </thead>\n",
       "  <tbody>\n",
       "    <tr>\n",
       "      <th>0</th>\n",
       "      <td>15.915869</td>\n",
       "      <td>2.358416</td>\n",
       "      <td>1</td>\n",
       "      <td>0</td>\n",
       "    </tr>\n",
       "    <tr>\n",
       "      <th>1</th>\n",
       "      <td>14.295925</td>\n",
       "      <td>1.700391</td>\n",
       "      <td>1</td>\n",
       "      <td>1</td>\n",
       "    </tr>\n",
       "    <tr>\n",
       "      <th>2</th>\n",
       "      <td>6.213590</td>\n",
       "      <td>1.611325</td>\n",
       "      <td>1</td>\n",
       "      <td>2</td>\n",
       "    </tr>\n",
       "    <tr>\n",
       "      <th>3</th>\n",
       "      <td>1.235337</td>\n",
       "      <td>6.175461</td>\n",
       "      <td>1</td>\n",
       "      <td>3</td>\n",
       "    </tr>\n",
       "    <tr>\n",
       "      <th>4</th>\n",
       "      <td>1.341678</td>\n",
       "      <td>3.695468</td>\n",
       "      <td>1</td>\n",
       "      <td>4</td>\n",
       "    </tr>\n",
       "  </tbody>\n",
       "</table>\n",
       "</div>"
      ],
      "text/plain": [
       "       pitch      roll  episode position_within_episode\n",
       "0  15.915869  2.358416        1                       0\n",
       "1  14.295925  1.700391        1                       1\n",
       "2   6.213590  1.611325        1                       2\n",
       "3   1.235337  6.175461        1                       3\n",
       "4   1.341678  3.695468        1                       4"
      ]
     },
     "execution_count": 8,
     "metadata": {},
     "output_type": "execute_result"
    }
   ],
   "source": [
    "p_r_df = pd.DataFrame(episodes)\n",
    "p_r_df.rename(columns = {0:'pitch', 1:'roll', 2:'episode', 3:'position_within_episode'}, inplace=True)\n",
    "p_r_df = p_r_df.astype({\"pitch\": float, \"roll\": float})\n",
    "p_r_df.head()"
   ]
  },
  {
   "cell_type": "code",
   "execution_count": 9,
   "metadata": {},
   "outputs": [
    {
     "data": {
      "text/html": [
       "<div>\n",
       "<style scoped>\n",
       "    .dataframe tbody tr th:only-of-type {\n",
       "        vertical-align: middle;\n",
       "    }\n",
       "\n",
       "    .dataframe tbody tr th {\n",
       "        vertical-align: top;\n",
       "    }\n",
       "\n",
       "    .dataframe thead th {\n",
       "        text-align: right;\n",
       "    }\n",
       "</style>\n",
       "<table border=\"1\" class=\"dataframe\">\n",
       "  <thead>\n",
       "    <tr style=\"text-align: right;\">\n",
       "      <th></th>\n",
       "      <th>episode</th>\n",
       "      <th>pr</th>\n",
       "    </tr>\n",
       "  </thead>\n",
       "  <tbody>\n",
       "    <tr>\n",
       "      <th>0</th>\n",
       "      <td>1</td>\n",
       "      <td>[(15.92, 2.36), (14.3, 1.7), (6.21, 1.61), (1....</td>\n",
       "    </tr>\n",
       "    <tr>\n",
       "      <th>1</th>\n",
       "      <td>2</td>\n",
       "      <td>[(15.98, 2.27), (9.86, 1.36), (6.11, 1.56), (1...</td>\n",
       "    </tr>\n",
       "    <tr>\n",
       "      <th>2</th>\n",
       "      <td>3</td>\n",
       "      <td>[(15.96, 2.07), (6.18, 0.12), (6.08, 1.68), (1...</td>\n",
       "    </tr>\n",
       "    <tr>\n",
       "      <th>3</th>\n",
       "      <td>4</td>\n",
       "      <td>[(7.7, 1.58), (8.48, 0.06), (3.16, 0.86), (1.0...</td>\n",
       "    </tr>\n",
       "    <tr>\n",
       "      <th>4</th>\n",
       "      <td>5</td>\n",
       "      <td>[(7.81, 1.49), (7.87, 0.18), (3.13, 0.91), (0....</td>\n",
       "    </tr>\n",
       "  </tbody>\n",
       "</table>\n",
       "</div>"
      ],
      "text/plain": [
       "   episode                                                 pr\n",
       "0        1  [(15.92, 2.36), (14.3, 1.7), (6.21, 1.61), (1....\n",
       "1        2  [(15.98, 2.27), (9.86, 1.36), (6.11, 1.56), (1...\n",
       "2        3  [(15.96, 2.07), (6.18, 0.12), (6.08, 1.68), (1...\n",
       "3        4  [(7.7, 1.58), (8.48, 0.06), (3.16, 0.86), (1.0...\n",
       "4        5  [(7.81, 1.49), (7.87, 0.18), (3.13, 0.91), (0...."
      ]
     },
     "execution_count": 9,
     "metadata": {},
     "output_type": "execute_result"
    }
   ],
   "source": [
    "df2 = p_r_df.copy()\n",
    "df2[\"pr\"] = list(zip(p_r_df[\"pitch\"].round(2), p_r_df[\"roll\"].round(2)))\n",
    "df2.drop(columns=[\"pitch\",\"roll\"], axis=0, inplace=True)\n",
    "df2 = df2[[\"pr\",\"episode\",\"position_within_episode\"]]\n",
    "rows = df2.groupby('episode')['pr'].apply(list)\n",
    "df_stack = pd.DataFrame(rows)\n",
    "df_stack = df_stack.reset_index()\n",
    "df_stack.head()"
   ]
  },
  {
   "cell_type": "code",
   "execution_count": 10,
   "metadata": {},
   "outputs": [],
   "source": [
    "# Function to normalize pitch and roll angles\n",
    "def norm_pr(x, min = -90.0, max = 90.0):\n",
    "    return ((x - min) * 2) / (max - min) - 1\n",
    "\n",
    "# Function to denormalize pitch and roll angles\n",
    "def denorm_pr(x, min = -90.0, max = 90.0):\n",
    "    return ((x + 1) * (max - min))/2 + min"
   ]
  },
  {
   "cell_type": "code",
   "execution_count": 11,
   "metadata": {},
   "outputs": [
    {
     "data": {
      "text/html": [
       "<div>\n",
       "<style scoped>\n",
       "    .dataframe tbody tr th:only-of-type {\n",
       "        vertical-align: middle;\n",
       "    }\n",
       "\n",
       "    .dataframe tbody tr th {\n",
       "        vertical-align: top;\n",
       "    }\n",
       "\n",
       "    .dataframe thead th {\n",
       "        text-align: right;\n",
       "    }\n",
       "</style>\n",
       "<table border=\"1\" class=\"dataframe\">\n",
       "  <thead>\n",
       "    <tr style=\"text-align: right;\">\n",
       "      <th></th>\n",
       "      <th>pitch</th>\n",
       "      <th>roll</th>\n",
       "      <th>episode</th>\n",
       "      <th>position_within_episode</th>\n",
       "    </tr>\n",
       "  </thead>\n",
       "  <tbody>\n",
       "    <tr>\n",
       "      <th>0</th>\n",
       "      <td>0.176843</td>\n",
       "      <td>0.026205</td>\n",
       "      <td>1</td>\n",
       "      <td>0</td>\n",
       "    </tr>\n",
       "    <tr>\n",
       "      <th>1</th>\n",
       "      <td>0.158844</td>\n",
       "      <td>0.018893</td>\n",
       "      <td>1</td>\n",
       "      <td>1</td>\n",
       "    </tr>\n",
       "    <tr>\n",
       "      <th>2</th>\n",
       "      <td>0.069040</td>\n",
       "      <td>0.017904</td>\n",
       "      <td>1</td>\n",
       "      <td>2</td>\n",
       "    </tr>\n",
       "    <tr>\n",
       "      <th>3</th>\n",
       "      <td>0.013726</td>\n",
       "      <td>0.068616</td>\n",
       "      <td>1</td>\n",
       "      <td>3</td>\n",
       "    </tr>\n",
       "    <tr>\n",
       "      <th>4</th>\n",
       "      <td>0.014908</td>\n",
       "      <td>0.041061</td>\n",
       "      <td>1</td>\n",
       "      <td>4</td>\n",
       "    </tr>\n",
       "  </tbody>\n",
       "</table>\n",
       "</div>"
      ],
      "text/plain": [
       "      pitch      roll  episode position_within_episode\n",
       "0  0.176843  0.026205        1                       0\n",
       "1  0.158844  0.018893        1                       1\n",
       "2  0.069040  0.017904        1                       2\n",
       "3  0.013726  0.068616        1                       3\n",
       "4  0.014908  0.041061        1                       4"
      ]
     },
     "execution_count": 11,
     "metadata": {},
     "output_type": "execute_result"
    }
   ],
   "source": [
    "# normalize PR-values\n",
    "p_r_df['pitch'] = p_r_df['pitch'].apply(lambda x : norm_pr(x))\n",
    "p_r_df['roll'] = p_r_df['roll'].apply(lambda x : norm_pr(x))\n",
    "p_r_df.head()"
   ]
  },
  {
   "cell_type": "markdown",
   "metadata": {},
   "source": [
    "# Create input and output sequences"
   ]
  },
  {
   "cell_type": "code",
   "execution_count": 15,
   "metadata": {},
   "outputs": [],
   "source": [
    "# function to create sequences with one target column\n",
    "def create_sequences(input_data: pd.DataFrame, \n",
    "        target_columns, \n",
    "        sequence_length = SEQUENCE_LENGTH, \n",
    "        feature_columns = [\"pitch\", \"roll\"], \n",
    "        episode_length = FRAMES_PER_EPISODE, \n",
    "        n_episodes = N_EPISODES\n",
    "    ):\n",
    "    \n",
    "    sequences= []\n",
    "    # get indice(s) for target column(s)\n",
    "    target_index = [input_data.columns.get_loc(c) for c in target_columns if c in input_data]\n",
    "\n",
    "    # make sequences per episode, one sequence can only hold data of one and the same episode!\n",
    "    for n in tqdm(range(n_episodes)):\n",
    "\n",
    "        for l in range(episode_length-sequence_length):\n",
    "            \n",
    "            i = l+(n*episode_length)\n",
    "\n",
    "            sequence = input_data.iloc[i:i+sequence_length][feature_columns]\n",
    "\n",
    "            target_position = i + sequence_length\n",
    "            target = input_data.iloc[[target_position], target_index].values.flatten()\n",
    "\n",
    "            sequences.append((sequence, target))\n",
    "\n",
    "    return sequences"
   ]
  },
  {
   "cell_type": "code",
   "execution_count": 17,
   "metadata": {},
   "outputs": [
    {
     "data": {
      "application/vnd.jupyter.widget-view+json": {
       "model_id": "69087cdb154347038568c44647ca5e85",
       "version_major": 2,
       "version_minor": 0
      },
      "text/plain": [
       "  0%|          | 0/540 [00:00<?, ?it/s]"
      ]
     },
     "metadata": {},
     "output_type": "display_data"
    }
   ],
   "source": [
    "target = [\"pitch\",\"roll\"]\n",
    "all_sequences = create_sequences(p_r_df, target, SEQUENCE_LENGTH)"
   ]
  },
  {
   "cell_type": "code",
   "execution_count": 18,
   "metadata": {},
   "outputs": [
    {
     "data": {
      "text/plain": [
       "(210600, (10, 2), (2,))"
      ]
     },
     "execution_count": 18,
     "metadata": {},
     "output_type": "execute_result"
    }
   ],
   "source": [
    "len(all_sequences),all_sequences[0][0].shape, all_sequences[0][1].shape "
   ]
  },
  {
   "cell_type": "code",
   "execution_count": 19,
   "metadata": {},
   "outputs": [
    {
     "name": "stdout",
     "output_type": "stream",
     "text": [
      "Sequence for target value:  [0.029492   0.05608041]\n"
     ]
    },
    {
     "data": {
      "text/html": [
       "<div>\n",
       "<style scoped>\n",
       "    .dataframe tbody tr th:only-of-type {\n",
       "        vertical-align: middle;\n",
       "    }\n",
       "\n",
       "    .dataframe tbody tr th {\n",
       "        vertical-align: top;\n",
       "    }\n",
       "\n",
       "    .dataframe thead th {\n",
       "        text-align: right;\n",
       "    }\n",
       "</style>\n",
       "<table border=\"1\" class=\"dataframe\">\n",
       "  <thead>\n",
       "    <tr style=\"text-align: right;\">\n",
       "      <th></th>\n",
       "      <th>pitch</th>\n",
       "      <th>roll</th>\n",
       "    </tr>\n",
       "  </thead>\n",
       "  <tbody>\n",
       "    <tr>\n",
       "      <th>0</th>\n",
       "      <td>0.176843</td>\n",
       "      <td>0.026205</td>\n",
       "    </tr>\n",
       "    <tr>\n",
       "      <th>1</th>\n",
       "      <td>0.158844</td>\n",
       "      <td>0.018893</td>\n",
       "    </tr>\n",
       "    <tr>\n",
       "      <th>8</th>\n",
       "      <td>-0.036884</td>\n",
       "      <td>0.074074</td>\n",
       "    </tr>\n",
       "    <tr>\n",
       "      <th>9</th>\n",
       "      <td>0.065489</td>\n",
       "      <td>-0.001539</td>\n",
       "    </tr>\n",
       "  </tbody>\n",
       "</table>\n",
       "</div>"
      ],
      "text/plain": [
       "      pitch      roll\n",
       "0  0.176843  0.026205\n",
       "1  0.158844  0.018893\n",
       "8 -0.036884  0.074074\n",
       "9  0.065489 -0.001539"
      ]
     },
     "execution_count": 19,
     "metadata": {},
     "output_type": "execute_result"
    }
   ],
   "source": [
    "index = 0\n",
    "print(\"Sequence for target value: \", all_sequences[index][1])\n",
    "pd.concat([all_sequences[index][0].head(2),all_sequences[index][0].tail(2)])"
   ]
  },
  {
   "cell_type": "code",
   "execution_count": 20,
   "metadata": {},
   "outputs": [
    {
     "name": "stdout",
     "output_type": "stream",
     "text": [
      "True\n",
      "168480 42120\n",
      "[167621, 29184, 6556, 194393, 72097, 64196, 58513, 36579, 193061, 26868]\n",
      "[131073, 3, 4, 131078, 7, 8, 131083, 131088, 131089, 131090]\n"
     ]
    }
   ],
   "source": [
    "# Grab random subsets from all sequences for training and test data (without overlapping data)\n",
    "data_size = len(all_sequences)\n",
    "data_indices = list(np.arange(0, data_size, 1))\n",
    "\n",
    "# train indices are random sample from all data indices\n",
    "random.seed(42)\n",
    "train_size = int(TRAIN_SIZE * data_size)\n",
    "train_indices = random.sample(data_indices, train_size)\n",
    "\n",
    "# test indices are the difference of all data indices and train indices\n",
    "test_indices = list(set(data_indices) - set(train_indices))\n",
    "\n",
    "print((len(train_indices) + len(test_indices)) <= data_size)\n",
    "print(len(train_indices), len(test_indices))\n",
    "print(train_indices[:10])\n",
    "print(test_indices[:10])"
   ]
  },
  {
   "cell_type": "code",
   "execution_count": 21,
   "metadata": {},
   "outputs": [
    {
     "data": {
      "application/vnd.jupyter.widget-view+json": {
       "model_id": "2da355a1450f4cde93a0813230ee5cec",
       "version_major": 2,
       "version_minor": 0
      },
      "text/plain": [
       "  0%|          | 0/168480 [00:00<?, ?it/s]"
      ]
     },
     "metadata": {},
     "output_type": "display_data"
    },
    {
     "data": {
      "application/vnd.jupyter.widget-view+json": {
       "model_id": "978764832bfd4db2b833721ee0048ef7",
       "version_major": 2,
       "version_minor": 0
      },
      "text/plain": [
       "  0%|          | 0/42120 [00:00<?, ?it/s]"
      ]
     },
     "metadata": {},
     "output_type": "display_data"
    },
    {
     "name": "stdout",
     "output_type": "stream",
     "text": [
      "True\n",
      "168480 (10, 2) (2,)\n",
      "42120 (10, 2) (2,)\n"
     ]
    }
   ],
   "source": [
    "# split data into training and test datasets\n",
    "train_sequences = []\n",
    "test_sequences = []\n",
    "\n",
    "for idx in tqdm(train_indices):\n",
    "    seq = all_sequences[idx][0]\n",
    "    label = all_sequences[idx][1]\n",
    "    train_sequences.append((seq,label))\n",
    "\n",
    "for idx in tqdm(test_indices):\n",
    "    seq = all_sequences[idx][0]\n",
    "    label = all_sequences[idx][1]\n",
    "    test_sequences.append((seq,label))\n",
    "\n",
    "print((len(train_sequences) + len(test_sequences)) <= len(all_sequences))\n",
    "print(len(train_sequences), train_sequences[0][0].shape, train_sequences[0][1].shape) \n",
    "print(len(test_sequences), test_sequences[0][0].shape, test_sequences[0][1].shape)"
   ]
  },
  {
   "cell_type": "markdown",
   "metadata": {},
   "source": [
    "## Pytorch Dataset"
   ]
  },
  {
   "cell_type": "code",
   "execution_count": 22,
   "metadata": {},
   "outputs": [],
   "source": [
    "class PRDataset(Dataset):\n",
    "    def __init__(self, sequences):\n",
    "        self.sequences = sequences\n",
    "\n",
    "    def __len__(self):\n",
    "        return len(self.sequences)\n",
    "\n",
    "    def __getitem__(self, index):\n",
    "        sequence, labels = self.sequences[index]\n",
    "\n",
    "        return dict(\n",
    "            sequence = torch.Tensor(sequence.to_numpy()),\n",
    "            labels = torch.Tensor(labels)\n",
    "        )"
   ]
  },
  {
   "cell_type": "code",
   "execution_count": 23,
   "metadata": {},
   "outputs": [],
   "source": [
    "class PRDataModule(pl.LightningDataModule):\n",
    "    def __init__(self, train_sequences, test_sequences, batchsize = BATCH_SIZE):\n",
    "        super().__init__()\n",
    "        self.train_sequences = train_sequences\n",
    "        self.test_sequences = test_sequences\n",
    "        self.batchsize = batchsize\n",
    "\n",
    "    # turns normal list object into Dataset object\n",
    "    def setup(self):\n",
    "        self.train_dataset = PRDataset(self.train_sequences)\n",
    "        self.test_dataset = PRDataset(self.test_sequences)\n",
    "\n",
    "    def train_dataloader(self):\n",
    "        return DataLoader(\n",
    "            self.train_dataset,\n",
    "            batch_size = self.batchsize,\n",
    "            shuffle = False,\n",
    "            num_workers=N_WORKERS,\n",
    "        )\n",
    "\n",
    "    def val_dataloader(self):\n",
    "        return DataLoader(\n",
    "            self.test_dataset,\n",
    "            batch_size = 1,\n",
    "            shuffle = False,\n",
    "            num_workers=N_WORKERS,\n",
    "        )\n",
    "\n",
    "    def test_dataloader(self):\n",
    "        return DataLoader(\n",
    "            self.test_dataset,\n",
    "            batch_size = 1,\n",
    "            shuffle = False,\n",
    "            num_workers=N_WORKERS,\n",
    "        )"
   ]
  },
  {
   "cell_type": "code",
   "execution_count": 24,
   "metadata": {},
   "outputs": [],
   "source": [
    "data_module = PRDataModule(train_sequences, test_sequences, BATCH_SIZE)\n",
    "data_module.setup()"
   ]
  },
  {
   "cell_type": "code",
   "execution_count": 25,
   "metadata": {},
   "outputs": [
    {
     "data": {
      "text/plain": [
       "(torch.Size([10, 2]), tensor([-0.0427, -0.0671]))"
      ]
     },
     "execution_count": 25,
     "metadata": {},
     "output_type": "execute_result"
    }
   ],
   "source": [
    "data_module_train_dataloader = data_module.train_dataloader()\n",
    "data_module_train_dataloader.dataset.__getitem__(0)[\"sequence\"].shape, data_module_train_dataloader.dataset.__getitem__(0)[\"labels\"]"
   ]
  },
  {
   "cell_type": "code",
   "execution_count": 26,
   "metadata": {},
   "outputs": [
    {
     "name": "stdout",
     "output_type": "stream",
     "text": [
      "torch.Size([64, 10, 2])\n",
      "torch.Size([64, 2])\n"
     ]
    }
   ],
   "source": [
    "# batch size 64, seq_length, 2 in-/output features\n",
    "for batch in data_module_train_dataloader:\n",
    "    print(batch[\"sequence\"].shape)\n",
    "    print(batch[\"labels\"].shape)\n",
    "    break"
   ]
  },
  {
   "cell_type": "code",
   "execution_count": 27,
   "metadata": {},
   "outputs": [],
   "source": [
    "# turn sequence list into Dataset object\n",
    "train_dataset = PRDataset(train_sequences)"
   ]
  },
  {
   "cell_type": "code",
   "execution_count": 28,
   "metadata": {},
   "outputs": [
    {
     "name": "stdout",
     "output_type": "stream",
     "text": [
      "torch.Size([10, 2])\n",
      "torch.Size([2])\n",
      "tensor([-0.0427, -0.0671])\n"
     ]
    }
   ],
   "source": [
    "for item in train_dataset:\n",
    "    print(item[\"sequence\"].shape)\n",
    "    print(item[\"labels\"].shape)\n",
    "    print(item[\"labels\"])\n",
    "    break"
   ]
  },
  {
   "cell_type": "markdown",
   "metadata": {},
   "source": [
    "## LSTM Model"
   ]
  },
  {
   "cell_type": "code",
   "execution_count": 29,
   "metadata": {},
   "outputs": [],
   "source": [
    "class PRPredictionModel(nn.Module):\n",
    "\n",
    "    # INPUT LAYER (2 features) --> LSTM 128 hidden --> LSTM 128 hidden --> Linear --> OUTPUT (2 features)\n",
    "    def __init__(self, in_features, out_features, n_hidden=128, n_layers=2):\n",
    "        super().__init__()\n",
    "\n",
    "        self.n_hidden = n_hidden\n",
    "\n",
    "        self.lstm = nn.LSTM(\n",
    "            input_size=in_features,\n",
    "            hidden_size=n_hidden,\n",
    "            batch_first=True,\n",
    "            num_layers=n_layers,\n",
    "            dropout=0.2\n",
    "        )\n",
    "\n",
    "        self.regressor = nn.Linear(in_features=n_hidden, out_features=out_features)\n",
    "\n",
    "    def forward(self, x):\n",
    "        # call flatten_parameters function to aggregate all the weight \n",
    "        # tensors into continuous space of GPU memory\n",
    "        self.lstm.flatten_parameters()\n",
    "    \n",
    "        output, (hidden_state, cell_state) = self.lstm(x)\n",
    "        out = hidden_state[-1]\n",
    "\n",
    "        return self.regressor(out)"
   ]
  },
  {
   "cell_type": "markdown",
   "metadata": {},
   "source": [
    "# Training"
   ]
  },
  {
   "cell_type": "code",
   "execution_count": 30,
   "metadata": {},
   "outputs": [
    {
     "name": "stdout",
     "output_type": "stream",
     "text": [
      "torch.Size([64, 10, 2]) torch.Size([64, 2])\n"
     ]
    }
   ],
   "source": [
    "model = PRPredictionModel(2,2)\n",
    "\n",
    "if CUDA:\n",
    "    model.cuda()\n",
    "\n",
    "x_train = 0\n",
    "y_train = 0\n",
    "\n",
    "for batch in data_module_train_dataloader:\n",
    "    x_train = batch[\"sequence\"]\n",
    "    y_train = batch[\"labels\"]\n",
    "    break\n",
    "\n",
    "print(x_train.shape, y_train.shape)"
   ]
  },
  {
   "cell_type": "code",
   "execution_count": 31,
   "metadata": {},
   "outputs": [
    {
     "data": {
      "application/vnd.jupyter.widget-view+json": {
       "model_id": "534be1b54ee5436484cd111067361b5f",
       "version_major": 2,
       "version_minor": 0
      },
      "text/plain": [
       "  0%|          | 0/100 [00:00<?, ?it/s]"
      ]
     },
     "metadata": {},
     "output_type": "display_data"
    },
    {
     "name": "stdout",
     "output_type": "stream",
     "text": [
      "EPOCH 0 training loss: 0.002504697535187006\n",
      "EPOCH 1 training loss: 0.0023150925990194082\n",
      "EPOCH 2 training loss: 0.002270539989694953\n",
      "EPOCH 3 training loss: 0.0022312833461910486\n",
      "EPOCH 4 training loss: 0.002193678868934512\n",
      "EPOCH 5 training loss: 0.002160747768357396\n",
      "EPOCH 6 training loss: 0.0021240951027721167\n",
      "EPOCH 7 training loss: 0.002077137352898717\n",
      "EPOCH 8 training loss: 0.0020147208124399185\n",
      "EPOCH 9 training loss: 0.001944029121659696\n",
      "EPOCH 10 training loss: 0.001857438706792891\n",
      "EPOCH 11 training loss: 0.0017634460236877203\n",
      "EPOCH 12 training loss: 0.0016603309195488691\n",
      "EPOCH 13 training loss: 0.0015518594300374389\n",
      "EPOCH 14 training loss: 0.0014470841269940138\n",
      "EPOCH 15 training loss: 0.001345428405329585\n",
      "EPOCH 16 training loss: 0.0012522893957793713\n",
      "EPOCH 17 training loss: 0.0011693650158122182\n",
      "EPOCH 18 training loss: 0.001094758277758956\n",
      "EPOCH 19 training loss: 0.0010263783624395728\n",
      "EPOCH 20 training loss: 0.0009673844324424863\n",
      "EPOCH 21 training loss: 0.0009143953211605549\n",
      "EPOCH 22 training loss: 0.000870868272613734\n",
      "EPOCH 23 training loss: 0.0008281333139166236\n",
      "EPOCH 24 training loss: 0.0007872307323850691\n",
      "EPOCH 25 training loss: 0.0007572128088213503\n",
      "EPOCH 26 training loss: 0.0007279907586053014\n",
      "EPOCH 27 training loss: 0.0007015898008830845\n",
      "EPOCH 28 training loss: 0.0006815965170972049\n",
      "EPOCH 29 training loss: 0.000658490345813334\n",
      "EPOCH 30 training loss: 0.0006383670261129737\n",
      "EPOCH 31 training loss: 0.0006202992517501116\n",
      "EPOCH 32 training loss: 0.0006044321926310658\n",
      "EPOCH 33 training loss: 0.0005911932676099241\n",
      "EPOCH 34 training loss: 0.0005752483266405761\n",
      "EPOCH 35 training loss: 0.0005626605125144124\n",
      "EPOCH 36 training loss: 0.0005534112569876015\n",
      "EPOCH 37 training loss: 0.0005413682665675879\n",
      "EPOCH 38 training loss: 0.0005300608463585377\n",
      "EPOCH 39 training loss: 0.0005204886547289789\n",
      "EPOCH 40 training loss: 0.0005126051837578416\n",
      "EPOCH 41 training loss: 0.0005054236389696598\n",
      "EPOCH 42 training loss: 0.0004932741285301745\n",
      "EPOCH 43 training loss: 0.00048719579353928566\n",
      "EPOCH 44 training loss: 0.00047800634638406336\n",
      "EPOCH 45 training loss: 0.000472269079182297\n",
      "EPOCH 46 training loss: 0.00046781482524238527\n",
      "EPOCH 47 training loss: 0.00046105546061880887\n",
      "EPOCH 48 training loss: 0.000455432542366907\n",
      "EPOCH 49 training loss: 0.0004509395803324878\n",
      "EPOCH 50 training loss: 0.00044416531454771757\n",
      "EPOCH 51 training loss: 0.0004388830275274813\n",
      "EPOCH 52 training loss: 0.00043337568058632314\n",
      "EPOCH 53 training loss: 0.00043079807073809206\n",
      "EPOCH 54 training loss: 0.00042519322596490383\n",
      "EPOCH 55 training loss: 0.0004215457884129137\n",
      "EPOCH 56 training loss: 0.0004183421260677278\n",
      "EPOCH 57 training loss: 0.0004135330091230571\n",
      "EPOCH 58 training loss: 0.00040926781366579235\n",
      "EPOCH 59 training loss: 0.00040700435056351125\n",
      "EPOCH 60 training loss: 0.00040517421439290047\n",
      "EPOCH 61 training loss: 0.0003983437200076878\n",
      "EPOCH 62 training loss: 0.00039528831257484853\n",
      "EPOCH 63 training loss: 0.0003946580400224775\n",
      "EPOCH 64 training loss: 0.0003892271197400987\n",
      "EPOCH 65 training loss: 0.0003874320536851883\n",
      "EPOCH 66 training loss: 0.0003840513527393341\n",
      "EPOCH 67 training loss: 0.0003812307841144502\n",
      "EPOCH 68 training loss: 0.00037885791971348226\n",
      "EPOCH 69 training loss: 0.0003759482642635703\n",
      "EPOCH 70 training loss: 0.0003746821021195501\n",
      "EPOCH 71 training loss: 0.00037120477645657957\n",
      "EPOCH 72 training loss: 0.0003693264734465629\n",
      "EPOCH 73 training loss: 0.00036818653461523354\n",
      "EPOCH 74 training loss: 0.000365658022928983\n",
      "EPOCH 75 training loss: 0.0003634222084656358\n",
      "EPOCH 76 training loss: 0.00035984034184366465\n",
      "EPOCH 77 training loss: 0.0003585959202609956\n",
      "EPOCH 78 training loss: 0.00035620806738734245\n",
      "EPOCH 79 training loss: 0.00035402498906478286\n",
      "EPOCH 80 training loss: 0.00035375673905946314\n",
      "EPOCH 81 training loss: 0.0003514146083034575\n",
      "EPOCH 82 training loss: 0.0003485454071778804\n",
      "EPOCH 83 training loss: 0.0003489629889372736\n",
      "EPOCH 84 training loss: 0.0003450860967859626\n",
      "EPOCH 85 training loss: 0.0003452358942013234\n",
      "EPOCH 86 training loss: 0.0003425735339988023\n",
      "EPOCH 87 training loss: 0.00034054729621857405\n",
      "EPOCH 88 training loss: 0.0003388501063454896\n",
      "EPOCH 89 training loss: 0.00033879358670674264\n",
      "EPOCH 90 training loss: 0.00033417734084650874\n",
      "EPOCH 91 training loss: 0.00033398173400200903\n",
      "EPOCH 92 training loss: 0.00033511125366203487\n",
      "EPOCH 93 training loss: 0.00033243585494346917\n",
      "EPOCH 94 training loss: 0.0003301728283986449\n",
      "EPOCH 95 training loss: 0.0003298030642326921\n",
      "EPOCH 96 training loss: 0.00032921257661655545\n",
      "EPOCH 97 training loss: 0.00032814432051964104\n",
      "EPOCH 98 training loss: 0.00032441155053675175\n",
      "EPOCH 99 training loss: 0.0003240854712203145\n"
     ]
    }
   ],
   "source": [
    "criterion = nn.MSELoss()\n",
    "optimizer = optim.Adam(model.parameters(), lr=0.001)\n",
    "losses_epoch = []\n",
    "losses_all_batches = []\n",
    "\n",
    "n_epochs = N_EPOCHS\n",
    "\n",
    "for epoch in tqdm(range(n_epochs)):\n",
    "\n",
    "    i = 0\n",
    "    losses_batch = []\n",
    "\n",
    "    for batch in data_module_train_dataloader:\n",
    "        x_train = batch[\"sequence\"]\n",
    "        y_train = batch[\"labels\"]\n",
    "\n",
    "        if CUDA: \n",
    "            x_train = batch[\"sequence\"].cuda()\n",
    "            y_train = batch[\"labels\"].cuda()\n",
    "        \n",
    "        # Predict on forward pass \n",
    "        y_pred = model.forward(x_train)\n",
    "        if CUDA: \n",
    "            y_pred = y_pred.cuda()\n",
    "            \n",
    "        # Calculate loss/error\n",
    "        loss = criterion(y_pred, y_train)\n",
    "        losses_batch.append(loss)\n",
    "\n",
    "        # Backpropagation\n",
    "        optimizer.zero_grad()\n",
    "        loss.backward()\n",
    "        optimizer.step()\n",
    "    \n",
    "    losses_all_batches.append((epoch,losses_batch))\n",
    "\n",
    "    # loss per epoch is average over all batches\n",
    "    sum = 0\n",
    "    for l in losses_batch:\n",
    "        sum += l\n",
    "    \n",
    "    mean = sum/len(losses_batch)\n",
    "    losses_epoch.append(mean)\n",
    "    print(f\"EPOCH {epoch} training loss: {mean}\")"
   ]
  },
  {
   "cell_type": "markdown",
   "metadata": {},
   "source": [
    "# Training results"
   ]
  },
  {
   "cell_type": "code",
   "execution_count": 32,
   "metadata": {},
   "outputs": [],
   "source": [
    "losses_epoch\n",
    "new_tensor = torch.tensor(losses_epoch, device = 'cpu')"
   ]
  },
  {
   "cell_type": "code",
   "execution_count": 33,
   "metadata": {},
   "outputs": [
    {
     "data": {
      "image/png": "[encoded data removed]",
      "text/plain": [
       "<Figure size 1440x720 with 1 Axes>"
      ]
     },
     "metadata": {
      "needs_background": "light"
     },
     "output_type": "display_data"
    }
   ],
   "source": [
    "plt.figure(figsize=(20, 10))\n",
    "plt.plot(range(n_epochs), new_tensor)\n",
    "plt.title(\"Training loss - Epochs\")\n",
    "plt.xlabel(\"epochs\")\n",
    "plt.ylabel(\"average loss\")\n",
    "plt.show()"
   ]
  },
  {
   "cell_type": "code",
   "execution_count": 34,
   "metadata": {},
   "outputs": [],
   "source": [
    "modelname = 'model_states/PR_LSTM_seqlength'+str(SEQUENCE_LENGTH)+\"_epochs\"+str(N_EPOCHS)\n",
    "torch.save(model.state_dict(), modelname)"
   ]
  },
  {
   "cell_type": "code",
   "execution_count": 35,
   "metadata": {},
   "outputs": [
    {
     "data": {
      "text/plain": [
       "PRPredictionModel(\n",
       "  (lstm): LSTM(2, 128, num_layers=2, batch_first=True, dropout=0.2)\n",
       "  (regressor): Linear(in_features=128, out_features=2, bias=True)\n",
       ")"
      ]
     },
     "execution_count": 35,
     "metadata": {},
     "output_type": "execute_result"
    }
   ],
   "source": [
    "loaded_model = PRPredictionModel(in_features=2, out_features=2)\n",
    "loaded_model.load_state_dict(torch.load(modelname))\n",
    "if CUDA: \n",
    "    loaded_model = loaded_model.cuda()\n",
    "loaded_model.eval()"
   ]
  },
  {
   "cell_type": "markdown",
   "metadata": {},
   "source": [
    "# Testing"
   ]
  },
  {
   "cell_type": "code",
   "execution_count": 44,
   "metadata": {},
   "outputs": [
    {
     "name": "stdout",
     "output_type": "stream",
     "text": [
      "torch.Size([1, 10, 2]) torch.Size([1, 2])\n"
     ]
    }
   ],
   "source": [
    "x_test = 0\n",
    "y_test = 0\n",
    "\n",
    "for batch in data_module.test_dataloader():\n",
    "    x_test = batch[\"sequence\"]\n",
    "    y_test = batch[\"labels\"]\n",
    "    break\n",
    "\n",
    "if CUDA:\n",
    "    x_test = x_test.cuda()\n",
    "    y_test = y_test.cuda()\n",
    "\n",
    "print(x_test.shape, y_test.shape)"
   ]
  },
  {
   "cell_type": "code",
   "execution_count": 37,
   "metadata": {},
   "outputs": [
    {
     "name": "stdout",
     "output_type": "stream",
     "text": [
      "prediction:\ttensor([[0.0024, 0.0034]], device='cuda:0')\n",
      "real:\t\ttensor([[-0.0024,  0.0031]], device='cuda:0')\n",
      "loss: 1.1545187589945272e-05\n"
     ]
    }
   ],
   "source": [
    "with torch.no_grad():\n",
    "    y_pred = loaded_model(x_test)\n",
    "    loss = criterion(y_pred, y_test)\n",
    "    print(f'prediction:\\t{y_pred}\\nreal:\\t\\t{y_test}')\n",
    "    print(\"loss:\", loss.item())"
   ]
  },
  {
   "cell_type": "code",
   "execution_count": 38,
   "metadata": {},
   "outputs": [
    {
     "data": {
      "application/vnd.jupyter.widget-view+json": {
       "model_id": "3ed072612af04033adfd922d1908a30e",
       "version_major": 2,
       "version_minor": 0
      },
      "text/plain": [
       "  0%|          | 0/42120 [00:00<?, ?it/s]"
      ]
     },
     "metadata": {},
     "output_type": "display_data"
    }
   ],
   "source": [
    "predictions = []\n",
    "labels = []\n",
    "\n",
    "with torch.no_grad():\n",
    "    for batch in tqdm(data_module.test_dataloader()):\n",
    "        x_test = batch[\"sequence\"]\n",
    "        y_test = batch[\"labels\"]\n",
    "\n",
    "        if CUDA:\n",
    "            x_test = x_test.cuda()\n",
    "            y_test = y_test.cuda()\n",
    "\n",
    "        output = loaded_model(x_test)\n",
    "        predictions.append(output.detach().to('cpu').numpy().flatten())\n",
    "        labels.append(y_test.detach().to('cpu').numpy().flatten())"
   ]
  },
  {
   "cell_type": "code",
   "execution_count": 39,
   "metadata": {},
   "outputs": [],
   "source": [
    "# Predictions[0] = np array object\n",
    "# Predictions[0][0] = pitch value\n",
    "# Predictions[0][1] = roll value\n",
    "\n",
    "pitch_predictions = []\n",
    "roll_predictions = []\n",
    "\n",
    "pitch_label = []\n",
    "roll_label = []\n",
    "\n",
    "for i in range(len(predictions)):\n",
    "    pitch_predictions.append(predictions[i][0])\n",
    "    roll_predictions.append(predictions[i][1])\n",
    "    pitch_label.append(labels[i][0])\n",
    "    roll_label.append(labels[i][1])"
   ]
  },
  {
   "cell_type": "markdown",
   "metadata": {},
   "source": [
    "### Pitch results"
   ]
  },
  {
   "cell_type": "code",
   "execution_count": 40,
   "metadata": {},
   "outputs": [
    {
     "data": {
      "text/plain": [
       "<matplotlib.legend.Legend at 0x1b7899cc850>"
      ]
     },
     "execution_count": 40,
     "metadata": {},
     "output_type": "execute_result"
    },
    {
     "data": {
      "image/png": "[encoded data removed]",
      "text/plain": [
       "<Figure size 1440x720 with 1 Axes>"
      ]
     },
     "metadata": {
      "needs_background": "light"
     },
     "output_type": "display_data"
    }
   ],
   "source": [
    "plt.figure(figsize=(20, 10))\n",
    "plt.plot(pitch_label, label=\"real\")\n",
    "plt.plot(pitch_predictions, label=\"predicted\", alpha=0.5)\n",
    "plt.title(\"Pitch results\")\n",
    "plt.xlabel(\"Sample\")\n",
    "plt.ylabel(\"Normalized Pitch\")\n",
    "plt.legend()"
   ]
  },
  {
   "cell_type": "code",
   "execution_count": 41,
   "metadata": {},
   "outputs": [
    {
     "name": "stdout",
     "output_type": "stream",
     "text": [
      "Real prediction\n",
      "   MSE: 0.0007179236284374208\n",
      "   RMSE: 0.026794096895350304\n",
      "   RMSE denorm: 2.4114687205815386\n",
      "Zero prediction\n",
      "   MSE 0: 0.005300745179398164\n",
      "   RMSE 0: 0.07280621662604206\n",
      "   RMSE 0 denorm: 6.55255949634379\n",
      "Improvement on zero prediction:\n",
      "   MSE delta%: 738.34 %\n",
      "   RMSE delta%: 271.72 %\n"
     ]
    }
   ],
   "source": [
    "n = len(pitch_predictions)\n",
    "loss = 0\n",
    "loss0 = 0\n",
    "\n",
    "for i in range(n):\n",
    "    loss += (pitch_label[i]-pitch_predictions[i])**2\n",
    "    loss0 += (pitch_label[i]-0)**2\n",
    "\n",
    "mse = loss/n\n",
    "rmse = math.sqrt(loss/n)\n",
    "mse0 = loss0/n\n",
    "rmse0 = math.sqrt(loss0/n)\n",
    "\n",
    "print(\"Real prediction\")\n",
    "print(\"   MSE:\", mse)\n",
    "print(\"   RMSE:\", rmse)\n",
    "print(\"   RMSE denorm:\", denorm_pr(rmse))\n",
    "print(\"Zero prediction\")\n",
    "print(\"   MSE 0:\", mse0)\n",
    "print(\"   RMSE 0:\", rmse0)\n",
    "print(\"   RMSE 0 denorm:\", denorm_pr(rmse0))\n",
    "print(\"Improvement on zero prediction:\")\n",
    "print(\"   MSE delta%:\", round(mse0/mse*100, 2), \"%\")\n",
    "print(\"   RMSE delta%:\", round(rmse0/rmse*100, 2), \"%\")"
   ]
  },
  {
   "cell_type": "markdown",
   "metadata": {},
   "source": [
    "### Roll results"
   ]
  },
  {
   "cell_type": "code",
   "execution_count": 42,
   "metadata": {},
   "outputs": [
    {
     "data": {
      "text/plain": [
       "<matplotlib.legend.Legend at 0x1b78a3b66d0>"
      ]
     },
     "execution_count": 42,
     "metadata": {},
     "output_type": "execute_result"
    },
    {
     "data": {
      "image/png": "[encoded data removed]",
      "text/plain": [
       "<Figure size 1440x720 with 1 Axes>"
      ]
     },
     "metadata": {
      "needs_background": "light"
     },
     "output_type": "display_data"
    }
   ],
   "source": [
    "plt.figure(figsize=(20, 10))\n",
    "plt.plot(roll_label, label=\"real\")\n",
    "plt.plot(roll_predictions, label=\"predicted\", alpha=0.5)\n",
    "plt.title(\"Roll results\")\n",
    "plt.xlabel(\"Sample\")\n",
    "plt.ylabel(\"Normalized Roll\")\n",
    "plt.legend()"
   ]
  },
  {
   "cell_type": "code",
   "execution_count": 43,
   "metadata": {},
   "outputs": [
    {
     "name": "stdout",
     "output_type": "stream",
     "text": [
      "Real prediction\n",
      "   MSE: 0.0005230799204610723\n",
      "   RMSE: 0.022870940524190787\n",
      "   RMSE denorm: 2.0583846471771636\n",
      "Zero prediction\n",
      "   MSE 0: 0.006187511860198918\n",
      "   RMSE 0: 0.07866073900109836\n",
      "   RMSE 0 denorm: 7.07946651009884\n",
      "Improvement on zero prediction:\n",
      "   MSE delta%: 1182.9 %\n",
      "   RMSE delta%: 343.93 %\n"
     ]
    }
   ],
   "source": [
    "n = len(roll_predictions)\n",
    "loss = 0\n",
    "loss0 = 0\n",
    "\n",
    "for i in range(n):\n",
    "    loss += (roll_label[i]-roll_predictions[i])**2\n",
    "    loss0 += (roll_label[i]-0)**2\n",
    "\n",
    "mse = loss/n\n",
    "rmse = math.sqrt(loss/n)\n",
    "mse0 = loss0/n\n",
    "rmse0 = math.sqrt(loss0/n)\n",
    "\n",
    "print(\"Real prediction\")\n",
    "print(\"   MSE:\", mse)\n",
    "print(\"   RMSE:\", rmse)\n",
    "print(\"   RMSE denorm:\", denorm_pr(rmse))\n",
    "print(\"Zero prediction\")\n",
    "print(\"   MSE 0:\", mse0)\n",
    "print(\"   RMSE 0:\", rmse0)\n",
    "print(\"   RMSE 0 denorm:\", denorm_pr(rmse0))\n",
    "print(\"Improvement on zero prediction:\")\n",
    "print(\"   MSE delta%:\", round(mse0/mse*100, 2), \"%\")\n",
    "print(\"   RMSE delta%:\", round(rmse0/rmse*100, 2), \"%\")"
   ]
  }
 ],
 "metadata": {
  "interpreter": {
   "hash": "4c1b2a501f02df7b26d92d459eb05316e48170af73a43fcdd672df666b3b816d"
  },
  "kernelspec": {
   "display_name": "Python 3.8.12 64-bit ('Thesis': conda)",
   "language": "python",
   "name": "python3"
  },
  "language_info": {
   "codemirror_mode": {
    "name": "ipython",
    "version": 3
   },
   "file_extension": ".py",
   "mimetype": "text/x-python",
   "name": "python",
   "nbconvert_exporter": "python",
   "pygments_lexer": "ipython3",
   "version": "3.9.7"
  },
  "orig_nbformat": 4
 },
 "nbformat": 4,
 "nbformat_minor": 2
}
