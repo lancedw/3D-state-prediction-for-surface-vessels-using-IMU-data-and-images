{
 "cells": [
  {
   "cell_type": "markdown",
   "metadata": {},
   "source": [
    "# Pitch & Roll prediction model"
   ]
  },
  {
   "cell_type": "code",
   "execution_count": 389,
   "metadata": {},
   "outputs": [],
   "source": [
    "import tensorflow as tf\n",
    "import numpy as np\n",
    "import seaborn as sns\n",
    "import pandas as pd\n",
    "import matplotlib.pyplot as plt\n",
    "import random\n",
    "from tqdm.notebook import tqdm\n",
    "import json\n",
    "import pickle\n",
    "import multiprocessing\n",
    "import platform\n",
    "import math\n",
    "\n",
    "import torch\n",
    "import torch.nn as nn\n",
    "import torch.optim as optim\n",
    "import torch.autograd as autograd\n",
    "import torch.nn.functional as F\n",
    "from torch.utils.data import Dataset, DataLoader\n",
    "\n",
    "import pytorch_lightning as pl\n",
    "from pytorch_lightning.callbacks import ModelCheckpoint, EarlyStopping\n",
    "from pytorch_lightning.loggers import TensorBoardLogger\n",
    "\n",
    "from sklearn.preprocessing import MinMaxScaler\n",
    "\n",
    "from tensorflow.keras.models import Sequential\n",
    "from tensorflow.keras.layers import Dense, Dropout, Activation, Flatten, Conv2D, MaxPooling2D"
   ]
  },
  {
   "cell_type": "code",
   "execution_count": 390,
   "metadata": {},
   "outputs": [
    {
     "name": "stdout",
     "output_type": "stream",
     "text": [
      "1.10.2\n",
      "1.5.10\n"
     ]
    }
   ],
   "source": [
    "print(torch.__version__)\n",
    "print(pl.__version__)"
   ]
  },
  {
   "cell_type": "code",
   "execution_count": 391,
   "metadata": {},
   "outputs": [
    {
     "name": "stdout",
     "output_type": "stream",
     "text": [
      "Num GPUs Available:  0\n",
      "device: cuda\n",
      "CPU count: 16\n",
      "Platform: windows\n",
      "number of workers: 0\n"
     ]
    }
   ],
   "source": [
    "print(\"Num GPUs Available: \", len(tf.config.experimental.list_physical_devices('GPU')))\n",
    "device = torch.device('cuda' if torch.cuda.is_available() else 'cpu')\n",
    "print(\"device:\", device)\n",
    "cpu_count = multiprocessing.cpu_count()\n",
    "print('CPU count:', cpu_count)\n",
    "platform_os = \"windows\" if platform.system() == \"Windows\" else \"linux\"\n",
    "print(\"Platform:\", platform_os)\n",
    "\n",
    "# Pytorch Dataloader can't handle n_workers > 0 on windows due to bugs\n",
    "N_WORKERS = 0 if platform_os==\"windows\" else cpu_count\n",
    "print(f\"number of workers: {N_WORKERS}\")"
   ]
  },
  {
   "cell_type": "markdown",
   "metadata": {},
   "source": [
    "# Constants"
   ]
  },
  {
   "cell_type": "code",
   "execution_count": 392,
   "metadata": {},
   "outputs": [],
   "source": [
    "N_EPISODES = 540\n",
    "FRAMES_PER_EPISODE = 400\n",
    "TRAIN_FOLDER = \"3dmodel/test_4_episode_\"\n",
    "SEQUENCE_LENGTH = 3\n",
    "\n",
    "TRAIN_SIZE = 0.8\n",
    "NUM_EPOCHS = 8\n",
    "BATCH_SIZE = 64\n",
    "LEARNING_RATE = 0.0001\n",
    "\n",
    "CUDA = device.type == 'cuda'"
   ]
  },
  {
   "cell_type": "markdown",
   "metadata": {},
   "source": [
    "# Load data from episodes"
   ]
  },
  {
   "cell_type": "code",
   "execution_count": 393,
   "metadata": {},
   "outputs": [
    {
     "data": {
      "text/html": [
       "<div>\n",
       "<style scoped>\n",
       "    .dataframe tbody tr th:only-of-type {\n",
       "        vertical-align: middle;\n",
       "    }\n",
       "\n",
       "    .dataframe tbody tr th {\n",
       "        vertical-align: top;\n",
       "    }\n",
       "\n",
       "    .dataframe thead th {\n",
       "        text-align: right;\n",
       "    }\n",
       "</style>\n",
       "<table border=\"1\" class=\"dataframe\">\n",
       "  <thead>\n",
       "    <tr style=\"text-align: right;\">\n",
       "      <th></th>\n",
       "      <th>pitch</th>\n",
       "      <th>roll</th>\n",
       "    </tr>\n",
       "  </thead>\n",
       "  <tbody>\n",
       "    <tr>\n",
       "      <th>0</th>\n",
       "      <td>15.915869</td>\n",
       "      <td>2.358416</td>\n",
       "    </tr>\n",
       "    <tr>\n",
       "      <th>1</th>\n",
       "      <td>14.295925</td>\n",
       "      <td>1.700391</td>\n",
       "    </tr>\n",
       "    <tr>\n",
       "      <th>2</th>\n",
       "      <td>6.213590</td>\n",
       "      <td>1.611325</td>\n",
       "    </tr>\n",
       "    <tr>\n",
       "      <th>3</th>\n",
       "      <td>1.235337</td>\n",
       "      <td>6.175461</td>\n",
       "    </tr>\n",
       "    <tr>\n",
       "      <th>4</th>\n",
       "      <td>1.341678</td>\n",
       "      <td>3.695468</td>\n",
       "    </tr>\n",
       "    <tr>\n",
       "      <th>...</th>\n",
       "      <td>...</td>\n",
       "      <td>...</td>\n",
       "    </tr>\n",
       "    <tr>\n",
       "      <th>395</th>\n",
       "      <td>-0.204481</td>\n",
       "      <td>1.503337</td>\n",
       "    </tr>\n",
       "    <tr>\n",
       "      <th>396</th>\n",
       "      <td>1.074743</td>\n",
       "      <td>10.724272</td>\n",
       "    </tr>\n",
       "    <tr>\n",
       "      <th>397</th>\n",
       "      <td>13.373594</td>\n",
       "      <td>1.542949</td>\n",
       "    </tr>\n",
       "    <tr>\n",
       "      <th>398</th>\n",
       "      <td>11.193637</td>\n",
       "      <td>-0.848632</td>\n",
       "    </tr>\n",
       "    <tr>\n",
       "      <th>399</th>\n",
       "      <td>5.131548</td>\n",
       "      <td>0.977777</td>\n",
       "    </tr>\n",
       "  </tbody>\n",
       "</table>\n",
       "<p>400 rows × 2 columns</p>\n",
       "</div>"
      ],
      "text/plain": [
       "         pitch       roll\n",
       "0    15.915869   2.358416\n",
       "1    14.295925   1.700391\n",
       "2     6.213590   1.611325\n",
       "3     1.235337   6.175461\n",
       "4     1.341678   3.695468\n",
       "..         ...        ...\n",
       "395  -0.204481   1.503337\n",
       "396   1.074743  10.724272\n",
       "397  13.373594   1.542949\n",
       "398  11.193637  -0.848632\n",
       "399   5.131548   0.977777\n",
       "\n",
       "[400 rows x 2 columns]"
      ]
     },
     "execution_count": 393,
     "metadata": {},
     "output_type": "execute_result"
    }
   ],
   "source": [
    "# view first episode \n",
    "filename = \"../3dmodel/test_4_episode_1/labels_0.json\"\n",
    "data = []\n",
    "labels = json.load(open(filename))\n",
    "ep1 = pd.DataFrame(labels)\n",
    "ep1 = ep1.transpose()\n",
    "ep1.rename(columns = {0:'pitch', 1:'roll'}, inplace=True)\n",
    "ep1"
   ]
  },
  {
   "cell_type": "code",
   "execution_count": 394,
   "metadata": {},
   "outputs": [],
   "source": [
    "# load all data\n",
    "pr = []\n",
    "episodes = []\n",
    "for ep in range(1, N_EPISODES+1):\n",
    "    filename = \"../3dmodel/test_4_episode_\"+ str(ep) +\"/labels_0.json\"\n",
    "    labels = json.load(open(filename))\n",
    "    for i in labels:\n",
    "        pr.append(labels[i])\n",
    "        episodes.append(labels[i]+[ep, i])"
   ]
  },
  {
   "cell_type": "code",
   "execution_count": 395,
   "metadata": {},
   "outputs": [
    {
     "data": {
      "text/html": [
       "<div>\n",
       "<style scoped>\n",
       "    .dataframe tbody tr th:only-of-type {\n",
       "        vertical-align: middle;\n",
       "    }\n",
       "\n",
       "    .dataframe tbody tr th {\n",
       "        vertical-align: top;\n",
       "    }\n",
       "\n",
       "    .dataframe thead th {\n",
       "        text-align: right;\n",
       "    }\n",
       "</style>\n",
       "<table border=\"1\" class=\"dataframe\">\n",
       "  <thead>\n",
       "    <tr style=\"text-align: right;\">\n",
       "      <th></th>\n",
       "      <th>pitch</th>\n",
       "      <th>roll</th>\n",
       "      <th>episode</th>\n",
       "      <th>position_within_episode</th>\n",
       "    </tr>\n",
       "  </thead>\n",
       "  <tbody>\n",
       "    <tr>\n",
       "      <th>0</th>\n",
       "      <td>15.915869</td>\n",
       "      <td>2.358416</td>\n",
       "      <td>1</td>\n",
       "      <td>0</td>\n",
       "    </tr>\n",
       "    <tr>\n",
       "      <th>1</th>\n",
       "      <td>14.295925</td>\n",
       "      <td>1.700391</td>\n",
       "      <td>1</td>\n",
       "      <td>1</td>\n",
       "    </tr>\n",
       "    <tr>\n",
       "      <th>2</th>\n",
       "      <td>6.213590</td>\n",
       "      <td>1.611325</td>\n",
       "      <td>1</td>\n",
       "      <td>2</td>\n",
       "    </tr>\n",
       "    <tr>\n",
       "      <th>3</th>\n",
       "      <td>1.235337</td>\n",
       "      <td>6.175461</td>\n",
       "      <td>1</td>\n",
       "      <td>3</td>\n",
       "    </tr>\n",
       "    <tr>\n",
       "      <th>4</th>\n",
       "      <td>1.341678</td>\n",
       "      <td>3.695468</td>\n",
       "      <td>1</td>\n",
       "      <td>4</td>\n",
       "    </tr>\n",
       "    <tr>\n",
       "      <th>...</th>\n",
       "      <td>...</td>\n",
       "      <td>...</td>\n",
       "      <td>...</td>\n",
       "      <td>...</td>\n",
       "    </tr>\n",
       "    <tr>\n",
       "      <th>215995</th>\n",
       "      <td>0.428497</td>\n",
       "      <td>-0.663964</td>\n",
       "      <td>540</td>\n",
       "      <td>395</td>\n",
       "    </tr>\n",
       "    <tr>\n",
       "      <th>215996</th>\n",
       "      <td>0.485498</td>\n",
       "      <td>-1.376229</td>\n",
       "      <td>540</td>\n",
       "      <td>396</td>\n",
       "    </tr>\n",
       "    <tr>\n",
       "      <th>215997</th>\n",
       "      <td>-0.658033</td>\n",
       "      <td>-1.328761</td>\n",
       "      <td>540</td>\n",
       "      <td>397</td>\n",
       "    </tr>\n",
       "    <tr>\n",
       "      <th>215998</th>\n",
       "      <td>-1.322262</td>\n",
       "      <td>-1.650465</td>\n",
       "      <td>540</td>\n",
       "      <td>398</td>\n",
       "    </tr>\n",
       "    <tr>\n",
       "      <th>215999</th>\n",
       "      <td>-3.697282</td>\n",
       "      <td>-1.758844</td>\n",
       "      <td>540</td>\n",
       "      <td>399</td>\n",
       "    </tr>\n",
       "  </tbody>\n",
       "</table>\n",
       "<p>216000 rows × 4 columns</p>\n",
       "</div>"
      ],
      "text/plain": [
       "            pitch      roll  episode position_within_episode\n",
       "0       15.915869  2.358416        1                       0\n",
       "1       14.295925  1.700391        1                       1\n",
       "2        6.213590  1.611325        1                       2\n",
       "3        1.235337  6.175461        1                       3\n",
       "4        1.341678  3.695468        1                       4\n",
       "...           ...       ...      ...                     ...\n",
       "215995   0.428497 -0.663964      540                     395\n",
       "215996   0.485498 -1.376229      540                     396\n",
       "215997  -0.658033 -1.328761      540                     397\n",
       "215998  -1.322262 -1.650465      540                     398\n",
       "215999  -3.697282 -1.758844      540                     399\n",
       "\n",
       "[216000 rows x 4 columns]"
      ]
     },
     "execution_count": 395,
     "metadata": {},
     "output_type": "execute_result"
    }
   ],
   "source": [
    "p_r_df = pd.DataFrame(episodes)\n",
    "p_r_df.rename(columns = {0:'pitch', 1:'roll', 2:'episode', 3:'position_within_episode'}, inplace=True)\n",
    "p_r_df = p_r_df.astype({\"pitch\": float, \"roll\": float})\n",
    "p_r_df"
   ]
  },
  {
   "cell_type": "code",
   "execution_count": 396,
   "metadata": {},
   "outputs": [
    {
     "data": {
      "text/html": [
       "<div>\n",
       "<style scoped>\n",
       "    .dataframe tbody tr th:only-of-type {\n",
       "        vertical-align: middle;\n",
       "    }\n",
       "\n",
       "    .dataframe tbody tr th {\n",
       "        vertical-align: top;\n",
       "    }\n",
       "\n",
       "    .dataframe thead th {\n",
       "        text-align: right;\n",
       "    }\n",
       "</style>\n",
       "<table border=\"1\" class=\"dataframe\">\n",
       "  <thead>\n",
       "    <tr style=\"text-align: right;\">\n",
       "      <th></th>\n",
       "      <th>episode</th>\n",
       "      <th>pr</th>\n",
       "    </tr>\n",
       "  </thead>\n",
       "  <tbody>\n",
       "    <tr>\n",
       "      <th>0</th>\n",
       "      <td>1</td>\n",
       "      <td>[(15.92, 2.36), (14.3, 1.7), (6.21, 1.61), (1....</td>\n",
       "    </tr>\n",
       "    <tr>\n",
       "      <th>1</th>\n",
       "      <td>2</td>\n",
       "      <td>[(15.98, 2.27), (9.86, 1.36), (6.11, 1.56), (1...</td>\n",
       "    </tr>\n",
       "    <tr>\n",
       "      <th>2</th>\n",
       "      <td>3</td>\n",
       "      <td>[(15.96, 2.07), (6.18, 0.12), (6.08, 1.68), (1...</td>\n",
       "    </tr>\n",
       "    <tr>\n",
       "      <th>3</th>\n",
       "      <td>4</td>\n",
       "      <td>[(7.7, 1.58), (8.48, 0.06), (3.16, 0.86), (1.0...</td>\n",
       "    </tr>\n",
       "    <tr>\n",
       "      <th>4</th>\n",
       "      <td>5</td>\n",
       "      <td>[(7.81, 1.49), (7.87, 0.18), (3.13, 0.91), (0....</td>\n",
       "    </tr>\n",
       "    <tr>\n",
       "      <th>...</th>\n",
       "      <td>...</td>\n",
       "      <td>...</td>\n",
       "    </tr>\n",
       "    <tr>\n",
       "      <th>535</th>\n",
       "      <td>536</td>\n",
       "      <td>[(27.03, -7.86), (19.12, -5.18), (12.65, -3.41...</td>\n",
       "    </tr>\n",
       "    <tr>\n",
       "      <th>536</th>\n",
       "      <td>537</td>\n",
       "      <td>[(18.02, -5.29), (18.95, -5.79), (10.58, -2.69...</td>\n",
       "    </tr>\n",
       "    <tr>\n",
       "      <th>537</th>\n",
       "      <td>538</td>\n",
       "      <td>[(21.82, -6.14), (14.1, -3.58), (9.7, -2.57), ...</td>\n",
       "    </tr>\n",
       "    <tr>\n",
       "      <th>538</th>\n",
       "      <td>539</td>\n",
       "      <td>[(21.23, -6.12), (16.44, -4.69), (10.11, -2.68...</td>\n",
       "    </tr>\n",
       "    <tr>\n",
       "      <th>539</th>\n",
       "      <td>540</td>\n",
       "      <td>[(-0.65, -0.5), (-0.81, -0.24), (2.55, 0.03), ...</td>\n",
       "    </tr>\n",
       "  </tbody>\n",
       "</table>\n",
       "<p>540 rows × 2 columns</p>\n",
       "</div>"
      ],
      "text/plain": [
       "     episode                                                 pr\n",
       "0          1  [(15.92, 2.36), (14.3, 1.7), (6.21, 1.61), (1....\n",
       "1          2  [(15.98, 2.27), (9.86, 1.36), (6.11, 1.56), (1...\n",
       "2          3  [(15.96, 2.07), (6.18, 0.12), (6.08, 1.68), (1...\n",
       "3          4  [(7.7, 1.58), (8.48, 0.06), (3.16, 0.86), (1.0...\n",
       "4          5  [(7.81, 1.49), (7.87, 0.18), (3.13, 0.91), (0....\n",
       "..       ...                                                ...\n",
       "535      536  [(27.03, -7.86), (19.12, -5.18), (12.65, -3.41...\n",
       "536      537  [(18.02, -5.29), (18.95, -5.79), (10.58, -2.69...\n",
       "537      538  [(21.82, -6.14), (14.1, -3.58), (9.7, -2.57), ...\n",
       "538      539  [(21.23, -6.12), (16.44, -4.69), (10.11, -2.68...\n",
       "539      540  [(-0.65, -0.5), (-0.81, -0.24), (2.55, 0.03), ...\n",
       "\n",
       "[540 rows x 2 columns]"
      ]
     },
     "execution_count": 396,
     "metadata": {},
     "output_type": "execute_result"
    }
   ],
   "source": [
    "df2 = p_r_df.copy()\n",
    "df2[\"pr\"] = list(zip(p_r_df[\"pitch\"].round(2), p_r_df[\"roll\"].round(2)))\n",
    "df2.drop(columns=[\"pitch\",\"roll\"], axis=0, inplace=True)\n",
    "df2 = df2[[\"pr\",\"episode\",\"position_within_episode\"]]\n",
    "rows = df2.groupby('episode')['pr'].apply(list)\n",
    "df_stack = pd.DataFrame(rows)\n",
    "df_stack = df_stack.reset_index()\n",
    "df_stack"
   ]
  },
  {
   "cell_type": "code",
   "execution_count": 397,
   "metadata": {},
   "outputs": [],
   "source": [
    "# Function to normalize pitch and roll angles\n",
    "def norm_pr(x, min = -90.0, max = 90.0):\n",
    "    return ((x - min) * 2) / (max - min) - 1"
   ]
  },
  {
   "cell_type": "code",
   "execution_count": 398,
   "metadata": {},
   "outputs": [],
   "source": [
    "# Function to normalize pitch and roll angles\n",
    "def denorm_pr(x, min = -90.0, max = 90.0):\n",
    "    return ((x + 1) * (max - min))/2 + min"
   ]
  },
  {
   "cell_type": "code",
   "execution_count": 399,
   "metadata": {},
   "outputs": [
    {
     "data": {
      "text/html": [
       "<div>\n",
       "<style scoped>\n",
       "    .dataframe tbody tr th:only-of-type {\n",
       "        vertical-align: middle;\n",
       "    }\n",
       "\n",
       "    .dataframe tbody tr th {\n",
       "        vertical-align: top;\n",
       "    }\n",
       "\n",
       "    .dataframe thead th {\n",
       "        text-align: right;\n",
       "    }\n",
       "</style>\n",
       "<table border=\"1\" class=\"dataframe\">\n",
       "  <thead>\n",
       "    <tr style=\"text-align: right;\">\n",
       "      <th></th>\n",
       "      <th>pitch</th>\n",
       "      <th>roll</th>\n",
       "      <th>episode</th>\n",
       "      <th>position_within_episode</th>\n",
       "    </tr>\n",
       "  </thead>\n",
       "  <tbody>\n",
       "    <tr>\n",
       "      <th>0</th>\n",
       "      <td>0.176843</td>\n",
       "      <td>0.026205</td>\n",
       "      <td>1</td>\n",
       "      <td>0</td>\n",
       "    </tr>\n",
       "    <tr>\n",
       "      <th>1</th>\n",
       "      <td>0.158844</td>\n",
       "      <td>0.018893</td>\n",
       "      <td>1</td>\n",
       "      <td>1</td>\n",
       "    </tr>\n",
       "    <tr>\n",
       "      <th>2</th>\n",
       "      <td>0.069040</td>\n",
       "      <td>0.017904</td>\n",
       "      <td>1</td>\n",
       "      <td>2</td>\n",
       "    </tr>\n",
       "    <tr>\n",
       "      <th>3</th>\n",
       "      <td>0.013726</td>\n",
       "      <td>0.068616</td>\n",
       "      <td>1</td>\n",
       "      <td>3</td>\n",
       "    </tr>\n",
       "    <tr>\n",
       "      <th>4</th>\n",
       "      <td>0.014908</td>\n",
       "      <td>0.041061</td>\n",
       "      <td>1</td>\n",
       "      <td>4</td>\n",
       "    </tr>\n",
       "    <tr>\n",
       "      <th>...</th>\n",
       "      <td>...</td>\n",
       "      <td>...</td>\n",
       "      <td>...</td>\n",
       "      <td>...</td>\n",
       "    </tr>\n",
       "    <tr>\n",
       "      <th>215995</th>\n",
       "      <td>0.004761</td>\n",
       "      <td>-0.007377</td>\n",
       "      <td>540</td>\n",
       "      <td>395</td>\n",
       "    </tr>\n",
       "    <tr>\n",
       "      <th>215996</th>\n",
       "      <td>0.005394</td>\n",
       "      <td>-0.015291</td>\n",
       "      <td>540</td>\n",
       "      <td>396</td>\n",
       "    </tr>\n",
       "    <tr>\n",
       "      <th>215997</th>\n",
       "      <td>-0.007311</td>\n",
       "      <td>-0.014764</td>\n",
       "      <td>540</td>\n",
       "      <td>397</td>\n",
       "    </tr>\n",
       "    <tr>\n",
       "      <th>215998</th>\n",
       "      <td>-0.014692</td>\n",
       "      <td>-0.018338</td>\n",
       "      <td>540</td>\n",
       "      <td>398</td>\n",
       "    </tr>\n",
       "    <tr>\n",
       "      <th>215999</th>\n",
       "      <td>-0.041081</td>\n",
       "      <td>-0.019543</td>\n",
       "      <td>540</td>\n",
       "      <td>399</td>\n",
       "    </tr>\n",
       "  </tbody>\n",
       "</table>\n",
       "<p>216000 rows × 4 columns</p>\n",
       "</div>"
      ],
      "text/plain": [
       "           pitch      roll  episode position_within_episode\n",
       "0       0.176843  0.026205        1                       0\n",
       "1       0.158844  0.018893        1                       1\n",
       "2       0.069040  0.017904        1                       2\n",
       "3       0.013726  0.068616        1                       3\n",
       "4       0.014908  0.041061        1                       4\n",
       "...          ...       ...      ...                     ...\n",
       "215995  0.004761 -0.007377      540                     395\n",
       "215996  0.005394 -0.015291      540                     396\n",
       "215997 -0.007311 -0.014764      540                     397\n",
       "215998 -0.014692 -0.018338      540                     398\n",
       "215999 -0.041081 -0.019543      540                     399\n",
       "\n",
       "[216000 rows x 4 columns]"
      ]
     },
     "execution_count": 399,
     "metadata": {},
     "output_type": "execute_result"
    }
   ],
   "source": [
    "# normalize PR-values\n",
    "p_r_df['pitch'] = p_r_df['pitch'].apply(lambda x : norm_pr(x))\n",
    "p_r_df['roll'] = p_r_df['roll'].apply(lambda x : norm_pr(x))\n",
    "p_r_df"
   ]
  },
  {
   "cell_type": "markdown",
   "metadata": {},
   "source": [
    "# Create sequences with target value"
   ]
  },
  {
   "cell_type": "code",
   "execution_count": 400,
   "metadata": {},
   "outputs": [],
   "source": [
    "# function to create sequences with one target column\n",
    "def create_sequences(input_data: pd.DataFrame, target_columns, sequence_length, feature_columns = [\"pitch\", \"roll\"], episode_length = FRAMES_PER_EPISODE, n_episodes = N_EPISODES):\n",
    "    sequences= []\n",
    "    # get indice(s) for target column(s)\n",
    "    target_index = [input_data.columns.get_loc(c) for c in target_columns if c in input_data]\n",
    "\n",
    "    # make sequences per episode, one sequence can only hold data of one and the same episode!\n",
    "    for n in tqdm(range(n_episodes)):\n",
    "\n",
    "        for l in range(episode_length-SEQUENCE_LENGTH):\n",
    "            \n",
    "            i = l+(n*episode_length)\n",
    "\n",
    "            sequence = input_data.iloc[i:i+sequence_length][feature_columns]\n",
    "\n",
    "            target_position = i + sequence_length\n",
    "            target = input_data.iloc[[target_position], target_index].values.flatten()\n",
    "\n",
    "            sequences.append((sequence, target))\n",
    "\n",
    "    return sequences"
   ]
  },
  {
   "cell_type": "code",
   "execution_count": 401,
   "metadata": {},
   "outputs": [
    {
     "data": {
      "application/vnd.jupyter.widget-view+json": {
       "model_id": "039bf8e1a3f445d9ac2e8a6c149ec8be",
       "version_major": 2,
       "version_minor": 0
      },
      "text/plain": [
       "  0%|          | 0/540 [00:00<?, ?it/s]"
      ]
     },
     "metadata": {},
     "output_type": "display_data"
    }
   ],
   "source": [
    "target = [\"pitch\",\"roll\"]\n",
    "all_sequences = create_sequences(p_r_df, target, SEQUENCE_LENGTH)"
   ]
  },
  {
   "cell_type": "code",
   "execution_count": 402,
   "metadata": {},
   "outputs": [
    {
     "data": {
      "text/plain": [
       "(214380, (3, 2), (2,))"
      ]
     },
     "execution_count": 402,
     "metadata": {},
     "output_type": "execute_result"
    }
   ],
   "source": [
    "len(all_sequences),all_sequences[0][0].shape, all_sequences[0][1].shape "
   ]
  },
  {
   "cell_type": "code",
   "execution_count": 403,
   "metadata": {},
   "outputs": [
    {
     "data": {
      "text/plain": [
       "array([0.01372597, 0.06861623])"
      ]
     },
     "execution_count": 403,
     "metadata": {},
     "output_type": "execute_result"
    }
   ],
   "source": [
    "all_sequences[0][1]"
   ]
  },
  {
   "cell_type": "code",
   "execution_count": 404,
   "metadata": {},
   "outputs": [
    {
     "name": "stdout",
     "output_type": "stream",
     "text": [
      "Sequence for target value:  [0.01372597 0.06861623]\n"
     ]
    },
    {
     "data": {
      "text/html": [
       "<div>\n",
       "<style scoped>\n",
       "    .dataframe tbody tr th:only-of-type {\n",
       "        vertical-align: middle;\n",
       "    }\n",
       "\n",
       "    .dataframe tbody tr th {\n",
       "        vertical-align: top;\n",
       "    }\n",
       "\n",
       "    .dataframe thead th {\n",
       "        text-align: right;\n",
       "    }\n",
       "</style>\n",
       "<table border=\"1\" class=\"dataframe\">\n",
       "  <thead>\n",
       "    <tr style=\"text-align: right;\">\n",
       "      <th></th>\n",
       "      <th>pitch</th>\n",
       "      <th>roll</th>\n",
       "    </tr>\n",
       "  </thead>\n",
       "  <tbody>\n",
       "    <tr>\n",
       "      <th>0</th>\n",
       "      <td>0.176843</td>\n",
       "      <td>0.026205</td>\n",
       "    </tr>\n",
       "    <tr>\n",
       "      <th>1</th>\n",
       "      <td>0.158844</td>\n",
       "      <td>0.018893</td>\n",
       "    </tr>\n",
       "    <tr>\n",
       "      <th>1</th>\n",
       "      <td>0.158844</td>\n",
       "      <td>0.018893</td>\n",
       "    </tr>\n",
       "    <tr>\n",
       "      <th>2</th>\n",
       "      <td>0.069040</td>\n",
       "      <td>0.017904</td>\n",
       "    </tr>\n",
       "  </tbody>\n",
       "</table>\n",
       "</div>"
      ],
      "text/plain": [
       "      pitch      roll\n",
       "0  0.176843  0.026205\n",
       "1  0.158844  0.018893\n",
       "1  0.158844  0.018893\n",
       "2  0.069040  0.017904"
      ]
     },
     "execution_count": 404,
     "metadata": {},
     "output_type": "execute_result"
    }
   ],
   "source": [
    "index = 0\n",
    "print(\"Sequence for target value: \", all_sequences[index][1])\n",
    "pd.concat([all_sequences[index][0].head(2),all_sequences[index][0].tail(2)])"
   ]
  },
  {
   "cell_type": "code",
   "execution_count": 405,
   "metadata": {},
   "outputs": [
    {
     "name": "stdout",
     "output_type": "stream",
     "text": [
      "True\n",
      "171504 42876\n",
      "[167621, 29184, 6556, 194393, 72097, 64196, 58513, 36579, 193061, 26868]\n",
      "[3, 4, 131077, 131078, 7, 8, 131081, 131083, 131087, 21]\n"
     ]
    }
   ],
   "source": [
    "# Grab random subsets from all sequences for training and test data (without overlapping data)\n",
    "data_size = len(all_sequences)\n",
    "data_indices = list(np.arange(0, data_size, 1))\n",
    "\n",
    "# train indices are random sample from all data indices\n",
    "random.seed(42)\n",
    "train_size = int(TRAIN_SIZE * data_size)\n",
    "train_indices = random.sample(data_indices, train_size)\n",
    "\n",
    "# test indices are the difference of all data indices and train indices\n",
    "test_indices = list(set(data_indices) - set(train_indices))\n",
    "\n",
    "print((len(train_indices) + len(test_indices)) <= data_size)\n",
    "print(len(train_indices), len(test_indices))\n",
    "print(train_indices[:10])\n",
    "print(test_indices[:10])"
   ]
  },
  {
   "cell_type": "code",
   "execution_count": 406,
   "metadata": {},
   "outputs": [
    {
     "data": {
      "application/vnd.jupyter.widget-view+json": {
       "model_id": "ea6010e9504546bc89a7ca2dba8efd94",
       "version_major": 2,
       "version_minor": 0
      },
      "text/plain": [
       "  0%|          | 0/171504 [00:00<?, ?it/s]"
      ]
     },
     "metadata": {},
     "output_type": "display_data"
    },
    {
     "data": {
      "application/vnd.jupyter.widget-view+json": {
       "model_id": "40531adf6a0f4dc6b2f9188a69198ebb",
       "version_major": 2,
       "version_minor": 0
      },
      "text/plain": [
       "  0%|          | 0/42876 [00:00<?, ?it/s]"
      ]
     },
     "metadata": {},
     "output_type": "display_data"
    },
    {
     "name": "stdout",
     "output_type": "stream",
     "text": [
      "True\n",
      "171504 (3, 2) (2,)\n",
      "42876 (3, 2) (2,)\n"
     ]
    }
   ],
   "source": [
    "# drop temporary episode and position_within_episode columns in all sequences\n",
    "train_sequences = []\n",
    "test_sequences = []\n",
    "\n",
    "for idx in tqdm(train_indices):\n",
    "    seq = all_sequences[idx][0]\n",
    "    label = all_sequences[idx][1]\n",
    "    train_sequences.append((seq,label))\n",
    "\n",
    "for idx in tqdm(test_indices):\n",
    "    seq = all_sequences[idx][0]\n",
    "    label = all_sequences[idx][1]\n",
    "    test_sequences.append((seq,label))\n",
    "\n",
    "print((len(train_sequences) + len(test_sequences)) <= len(all_sequences))\n",
    "print(len(train_sequences), train_sequences[0][0].shape, train_sequences[0][1].shape) \n",
    "print(len(test_sequences), test_sequences[0][0].shape, test_sequences[0][1].shape)"
   ]
  },
  {
   "cell_type": "markdown",
   "metadata": {},
   "source": [
    "## Pytorch Dataset"
   ]
  },
  {
   "cell_type": "code",
   "execution_count": 407,
   "metadata": {},
   "outputs": [],
   "source": [
    "class PRDataset(Dataset):\n",
    "    def __init__(self, sequences):\n",
    "        self.sequences = sequences\n",
    "\n",
    "    def __len__(self):\n",
    "        return len(self.sequences)\n",
    "\n",
    "    def __getitem__(self, index):\n",
    "        sequence, labels = self.sequences[index]\n",
    "\n",
    "        return dict(\n",
    "            sequence = torch.Tensor(sequence.to_numpy()),\n",
    "            labels = torch.Tensor(labels)\n",
    "        )"
   ]
  },
  {
   "cell_type": "code",
   "execution_count": 408,
   "metadata": {},
   "outputs": [],
   "source": [
    "class PRDataModule(pl.LightningDataModule):\n",
    "    def __init__(self, train_sequences, test_sequences, batchsize = BATCH_SIZE):\n",
    "        super().__init__()\n",
    "        self.train_sequences = train_sequences\n",
    "        self.test_sequences = test_sequences\n",
    "        self.batchsize = batchsize\n",
    "\n",
    "    # turns normal list object into Dataset object\n",
    "    def setup(self):\n",
    "        self.train_dataset = PRDataset(self.train_sequences)\n",
    "        self.test_dataset = PRDataset(self.test_sequences)\n",
    "\n",
    "    def train_dataloader(self):\n",
    "        return DataLoader(\n",
    "            self.train_dataset,\n",
    "            batch_size = self.batchsize,\n",
    "            shuffle = False,\n",
    "            num_workers=N_WORKERS,\n",
    "        )\n",
    "\n",
    "    def val_dataloader(self):\n",
    "        return DataLoader(\n",
    "            self.test_dataset,\n",
    "            batch_size = 1,\n",
    "            shuffle = False,\n",
    "            num_workers=N_WORKERS,\n",
    "        )\n",
    "\n",
    "    def test_dataloader(self):\n",
    "        return DataLoader(\n",
    "            self.test_dataset,\n",
    "            batch_size = 1,\n",
    "            shuffle = False,\n",
    "            num_workers=N_WORKERS,\n",
    "        )"
   ]
  },
  {
   "cell_type": "code",
   "execution_count": 409,
   "metadata": {},
   "outputs": [],
   "source": [
    "data_module = PRDataModule(train_sequences, test_sequences, BATCH_SIZE)\n",
    "data_module.setup()"
   ]
  },
  {
   "cell_type": "code",
   "execution_count": 410,
   "metadata": {},
   "outputs": [
    {
     "data": {
      "text/plain": [
       "(torch.Size([3, 2]), tensor([-0.0219, -0.0071]))"
      ]
     },
     "execution_count": 410,
     "metadata": {},
     "output_type": "execute_result"
    }
   ],
   "source": [
    "data_module_train_dataloader = data_module.train_dataloader()\n",
    "data_module_train_dataloader.dataset.__getitem__(0)[\"sequence\"].shape, data_module_train_dataloader.dataset.__getitem__(0)[\"labels\"]"
   ]
  },
  {
   "cell_type": "code",
   "execution_count": 411,
   "metadata": {},
   "outputs": [
    {
     "name": "stdout",
     "output_type": "stream",
     "text": [
      "torch.Size([64, 3, 2])\n",
      "torch.Size([64, 2])\n"
     ]
    }
   ],
   "source": [
    "# batch size 64, 2 in- and out features\n",
    "for batch in data_module_train_dataloader:\n",
    "    print(batch[\"sequence\"].shape)\n",
    "    print(batch[\"labels\"].shape)\n",
    "    break"
   ]
  },
  {
   "cell_type": "code",
   "execution_count": 412,
   "metadata": {},
   "outputs": [],
   "source": [
    "# turn sequence list into Dataset object\n",
    "train_dataset = PRDataset(train_sequences)"
   ]
  },
  {
   "cell_type": "code",
   "execution_count": 413,
   "metadata": {},
   "outputs": [
    {
     "name": "stdout",
     "output_type": "stream",
     "text": [
      "torch.Size([3, 2])\n",
      "torch.Size([2])\n",
      "tensor([-0.0219, -0.0071])\n"
     ]
    }
   ],
   "source": [
    "for item in train_dataset:\n",
    "    print(item[\"sequence\"].shape)\n",
    "    print(item[\"labels\"].shape)\n",
    "    print(item[\"labels\"])\n",
    "    break"
   ]
  },
  {
   "cell_type": "markdown",
   "metadata": {},
   "source": [
    "## LSTM Model"
   ]
  },
  {
   "cell_type": "code",
   "execution_count": 414,
   "metadata": {},
   "outputs": [],
   "source": [
    "class PRPredictionModel(nn.Module):\n",
    "\n",
    "    # INPUT LAYER (2 features) --> LSTM 128 hidden --> LSTM 128 hidden --> Linear --> OUTPUT (2 features)\n",
    "    def __init__(self, in_features, out_features, n_hidden=128, n_layers=2):\n",
    "        super().__init__()\n",
    "\n",
    "        self.n_hidden = n_hidden\n",
    "\n",
    "        self.lstm = nn.LSTM(\n",
    "            input_size=in_features,\n",
    "            hidden_size=n_hidden,\n",
    "            batch_first=True,\n",
    "            num_layers=n_layers,\n",
    "            dropout=0.2\n",
    "        )\n",
    "\n",
    "        self.regressor = nn.Linear(in_features=n_hidden, out_features=out_features)\n",
    "\n",
    "    def forward(self, x):\n",
    "        # call flatten_parameters function to aggregate all the weight \n",
    "        # tensors into continuous space of GPU memory\n",
    "        self.lstm.flatten_parameters()\n",
    "    \n",
    "        output, (hidden_state, cell_state) = self.lstm(x)\n",
    "        out = hidden_state[-1]\n",
    "\n",
    "        return self.regressor(out)"
   ]
  },
  {
   "cell_type": "markdown",
   "metadata": {},
   "source": [
    "# Training"
   ]
  },
  {
   "cell_type": "code",
   "execution_count": 415,
   "metadata": {},
   "outputs": [
    {
     "name": "stdout",
     "output_type": "stream",
     "text": [
      "torch.Size([64, 3, 2]) torch.Size([64, 2])\n"
     ]
    }
   ],
   "source": [
    "model = PRPredictionModel(2,2)\n",
    "\n",
    "if CUDA:\n",
    "    model.cuda()\n",
    "\n",
    "x_train = 0\n",
    "y_train = 0\n",
    "\n",
    "for batch in data_module_train_dataloader:\n",
    "    x_train = batch[\"sequence\"]\n",
    "    y_train = batch[\"labels\"]\n",
    "    break\n",
    "\n",
    "print(x_train.shape, y_train.shape)"
   ]
  },
  {
   "cell_type": "code",
   "execution_count": 416,
   "metadata": {},
   "outputs": [
    {
     "data": {
      "application/vnd.jupyter.widget-view+json": {
       "model_id": "daac86e6fef9403889cfefde7cd0958b",
       "version_major": 2,
       "version_minor": 0
      },
      "text/plain": [
       "  0%|          | 0/100 [00:00<?, ?it/s]"
      ]
     },
     "metadata": {},
     "output_type": "display_data"
    },
    {
     "name": "stdout",
     "output_type": "stream",
     "text": [
      "EPOCH 0 training loss: 0.002506856806576252\n",
      "EPOCH 1 training loss: 0.002309816423803568\n",
      "EPOCH 2 training loss: 0.0022841913159936666\n",
      "EPOCH 3 training loss: 0.0022598435170948505\n",
      "EPOCH 4 training loss: 0.0022428492084145546\n",
      "EPOCH 5 training loss: 0.0022306113969534636\n",
      "EPOCH 6 training loss: 0.0022189009469002485\n",
      "EPOCH 7 training loss: 0.002209058031439781\n",
      "EPOCH 8 training loss: 0.0022022384218871593\n",
      "EPOCH 9 training loss: 0.002197651658207178\n",
      "EPOCH 10 training loss: 0.0021919740829616785\n",
      "EPOCH 11 training loss: 0.0021867111790925264\n",
      "EPOCH 12 training loss: 0.0021796701475977898\n",
      "EPOCH 13 training loss: 0.0021741478703916073\n",
      "EPOCH 14 training loss: 0.002169060055166483\n",
      "EPOCH 15 training loss: 0.0021628832910209894\n",
      "EPOCH 16 training loss: 0.002156261121854186\n",
      "EPOCH 17 training loss: 0.0021527756471186876\n",
      "EPOCH 18 training loss: 0.0021444917656481266\n",
      "EPOCH 19 training loss: 0.002140686148777604\n",
      "EPOCH 20 training loss: 0.0021356851793825626\n",
      "EPOCH 21 training loss: 0.002129180124029517\n",
      "EPOCH 22 training loss: 0.002119551645591855\n",
      "EPOCH 23 training loss: 0.0021146279759705067\n",
      "EPOCH 24 training loss: 0.0021098321303725243\n",
      "EPOCH 25 training loss: 0.002102118916809559\n",
      "EPOCH 26 training loss: 0.0020950979087501764\n",
      "EPOCH 27 training loss: 0.0020885916892439127\n",
      "EPOCH 28 training loss: 0.002078671706840396\n",
      "EPOCH 29 training loss: 0.002071412280201912\n",
      "EPOCH 30 training loss: 0.0020653700921684504\n",
      "EPOCH 31 training loss: 0.0020559034310281277\n",
      "EPOCH 32 training loss: 0.002049544593319297\n",
      "EPOCH 33 training loss: 0.0020387161057442427\n",
      "EPOCH 34 training loss: 0.002032661810517311\n",
      "EPOCH 35 training loss: 0.0020255399867892265\n",
      "EPOCH 36 training loss: 0.0020192901138216257\n",
      "EPOCH 37 training loss: 0.002009858377277851\n",
      "EPOCH 38 training loss: 0.002000663196668029\n",
      "EPOCH 39 training loss: 0.001991137396544218\n",
      "EPOCH 40 training loss: 0.0019849776290357113\n",
      "EPOCH 41 training loss: 0.0019751321524381638\n",
      "EPOCH 42 training loss: 0.0019653767812997103\n",
      "EPOCH 43 training loss: 0.0019569946452975273\n",
      "EPOCH 44 training loss: 0.0019450867548584938\n",
      "EPOCH 45 training loss: 0.0019422125769779086\n",
      "EPOCH 46 training loss: 0.0019286065362393856\n",
      "EPOCH 47 training loss: 0.001921578194014728\n",
      "EPOCH 48 training loss: 0.0019153296016156673\n",
      "EPOCH 49 training loss: 0.0019032389391213655\n",
      "EPOCH 50 training loss: 0.0018997659208253026\n",
      "EPOCH 51 training loss: 0.0018874149536713958\n",
      "EPOCH 52 training loss: 0.0018776197684928775\n",
      "EPOCH 53 training loss: 0.001873636618256569\n",
      "EPOCH 54 training loss: 0.001864248770289123\n",
      "EPOCH 55 training loss: 0.0018572210101410747\n",
      "EPOCH 56 training loss: 0.0018486088374629617\n",
      "EPOCH 57 training loss: 0.0018412986537441611\n",
      "EPOCH 58 training loss: 0.001836493262089789\n",
      "EPOCH 59 training loss: 0.001830265042372048\n",
      "EPOCH 60 training loss: 0.001821640064008534\n",
      "EPOCH 61 training loss: 0.0018139355815947056\n",
      "EPOCH 62 training loss: 0.001804824685677886\n",
      "EPOCH 63 training loss: 0.001799080055207014\n",
      "EPOCH 64 training loss: 0.0017911933828145266\n",
      "EPOCH 65 training loss: 0.0017835414037108421\n",
      "EPOCH 66 training loss: 0.0017746594967320561\n",
      "EPOCH 67 training loss: 0.001770110335201025\n",
      "EPOCH 68 training loss: 0.0017615610267966986\n",
      "EPOCH 69 training loss: 0.0017503307899460196\n",
      "EPOCH 70 training loss: 0.0017475730273872614\n",
      "EPOCH 71 training loss: 0.0017390482826158404\n",
      "EPOCH 72 training loss: 0.0017306110821664333\n",
      "EPOCH 73 training loss: 0.0017303625354543328\n",
      "EPOCH 74 training loss: 0.0017171315848827362\n",
      "EPOCH 75 training loss: 0.001716695143841207\n",
      "EPOCH 76 training loss: 0.0017068227753043175\n",
      "EPOCH 77 training loss: 0.0017014758195728064\n",
      "EPOCH 78 training loss: 0.001694546197541058\n",
      "EPOCH 79 training loss: 0.0016851068940013647\n",
      "EPOCH 80 training loss: 0.0016840534517541528\n",
      "EPOCH 81 training loss: 0.0016772676026448607\n",
      "EPOCH 82 training loss: 0.0016742206644266844\n",
      "EPOCH 83 training loss: 0.0016655817162245512\n",
      "EPOCH 84 training loss: 0.0016585459234192967\n",
      "EPOCH 85 training loss: 0.0016531270230188966\n",
      "EPOCH 86 training loss: 0.0016508912667632103\n",
      "EPOCH 87 training loss: 0.0016443729400634766\n",
      "EPOCH 88 training loss: 0.0016396675491705537\n",
      "EPOCH 89 training loss: 0.0016344754258170724\n",
      "EPOCH 90 training loss: 0.0016281799180433154\n",
      "EPOCH 91 training loss: 0.001620789640583098\n",
      "EPOCH 92 training loss: 0.0016216570511460304\n",
      "EPOCH 93 training loss: 0.0016136441845446825\n",
      "EPOCH 94 training loss: 0.0016088231932371855\n",
      "EPOCH 95 training loss: 0.0016049465630203485\n",
      "EPOCH 96 training loss: 0.0015988736413419247\n",
      "EPOCH 97 training loss: 0.0015952091198414564\n",
      "EPOCH 98 training loss: 0.0015929173678159714\n",
      "EPOCH 99 training loss: 0.001585202757269144\n"
     ]
    }
   ],
   "source": [
    "criterion = nn.MSELoss()\n",
    "optimizer = optim.Adam(model.parameters(), lr=0.001)\n",
    "losses_epoch = []\n",
    "losses_all_batches = []\n",
    "\n",
    "n_epochs = 100\n",
    "\n",
    "for epoch in tqdm(range(n_epochs)):\n",
    "\n",
    "    i = 0\n",
    "    losses_batch = []\n",
    "\n",
    "    for batch in data_module_train_dataloader:\n",
    "        x_train = batch[\"sequence\"]\n",
    "        y_train = batch[\"labels\"]\n",
    "\n",
    "        if CUDA: \n",
    "            x_train = batch[\"sequence\"].cuda()\n",
    "            y_train = batch[\"labels\"].cuda()\n",
    "        \n",
    "        # Predict on forward pass \n",
    "        y_pred = model.forward(x_train)\n",
    "        if CUDA: \n",
    "            y_pred = y_pred.cuda()\n",
    "        # Calculate loss/error\n",
    "        loss = criterion(y_pred, y_train)\n",
    "        losses_batch.append(loss)\n",
    "\n",
    "        # Backpropagation\n",
    "        optimizer.zero_grad()\n",
    "        loss.backward()\n",
    "        optimizer.step()\n",
    "    \n",
    "    losses_all_batches.append((epoch,losses_batch))\n",
    "\n",
    "    # loss per epoch is average over all batches\n",
    "    sum = 0\n",
    "    for l in losses_batch:\n",
    "        sum += l\n",
    "    \n",
    "    mean = sum/len(losses_batch)\n",
    "    losses_epoch.append(mean)\n",
    "    print(f\"EPOCH {epoch} training loss: {mean}\")"
   ]
  },
  {
   "cell_type": "markdown",
   "metadata": {},
   "source": [
    "# Training results"
   ]
  },
  {
   "cell_type": "code",
   "execution_count": 417,
   "metadata": {},
   "outputs": [
    {
     "data": {
      "image/png": "[encoded data removed]",
      "text/plain": [
       "<Figure size 1440x720 with 1 Axes>"
      ]
     },
     "metadata": {
      "needs_background": "light"
     },
     "output_type": "display_data"
    }
   ],
   "source": [
    "plt.figure(figsize=(20, 10))\n",
    "plt.plot(range(n_epochs), losses_epoch)\n",
    "plt.title(\"Training loss - Epochs\")\n",
    "plt.xlabel(\"epochs\")\n",
    "plt.ylabel(\"average loss\")\n",
    "plt.show()"
   ]
  },
  {
   "cell_type": "code",
   "execution_count": 418,
   "metadata": {},
   "outputs": [],
   "source": [
    "modelname = 'model_states/PR_LSTM_'+str(SEQUENCE_LENGTH)\n",
    "torch.save(model.state_dict(), modelname)"
   ]
  },
  {
   "cell_type": "code",
   "execution_count": 419,
   "metadata": {},
   "outputs": [
    {
     "data": {
      "text/plain": [
       "PRPredictionModel(\n",
       "  (lstm): LSTM(2, 128, num_layers=2, batch_first=True, dropout=0.2)\n",
       "  (regressor): Linear(in_features=128, out_features=2, bias=True)\n",
       ")"
      ]
     },
     "execution_count": 419,
     "metadata": {},
     "output_type": "execute_result"
    }
   ],
   "source": [
    "loaded_model = PRPredictionModel(in_features=2, out_features=2)\n",
    "loaded_model.load_state_dict(torch.load(modelname))\n",
    "if CUDA: \n",
    "    loaded_model = loaded_model.cuda()\n",
    "loaded_model.eval()"
   ]
  },
  {
   "cell_type": "markdown",
   "metadata": {},
   "source": [
    "# Testing"
   ]
  },
  {
   "cell_type": "code",
   "execution_count": 420,
   "metadata": {},
   "outputs": [
    {
     "name": "stdout",
     "output_type": "stream",
     "text": [
      "torch.Size([1, 3, 2]) torch.Size([1, 2])\n"
     ]
    }
   ],
   "source": [
    "x_test = 0\n",
    "y_test = 0\n",
    "\n",
    "for batch in data_module.test_dataloader():\n",
    "    x_test = batch[\"sequence\"]\n",
    "    y_test = batch[\"labels\"]\n",
    "    break\n",
    "\n",
    "if CUDA:\n",
    "    x_test = x_test.cuda()\n",
    "    y_test = y_test.cuda()\n",
    "\n",
    "print(x_test.shape, y_test.shape)"
   ]
  },
  {
   "cell_type": "code",
   "execution_count": 421,
   "metadata": {},
   "outputs": [
    {
     "name": "stdout",
     "output_type": "stream",
     "text": [
      "prediction:\ttensor([[-0.0022,  0.0368]], device='cuda:0')\n",
      "real:\t\ttensor([[-0.0488,  0.0097]], device='cuda:0')\n",
      "loss: 0.0014518874231725931\n"
     ]
    }
   ],
   "source": [
    "with torch.no_grad():\n",
    "    y_pred = loaded_model(x_test)\n",
    "    loss = criterion(y_pred, y_test)\n",
    "    print(f'prediction:\\t{y_pred}\\nreal:\\t\\t{y_test}')\n",
    "    print(\"loss:\", loss.item())"
   ]
  },
  {
   "cell_type": "code",
   "execution_count": 422,
   "metadata": {},
   "outputs": [
    {
     "data": {
      "application/vnd.jupyter.widget-view+json": {
       "model_id": "a88a77ae6919452bb48547f25eea8d8c",
       "version_major": 2,
       "version_minor": 0
      },
      "text/plain": [
       "  0%|          | 0/42876 [00:00<?, ?it/s]"
      ]
     },
     "metadata": {},
     "output_type": "display_data"
    }
   ],
   "source": [
    "predictions = []\n",
    "labels = []\n",
    "\n",
    "with torch.no_grad():\n",
    "    for batch in tqdm(data_module.test_dataloader()):\n",
    "        x_test = batch[\"sequence\"]\n",
    "        y_test = batch[\"labels\"]\n",
    "\n",
    "        if CUDA:\n",
    "            x_test = x_test.cuda()\n",
    "            y_test = y_test.cuda()\n",
    "\n",
    "        output = loaded_model(x_test)\n",
    "        predictions.append(output.detach().to('cpu').numpy().flatten())\n",
    "        labels.append(y_test.detach().to('cpu').numpy().flatten())"
   ]
  },
  {
   "cell_type": "code",
   "execution_count": 423,
   "metadata": {},
   "outputs": [],
   "source": [
    "# Predictions[0] = np array object\n",
    "# Predictions[0][0] = pitch value\n",
    "# Predictions[0][1] = roll value\n",
    "\n",
    "pitch_predictions = []\n",
    "roll_predictions = []\n",
    "\n",
    "pitch_label = []\n",
    "roll_label = []\n",
    "\n",
    "for i in range(len(predictions)):\n",
    "    pitch_predictions.append(predictions[i][0])\n",
    "    roll_predictions.append(predictions[i][1])\n",
    "    pitch_label.append(labels[i][0])\n",
    "    roll_label.append(labels[i][1])"
   ]
  },
  {
   "cell_type": "markdown",
   "metadata": {},
   "source": [
    "### Pitch results"
   ]
  },
  {
   "cell_type": "code",
   "execution_count": 424,
   "metadata": {},
   "outputs": [
    {
     "data": {
      "text/plain": [
       "<matplotlib.legend.Legend at 0x1f5be444a60>"
      ]
     },
     "execution_count": 424,
     "metadata": {},
     "output_type": "execute_result"
    },
    {
     "data": {
      "image/png": "[encoded data removed]",
      "text/plain": [
       "<Figure size 1440x720 with 1 Axes>"
      ]
     },
     "metadata": {
      "needs_background": "light"
     },
     "output_type": "display_data"
    }
   ],
   "source": [
    "plt.figure(figsize=(20, 10))\n",
    "plt.plot(pitch_predictions, label=\"real\")\n",
    "plt.plot(pitch_label, label=\"predicted\")\n",
    "plt.title(\"Pitch results\")\n",
    "plt.xlabel(\"Sample\")\n",
    "plt.ylabel(\"Normalized Pitch\")\n",
    "plt.legend()"
   ]
  },
  {
   "cell_type": "code",
   "execution_count": 425,
   "metadata": {},
   "outputs": [
    {
     "name": "stdout",
     "output_type": "stream",
     "text": [
      "Real prediction\n",
      "   MSE: 0.0023414378731940774\n",
      "   RMSE: 0.04838840639237954\n",
      "   RMSE denorm: 4.354956575314162\n",
      "Zero prediction\n",
      "   MSE 0: 0.005360464071201772\n",
      "   RMSE 0: 0.07321519016708057\n",
      "   RMSE 0 denorm: 6.589367115037248\n",
      "Improvement on zero prediction:\n",
      "   MSE delta%: 228.94 %\n",
      "   RMSE delta%: 151.31 %\n"
     ]
    }
   ],
   "source": [
    "n = len(pitch_predictions)\n",
    "loss = 0\n",
    "loss0 = 0\n",
    "\n",
    "for i in range(n):\n",
    "    loss += (pitch_label[i]-pitch_predictions[i])**2\n",
    "    loss0 += (pitch_label[i]-0)**2\n",
    "\n",
    "mse = loss/n\n",
    "rmse = math.sqrt(loss/n)\n",
    "mse0 = loss0/n\n",
    "rmse0 = math.sqrt(loss0/n)\n",
    "\n",
    "print(\"Real prediction\")\n",
    "print(\"   MSE:\", mse)\n",
    "print(\"   RMSE:\", rmse)\n",
    "print(\"   RMSE denorm:\", denorm_pr(rmse))\n",
    "print(\"Zero prediction\")\n",
    "print(\"   MSE 0:\", mse0)\n",
    "print(\"   RMSE 0:\", rmse0)\n",
    "print(\"   RMSE 0 denorm:\", denorm_pr(rmse0))\n",
    "print(\"Improvement on zero prediction:\")\n",
    "print(\"   MSE delta%:\", round(mse0/mse*100, 2), \"%\")\n",
    "print(\"   RMSE delta%:\", round(rmse0/rmse*100, 2), \"%\")"
   ]
  },
  {
   "cell_type": "markdown",
   "metadata": {},
   "source": [
    "### Roll results"
   ]
  },
  {
   "cell_type": "code",
   "execution_count": 426,
   "metadata": {},
   "outputs": [
    {
     "data": {
      "text/plain": [
       "<matplotlib.legend.Legend at 0x1f5d5504ac0>"
      ]
     },
     "execution_count": 426,
     "metadata": {},
     "output_type": "execute_result"
    },
    {
     "data": {
      "image/png": "[encoded data removed]",
      "text/plain": [
       "<Figure size 1440x720 with 1 Axes>"
      ]
     },
     "metadata": {
      "needs_background": "light"
     },
     "output_type": "display_data"
    }
   ],
   "source": [
    "plt.figure(figsize=(20, 10))\n",
    "plt.plot(roll_predictions, label=\"real\")\n",
    "plt.plot(roll_label, label=\"predicted\")\n",
    "plt.title(\"Roll results\")\n",
    "plt.xlabel(\"Sample\")\n",
    "plt.ylabel(\"Normalized Roll\")\n",
    "plt.legend()"
   ]
  },
  {
   "cell_type": "code",
   "execution_count": 427,
   "metadata": {},
   "outputs": [
    {
     "name": "stdout",
     "output_type": "stream",
     "text": [
      "Real prediction\n",
      "   MSE: 0.0014488642568414635\n",
      "   RMSE: 0.038063949569657946\n",
      "   RMSE denorm: 3.425755461269219\n",
      "Zero prediction\n",
      "   MSE 0: 0.006113523214884462\n",
      "   RMSE 0: 0.07818902234255434\n",
      "   RMSE 0 denorm: 7.0370120108298835\n",
      "Improvement on zero prediction:\n",
      "   MSE delta%: 421.95 %\n",
      "   RMSE delta%: 205.41 %\n"
     ]
    }
   ],
   "source": [
    "n = len(roll_predictions)\n",
    "loss = 0\n",
    "loss0 = 0\n",
    "\n",
    "for i in range(n):\n",
    "    loss += (roll_label[i]-roll_predictions[i])**2\n",
    "    loss0 += (roll_label[i]-0)**2\n",
    "\n",
    "mse = loss/n\n",
    "rmse = math.sqrt(loss/n)\n",
    "mse0 = loss0/n\n",
    "rmse0 = math.sqrt(loss0/n)\n",
    "\n",
    "print(\"Real prediction\")\n",
    "print(\"   MSE:\", mse)\n",
    "print(\"   RMSE:\", rmse)\n",
    "print(\"   RMSE denorm:\", denorm_pr(rmse))\n",
    "print(\"Zero prediction\")\n",
    "print(\"   MSE 0:\", mse0)\n",
    "print(\"   RMSE 0:\", rmse0)\n",
    "print(\"   RMSE 0 denorm:\", denorm_pr(rmse0))\n",
    "print(\"Improvement on zero prediction:\")\n",
    "print(\"   MSE delta%:\", round(mse0/mse*100, 2), \"%\")\n",
    "print(\"   RMSE delta%:\", round(rmse0/rmse*100, 2), \"%\")"
   ]
  }
 ],
 "metadata": {
  "interpreter": {
   "hash": "4c1b2a501f02df7b26d92d459eb05316e48170af73a43fcdd672df666b3b816d"
  },
  "kernelspec": {
   "display_name": "Python 3.8.12 64-bit ('Thesis': conda)",
   "language": "python",
   "name": "python3"
  },
  "language_info": {
   "codemirror_mode": {
    "name": "ipython",
    "version": 3
   },
   "file_extension": ".py",
   "mimetype": "text/x-python",
   "name": "python",
   "nbconvert_exporter": "python",
   "pygments_lexer": "ipython3",
   "version": "3.8.12"
  },
  "orig_nbformat": 4
 },
 "nbformat": 4,
 "nbformat_minor": 2
}
