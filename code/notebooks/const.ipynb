{
 "cells": [
  {
   "cell_type": "code",
   "execution_count": 3,
   "metadata": {},
   "outputs": [],
   "source": [
    "import json\n",
    "highest_p = 0\n",
    "highest_r = 0\n",
    "labels = [0,1,2,5,10,15,20,25,30]\n",
    "for episodeNr in range(4,530):\n",
    "    for labelNr in labels:\n",
    "        try:\n",
    "            # Opening JSON file\n",
    "            f = open('3dmodel/test_4_episode_'+str(episodeNr)+'/labels_'+str(labelNr)+'.json')\n",
    "            \n",
    "            # returns JSON object as\n",
    "            # a dictionary\n",
    "            data = json.load(f)\n",
    "            \n",
    "            # Iterating through the json\n",
    "            # list\n",
    "            \n",
    "            for i in data:\n",
    "                p = abs(data[i][0])\n",
    "                r = abs(data[i][1])\n",
    "                if(p>highest_p):\n",
    "                    highest_p = p\n",
    "                if(r>highest_r):\n",
    "                    highest_r = r\n",
    "            # Closing file\n",
    "            f.close()\n",
    "        except:\n",
    "            continue\n",
    "print(highest_p, highest_r) "
   ]
  }
 ],
 "metadata": {
  "interpreter": {
   "hash": "47c553f3c4ad3d16555a4f15b2347200e4c6fa82d2b9f3e1346a9a738aa77096"
  },
  "kernelspec": {
   "display_name": "Python 3.8.12 64-bit ('ML env': conda)",
   "language": "python",
   "name": "python3"
  },
  "language_info": {
   "codemirror_mode": {
    "name": "ipython",
    "version": 3
   },
   "file_extension": ".py",
   "mimetype": "text/x-python",
   "name": "python",
   "nbconvert_exporter": "python",
   "pygments_lexer": "ipython3",
   "version": "3.8.12"
  },
  "orig_nbformat": 4
 },
 "nbformat": 4,
 "nbformat_minor": 2
}
