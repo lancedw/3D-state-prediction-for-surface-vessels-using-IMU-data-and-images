{
 "cells": [
  {
   "cell_type": "markdown",
   "metadata": {},
   "source": [
    "# Pitch & Roll prediction w/Images"
   ]
  },
  {
   "cell_type": "code",
   "execution_count": 8,
   "metadata": {},
   "outputs": [],
   "source": [
    "import gc\n",
    "import os\n",
    "import cv2\n",
    "import json\n",
    "import math\n",
    "import pickle\n",
    "import random\n",
    "import platform\n",
    "import numpy as np\n",
    "import pandas as pd\n",
    "import multiprocessing\n",
    "from tqdm.notebook import tqdm\n",
    "import matplotlib.pyplot as plt\n",
    "\n",
    "import torch\n",
    "import torch.nn as nn\n",
    "import torch.optim as optim\n",
    "import torch.nn.functional as F\n",
    "import torch.autograd as autograd\n",
    "from torch.utils.data import Dataset, DataLoader\n",
    "\n",
    "import pytorch_lightning as pl"
   ]
  },
  {
   "cell_type": "code",
   "execution_count": 9,
   "metadata": {},
   "outputs": [
    {
     "name": "stdout",
     "output_type": "stream",
     "text": [
      "1.11.0\n",
      "1.6.1\n"
     ]
    }
   ],
   "source": [
    "print(torch.__version__)\n",
    "print(pl.__version__)"
   ]
  },
  {
   "cell_type": "code",
   "execution_count": 10,
   "metadata": {},
   "outputs": [
    {
     "name": "stdout",
     "output_type": "stream",
     "text": [
      "device: cuda\n",
      "CPU count: 16\n",
      "Platform: windows\n",
      "number of workers: 0\n"
     ]
    }
   ],
   "source": [
    "device = torch.device('cuda' if torch.cuda.is_available() else 'cpu')\n",
    "print(\"device:\", device)\n",
    "cpu_count = multiprocessing.cpu_count()\n",
    "print('CPU count:', cpu_count)\n",
    "platform_os = \"windows\" if platform.system() == \"Windows\" else \"linux\"\n",
    "print(\"Platform:\", platform_os)\n",
    "\n",
    "# Pytorch Dataloader can't handle n_workers > 0 on windows due to bugs\n",
    "N_WORKERS = 0 if platform_os==\"windows\" else cpu_count\n",
    "print(f\"number of workers: {N_WORKERS}\")"
   ]
  },
  {
   "cell_type": "markdown",
   "metadata": {},
   "source": [
    "# Constants"
   ]
  },
  {
   "cell_type": "code",
   "execution_count": 11,
   "metadata": {},
   "outputs": [],
   "source": [
    "# change to appropriate location\n",
    "TRAIN_FOLDER = \"../3dmodel/test_4_episode_\"\n",
    "MODEL_NAME = \"CNN_linear_img-to-PR\"\n",
    "MODEL_STATE_FOLDER = f\"model_states/{MODEL_NAME}\"\n",
    "RESULT_FOLDER = f\"../results/{MODEL_NAME}\"\n",
    "TRAIN_RESULT_FOLDER = f\"training_results/{MODEL_NAME}\""
   ]
  },
  {
   "cell_type": "code",
   "execution_count": 12,
   "metadata": {},
   "outputs": [],
   "source": [
    "if not os.path.exists(MODEL_STATE_FOLDER):\n",
    "    os.mkdir(MODEL_STATE_FOLDER)\n",
    "if not os.path.exists(TRAIN_RESULT_FOLDER):\n",
    "    os.mkdir(TRAIN_RESULT_FOLDER)\n",
    "if not os.path.exists(RESULT_FOLDER):\n",
    "    os.mkdir(RESULT_FOLDER)"
   ]
  },
  {
   "cell_type": "code",
   "execution_count": 13,
   "metadata": {},
   "outputs": [],
   "source": [
    "FRAMES_IN = 10\n",
    "FRAMES_OUT = 60\n",
    "\n",
    "N_EPISODES = 540\n",
    "FRAMES_PER_EPISODE = 400\n",
    "\n",
    "TRAIN_SIZE = 0.8\n",
    "NUM_EPOCHS = 50\n",
    "BATCH_SIZE = 64\n",
    "LEARNING_RATE = 0.001\n",
    "\n",
    "CUDA = device.type == 'cuda'"
   ]
  },
  {
   "cell_type": "markdown",
   "metadata": {},
   "source": [
    "# Load data from episodes"
   ]
  },
  {
   "cell_type": "code",
   "execution_count": 14,
   "metadata": {},
   "outputs": [
    {
     "data": {
      "text/html": [
       "<div>\n",
       "<style scoped>\n",
       "    .dataframe tbody tr th:only-of-type {\n",
       "        vertical-align: middle;\n",
       "    }\n",
       "\n",
       "    .dataframe tbody tr th {\n",
       "        vertical-align: top;\n",
       "    }\n",
       "\n",
       "    .dataframe thead th {\n",
       "        text-align: right;\n",
       "    }\n",
       "</style>\n",
       "<table border=\"1\" class=\"dataframe\">\n",
       "  <thead>\n",
       "    <tr style=\"text-align: right;\">\n",
       "      <th></th>\n",
       "      <th>pitch</th>\n",
       "      <th>roll</th>\n",
       "    </tr>\n",
       "  </thead>\n",
       "  <tbody>\n",
       "    <tr>\n",
       "      <th>0</th>\n",
       "      <td>15.915869</td>\n",
       "      <td>2.358416</td>\n",
       "    </tr>\n",
       "    <tr>\n",
       "      <th>1</th>\n",
       "      <td>14.295925</td>\n",
       "      <td>1.700391</td>\n",
       "    </tr>\n",
       "    <tr>\n",
       "      <th>2</th>\n",
       "      <td>6.213590</td>\n",
       "      <td>1.611325</td>\n",
       "    </tr>\n",
       "    <tr>\n",
       "      <th>3</th>\n",
       "      <td>1.235337</td>\n",
       "      <td>6.175461</td>\n",
       "    </tr>\n",
       "    <tr>\n",
       "      <th>4</th>\n",
       "      <td>1.341678</td>\n",
       "      <td>3.695468</td>\n",
       "    </tr>\n",
       "  </tbody>\n",
       "</table>\n",
       "</div>"
      ],
      "text/plain": [
       "       pitch      roll\n",
       "0  15.915869  2.358416\n",
       "1  14.295925  1.700391\n",
       "2   6.213590  1.611325\n",
       "3   1.235337  6.175461\n",
       "4   1.341678  3.695468"
      ]
     },
     "execution_count": 14,
     "metadata": {},
     "output_type": "execute_result"
    }
   ],
   "source": [
    "# view first episode 's datapoints\n",
    "filename = TRAIN_FOLDER + \"1/\"\n",
    "data = []\n",
    "labels = json.load(open(filename+\"labels_0.json\"))\n",
    "ep1 = pd.DataFrame(labels)\n",
    "ep1 = ep1.transpose()\n",
    "ep1.rename(columns = {0:'pitch', 1:'roll'}, inplace=True)\n",
    "ep1.head(5)"
   ]
  },
  {
   "cell_type": "code",
   "execution_count": 15,
   "metadata": {},
   "outputs": [
    {
     "data": {
      "text/html": [
       "<div>\n",
       "<style scoped>\n",
       "    .dataframe tbody tr th:only-of-type {\n",
       "        vertical-align: middle;\n",
       "    }\n",
       "\n",
       "    .dataframe tbody tr th {\n",
       "        vertical-align: top;\n",
       "    }\n",
       "\n",
       "    .dataframe thead th {\n",
       "        text-align: right;\n",
       "    }\n",
       "</style>\n",
       "<table border=\"1\" class=\"dataframe\">\n",
       "  <thead>\n",
       "    <tr style=\"text-align: right;\">\n",
       "      <th></th>\n",
       "      <th>pitch</th>\n",
       "      <th>roll</th>\n",
       "    </tr>\n",
       "  </thead>\n",
       "  <tbody>\n",
       "    <tr>\n",
       "      <th>0</th>\n",
       "      <td>15.915869</td>\n",
       "      <td>2.358416</td>\n",
       "    </tr>\n",
       "    <tr>\n",
       "      <th>1</th>\n",
       "      <td>14.295925</td>\n",
       "      <td>1.700391</td>\n",
       "    </tr>\n",
       "    <tr>\n",
       "      <th>2</th>\n",
       "      <td>6.213590</td>\n",
       "      <td>1.611325</td>\n",
       "    </tr>\n",
       "    <tr>\n",
       "      <th>3</th>\n",
       "      <td>1.235337</td>\n",
       "      <td>6.175461</td>\n",
       "    </tr>\n",
       "    <tr>\n",
       "      <th>4</th>\n",
       "      <td>1.341678</td>\n",
       "      <td>3.695468</td>\n",
       "    </tr>\n",
       "  </tbody>\n",
       "</table>\n",
       "</div>"
      ],
      "text/plain": [
       "       pitch      roll\n",
       "0  15.915869  2.358416\n",
       "1  14.295925  1.700391\n",
       "2   6.213590  1.611325\n",
       "3   1.235337  6.175461\n",
       "4   1.341678  3.695468"
      ]
     },
     "execution_count": 15,
     "metadata": {},
     "output_type": "execute_result"
    }
   ],
   "source": [
    "img_tensors_array = []\n",
    "filename = TRAIN_FOLDER + \"1/\"\n",
    "for index, row in ep1.iterrows():\n",
    "    img = cv2.imread(filename + str(index) + \".png\")\n",
    "    img_tensors_array.append(torch.Tensor(img))\n",
    "ep1.head(5)"
   ]
  },
  {
   "cell_type": "code",
   "execution_count": 16,
   "metadata": {},
   "outputs": [
    {
     "data": {
      "text/plain": [
       "(400, torch.Size([54, 96, 3]))"
      ]
     },
     "execution_count": 16,
     "metadata": {},
     "output_type": "execute_result"
    }
   ],
   "source": [
    "len(img_tensors_array), img_tensors_array[0].shape"
   ]
  },
  {
   "cell_type": "code",
   "execution_count": 17,
   "metadata": {},
   "outputs": [],
   "source": [
    "# Function to normalize pixels\n",
    "def norm_pixel(x):\n",
    "    x = x.astype('float32')\n",
    "    return (x*2)/255-1\n",
    "\n",
    "# Function to denormalize pixels\n",
    "def denorm_pixel(x):\n",
    "    x = x.astype('float32')\n",
    "    return (x+1)*255/2"
   ]
  },
  {
   "cell_type": "code",
   "execution_count": 18,
   "metadata": {},
   "outputs": [],
   "source": [
    "# Function to normalize pitch and roll angles\n",
    "def norm_pr(x, min = -90.0, max = 90.0):\n",
    "    return ((x - min) * 2) / (max - min) - 1\n",
    "\n",
    "# Function to denormalize pitch and roll angles\n",
    "def denorm_pr(x, min = -90.0, max = 90.0):\n",
    "    return ((x + 1) * (max - min))/2 + min"
   ]
  },
  {
   "cell_type": "code",
   "execution_count": 19,
   "metadata": {},
   "outputs": [
    {
     "data": {
      "application/vnd.jupyter.widget-view+json": {
       "model_id": "24cfa493b8c94e86b0e6a707e96af94d",
       "version_major": 2,
       "version_minor": 0
      },
      "text/plain": [
       "  0%|          | 0/540 [00:00<?, ?it/s]"
      ]
     },
     "metadata": {},
     "output_type": "display_data"
    },
    {
     "data": {
      "text/plain": [
       "(216000, torch.Size([54, 96, 3]))"
      ]
     },
     "execution_count": 19,
     "metadata": {},
     "output_type": "execute_result"
    }
   ],
   "source": [
    "# load all data\n",
    "episodes_data = []\n",
    "img_tensors_array = []\n",
    "\n",
    "for ep in tqdm(range(1, N_EPISODES+1)):\n",
    "    folder = TRAIN_FOLDER + str(ep) + \"/\"\n",
    "    filename = folder + \"labels_0.json\"\n",
    "    labels = json.load(open(filename))\n",
    "    for i in labels:\n",
    "        # load image, normalize and convert to tensor\n",
    "        img = cv2.imread(folder + str(i) + \".png\")\n",
    "        img = norm_pixel(img)\n",
    "        img_tensors_array.append(torch.Tensor(img))\n",
    "\n",
    "        # pitch and roll is read with labels[i] as [pitch, roll]\n",
    "        episodes_data.append(labels[i])\n",
    "\n",
    "# verify that 216.000 images were loaded\n",
    "len(img_tensors_array), img_tensors_array[0].shape"
   ]
  },
  {
   "cell_type": "code",
   "execution_count": 65,
   "metadata": {},
   "outputs": [
    {
     "name": "stdout",
     "output_type": "stream",
     "text": [
      "(216000, 2)\n"
     ]
    },
    {
     "data": {
      "text/html": [
       "<div>\n",
       "<style scoped>\n",
       "    .dataframe tbody tr th:only-of-type {\n",
       "        vertical-align: middle;\n",
       "    }\n",
       "\n",
       "    .dataframe tbody tr th {\n",
       "        vertical-align: top;\n",
       "    }\n",
       "\n",
       "    .dataframe thead th {\n",
       "        text-align: right;\n",
       "    }\n",
       "</style>\n",
       "<table border=\"1\" class=\"dataframe\">\n",
       "  <thead>\n",
       "    <tr style=\"text-align: right;\">\n",
       "      <th></th>\n",
       "      <th>pitch</th>\n",
       "      <th>roll</th>\n",
       "    </tr>\n",
       "  </thead>\n",
       "  <tbody>\n",
       "    <tr>\n",
       "      <th>0</th>\n",
       "      <td>0.176843</td>\n",
       "      <td>0.026205</td>\n",
       "    </tr>\n",
       "    <tr>\n",
       "      <th>1</th>\n",
       "      <td>0.158844</td>\n",
       "      <td>0.018893</td>\n",
       "    </tr>\n",
       "    <tr>\n",
       "      <th>2</th>\n",
       "      <td>0.069040</td>\n",
       "      <td>0.017904</td>\n",
       "    </tr>\n",
       "    <tr>\n",
       "      <th>3</th>\n",
       "      <td>0.013726</td>\n",
       "      <td>0.068616</td>\n",
       "    </tr>\n",
       "    <tr>\n",
       "      <th>4</th>\n",
       "      <td>0.014908</td>\n",
       "      <td>0.041061</td>\n",
       "    </tr>\n",
       "  </tbody>\n",
       "</table>\n",
       "</div>"
      ],
      "text/plain": [
       "      pitch      roll\n",
       "0  0.176843  0.026205\n",
       "1  0.158844  0.018893\n",
       "2  0.069040  0.017904\n",
       "3  0.013726  0.068616\n",
       "4  0.014908  0.041061"
      ]
     },
     "execution_count": 65,
     "metadata": {},
     "output_type": "execute_result"
    }
   ],
   "source": [
    "# build dataframe with pitch and roll, cast as float and normalize\n",
    "p_r_df = pd.DataFrame(episodes_data)\n",
    "p_r_df.rename(columns = {0:'pitch', 1:'roll'}, inplace=True)\n",
    "p_r_df = p_r_df.astype({\"pitch\": float, \"roll\": float})\n",
    "p_r_df['pitch'] = p_r_df['pitch'].apply(lambda x : norm_pr(x))\n",
    "p_r_df['roll'] = p_r_df['roll'].apply(lambda x : norm_pr(x))\n",
    "print(p_r_df.shape)\n",
    "p_r_df.head(5)"
   ]
  },
  {
   "cell_type": "code",
   "execution_count": 66,
   "metadata": {},
   "outputs": [],
   "source": [
    "# tranform the array of image tensors into one tensor of shape: (samples, height, width, channels)\n",
    "img_tensor = torch.stack(img_tensors_array)\n",
    "img_tensor_array = None # free this memory\n",
    "img_tensor.shape"
   ]
  },
  {
   "cell_type": "code",
   "execution_count": 22,
   "metadata": {},
   "outputs": [
    {
     "data": {
      "text/plain": [
       "torch.Size([216000, 3, 54, 96])"
      ]
     },
     "execution_count": 22,
     "metadata": {},
     "output_type": "execute_result"
    }
   ],
   "source": [
    "# Permute from (n, h, w, c) to (n, c, h, w) format for pytorch CNN\n",
    "img_tensor = img_tensor.permute(0,3,1,2)\n",
    "img_tensor.shape"
   ]
  },
  {
   "cell_type": "code",
   "execution_count": 23,
   "metadata": {},
   "outputs": [
    {
     "data": {
      "text/plain": [
       "18"
      ]
     },
     "execution_count": 23,
     "metadata": {},
     "output_type": "execute_result"
    }
   ],
   "source": [
    "# clear memory\n",
    "gc.collect()"
   ]
  },
  {
   "cell_type": "markdown",
   "metadata": {},
   "source": [
    "# Create input and output sequences"
   ]
  },
  {
   "cell_type": "code",
   "execution_count": 24,
   "metadata": {},
   "outputs": [],
   "source": [
    "# function to create sequences with one target column\n",
    "def create_sequences(\n",
    "        input_data: pd.DataFrame, \n",
    "        input_images,\n",
    "        input_feature_columns,\n",
    "        output_target_columns, \n",
    "        input_sequence_length=FRAMES_IN, \n",
    "        output_sequence_length=FRAMES_OUT,  \n",
    "        episode_length = FRAMES_PER_EPISODE, \n",
    "        n_episodes = N_EPISODES\n",
    "    ):\n",
    "    sequences= []\n",
    "\n",
    "    # make sequences per episode, one sequence can only hold data of one and the same episode!\n",
    "    for n in tqdm(range(n_episodes)):\n",
    "\n",
    "        for l in range(episode_length-output_sequence_length-input_sequence_length+1):\n",
    "            \n",
    "            i = l+(n*episode_length)\n",
    "\n",
    "            # grab image input tensors from list with img_tensors\n",
    "            sequence = input_images[i:i+input_sequence_length]\n",
    "\n",
    "            # grab pr output sequence from dataframe\n",
    "            target_position = i + input_sequence_length\n",
    "            target = input_data.iloc[target_position:target_position+output_sequence_length].transpose()\n",
    "\n",
    "            sequences.append((sequence, target))\n",
    "\n",
    "    return sequences"
   ]
  },
  {
   "cell_type": "code",
   "execution_count": 25,
   "metadata": {},
   "outputs": [
    {
     "data": {
      "application/vnd.jupyter.widget-view+json": {
       "model_id": "4019d99fcb564fc2a51bcdcbf653d194",
       "version_major": 2,
       "version_minor": 0
      },
      "text/plain": [
       "  0%|          | 0/140 [00:00<?, ?it/s]"
      ]
     },
     "metadata": {},
     "output_type": "display_data"
    }
   ],
   "source": [
    "# use images to predict pitch and roll\n",
    "input_features = []\n",
    "output_features = [\"pitch\", \"roll\"]\n",
    "all_sequences = create_sequences(p_r_df, img_tensor, input_features, output_features)"
   ]
  },
  {
   "cell_type": "code",
   "execution_count": 26,
   "metadata": {},
   "outputs": [
    {
     "data": {
      "text/plain": [
       "(46340, torch.Size([10, 3, 54, 96]), (2, 60))"
      ]
     },
     "execution_count": 26,
     "metadata": {},
     "output_type": "execute_result"
    }
   ],
   "source": [
    "len(all_sequences), all_sequences[0][0].shape , all_sequences[0][1].shape"
   ]
  },
  {
   "cell_type": "code",
   "execution_count": 27,
   "metadata": {},
   "outputs": [
    {
     "data": {
      "text/plain": [
       "torch.Size([10, 3, 54, 96])"
      ]
     },
     "execution_count": 27,
     "metadata": {},
     "output_type": "execute_result"
    }
   ],
   "source": [
    "# first input sequence\n",
    "all_sequences[0][0].shape"
   ]
  },
  {
   "cell_type": "code",
   "execution_count": 28,
   "metadata": {},
   "outputs": [
    {
     "data": {
      "text/html": [
       "<div>\n",
       "<style scoped>\n",
       "    .dataframe tbody tr th:only-of-type {\n",
       "        vertical-align: middle;\n",
       "    }\n",
       "\n",
       "    .dataframe tbody tr th {\n",
       "        vertical-align: top;\n",
       "    }\n",
       "\n",
       "    .dataframe thead th {\n",
       "        text-align: right;\n",
       "    }\n",
       "</style>\n",
       "<table border=\"1\" class=\"dataframe\">\n",
       "  <thead>\n",
       "    <tr style=\"text-align: right;\">\n",
       "      <th></th>\n",
       "      <th>10</th>\n",
       "      <th>11</th>\n",
       "      <th>12</th>\n",
       "      <th>13</th>\n",
       "      <th>14</th>\n",
       "      <th>15</th>\n",
       "      <th>16</th>\n",
       "      <th>17</th>\n",
       "      <th>18</th>\n",
       "      <th>19</th>\n",
       "      <th>...</th>\n",
       "      <th>60</th>\n",
       "      <th>61</th>\n",
       "      <th>62</th>\n",
       "      <th>63</th>\n",
       "      <th>64</th>\n",
       "      <th>65</th>\n",
       "      <th>66</th>\n",
       "      <th>67</th>\n",
       "      <th>68</th>\n",
       "      <th>69</th>\n",
       "    </tr>\n",
       "  </thead>\n",
       "  <tbody>\n",
       "    <tr>\n",
       "      <th>pitch</th>\n",
       "      <td>0.029492</td>\n",
       "      <td>-0.003735</td>\n",
       "      <td>0.152513</td>\n",
       "      <td>0.091190</td>\n",
       "      <td>0.093264</td>\n",
       "      <td>-0.012752</td>\n",
       "      <td>0.095015</td>\n",
       "      <td>0.162501</td>\n",
       "      <td>0.103608</td>\n",
       "      <td>0.077369</td>\n",
       "      <td>...</td>\n",
       "      <td>-0.04063</td>\n",
       "      <td>0.033109</td>\n",
       "      <td>-0.145496</td>\n",
       "      <td>0.017612</td>\n",
       "      <td>0.028490</td>\n",
       "      <td>0.129367</td>\n",
       "      <td>0.116320</td>\n",
       "      <td>0.022583</td>\n",
       "      <td>0.017130</td>\n",
       "      <td>-0.066031</td>\n",
       "    </tr>\n",
       "    <tr>\n",
       "      <th>roll</th>\n",
       "      <td>0.056080</td>\n",
       "      <td>0.063161</td>\n",
       "      <td>0.047668</td>\n",
       "      <td>0.016488</td>\n",
       "      <td>-0.019758</td>\n",
       "      <td>0.099169</td>\n",
       "      <td>0.120886</td>\n",
       "      <td>0.146725</td>\n",
       "      <td>0.127897</td>\n",
       "      <td>0.098694</td>\n",
       "      <td>...</td>\n",
       "      <td>0.01884</td>\n",
       "      <td>0.025537</td>\n",
       "      <td>0.007478</td>\n",
       "      <td>0.125550</td>\n",
       "      <td>0.101467</td>\n",
       "      <td>0.081079</td>\n",
       "      <td>0.029056</td>\n",
       "      <td>-0.044213</td>\n",
       "      <td>-0.067851</td>\n",
       "      <td>-0.083604</td>\n",
       "    </tr>\n",
       "  </tbody>\n",
       "</table>\n",
       "<p>2 rows × 60 columns</p>\n",
       "</div>"
      ],
      "text/plain": [
       "             10        11        12        13        14        15        16  \\\n",
       "pitch  0.029492 -0.003735  0.152513  0.091190  0.093264 -0.012752  0.095015   \n",
       "roll   0.056080  0.063161  0.047668  0.016488 -0.019758  0.099169  0.120886   \n",
       "\n",
       "             17        18        19  ...       60        61        62  \\\n",
       "pitch  0.162501  0.103608  0.077369  ... -0.04063  0.033109 -0.145496   \n",
       "roll   0.146725  0.127897  0.098694  ...  0.01884  0.025537  0.007478   \n",
       "\n",
       "             63        64        65        66        67        68        69  \n",
       "pitch  0.017612  0.028490  0.129367  0.116320  0.022583  0.017130 -0.066031  \n",
       "roll   0.125550  0.101467  0.081079  0.029056 -0.044213 -0.067851 -0.083604  \n",
       "\n",
       "[2 rows x 60 columns]"
      ]
     },
     "execution_count": 28,
     "metadata": {},
     "output_type": "execute_result"
    }
   ],
   "source": [
    "# first output sequence\n",
    "all_sequences[0][1].head()"
   ]
  },
  {
   "cell_type": "code",
   "execution_count": 29,
   "metadata": {},
   "outputs": [
    {
     "data": {
      "text/plain": [
       "'\\ni = 0\\nfor data in tqdm(all_sequences):\\n    input = data[0]\\n    output = data[1]\\n\\n    episode = input.iloc[0][\"episode\"]\\n    episode1 = output.iloc[0][\"episode\"]\\n    \\n    if(episode1 != episode):\\n        print(\"Input and output from different episodes\")\\n        break\\n\\n    if (len(input[\\'episode\\'].unique()) != 1):\\n        print(\"input seq: \"+i+\" contains data from different episodes\")\\n        break\\n    \\n    if (len(output[\\'episode\\'].unique()) != 1):\\n        print(\"output seq: \"+i+\" contains data from different episodes\")\\n        break\\n    \\n    i += 1\\n'"
      ]
     },
     "execution_count": 29,
     "metadata": {},
     "output_type": "execute_result"
    }
   ],
   "source": [
    "# loop for testing sequence integrity\n",
    "\"\"\"\n",
    "i = 0\n",
    "for data in tqdm(all_sequences):\n",
    "    input = data[0]\n",
    "    output = data[1]\n",
    "\n",
    "    episode = input.iloc[0][\"episode\"]\n",
    "    episode1 = output.iloc[0][\"episode\"]\n",
    "    \n",
    "    if(episode1 != episode):\n",
    "        print(\"Input and output from different episodes\")\n",
    "        break\n",
    "\n",
    "    if (len(input['episode'].unique()) != 1):\n",
    "        print(\"input seq: \"+i+\" contains data from different episodes\")\n",
    "        break\n",
    "    \n",
    "    if (len(output['episode'].unique()) != 1):\n",
    "        print(\"output seq: \"+i+\" contains data from different episodes\")\n",
    "        break\n",
    "    \n",
    "    i += 1\n",
    "\"\"\""
   ]
  },
  {
   "cell_type": "code",
   "execution_count": 30,
   "metadata": {},
   "outputs": [
    {
     "name": "stdout",
     "output_type": "stream",
     "text": [
      "True\n",
      "Training size: 37072 | Test size: 9268\n",
      "[41905, 7296, 1639, 18024, 16049, 14628, 9144, 6717, 44348, 35741]\n",
      "[9, 32780, 32781, 32788, 32790, 24, 27, 28, 32795, 32797]\n"
     ]
    }
   ],
   "source": [
    "# Grab random subsets from all sequences for training and test data (without overlapping data)\n",
    "data_size = len(all_sequences)\n",
    "data_indices = list(np.arange(0, data_size, 1))\n",
    "\n",
    "# train indices are random sample from all data indices\n",
    "random.seed(42)\n",
    "train_size = int(TRAIN_SIZE * data_size)\n",
    "train_indices = random.sample(data_indices, train_size)\n",
    "\n",
    "# test indices are the difference of all data indices and train indices\n",
    "test_indices = list(set(data_indices) - set(train_indices))\n",
    "\n",
    "print((len(train_indices) + len(test_indices)) <= data_size)\n",
    "print(\"Training size:\", len(train_indices),\"| Test size:\", len(test_indices))\n",
    "print(train_indices[:10])\n",
    "print(test_indices[:10])"
   ]
  },
  {
   "cell_type": "code",
   "execution_count": 31,
   "metadata": {},
   "outputs": [
    {
     "data": {
      "application/vnd.jupyter.widget-view+json": {
       "model_id": "d1fc60553674463582d89e9c8b293733",
       "version_major": 2,
       "version_minor": 0
      },
      "text/plain": [
       "  0%|          | 0/37072 [00:00<?, ?it/s]"
      ]
     },
     "metadata": {},
     "output_type": "display_data"
    },
    {
     "data": {
      "application/vnd.jupyter.widget-view+json": {
       "model_id": "cf60e61c21174509b271c3b570ee9122",
       "version_major": 2,
       "version_minor": 0
      },
      "text/plain": [
       "  0%|          | 0/9268 [00:00<?, ?it/s]"
      ]
     },
     "metadata": {},
     "output_type": "display_data"
    },
    {
     "name": "stdout",
     "output_type": "stream",
     "text": [
      "True\n",
      "37072 torch.Size([10, 3, 54, 96]) (2, 60)\n",
      "9268 torch.Size([10, 3, 54, 96]) (2, 60)\n"
     ]
    }
   ],
   "source": [
    "train_sequences = []\n",
    "test_sequences = []\n",
    "\n",
    "for idx in tqdm(train_indices):\n",
    "    seq = all_sequences[idx][0]\n",
    "    label = all_sequences[idx][1]\n",
    "    train_sequences.append((seq,label))\n",
    "\n",
    "for idx in tqdm(test_indices):\n",
    "    seq = all_sequences[idx][0]\n",
    "    label = all_sequences[idx][1]\n",
    "    test_sequences.append((seq,label))\n",
    "\n",
    "print((len(train_sequences) + len(test_sequences)) <= len(all_sequences))\n",
    "print(len(train_sequences), train_sequences[0][0].shape, train_sequences[0][1].shape) \n",
    "print(len(test_sequences), test_sequences[0][0].shape, test_sequences[0][1].shape)"
   ]
  },
  {
   "cell_type": "markdown",
   "metadata": {},
   "source": [
    "## Pytorch Dataset and DataLoader"
   ]
  },
  {
   "cell_type": "code",
   "execution_count": 32,
   "metadata": {},
   "outputs": [],
   "source": [
    "class PRDataset(Dataset):\n",
    "    def __init__(self, sequences):\n",
    "        self.sequences = sequences\n",
    "\n",
    "    def __len__(self):\n",
    "        return len(self.sequences)\n",
    "\n",
    "    def __getitem__(self, index):\n",
    "        input_sequence, output_sequence = self.sequences[index]\n",
    "\n",
    "        return dict(\n",
    "            input = input_sequence,\n",
    "            output = torch.Tensor(output_sequence.to_numpy())\n",
    "        )"
   ]
  },
  {
   "cell_type": "code",
   "execution_count": 33,
   "metadata": {},
   "outputs": [],
   "source": [
    "class PRDataModule(pl.LightningDataModule):\n",
    "    def __init__(self, train_sequences, test_sequences, batchsize = BATCH_SIZE):\n",
    "        super().__init__()\n",
    "        self.train_sequences = train_sequences\n",
    "        self.test_sequences = test_sequences\n",
    "        self.batchsize = batchsize\n",
    "\n",
    "    # turns normal list object into Dataset object\n",
    "    def setup(self):\n",
    "        self.train_dataset = PRDataset(self.train_sequences)\n",
    "        self.test_dataset = PRDataset(self.test_sequences)\n",
    "\n",
    "    def train_dataloader(self):\n",
    "        return DataLoader(\n",
    "            self.train_dataset,\n",
    "            batch_size = self.batchsize,\n",
    "            shuffle = False,\n",
    "            num_workers=N_WORKERS,\n",
    "        )\n",
    "\n",
    "    def val_dataloader(self):\n",
    "        return DataLoader(\n",
    "            self.test_dataset,\n",
    "            batch_size = self.batchsize,\n",
    "            shuffle = False,\n",
    "            num_workers=N_WORKERS,\n",
    "        )\n",
    "\n",
    "    def test_dataloader(self):\n",
    "        return DataLoader(\n",
    "            self.test_dataset,\n",
    "            batch_size = 1,\n",
    "            shuffle = False,\n",
    "            num_workers=N_WORKERS,\n",
    "        )"
   ]
  },
  {
   "cell_type": "code",
   "execution_count": 34,
   "metadata": {},
   "outputs": [],
   "source": [
    "data_module = PRDataModule(train_sequences, test_sequences, BATCH_SIZE)\n",
    "data_module.setup()"
   ]
  },
  {
   "cell_type": "code",
   "execution_count": 35,
   "metadata": {},
   "outputs": [
    {
     "name": "stdout",
     "output_type": "stream",
     "text": [
      "torch.Size([64, 10, 3, 54, 96])\n",
      "torch.Size([64, 2, 60])\n"
     ]
    }
   ],
   "source": [
    "# batch size first\n",
    "for batch in data_module.train_dataloader():\n",
    "    print(batch[\"input\"].shape)\n",
    "    print(batch[\"output\"].shape)\n",
    "    break"
   ]
  },
  {
   "cell_type": "markdown",
   "metadata": {},
   "source": [
    "## CNN Model"
   ]
  },
  {
   "cell_type": "code",
   "execution_count": 36,
   "metadata": {},
   "outputs": [],
   "source": [
    "class CNN_encoder(nn.Module):\n",
    "\n",
    "    def __init__(self, channels=3):\n",
    "        super(CNN_encoder, self).__init__()\n",
    "\n",
    "        # outputs a tensor of shape (batch, out_channels, h/2/2/2, w/2/2/2)\n",
    "        self.cnn_encoder = nn.Sequential(\n",
    "            nn.Conv2d(in_channels=channels, out_channels=8, kernel_size=5, padding=2),\n",
    "            nn.ReLU(inplace=True),\n",
    "            nn.MaxPool2d(kernel_size=2, stride=2),\n",
    "    \n",
    "            nn.Conv2d(in_channels=8, out_channels=16, kernel_size=3, padding=1),\n",
    "            nn.ReLU(inplace=True),\n",
    "            nn.MaxPool2d(kernel_size=2, stride=2),\n",
    "\n",
    "            nn.Conv2d(in_channels=16, out_channels=32, kernel_size=3, padding=1),\n",
    "            nn.ReLU(inplace=True),\n",
    "            nn.MaxPool2d(kernel_size=2, stride=2),\n",
    "        )\n",
    "\n",
    "    def forward(self, x):\n",
    "        batch_size = x.size(0)\n",
    "\n",
    "        # x is of shape (batch, seq_lenth, channels, height, width)\n",
    "        # iterate over the sequence and encode a feature vector for each image\n",
    "        img_features = [self.cnn_encoder(x[:,i,:,:,:].squeeze(1)) for i in range(x.size(1))]\n",
    "        \n",
    "        # flatten feature vectors in img_features\n",
    "        img_features = [img.reshape(batch_size, -1) for img in img_features]\n",
    "\n",
    "        # convert list of vectors into tensor of shape: (batch, len(img_features), features)\n",
    "        img_features = torch.stack(img_features, 1)\n",
    "\n",
    "        # reshape into (batch, 1, n*features)\n",
    "        img_features = img_features.reshape(batch_size, -1).unsqueeze(1)\n",
    "\n",
    "        return img_features"
   ]
  },
  {
   "cell_type": "code",
   "execution_count": 37,
   "metadata": {},
   "outputs": [
    {
     "name": "stdout",
     "output_type": "stream",
     "text": [
      "torch.Size([64, 10, 3, 54, 96]) torch.Size([64, 2, 60])\n"
     ]
    }
   ],
   "source": [
    "# get the first batch out of the dataloader for testing purposes\n",
    "for batch in data_module.train_dataloader():\n",
    "    x_train = batch[\"input\"]\n",
    "    y_train = batch[\"output\"]\n",
    "    break\n",
    "\n",
    "print(x_train.shape, y_train.shape)"
   ]
  },
  {
   "cell_type": "code",
   "execution_count": 38,
   "metadata": {},
   "outputs": [
    {
     "data": {
      "text/plain": [
       "torch.Size([64, 1, 23040])"
      ]
     },
     "execution_count": 38,
     "metadata": {},
     "output_type": "execute_result"
    }
   ],
   "source": [
    "model = CNN_encoder()\n",
    "img_features = model.forward(x_train)\n",
    "img_features.shape"
   ]
  },
  {
   "cell_type": "code",
   "execution_count": 39,
   "metadata": {},
   "outputs": [],
   "source": [
    "class Linear(nn.Module):\n",
    "    def __init__(self, input_size, output_size=FRAMES_OUT):\n",
    "        super(Linear, self).__init__()\n",
    "\n",
    "        self.input_size = input_size\n",
    "        self.output_size = output_size\n",
    "\n",
    "        self.fc1 = nn.Linear(input_size, int(input_size/2))\n",
    "        self.fc2 = nn.Linear(int(input_size/2), int(input_size/4))\n",
    "        self.fc3 = nn.Linear(int(input_size/4), output_size*2)\n",
    "\n",
    "    def forward(self, x:torch.Tensor):\n",
    "        x = self.fc1(x)\n",
    "        x = self.fc2(x)\n",
    "        x = self.fc3(x)\n",
    "        \n",
    "        return x"
   ]
  },
  {
   "cell_type": "code",
   "execution_count": 40,
   "metadata": {},
   "outputs": [
    {
     "data": {
      "text/plain": [
       "torch.Size([64, 1, 120])"
      ]
     },
     "execution_count": 40,
     "metadata": {},
     "output_type": "execute_result"
    }
   ],
   "source": [
    "linear = Linear(FRAMES_IN*2304)\n",
    "o = linear.forward(img_features)\n",
    "o.shape"
   ]
  },
  {
   "cell_type": "code",
   "execution_count": 41,
   "metadata": {},
   "outputs": [],
   "source": [
    "class CNN_linear(nn.Module):\n",
    "    def __init__(self, linear_input_size, channels=3, output_size=FRAMES_OUT):\n",
    "        super(CNN_linear, self).__init__()\n",
    "\n",
    "        self.output_size = output_size\n",
    "\n",
    "        self.cnn_encoder = CNN_encoder(channels)\n",
    "        self.linear = Linear(linear_input_size, output_size)\n",
    "\n",
    "    def forward(self, x:torch.Tensor):\n",
    "        batch_size = x.size(0)\n",
    "\n",
    "        x = self.cnn_encoder(x)\n",
    "        x = self.linear(x)\n",
    "\n",
    "        output = x.reshape(batch_size, 2, self.output_size)\n",
    "\n",
    "        return output"
   ]
  },
  {
   "cell_type": "code",
   "execution_count": 42,
   "metadata": {},
   "outputs": [
    {
     "data": {
      "text/plain": [
       "torch.Size([64, 2, 60])"
      ]
     },
     "execution_count": 42,
     "metadata": {},
     "output_type": "execute_result"
    }
   ],
   "source": [
    "model = CNN_linear(FRAMES_IN*2304)\n",
    "o = model(x_train)\n",
    "o.shape"
   ]
  },
  {
   "cell_type": "markdown",
   "metadata": {},
   "source": [
    "# Training"
   ]
  },
  {
   "cell_type": "code",
   "execution_count": 43,
   "metadata": {},
   "outputs": [
    {
     "name": "stdout",
     "output_type": "stream",
     "text": [
      "torch.Size([64, 10, 3, 54, 96]) torch.Size([64, 2, 60])\n"
     ]
    }
   ],
   "source": [
    "for batch in data_module.val_dataloader():\n",
    "    x_train = batch[\"input\"]\n",
    "    y_train = batch[\"output\"]\n",
    "    break\n",
    "\n",
    "print(x_train.shape, y_train.shape)"
   ]
  },
  {
   "cell_type": "code",
   "execution_count": 44,
   "metadata": {},
   "outputs": [
    {
     "data": {
      "text/plain": [
       "torch.Size([64, 2, 60])"
      ]
     },
     "execution_count": 44,
     "metadata": {},
     "output_type": "execute_result"
    }
   ],
   "source": [
    "model = CNN_linear(linear_input_size=FRAMES_IN*2304, output_size=FRAMES_OUT)\n",
    "ypred = model.forward(x_train)\n",
    "ypred.shape"
   ]
  },
  {
   "cell_type": "markdown",
   "metadata": {},
   "source": [
    "### Training loop"
   ]
  },
  {
   "cell_type": "code",
   "execution_count": 45,
   "metadata": {},
   "outputs": [
    {
     "data": {
      "text/plain": [
       "54"
      ]
     },
     "execution_count": 45,
     "metadata": {},
     "output_type": "execute_result"
    }
   ],
   "source": [
    "torch.cuda.empty_cache()\n",
    "gc.collect()"
   ]
  },
  {
   "cell_type": "code",
   "execution_count": 46,
   "metadata": {},
   "outputs": [
    {
     "data": {
      "application/vnd.jupyter.widget-view+json": {
       "model_id": "cecfe0a8601147be9ea348bf15648cd6",
       "version_major": 2,
       "version_minor": 0
      },
      "text/plain": [
       "  0%|          | 0/50 [00:00<?, ?it/s]"
      ]
     },
     "metadata": {},
     "output_type": "display_data"
    },
    {
     "name": "stdout",
     "output_type": "stream",
     "text": [
      "EPOCH 0 training loss: 2.152485 | validation loss: 0.004299\n",
      "batch 494\r"
     ]
    },
    {
     "ename": "KeyboardInterrupt",
     "evalue": "",
     "output_type": "error",
     "traceback": [
      "\u001b[1;31m---------------------------------------------------------------------------\u001b[0m",
      "\u001b[1;31mKeyboardInterrupt\u001b[0m                         Traceback (most recent call last)",
      "\u001b[1;32mc:\\Thesis\\code\\notebooks\\cnn-linear_img.ipynb Cell 47'\u001b[0m in \u001b[0;36m<cell line: 15>\u001b[1;34m()\u001b[0m\n\u001b[0;32m     <a href='vscode-notebook-cell:/c%3A/Thesis/code/notebooks/cnn-linear_img.ipynb#ch0000046?line=48'>49</a>\u001b[0m y_train \u001b[39m=\u001b[39m batch[\u001b[39m\"\u001b[39m\u001b[39moutput\u001b[39m\u001b[39m\"\u001b[39m]\n\u001b[0;32m     <a href='vscode-notebook-cell:/c%3A/Thesis/code/notebooks/cnn-linear_img.ipynb#ch0000046?line=50'>51</a>\u001b[0m \u001b[39mif\u001b[39;00m CUDA: \n\u001b[1;32m---> <a href='vscode-notebook-cell:/c%3A/Thesis/code/notebooks/cnn-linear_img.ipynb#ch0000046?line=51'>52</a>\u001b[0m     x_train \u001b[39m=\u001b[39m batch[\u001b[39m\"\u001b[39;49m\u001b[39minput\u001b[39;49m\u001b[39m\"\u001b[39;49m]\u001b[39m.\u001b[39;49mcuda()\n\u001b[0;32m     <a href='vscode-notebook-cell:/c%3A/Thesis/code/notebooks/cnn-linear_img.ipynb#ch0000046?line=52'>53</a>\u001b[0m     y_train \u001b[39m=\u001b[39m batch[\u001b[39m\"\u001b[39m\u001b[39moutput\u001b[39m\u001b[39m\"\u001b[39m]\u001b[39m.\u001b[39mcuda()\n\u001b[0;32m     <a href='vscode-notebook-cell:/c%3A/Thesis/code/notebooks/cnn-linear_img.ipynb#ch0000046?line=54'>55</a>\u001b[0m \u001b[39m# Predict on forward pass \u001b[39;00m\n",
      "\u001b[1;31mKeyboardInterrupt\u001b[0m: "
     ]
    }
   ],
   "source": [
    "model = CNN_linear(linear_input_size=FRAMES_IN*2304, output_size=FRAMES_OUT)\n",
    "\n",
    "if CUDA:\n",
    "    model.cuda()\n",
    "\n",
    "criterion = nn.MSELoss()\n",
    "optimizer = optim.Adam(model.parameters(), lr=LEARNING_RATE)\n",
    "\n",
    "# TRACKERS\n",
    "train_losses_epoch = []\n",
    "val_losses_epoch = []\n",
    "train_losses_batch = []\n",
    "val_losses_batch = []\n",
    "\n",
    "for epoch in tqdm(range(NUM_EPOCHS)):\n",
    "    \n",
    "    # validation loss with initial weights\n",
    "    with torch.no_grad():\n",
    "        i = 0\n",
    "        total_batch_loss = 0\n",
    "        for batch in data_module.val_dataloader():\n",
    "            print(f\"batch {i}\", end='\\r')\n",
    "            x_val = batch[\"input\"]\n",
    "            y_val = batch[\"output\"]\n",
    "            i += 1\n",
    "\n",
    "            if CUDA: \n",
    "                x_val = batch[\"input\"].cuda()\n",
    "                y_val = batch[\"output\"].cuda()\n",
    "            \n",
    "            # Predict on forward pass \n",
    "            y_pred = model.forward(x_val)\n",
    "            \n",
    "            loss = criterion(y_pred, y_val)\n",
    "            total_batch_loss += loss.item()\n",
    "            val_losses_batch.append(loss.item())\n",
    "\n",
    "        mean_val_loss = total_batch_loss/i\n",
    "        val_losses_epoch.append(mean_val_loss)\n",
    "        val_loss = round(mean_val_loss, 6)\n",
    "\n",
    "    i = 0 \n",
    "    total_batch_loss = 0\n",
    "\n",
    "    for batch in data_module.train_dataloader():\n",
    "        print(f\"batch {i}\", end='\\r')\n",
    "        i += 1\n",
    "        x_train = batch[\"input\"]\n",
    "        y_train = batch[\"output\"]\n",
    "\n",
    "        if CUDA: \n",
    "            x_train = batch[\"input\"].cuda()\n",
    "            y_train = batch[\"output\"].cuda()\n",
    "        \n",
    "        # Predict on forward pass \n",
    "        y_pred = model.forward(x_train)\n",
    "\n",
    "        # Calculate loss/error\n",
    "        loss = criterion(y_pred, y_train)\n",
    "        train_losses_batch.append(loss.item())\n",
    "        total_batch_loss += loss.item()\n",
    "\n",
    "        # Backpropagation\n",
    "        optimizer.zero_grad()\n",
    "        loss.backward()\n",
    "        optimizer.step()\n",
    "    \n",
    "    mean_train_loss = total_batch_loss/i\n",
    "    train_losses_epoch.append(mean_train_loss)\n",
    "    train_loss = round(mean_train_loss, 6)\n",
    "\n",
    "    print(f\"EPOCH {epoch} training loss: {train_loss} | validation loss: {val_loss}\")"
   ]
  },
  {
   "cell_type": "markdown",
   "metadata": {},
   "source": [
    "### Save and load model"
   ]
  },
  {
   "cell_type": "code",
   "execution_count": null,
   "metadata": {},
   "outputs": [],
   "source": [
    "# save train losses per epoch\n",
    "filename = f'{TRAIN_RESULT_FOLDER}/train_loss_{FRAMES_IN}in_{FRAMES_OUT}out_{NUM_EPOCHS}epochs'\n",
    "with open(filename, 'wb') as f: \n",
    "    pickle.dump(train_losses_epoch, f)\n",
    "# save val losses per epoch\n",
    "filename = f'{TRAIN_RESULT_FOLDER}/val_loss_{FRAMES_IN}in_{FRAMES_OUT}out_{NUM_EPOCHS}epochs'\n",
    "with open(filename, 'wb') as f: \n",
    "    pickle.dump(val_losses_epoch, f)"
   ]
  },
  {
   "cell_type": "code",
   "execution_count": null,
   "metadata": {},
   "outputs": [],
   "source": [
    "filename = f'{MODEL_STATE_FOLDER}/{MODEL_NAME}_{FRAMES_IN}in_{FRAMES_OUT}out_epochs{NUM_EPOCHS}'\n",
    "torch.save(model.state_dict(), filename)"
   ]
  },
  {
   "cell_type": "code",
   "execution_count": null,
   "metadata": {},
   "outputs": [
    {
     "data": {
      "text/plain": [
       "CNN_linear(\n",
       "  (cnn_encoder): CNN_encoder(\n",
       "    (cnn_encoder): Sequential(\n",
       "      (0): Conv2d(3, 8, kernel_size=(5, 5), stride=(1, 1), padding=(2, 2))\n",
       "      (1): ReLU(inplace=True)\n",
       "      (2): MaxPool2d(kernel_size=2, stride=2, padding=0, dilation=1, ceil_mode=False)\n",
       "      (3): Conv2d(8, 16, kernel_size=(3, 3), stride=(1, 1), padding=(1, 1))\n",
       "      (4): ReLU(inplace=True)\n",
       "      (5): MaxPool2d(kernel_size=2, stride=2, padding=0, dilation=1, ceil_mode=False)\n",
       "      (6): Conv2d(16, 32, kernel_size=(3, 3), stride=(1, 1), padding=(1, 1))\n",
       "      (7): ReLU(inplace=True)\n",
       "      (8): MaxPool2d(kernel_size=2, stride=2, padding=0, dilation=1, ceil_mode=False)\n",
       "    )\n",
       "  )\n",
       "  (linear): Linear(\n",
       "    (fc1): Linear(in_features=23040, out_features=11520, bias=True)\n",
       "    (fc2): Linear(in_features=11520, out_features=5760, bias=True)\n",
       "    (fc3): Linear(in_features=5760, out_features=120, bias=True)\n",
       "  )\n",
       ")"
      ]
     },
     "execution_count": 42,
     "metadata": {},
     "output_type": "execute_result"
    }
   ],
   "source": [
    "filename = f'{MODEL_STATE_FOLDER}/{MODEL_NAME}_{FRAMES_IN}in_{FRAMES_OUT}out_epochs{NUM_EPOCHS}'\n",
    "loaded_model = CNN_linear(linear_input_size=FRAMES_IN*2304, output_size=FRAMES_OUT)\n",
    "loaded_model.load_state_dict(torch.load(filename))\n",
    "if CUDA: \n",
    "    loaded_model = loaded_model.cuda()\n",
    "loaded_model.eval()"
   ]
  },
  {
   "cell_type": "markdown",
   "metadata": {},
   "source": [
    "# Training results"
   ]
  },
  {
   "cell_type": "code",
   "execution_count": 47,
   "metadata": {},
   "outputs": [
    {
     "ename": "ValueError",
     "evalue": "x and y must have same first dimension, but have shapes (50,) and (1,)",
     "output_type": "error",
     "traceback": [
      "\u001b[1;31m---------------------------------------------------------------------------\u001b[0m",
      "\u001b[1;31mValueError\u001b[0m                                Traceback (most recent call last)",
      "\u001b[1;32mc:\\Thesis\\code\\notebooks\\cnn-linear_img.ipynb Cell 53'\u001b[0m in \u001b[0;36m<cell line: 2>\u001b[1;34m()\u001b[0m\n\u001b[0;32m      <a href='vscode-notebook-cell:/c%3A/Thesis/code/notebooks/cnn-linear_img.ipynb#ch0000052?line=0'>1</a>\u001b[0m plt\u001b[39m.\u001b[39mfigure(figsize\u001b[39m=\u001b[39m(\u001b[39m12\u001b[39m, \u001b[39m6\u001b[39m))\n\u001b[1;32m----> <a href='vscode-notebook-cell:/c%3A/Thesis/code/notebooks/cnn-linear_img.ipynb#ch0000052?line=1'>2</a>\u001b[0m plt\u001b[39m.\u001b[39;49mplot(\u001b[39mrange\u001b[39;49m(NUM_EPOCHS), train_losses_epoch, label\u001b[39m=\u001b[39;49m\u001b[39m'\u001b[39;49m\u001b[39mtraining loss\u001b[39;49m\u001b[39m'\u001b[39;49m)\n\u001b[0;32m      <a href='vscode-notebook-cell:/c%3A/Thesis/code/notebooks/cnn-linear_img.ipynb#ch0000052?line=2'>3</a>\u001b[0m plt\u001b[39m.\u001b[39mplot(\u001b[39mrange\u001b[39m(NUM_EPOCHS), val_losses_epoch, label\u001b[39m=\u001b[39m\u001b[39m'\u001b[39m\u001b[39mvalidation loss\u001b[39m\u001b[39m'\u001b[39m)\n\u001b[0;32m      <a href='vscode-notebook-cell:/c%3A/Thesis/code/notebooks/cnn-linear_img.ipynb#ch0000052?line=3'>4</a>\u001b[0m plt\u001b[39m.\u001b[39mxlabel(\u001b[39m\"\u001b[39m\u001b[39mepochs\u001b[39m\u001b[39m\"\u001b[39m)\n",
      "File \u001b[1;32mc:\\src\\Anaconda\\envs\\thesis\\lib\\site-packages\\matplotlib\\pyplot.py:2757\u001b[0m, in \u001b[0;36mplot\u001b[1;34m(scalex, scaley, data, *args, **kwargs)\u001b[0m\n\u001b[0;32m   <a href='file:///c%3A/src/Anaconda/envs/thesis/lib/site-packages/matplotlib/pyplot.py?line=2754'>2755</a>\u001b[0m \u001b[39m@_copy_docstring_and_deprecators\u001b[39m(Axes\u001b[39m.\u001b[39mplot)\n\u001b[0;32m   <a href='file:///c%3A/src/Anaconda/envs/thesis/lib/site-packages/matplotlib/pyplot.py?line=2755'>2756</a>\u001b[0m \u001b[39mdef\u001b[39;00m \u001b[39mplot\u001b[39m(\u001b[39m*\u001b[39margs, scalex\u001b[39m=\u001b[39m\u001b[39mTrue\u001b[39;00m, scaley\u001b[39m=\u001b[39m\u001b[39mTrue\u001b[39;00m, data\u001b[39m=\u001b[39m\u001b[39mNone\u001b[39;00m, \u001b[39m*\u001b[39m\u001b[39m*\u001b[39mkwargs):\n\u001b[1;32m-> <a href='file:///c%3A/src/Anaconda/envs/thesis/lib/site-packages/matplotlib/pyplot.py?line=2756'>2757</a>\u001b[0m     \u001b[39mreturn\u001b[39;00m gca()\u001b[39m.\u001b[39;49mplot(\n\u001b[0;32m   <a href='file:///c%3A/src/Anaconda/envs/thesis/lib/site-packages/matplotlib/pyplot.py?line=2757'>2758</a>\u001b[0m         \u001b[39m*\u001b[39;49margs, scalex\u001b[39m=\u001b[39;49mscalex, scaley\u001b[39m=\u001b[39;49mscaley,\n\u001b[0;32m   <a href='file:///c%3A/src/Anaconda/envs/thesis/lib/site-packages/matplotlib/pyplot.py?line=2758'>2759</a>\u001b[0m         \u001b[39m*\u001b[39;49m\u001b[39m*\u001b[39;49m({\u001b[39m\"\u001b[39;49m\u001b[39mdata\u001b[39;49m\u001b[39m\"\u001b[39;49m: data} \u001b[39mif\u001b[39;49;00m data \u001b[39mis\u001b[39;49;00m \u001b[39mnot\u001b[39;49;00m \u001b[39mNone\u001b[39;49;00m \u001b[39melse\u001b[39;49;00m {}), \u001b[39m*\u001b[39;49m\u001b[39m*\u001b[39;49mkwargs)\n",
      "File \u001b[1;32mc:\\src\\Anaconda\\envs\\thesis\\lib\\site-packages\\matplotlib\\axes\\_axes.py:1632\u001b[0m, in \u001b[0;36mAxes.plot\u001b[1;34m(self, scalex, scaley, data, *args, **kwargs)\u001b[0m\n\u001b[0;32m   <a href='file:///c%3A/src/Anaconda/envs/thesis/lib/site-packages/matplotlib/axes/_axes.py?line=1389'>1390</a>\u001b[0m \u001b[39m\"\"\"\u001b[39;00m\n\u001b[0;32m   <a href='file:///c%3A/src/Anaconda/envs/thesis/lib/site-packages/matplotlib/axes/_axes.py?line=1390'>1391</a>\u001b[0m \u001b[39mPlot y versus x as lines and/or markers.\u001b[39;00m\n\u001b[0;32m   <a href='file:///c%3A/src/Anaconda/envs/thesis/lib/site-packages/matplotlib/axes/_axes.py?line=1391'>1392</a>\u001b[0m \n\u001b[1;32m   (...)\u001b[0m\n\u001b[0;32m   <a href='file:///c%3A/src/Anaconda/envs/thesis/lib/site-packages/matplotlib/axes/_axes.py?line=1628'>1629</a>\u001b[0m \u001b[39m(``'green'``) or hex strings (``'#008000'``).\u001b[39;00m\n\u001b[0;32m   <a href='file:///c%3A/src/Anaconda/envs/thesis/lib/site-packages/matplotlib/axes/_axes.py?line=1629'>1630</a>\u001b[0m \u001b[39m\"\"\"\u001b[39;00m\n\u001b[0;32m   <a href='file:///c%3A/src/Anaconda/envs/thesis/lib/site-packages/matplotlib/axes/_axes.py?line=1630'>1631</a>\u001b[0m kwargs \u001b[39m=\u001b[39m cbook\u001b[39m.\u001b[39mnormalize_kwargs(kwargs, mlines\u001b[39m.\u001b[39mLine2D)\n\u001b[1;32m-> <a href='file:///c%3A/src/Anaconda/envs/thesis/lib/site-packages/matplotlib/axes/_axes.py?line=1631'>1632</a>\u001b[0m lines \u001b[39m=\u001b[39m [\u001b[39m*\u001b[39m\u001b[39mself\u001b[39m\u001b[39m.\u001b[39m_get_lines(\u001b[39m*\u001b[39margs, data\u001b[39m=\u001b[39mdata, \u001b[39m*\u001b[39m\u001b[39m*\u001b[39mkwargs)]\n\u001b[0;32m   <a href='file:///c%3A/src/Anaconda/envs/thesis/lib/site-packages/matplotlib/axes/_axes.py?line=1632'>1633</a>\u001b[0m \u001b[39mfor\u001b[39;00m line \u001b[39min\u001b[39;00m lines:\n\u001b[0;32m   <a href='file:///c%3A/src/Anaconda/envs/thesis/lib/site-packages/matplotlib/axes/_axes.py?line=1633'>1634</a>\u001b[0m     \u001b[39mself\u001b[39m\u001b[39m.\u001b[39madd_line(line)\n",
      "File \u001b[1;32mc:\\src\\Anaconda\\envs\\thesis\\lib\\site-packages\\matplotlib\\axes\\_base.py:312\u001b[0m, in \u001b[0;36m_process_plot_var_args.__call__\u001b[1;34m(self, data, *args, **kwargs)\u001b[0m\n\u001b[0;32m    <a href='file:///c%3A/src/Anaconda/envs/thesis/lib/site-packages/matplotlib/axes/_base.py?line=309'>310</a>\u001b[0m     this \u001b[39m+\u001b[39m\u001b[39m=\u001b[39m args[\u001b[39m0\u001b[39m],\n\u001b[0;32m    <a href='file:///c%3A/src/Anaconda/envs/thesis/lib/site-packages/matplotlib/axes/_base.py?line=310'>311</a>\u001b[0m     args \u001b[39m=\u001b[39m args[\u001b[39m1\u001b[39m:]\n\u001b[1;32m--> <a href='file:///c%3A/src/Anaconda/envs/thesis/lib/site-packages/matplotlib/axes/_base.py?line=311'>312</a>\u001b[0m \u001b[39myield from\u001b[39;00m \u001b[39mself\u001b[39;49m\u001b[39m.\u001b[39;49m_plot_args(this, kwargs)\n",
      "File \u001b[1;32mc:\\src\\Anaconda\\envs\\thesis\\lib\\site-packages\\matplotlib\\axes\\_base.py:498\u001b[0m, in \u001b[0;36m_process_plot_var_args._plot_args\u001b[1;34m(self, tup, kwargs, return_kwargs)\u001b[0m\n\u001b[0;32m    <a href='file:///c%3A/src/Anaconda/envs/thesis/lib/site-packages/matplotlib/axes/_base.py?line=494'>495</a>\u001b[0m     \u001b[39mself\u001b[39m\u001b[39m.\u001b[39maxes\u001b[39m.\u001b[39myaxis\u001b[39m.\u001b[39mupdate_units(y)\n\u001b[0;32m    <a href='file:///c%3A/src/Anaconda/envs/thesis/lib/site-packages/matplotlib/axes/_base.py?line=496'>497</a>\u001b[0m \u001b[39mif\u001b[39;00m x\u001b[39m.\u001b[39mshape[\u001b[39m0\u001b[39m] \u001b[39m!=\u001b[39m y\u001b[39m.\u001b[39mshape[\u001b[39m0\u001b[39m]:\n\u001b[1;32m--> <a href='file:///c%3A/src/Anaconda/envs/thesis/lib/site-packages/matplotlib/axes/_base.py?line=497'>498</a>\u001b[0m     \u001b[39mraise\u001b[39;00m \u001b[39mValueError\u001b[39;00m(\u001b[39mf\u001b[39m\u001b[39m\"\u001b[39m\u001b[39mx and y must have same first dimension, but \u001b[39m\u001b[39m\"\u001b[39m\n\u001b[0;32m    <a href='file:///c%3A/src/Anaconda/envs/thesis/lib/site-packages/matplotlib/axes/_base.py?line=498'>499</a>\u001b[0m                      \u001b[39mf\u001b[39m\u001b[39m\"\u001b[39m\u001b[39mhave shapes \u001b[39m\u001b[39m{\u001b[39;00mx\u001b[39m.\u001b[39mshape\u001b[39m}\u001b[39;00m\u001b[39m and \u001b[39m\u001b[39m{\u001b[39;00my\u001b[39m.\u001b[39mshape\u001b[39m}\u001b[39;00m\u001b[39m\"\u001b[39m)\n\u001b[0;32m    <a href='file:///c%3A/src/Anaconda/envs/thesis/lib/site-packages/matplotlib/axes/_base.py?line=499'>500</a>\u001b[0m \u001b[39mif\u001b[39;00m x\u001b[39m.\u001b[39mndim \u001b[39m>\u001b[39m \u001b[39m2\u001b[39m \u001b[39mor\u001b[39;00m y\u001b[39m.\u001b[39mndim \u001b[39m>\u001b[39m \u001b[39m2\u001b[39m:\n\u001b[0;32m    <a href='file:///c%3A/src/Anaconda/envs/thesis/lib/site-packages/matplotlib/axes/_base.py?line=500'>501</a>\u001b[0m     \u001b[39mraise\u001b[39;00m \u001b[39mValueError\u001b[39;00m(\u001b[39mf\u001b[39m\u001b[39m\"\u001b[39m\u001b[39mx and y can be no greater than 2D, but have \u001b[39m\u001b[39m\"\u001b[39m\n\u001b[0;32m    <a href='file:///c%3A/src/Anaconda/envs/thesis/lib/site-packages/matplotlib/axes/_base.py?line=501'>502</a>\u001b[0m                      \u001b[39mf\u001b[39m\u001b[39m\"\u001b[39m\u001b[39mshapes \u001b[39m\u001b[39m{\u001b[39;00mx\u001b[39m.\u001b[39mshape\u001b[39m}\u001b[39;00m\u001b[39m and \u001b[39m\u001b[39m{\u001b[39;00my\u001b[39m.\u001b[39mshape\u001b[39m}\u001b[39;00m\u001b[39m\"\u001b[39m)\n",
      "\u001b[1;31mValueError\u001b[0m: x and y must have same first dimension, but have shapes (50,) and (1,)"
     ]
    },
    {
     "data": {
      "image/png": "[encoded data removed]",
      "text/plain": [
       "<Figure size 864x432 with 1 Axes>"
      ]
     },
     "metadata": {
      "needs_background": "light"
     },
     "output_type": "display_data"
    }
   ],
   "source": [
    "plt.figure(figsize=(12, 6))\n",
    "plt.plot(range(NUM_EPOCHS), train_losses_epoch, label='training loss')\n",
    "plt.plot(range(NUM_EPOCHS), val_losses_epoch, label='validation loss')\n",
    "plt.xlabel(\"epochs\")\n",
    "plt.ylabel(\"MSE loss\")\n",
    "plt.title(\"Training and validation loss per epoch\")\n",
    "plt.legend()\n",
    "plt.savefig(f'{RESULT_FOLDER}/train-test-loss_{FRAMES_IN}in_{FRAMES_OUT}out_epochs{NUM_EPOCHS}')\n",
    "plt.show()"
   ]
  },
  {
   "cell_type": "code",
   "execution_count": 63,
   "metadata": {},
   "outputs": [
    {
     "data": {
      "image/png": "[encoded data removed]",
      "text/plain": [
       "<Figure size 864x432 with 1 Axes>"
      ]
     },
     "metadata": {
      "needs_background": "light"
     },
     "output_type": "display_data"
    }
   ],
   "source": [
    "plt.figure(figsize=(12, 6))\n",
    "#plt.plot(train_losses_batch, label='training loss')\n",
    "plt.plot(train_losses_batch, label='validation loss')\n",
    "plt.xlabel(\"epochs\")\n",
    "plt.ylabel(\"MSE loss\")\n",
    "plt.title(\"Training and validation loss per epoch\")\n",
    "plt.legend()\n",
    "plt.show()"
   ]
  },
  {
   "cell_type": "code",
   "execution_count": 64,
   "metadata": {},
   "outputs": [
    {
     "name": "stdout",
     "output_type": "stream",
     "text": [
      "batch 0 loss: 0.0043000103905797005\n",
      "batch 1 loss: 0.003517707111313939\n",
      "batch 2 loss: 0.0036983033642172813\n",
      "batch 3 loss: 0.004068177659064531\n",
      "batch 4 loss: 0.005474982783198357\n",
      "batch 5 loss: 0.004256133455783129\n",
      "batch 6 loss: 0.004183002281934023\n",
      "batch 7 loss: 0.004182619042694569\n",
      "batch 8 loss: 0.0037457121070474386\n",
      "batch 9 loss: 0.004126837942749262\n",
      "batch 10 loss: 0.004579673521220684\n",
      "batch 11 loss: 0.003993639722466469\n",
      "batch 12 loss: 0.0034100115299224854\n",
      "batch 13 loss: 0.004838759079575539\n",
      "batch 14 loss: 0.004137094132602215\n",
      "batch 15 loss: 0.0040208762511610985\n",
      "batch 16 loss: 0.004367125686258078\n",
      "batch 17 loss: 0.004724704660475254\n",
      "batch 18 loss: 0.00380000495351851\n",
      "batch 19 loss: 0.004384302534162998\n",
      "batch 20 loss: 0.004842783790081739\n",
      "batch 21 loss: 0.004478572402149439\n",
      "batch 22 loss: 0.004125578328967094\n",
      "batch 23 loss: 0.004608229734003544\n",
      "batch 24 loss: 0.004231704864650965\n",
      "batch 25 loss: 0.004826245829463005\n",
      "batch 26 loss: 0.00324220210313797\n",
      "batch 27 loss: 0.003965536132454872\n",
      "batch 28 loss: 0.0036180680617690086\n",
      "batch 29 loss: 0.0048174369148910046\n",
      "batch 30 loss: 0.004237758927047253\n",
      "batch 31 loss: 0.004108558874577284\n",
      "batch 32 loss: 0.0044545382261276245\n",
      "batch 33 loss: 0.003329644678160548\n",
      "batch 34 loss: 0.004083132371306419\n",
      "batch 35 loss: 0.003918360453099012\n",
      "batch 36 loss: 0.004817564506083727\n",
      "batch 37 loss: 0.004223925061523914\n",
      "batch 38 loss: 0.00282606715336442\n",
      "batch 39 loss: 0.0051415106281638145\n",
      "batch 40 loss: 0.004530696198344231\n",
      "batch 41 loss: 0.004166856873780489\n",
      "batch 42 loss: 0.004966487642377615\n",
      "batch 43 loss: 0.00531445536762476\n",
      "batch 44 loss: 0.004389593843370676\n",
      "batch 45 loss: 0.004817993380129337\n",
      "batch 46 loss: 0.0034821636509150267\n",
      "batch 47 loss: 0.0040105776861310005\n",
      "batch 48 loss: 0.003614972811192274\n",
      "batch 49 loss: 0.004512566141784191\n",
      "batch 50 loss: 0.003966274671256542\n",
      "batch 51 loss: 0.004373440984636545\n",
      "batch 52 loss: 0.00406875554472208\n",
      "batch 53 loss: 0.004572607576847076\n",
      "batch 54 loss: 0.00423156563192606\n",
      "batch 55 loss: 0.0033698356710374355\n",
      "batch 56 loss: 0.004240826237946749\n",
      "batch 57 loss: 0.004748944658786058\n",
      "batch 58 loss: 0.00511529203504324\n",
      "batch 59 loss: 0.0037263839039951563\n",
      "batch 60 loss: 0.0036626835353672504\n",
      "batch 61 loss: 0.004166505299508572\n",
      "batch 62 loss: 0.004206573590636253\n",
      "batch 63 loss: 0.004209951031953096\n",
      "batch 64 loss: 0.004978400655090809\n",
      "batch 65 loss: 0.004220153205096722\n",
      "batch 66 loss: 0.004182765726000071\n",
      "batch 67 loss: 0.0046388269402086735\n",
      "batch 68 loss: 0.004246157594025135\n",
      "batch 69 loss: 0.0040159933269023895\n",
      "batch 70 loss: 0.004601842723786831\n",
      "batch 71 loss: 0.004144398495554924\n",
      "batch 72 loss: 0.0042357719503343105\n",
      "batch 73 loss: 0.004340944811701775\n",
      "batch 74 loss: 0.004412837792187929\n",
      "batch 75 loss: 0.003895086469128728\n",
      "batch 76 loss: 0.004943070467561483\n",
      "batch 77 loss: 0.004054075572639704\n",
      "batch 78 loss: 0.003672374878078699\n",
      "batch 79 loss: 0.0040938975289464\n",
      "batch 80 loss: 0.0041700685396790504\n",
      "batch 81 loss: 0.004713722970336676\n",
      "batch 82 loss: 0.004422833677381277\n",
      "batch 83 loss: 0.005123951006680727\n",
      "batch 84 loss: 0.004971211310476065\n",
      "batch 85 loss: 0.0038351090624928474\n",
      "batch 86 loss: 0.004687819164246321\n",
      "batch 87 loss: 0.004817586857825518\n",
      "batch 88 loss: 0.0040350304916501045\n",
      "batch 89 loss: 0.004015622194856405\n",
      "batch 90 loss: 0.004947908688336611\n",
      "batch 91 loss: 0.0036642139311879873\n",
      "batch 92 loss: 0.004945258144289255\n",
      "batch 93 loss: 0.004851237870752811\n",
      "batch 94 loss: 0.004766008350998163\n",
      "batch 95 loss: 0.004405338782817125\n",
      "batch 96 loss: 0.004801718518137932\n",
      "batch 97 loss: 0.004419672768563032\n",
      "batch 98 loss: 0.004116975236684084\n",
      "batch 99 loss: 0.0036880404222756624\n",
      "batch 100 loss: 0.003739201696589589\n",
      "batch 101 loss: 0.0051165129989385605\n",
      "batch 102 loss: 0.0038398816250264645\n",
      "batch 103 loss: 0.004225419834256172\n",
      "batch 104 loss: 0.0033968640491366386\n",
      "batch 105 loss: 0.0032977769151329994\n",
      "batch 106 loss: 0.0038334536366164684\n",
      "batch 107 loss: 0.00426263315603137\n",
      "batch 108 loss: 0.004722294397652149\n",
      "batch 109 loss: 0.004591555334627628\n",
      "batch 110 loss: 0.0038762353360652924\n",
      "batch 111 loss: 0.00346643989905715\n",
      "batch 112 loss: 0.0041616735979914665\n",
      "batch 113 loss: 0.00502638379111886\n",
      "batch 114 loss: 0.005044808145612478\n",
      "batch 115 loss: 0.0053679198026657104\n",
      "batch 116 loss: 0.0050720591098070145\n",
      "batch 117 loss: 0.0036646730732172728\n",
      "batch 118 loss: 0.004264160990715027\n",
      "batch 119 loss: 0.004046163521707058\n",
      "batch 120 loss: 0.004119367804378271\n",
      "batch 121 loss: 0.003469623625278473\n",
      "batch 122 loss: 0.004254907835274935\n",
      "batch 123 loss: 0.004911134950816631\n",
      "batch 124 loss: 0.0035334243439137936\n",
      "batch 125 loss: 0.0040384316816926\n",
      "batch 126 loss: 0.0034824172034859657\n",
      "batch 127 loss: 0.005062206648290157\n",
      "batch 128 loss: 0.005048155318945646\n",
      "batch 129 loss: 0.004012958146631718\n",
      "batch 130 loss: 0.004669982008635998\n",
      "batch 131 loss: 0.004358613397926092\n",
      "batch 132 loss: 0.003412126563489437\n",
      "batch 133 loss: 0.004157812800258398\n",
      "batch 134 loss: 0.0040151383727788925\n",
      "batch 135 loss: 0.004775846377015114\n",
      "batch 136 loss: 0.004256162326782942\n",
      "batch 137 loss: 0.004401434678584337\n",
      "batch 138 loss: 0.0044762147590518\n",
      "batch 139 loss: 0.0038853799924254417\n",
      "batch 140 loss: 0.0040517025627195835\n",
      "batch 141 loss: 0.004113198257982731\n",
      "batch 142 loss: 0.00422901613637805\n",
      "batch 143 loss: 0.00470496853813529\n",
      "batch 144 loss: 0.004908723756670952\n",
      "batch 145 loss: 0.004782396834343672\n",
      "batch 146 loss: 0.00512100663036108\n",
      "batch 147 loss: 0.004537989851087332\n",
      "batch 148 loss: 0.0035713324323296547\n",
      "batch 149 loss: 0.00482283066958189\n",
      "batch 150 loss: 0.0036220334004610777\n",
      "batch 151 loss: 0.003627222031354904\n",
      "batch 152 loss: 0.004760256968438625\n",
      "batch 153 loss: 0.004136194009333849\n",
      "batch 154 loss: 0.004174148663878441\n",
      "batch 155 loss: 0.0043968758545815945\n",
      "batch 156 loss: 0.0049284338019788265\n",
      "batch 157 loss: 0.0046048774383962154\n",
      "batch 158 loss: 0.003456925740465522\n",
      "batch 159 loss: 0.004115581046789885\n",
      "batch 160 loss: 0.004222098272293806\n",
      "batch 161 loss: 0.004127188585698605\n",
      "batch 162 loss: 0.004417228512465954\n",
      "batch 163 loss: 0.004486885387450457\n",
      "batch 164 loss: 0.004688843619078398\n",
      "batch 165 loss: 0.004383942577987909\n",
      "batch 166 loss: 0.004898423328995705\n",
      "batch 167 loss: 0.004629185888916254\n",
      "batch 168 loss: 0.004179769195616245\n",
      "batch 169 loss: 0.004803366959095001\n",
      "batch 170 loss: 0.0037745798472315073\n",
      "batch 171 loss: 0.0035838161129504442\n",
      "batch 172 loss: 0.005388208664953709\n",
      "batch 173 loss: 0.004519700538367033\n",
      "batch 174 loss: 0.003520574886351824\n",
      "batch 175 loss: 0.0037117975298315287\n",
      "batch 176 loss: 0.005151686258614063\n",
      "batch 177 loss: 0.004761642310768366\n",
      "batch 178 loss: 0.00418215012177825\n",
      "batch 179 loss: 0.0045509436167776585\n",
      "batch 180 loss: 0.003783564316108823\n",
      "batch 181 loss: 0.00500505231320858\n",
      "batch 182 loss: 0.0034876796416938305\n",
      "batch 183 loss: 0.004586911294609308\n",
      "batch 184 loss: 0.0036341797094792128\n",
      "batch 185 loss: 0.003284983104094863\n",
      "batch 186 loss: 0.004663717467337847\n",
      "batch 187 loss: 0.004763538017868996\n",
      "batch 188 loss: 0.004184262361377478\n",
      "batch 189 loss: 0.0038586962036788464\n",
      "batch 190 loss: 0.004301993642002344\n",
      "batch 191 loss: 0.004625146742910147\n",
      "batch 192 loss: 0.004608913790434599\n",
      "batch 193 loss: 0.003726786468178034\n",
      "batch 194 loss: 0.004404812585562468\n",
      "batch 195 loss: 0.004180446732789278\n",
      "batch 196 loss: 0.0037845734041184187\n",
      "batch 197 loss: 0.0035772218834608793\n",
      "batch 198 loss: 0.004400792997330427\n",
      "batch 199 loss: 0.005363370757550001\n",
      "batch 200 loss: 0.0035528538282960653\n",
      "batch 201 loss: 0.0051389532163739204\n",
      "batch 202 loss: 0.003145522903650999\n",
      "batch 203 loss: 0.004224733449518681\n",
      "batch 204 loss: 0.004560144618153572\n",
      "batch 205 loss: 0.003181307576596737\n",
      "batch 206 loss: 0.004405903164297342\n",
      "batch 207 loss: 0.004542878828942776\n",
      "batch 208 loss: 0.004106495995074511\n",
      "batch 209 loss: 0.004530101083219051\n",
      "batch 210 loss: 0.004762214608490467\n",
      "batch 211 loss: 0.004704188089817762\n",
      "batch 212 loss: 0.004922214429825544\n",
      "batch 213 loss: 0.0034545348025858402\n",
      "batch 214 loss: 0.004959637764841318\n",
      "batch 215 loss: 0.003993210382759571\n",
      "batch 216 loss: 0.003795376978814602\n",
      "batch 217 loss: 0.0035828021354973316\n",
      "batch 218 loss: 0.004230918362736702\n",
      "batch 219 loss: 0.004083193372935057\n",
      "batch 220 loss: 0.004487849306315184\n",
      "batch 221 loss: 0.004390060901641846\n",
      "batch 222 loss: 0.004321030806750059\n",
      "batch 223 loss: 0.0040616318583488464\n",
      "batch 224 loss: 0.005329684354364872\n",
      "batch 225 loss: 0.004409273155033588\n",
      "batch 226 loss: 0.004218727350234985\n",
      "batch 227 loss: 0.0037536199670284986\n",
      "batch 228 loss: 0.004469087813049555\n",
      "batch 229 loss: 0.00384459737688303\n",
      "batch 230 loss: 0.003756829770281911\n",
      "batch 231 loss: 0.004595307167619467\n",
      "batch 232 loss: 0.00395857123658061\n",
      "batch 233 loss: 0.004700120072811842\n",
      "batch 234 loss: 0.004685495514422655\n",
      "batch 235 loss: 0.003916135523468256\n",
      "batch 236 loss: 0.004410752095282078\n",
      "batch 237 loss: 0.0038011842407286167\n",
      "batch 238 loss: 0.004227643366903067\n",
      "batch 239 loss: 0.005445312242954969\n",
      "batch 240 loss: 0.004014879930764437\n",
      "batch 241 loss: 0.004402950871735811\n",
      "batch 242 loss: 0.004309343174099922\n",
      "batch 243 loss: 0.004096264485269785\n",
      "batch 244 loss: 0.004280279390513897\n",
      "batch 245 loss: 0.004880357068032026\n",
      "batch 246 loss: 0.004036004655063152\n",
      "batch 247 loss: 0.0038077151402831078\n",
      "batch 248 loss: 0.003987104166299105\n",
      "batch 249 loss: 0.004122602753341198\n",
      "batch 250 loss: 0.004601330496370792\n",
      "batch 251 loss: 0.003980686888098717\n",
      "batch 252 loss: 0.004505597986280918\n",
      "batch 253 loss: 0.004538941662758589\n",
      "batch 254 loss: 0.004451940301805735\n",
      "batch 255 loss: 0.004467320628464222\n",
      "batch 256 loss: 0.004971790127456188\n",
      "batch 257 loss: 0.004127054009586573\n",
      "batch 258 loss: 0.004053192213177681\n",
      "batch 259 loss: 0.00492398627102375\n",
      "batch 260 loss: 0.004198888782411814\n",
      "batch 261 loss: 0.0034979949705302715\n",
      "batch 262 loss: 0.004422599449753761\n",
      "batch 263 loss: 0.004013370256870985\n",
      "batch 264 loss: 0.004571303725242615\n",
      "batch 265 loss: 0.004166666883975267\n",
      "batch 266 loss: 0.004806474316865206\n",
      "batch 267 loss: 0.00406991969794035\n",
      "batch 268 loss: 0.004092659335583448\n",
      "batch 269 loss: 0.004574016202241182\n",
      "batch 270 loss: 0.0043251486495137215\n",
      "batch 271 loss: 0.004674229305237532\n",
      "batch 272 loss: 0.0050906953401863575\n",
      "batch 273 loss: 0.004301391541957855\n",
      "batch 274 loss: 0.0036583985202014446\n",
      "batch 275 loss: 0.004446716979146004\n",
      "batch 276 loss: 0.00501985801383853\n",
      "batch 277 loss: 0.0044281515292823315\n",
      "batch 278 loss: 0.0042958869598805904\n",
      "batch 279 loss: 0.003777956124395132\n",
      "batch 280 loss: 0.004217971581965685\n",
      "batch 281 loss: 0.003583044745028019\n",
      "batch 282 loss: 0.004399673081934452\n",
      "batch 283 loss: 0.003983424510806799\n",
      "batch 284 loss: 0.004008101299405098\n",
      "batch 285 loss: 0.004189528524875641\n",
      "batch 286 loss: 0.004222524352371693\n",
      "batch 287 loss: 0.004196876659989357\n",
      "batch 288 loss: 0.004211467690765858\n",
      "batch 289 loss: 0.0042673381976783276\n",
      "batch 290 loss: 0.004991860128939152\n",
      "batch 291 loss: 0.003485660534352064\n",
      "batch 292 loss: 0.004850545898079872\n",
      "batch 293 loss: 0.005149799399077892\n",
      "batch 294 loss: 0.005152828525751829\n",
      "batch 295 loss: 0.004460589494556189\n",
      "batch 296 loss: 0.004168807528913021\n",
      "batch 297 loss: 0.003770689945667982\n",
      "batch 298 loss: 0.0038966573774814606\n",
      "batch 299 loss: 0.004501769784837961\n",
      "batch 300 loss: 0.004978345241397619\n",
      "batch 301 loss: 0.004787978250533342\n",
      "batch 302 loss: 0.004068323411047459\n",
      "batch 303 loss: 0.004190234933048487\n",
      "batch 304 loss: 0.004009186755865812\n",
      "batch 305 loss: 0.004361856263130903\n",
      "batch 306 loss: 0.0036739755887538195\n",
      "batch 307 loss: 0.00397729454562068\n",
      "batch 308 loss: 0.003083824645727873\n",
      "batch 309 loss: 0.004558916669338942\n",
      "batch 310 loss: 0.004082563798874617\n",
      "batch 311 loss: 0.004625402390956879\n",
      "batch 312 loss: 0.005506596993654966\n",
      "batch 313 loss: 0.003692115191370249\n",
      "batch 314 loss: 0.004854334518313408\n",
      "batch 315 loss: 0.0047128768637776375\n",
      "batch 316 loss: 0.004434199072420597\n",
      "batch 317 loss: 0.004947659559547901\n",
      "batch 318 loss: 0.004258043598383665\n",
      "batch 319 loss: 0.004316271748393774\n",
      "batch 320 loss: 0.004354148171842098\n",
      "batch 321 loss: 0.004194046836346388\n",
      "batch 322 loss: 0.0032353713177144527\n",
      "batch 323 loss: 0.004015610087662935\n",
      "batch 324 loss: 0.004635789897292852\n",
      "batch 325 loss: 0.005124949384480715\n",
      "batch 326 loss: 0.004877318162471056\n",
      "batch 327 loss: 0.004227292723953724\n",
      "batch 328 loss: 0.003957538399845362\n",
      "batch 329 loss: 0.0047238608822226524\n",
      "batch 330 loss: 0.003976029809564352\n",
      "batch 331 loss: 0.0036885952576994896\n",
      "batch 332 loss: 0.0047987522557377815\n",
      "batch 333 loss: 0.004971854854375124\n",
      "batch 334 loss: 0.004096358548849821\n",
      "batch 335 loss: 0.004822856280952692\n",
      "batch 336 loss: 0.004253270570188761\n",
      "batch 337 loss: 0.0048984866589307785\n",
      "batch 338 loss: 0.0046050893142819405\n",
      "batch 339 loss: 0.0030891799833625555\n",
      "batch 340 loss: 0.004960956051945686\n",
      "batch 341 loss: 0.004178185481578112\n",
      "batch 342 loss: 0.004221286159008741\n",
      "batch 343 loss: 0.00270393630489707\n",
      "batch 344 loss: 0.004238544963300228\n",
      "batch 345 loss: 0.004237350542098284\n",
      "batch 346 loss: 0.004444098565727472\n",
      "batch 347 loss: 0.0039436123333871365\n",
      "batch 348 loss: 0.004202442243695259\n",
      "batch 349 loss: 0.004476330708712339\n",
      "batch 350 loss: 0.003568327985703945\n",
      "batch 351 loss: 0.004804587457329035\n",
      "batch 352 loss: 0.0036374132614582777\n",
      "batch 353 loss: 0.005367176607251167\n",
      "batch 354 loss: 0.004056462086737156\n",
      "batch 355 loss: 0.004246570635586977\n",
      "batch 356 loss: 0.004324236884713173\n",
      "batch 357 loss: 0.004759753588587046\n",
      "batch 358 loss: 0.004659608006477356\n",
      "batch 359 loss: 0.004203916527330875\n",
      "batch 360 loss: 0.005382854025810957\n",
      "batch 361 loss: 0.0036854706704616547\n",
      "batch 362 loss: 0.004331646952778101\n",
      "batch 363 loss: 0.004694224800914526\n",
      "batch 364 loss: 0.003928172867745161\n",
      "batch 365 loss: 0.00459251319989562\n",
      "batch 366 loss: 0.003964311443269253\n",
      "batch 367 loss: 0.004392762202769518\n",
      "batch 368 loss: 0.004948136862367392\n",
      "batch 369 loss: 0.0035412495490163565\n",
      "batch 370 loss: 0.004851184319704771\n",
      "batch 371 loss: 0.004464049823582172\n",
      "batch 372 loss: 0.0037919795140624046\n",
      "batch 373 loss: 0.004060312174260616\n",
      "batch 374 loss: 0.004238043911755085\n",
      "batch 375 loss: 0.003857684787362814\n",
      "batch 376 loss: 0.0041548400186002254\n",
      "batch 377 loss: 0.0044394601136446\n",
      "batch 378 loss: 0.004767661448568106\n",
      "batch 379 loss: 0.0036767558194696903\n",
      "batch 380 loss: 0.004277599975466728\n",
      "batch 381 loss: 0.004252913407981396\n",
      "batch 382 loss: 0.004667895846068859\n",
      "batch 383 loss: 0.0035245465114712715\n",
      "batch 384 loss: 0.004207822494208813\n",
      "batch 385 loss: 0.004190841689705849\n",
      "batch 386 loss: 0.004934090655297041\n",
      "batch 387 loss: 0.004218320362269878\n",
      "batch 388 loss: 0.003942586947232485\n",
      "batch 389 loss: 0.0042927563190460205\n",
      "batch 390 loss: 0.004197748377919197\n",
      "batch 391 loss: 0.004454540554434061\n",
      "batch 392 loss: 0.004698656033724546\n",
      "batch 393 loss: 0.004857698455452919\n",
      "batch 394 loss: 0.004310949705541134\n",
      "batch 395 loss: 0.004209517501294613\n",
      "batch 396 loss: 0.0038092692848294973\n",
      "batch 397 loss: 0.0042642694897949696\n",
      "batch 398 loss: 0.00532359816133976\n",
      "batch 399 loss: 0.004638461396098137\n",
      "batch 400 loss: 0.00382225657813251\n",
      "batch 401 loss: 0.004236744251102209\n",
      "batch 402 loss: 0.004686496686190367\n",
      "batch 403 loss: 0.0039024115540087223\n",
      "batch 404 loss: 0.00394455436617136\n",
      "batch 405 loss: 0.004058125428855419\n",
      "batch 406 loss: 0.0036504934541881084\n",
      "batch 407 loss: 0.004848827607929707\n",
      "batch 408 loss: 0.004706573206931353\n",
      "batch 409 loss: 0.004631563555449247\n",
      "batch 410 loss: 0.00505408737808466\n",
      "batch 411 loss: 0.004810160957276821\n",
      "batch 412 loss: 0.004223538096994162\n",
      "batch 413 loss: 0.005154706537723541\n",
      "batch 414 loss: 0.005055945832282305\n",
      "batch 415 loss: 0.004582047928124666\n",
      "batch 416 loss: 0.004559220280498266\n",
      "batch 417 loss: 0.0041322060860693455\n",
      "batch 418 loss: 0.0047284821048378944\n",
      "batch 419 loss: 0.004465780220925808\n",
      "batch 420 loss: 0.005279667675495148\n",
      "batch 421 loss: 0.00463433563709259\n",
      "batch 422 loss: 0.004074835684150457\n",
      "batch 423 loss: 0.005017892923206091\n",
      "batch 424 loss: 0.004313062410801649\n",
      "batch 425 loss: 0.003257454838603735\n",
      "batch 426 loss: 0.003417978761717677\n",
      "batch 427 loss: 0.004268171731382608\n",
      "batch 428 loss: 0.005066603422164917\n",
      "batch 429 loss: 0.003946579527109861\n",
      "batch 430 loss: 0.0038142686244100332\n",
      "batch 431 loss: 0.004657022189348936\n",
      "batch 432 loss: 0.004064278211444616\n",
      "batch 433 loss: 0.004256374668329954\n",
      "batch 434 loss: 0.004072088282555342\n",
      "batch 435 loss: 0.004339796490967274\n",
      "batch 436 loss: 0.003639050992205739\n",
      "batch 437 loss: 0.004157232120633125\n",
      "batch 438 loss: 0.00504712900146842\n",
      "batch 439 loss: 0.004662828519940376\n",
      "batch 440 loss: 0.0037668144796043634\n",
      "batch 441 loss: 0.00429085036739707\n",
      "batch 442 loss: 0.005042053293436766\n",
      "batch 443 loss: 0.004363838117569685\n",
      "batch 444 loss: 0.004993845708668232\n",
      "batch 445 loss: 0.004201029427349567\n",
      "batch 446 loss: 0.003786183660849929\n",
      "batch 447 loss: 0.003937391564249992\n",
      "batch 448 loss: 0.004488110542297363\n",
      "batch 449 loss: 0.004362087231129408\n",
      "batch 450 loss: 0.005088989157229662\n",
      "batch 451 loss: 0.003961485810577869\n",
      "batch 452 loss: 0.004380964208394289\n",
      "batch 453 loss: 0.004345855675637722\n",
      "batch 454 loss: 0.005273598711937666\n",
      "batch 455 loss: 0.00429887929931283\n",
      "batch 456 loss: 0.004523276351392269\n",
      "batch 457 loss: 0.0038563134148716927\n",
      "batch 458 loss: 0.00400580046698451\n",
      "batch 459 loss: 0.004450546111911535\n",
      "batch 460 loss: 0.005104527808725834\n",
      "batch 461 loss: 0.00414655078202486\n",
      "batch 462 loss: 0.005029458086937666\n",
      "batch 463 loss: 0.004326577764004469\n",
      "batch 464 loss: 0.0040357341058552265\n",
      "batch 465 loss: 0.004578502848744392\n",
      "batch 466 loss: 0.004347627982497215\n",
      "batch 467 loss: 0.005287441425025463\n",
      "batch 468 loss: 0.00433556642383337\n",
      "batch 469 loss: 0.004507781472057104\n",
      "batch 470 loss: 0.0038960350211709738\n",
      "batch 471 loss: 0.004547725431621075\n",
      "batch 472 loss: 0.004356123972684145\n",
      "batch 473 loss: 0.004124220926314592\n",
      "batch 474 loss: 0.004149860702455044\n",
      "batch 475 loss: 0.004734415095299482\n",
      "batch 476 loss: 0.0037388382479548454\n",
      "batch 477 loss: 0.004071822389960289\n",
      "batch 478 loss: 0.0035820340272039175\n",
      "batch 479 loss: 0.004380061291158199\n",
      "batch 480 loss: 0.00447748601436615\n",
      "batch 481 loss: 0.0036808939184993505\n",
      "batch 482 loss: 0.004125094041228294\n",
      "batch 483 loss: 0.004677633289247751\n",
      "batch 484 loss: 0.004682914819568396\n",
      "batch 485 loss: 0.004451944027096033\n",
      "batch 486 loss: 0.003748422022908926\n",
      "batch 487 loss: 0.004538110923022032\n",
      "batch 488 loss: 0.003911105450242758\n",
      "batch 489 loss: 0.0040476759895682335\n",
      "batch 490 loss: 0.004542278125882149\n",
      "batch 491 loss: 0.003970075864344835\n",
      "batch 492 loss: 0.004543500021100044\n",
      "batch 493 loss: 0.0036396195646375418\n",
      "batch 494 loss: 0.00464602280408144\n",
      "batch 495 loss: 0.004539962392300367\n",
      "batch 496 loss: 0.0047595323994755745\n",
      "batch 497 loss: 0.0041131083853542805\n",
      "batch 498 loss: 0.004754248540848494\n",
      "batch 499 loss: 0.0055760969407856464\n",
      "batch 500 loss: 0.004061507526785135\n",
      "batch 501 loss: 0.004692566115409136\n",
      "batch 502 loss: 0.003568659070879221\n",
      "batch 503 loss: 0.004075581207871437\n",
      "batch 504 loss: 0.004710780456662178\n",
      "batch 505 loss: 0.004413511138409376\n",
      "batch 506 loss: 0.0033799658995121717\n",
      "batch 507 loss: 0.005244596395641565\n",
      "batch 508 loss: 0.004378706682473421\n",
      "batch 509 loss: 0.004146135877817869\n",
      "batch 510 loss: 0.0037694417405873537\n",
      "batch 511 loss: 0.003962229005992413\n",
      "batch 512 loss: 0.00486393878236413\n",
      "batch 513 loss: 0.0038747333455830812\n",
      "batch 514 loss: 0.004990316461771727\n",
      "batch 515 loss: 0.004536384250968695\n",
      "batch 516 loss: 0.004495370667427778\n",
      "batch 517 loss: 0.004463014658540487\n",
      "batch 518 loss: 0.003753360128030181\n",
      "batch 519 loss: 0.004111006855964661\n",
      "batch 520 loss: 0.0038125670980662107\n",
      "batch 521 loss: 0.0041481610387563705\n",
      "batch 522 loss: 0.004204513505101204\n",
      "batch 523 loss: 0.004975627176463604\n",
      "batch 524 loss: 0.0045084585435688496\n",
      "batch 525 loss: 0.004180433228611946\n",
      "batch 526 loss: 0.004410739056766033\n",
      "batch 527 loss: 0.0044995518401265144\n",
      "batch 528 loss: 0.004983253311365843\n",
      "batch 529 loss: 0.0038436511531472206\n",
      "batch 530 loss: 0.004341600462794304\n",
      "batch 531 loss: 0.0038664056919515133\n",
      "batch 532 loss: 0.004126244690269232\n",
      "batch 533 loss: 0.004175789654254913\n",
      "batch 534 loss: 0.0037785128224641085\n",
      "batch 535 loss: 0.0036537288688123226\n",
      "batch 536 loss: 0.004780560731887817\n",
      "batch 537 loss: 0.004736413713544607\n",
      "batch 538 loss: 0.0049892752431333065\n",
      "batch 539 loss: 0.005257741082459688\n",
      "batch 540 loss: 0.003955548629164696\n",
      "batch 541 loss: 0.005206161178648472\n",
      "batch 542 loss: 0.004615058656781912\n",
      "batch 543 loss: 0.004133096430450678\n",
      "batch 544 loss: 0.0040136524476110935\n",
      "batch 545 loss: 0.0037500159814953804\n",
      "batch 546 loss: 0.004310889169573784\n",
      "batch 547 loss: 0.003763690125197172\n",
      "batch 548 loss: 0.004033260978758335\n",
      "batch 549 loss: 0.004620515741407871\n",
      "batch 550 loss: 0.004480800591409206\n",
      "batch 551 loss: 0.004492941778153181\n",
      "batch 552 loss: 0.003611417720094323\n",
      "batch 553 loss: 0.004687368869781494\n",
      "batch 554 loss: 0.0048331934958696365\n",
      "batch 555 loss: 0.00461553642526269\n",
      "batch 556 loss: 0.00493996636942029\n",
      "batch 557 loss: 0.00434437720105052\n",
      "batch 558 loss: 0.003769060131162405\n",
      "batch 559 loss: 0.004723596386611462\n",
      "batch 560 loss: 0.004665337037295103\n",
      "batch 561 loss: 0.004749306011945009\n",
      "batch 562 loss: 0.004623935557901859\n",
      "batch 563 loss: 0.004084222484380007\n",
      "batch 564 loss: 0.0047478098422288895\n",
      "batch 565 loss: 0.004238719120621681\n",
      "batch 566 loss: 0.004377218894660473\n",
      "batch 567 loss: 0.004813212435692549\n",
      "batch 568 loss: 0.003993250895291567\n",
      "batch 569 loss: 0.004371833987534046\n",
      "batch 570 loss: 0.004235337022691965\n",
      "batch 571 loss: 0.004419537261128426\n",
      "batch 572 loss: 0.004640711471438408\n",
      "batch 573 loss: 0.003959717229008675\n",
      "batch 574 loss: 0.004119617398828268\n",
      "batch 575 loss: 0.004160769749432802\n",
      "batch 576 loss: 0.004731506574898958\n",
      "batch 577 loss: 0.003771830117329955\n",
      "batch 578 loss: 0.004554440267384052\n",
      "batch 579 loss: 0.003651980310678482\n"
     ]
    }
   ],
   "source": [
    "i = 0\n",
    "model = CNN_linear(linear_input_size=FRAMES_IN*2304, output_size=FRAMES_OUT)\n",
    "\n",
    "for batch in data_module.train_dataloader():\n",
    "    x_train = batch[\"input\"]\n",
    "    y_train = batch[\"output\"]  \n",
    "    y_pred = model.forward(x_train)\n",
    "    loss = criterion(y_pred, y_train)\n",
    "    print(f\"batch {i} loss: {loss.item()}\")\n",
    "    i += 1\n",
    "    "
   ]
  },
  {
   "cell_type": "code",
   "execution_count": 59,
   "metadata": {},
   "outputs": [
    {
     "data": {
      "text/plain": [
       "torch.Size([64, 2, 60])"
      ]
     },
     "execution_count": 59,
     "metadata": {},
     "output_type": "execute_result"
    }
   ],
   "source": [
    "model = CNN_linear(linear_input_size=FRAMES_IN*2304, output_size=FRAMES_OUT)\n",
    "y_pred = model.forward(x_train)\n",
    "y_pred.shape"
   ]
  },
  {
   "cell_type": "code",
   "execution_count": 62,
   "metadata": {},
   "outputs": [
    {
     "data": {
      "text/plain": [
       "0.0036315203178673983"
      ]
     },
     "execution_count": 62,
     "metadata": {},
     "output_type": "execute_result"
    }
   ],
   "source": [
    "loss = criterion(y_pred, y_train)\n",
    "loss.item()"
   ]
  },
  {
   "cell_type": "markdown",
   "metadata": {},
   "source": [
    "# Testing"
   ]
  },
  {
   "cell_type": "code",
   "execution_count": null,
   "metadata": {},
   "outputs": [
    {
     "name": "stdout",
     "output_type": "stream",
     "text": [
      "torch.Size([1, 10, 3, 54, 96]) torch.Size([1, 2, 60])\n"
     ]
    }
   ],
   "source": [
    "# get first I/O-sequence of test dataset for visualizing a prediction\n",
    "for batch in data_module.test_dataloader():\n",
    "    x_test = batch[\"input\"]\n",
    "    y_test = batch[\"output\"]\n",
    "    break\n",
    "\n",
    "if CUDA:\n",
    "    x_test = x_test.cuda()\n",
    "    y_test = y_test.cuda()\n",
    "\n",
    "print(x_test.shape, y_test.shape)"
   ]
  },
  {
   "cell_type": "code",
   "execution_count": null,
   "metadata": {},
   "outputs": [
    {
     "name": "stdout",
     "output_type": "stream",
     "text": [
      "predicted pitch: [0.0638, 0.1482, 0.0634, 0.1419, -0.0632, -0.0303, -0.1002, 0.1115, 0.0772, 0.1913, 0.1398, 0.0463, 0.0753, -0.0097, 0.0359, 0.0842, 0.0137, -0.0045, 0.0017, 0.0176, 0.0289, -0.0673, -0.0016, 0.0633, -0.0906, -0.1441, -0.2138, 0.0352, 0.2151, 0.1709, 0.2073, 0.1703, 0.2481, 0.1555, 0.1014, -0.0618, 0.0739, -0.0738, -0.033, 0.0415, 0.0991, -0.0098, 0.0394, -0.126, -0.0321, -0.0707, 0.07, 0.0778, 0.0093, 0.0038, -0.0324, 0.041, -0.1601, 0.0658, -0.0195, -0.003, -0.05, -0.1063, -0.1206, 0.063]\n",
      "real pitch:\t [0.0774, 0.0955, 0.0615, 0.1166, -0.1029, -0.039, -0.0965, 0.115, 0.0672, 0.1892, 0.1413, 0.0972, 0.0782, -0.0112, 0.0431, 0.1098, 0.081, 0.0346, 0.0441, 0.0603, 0.0499, -0.0585, 0.0075, 0.0952, -0.1104, -0.1677, -0.1942, 0.0601, 0.1967, 0.1765, 0.1818, 0.1645, 0.2538, 0.2093, 0.1261, -0.0085, 0.1973, 0.0156, 0.0242, 0.059, 0.1047, -0.0406, 0.0331, -0.1455, 0.0176, 0.0285, 0.1294, 0.1163, 0.0226, 0.0171, -0.066, 0.0246, -0.1826, 0.0472, -0.0261, -0.0216, -0.0763, -0.1334, -0.1328, 0.0595]\n",
      "loss: 0.001162\n"
     ]
    },
    {
     "data": {
      "text/plain": [
       "(torch.Size([10, 3, 54, 96]), torch.Size([2, 60]), torch.Size([2, 60]))"
      ]
     },
     "execution_count": 49,
     "metadata": {},
     "output_type": "execute_result"
    }
   ],
   "source": [
    "criterion = nn.MSELoss()\n",
    "\n",
    "# make one prediction for visualization\n",
    "with torch.no_grad():\n",
    "    y_pred = loaded_model(x_test.squeeze(1))\n",
    "    loss = criterion(y_pred, y_test)\n",
    "\n",
    "    # clean up tensor and round results to visually compare predicted sequence\n",
    "    a = y_pred.squeeze(0)[0].tolist()\n",
    "    a = [round(num, 4) for num in a]\n",
    "\n",
    "    b = y_test.squeeze(0)[0].tolist()\n",
    "    b = [round(num, 4) for num in b]\n",
    "\n",
    "    print(f'predicted pitch: {a}\\nreal pitch:\\t {b}')\n",
    "    print(\"loss:\", round(loss.item(), 6))\n",
    "\n",
    "# squeeze out batch size and convert into cpu format for plotting\n",
    "x_test.squeeze(0).shape\n",
    "input_sequence = x_test.squeeze(0).cpu()\n",
    "output_sequence = y_test.squeeze(0).cpu()\n",
    "predicted_sequence = y_pred.squeeze(0).cpu()\n",
    "input_sequence.shape, output_sequence.shape, predicted_sequence.shape"
   ]
  },
  {
   "cell_type": "markdown",
   "metadata": {},
   "source": [
    "### Prediction vs. real on first test I/O-sequence"
   ]
  },
  {
   "cell_type": "code",
   "execution_count": null,
   "metadata": {},
   "outputs": [
    {
     "data": {
      "image/png": "[encoded data removed]",
      "text/plain": [
       "<Figure size 864x432 with 1 Axes>"
      ]
     },
     "metadata": {
      "needs_background": "light"
     },
     "output_type": "display_data"
    }
   ],
   "source": [
    "frames = np.arange(0,FRAMES_OUT)\n",
    "fig, ax = plt.subplots(figsize=(12, 6))\n",
    "ax.plot(output_sequence[0].apply_(denorm_pr), label=\"real\")\n",
    "ax.plot(predicted_sequence[0].apply_(denorm_pr), color=\"red\", label='predicted')\n",
    "ax.set_xlabel('frames')\n",
    "ax.set_ylabel('pitch (°)')\n",
    "ax.set_title(f'{FRAMES_IN} to {FRAMES_OUT} prediction results')\n",
    "plt.legend()\n",
    "plt.savefig(f'{RESULT_FOLDER}/1ep_pitch-prediction_{FRAMES_IN}in_{FRAMES_OUT}out_epochs{NUM_EPOCHS}')\n",
    "plt.show()"
   ]
  },
  {
   "cell_type": "code",
   "execution_count": null,
   "metadata": {},
   "outputs": [
    {
     "data": {
      "image/png": "[encoded data removed]",
      "text/plain": [
       "<Figure size 864x432 with 1 Axes>"
      ]
     },
     "metadata": {
      "needs_background": "light"
     },
     "output_type": "display_data"
    }
   ],
   "source": [
    "frames = np.arange(0,FRAMES_OUT)\n",
    "fig, ax = plt.subplots(figsize=(12, 6))\n",
    "ax.plot(output_sequence[1], label=\"real\")\n",
    "ax.plot(predicted_sequence[1], color=\"red\", label='predicted')\n",
    "ax.set_xlabel('frames')\n",
    "ax.set_ylabel('roll (normalized)')\n",
    "ax.set_title(f'{FRAMES_IN} to {FRAMES_OUT} prediction results')\n",
    "plt.legend()\n",
    "plt.savefig(f'{RESULT_FOLDER}/1ep_roll-prediction_{FRAMES_IN}in_{FRAMES_OUT}out_epochs{NUM_EPOCHS}')\n",
    "plt.show()"
   ]
  },
  {
   "cell_type": "markdown",
   "metadata": {},
   "source": [
    "### Full test loop"
   ]
  },
  {
   "cell_type": "code",
   "execution_count": null,
   "metadata": {},
   "outputs": [
    {
     "data": {
      "application/vnd.jupyter.widget-view+json": {
       "model_id": "b41570183fe44f29b9d46f7373394848",
       "version_major": 2,
       "version_minor": 0
      },
      "text/plain": [
       "  0%|          | 0/9268 [00:00<?, ?it/s]"
      ]
     },
     "metadata": {},
     "output_type": "display_data"
    }
   ],
   "source": [
    "predictions = []\n",
    "labels = []\n",
    "\n",
    "with torch.no_grad():\n",
    "    for batch in tqdm(data_module.test_dataloader()):\n",
    "        x_test = batch[\"input\"]\n",
    "        y_test = batch[\"output\"]\n",
    "\n",
    "        if CUDA:\n",
    "            x_test = x_test.cuda()\n",
    "\n",
    "        output = loaded_model(x_test.squeeze(1))\n",
    "\n",
    "        # squeeze out batch size which is = 1 for test dataset\n",
    "        predictions.append(output.cpu().squeeze(0))\n",
    "        labels.append(y_test.squeeze(0))"
   ]
  },
  {
   "cell_type": "code",
   "execution_count": null,
   "metadata": {},
   "outputs": [
    {
     "data": {
      "text/plain": [
       "tensor([ 0.0638,  0.1482,  0.0634,  0.1419, -0.0632, -0.0303, -0.1002,  0.1115,\n",
       "         0.0772,  0.1913,  0.1398,  0.0463,  0.0753, -0.0097,  0.0359,  0.0842,\n",
       "         0.0137, -0.0045,  0.0017,  0.0176,  0.0289, -0.0673, -0.0016,  0.0633,\n",
       "        -0.0906, -0.1441, -0.2138,  0.0352,  0.2151,  0.1709,  0.2073,  0.1703,\n",
       "         0.2481,  0.1555,  0.1014, -0.0618,  0.0739, -0.0738, -0.0330,  0.0415,\n",
       "         0.0991, -0.0098,  0.0394, -0.1260, -0.0321, -0.0707,  0.0700,  0.0778,\n",
       "         0.0093,  0.0038, -0.0324,  0.0410, -0.1601,  0.0658, -0.0195, -0.0030,\n",
       "        -0.0500, -0.1063, -0.1206,  0.0630])"
      ]
     },
     "execution_count": 55,
     "metadata": {},
     "output_type": "execute_result"
    }
   ],
   "source": [
    "predictions[0][0]"
   ]
  },
  {
   "cell_type": "code",
   "execution_count": null,
   "metadata": {},
   "outputs": [
    {
     "data": {
      "text/plain": [
       "(torch.Size([60]), torch.Size([60]), torch.Size([60]), torch.Size([60]))"
      ]
     },
     "execution_count": 56,
     "metadata": {},
     "output_type": "execute_result"
    }
   ],
   "source": [
    "# Predictions[0] = tensor object\n",
    "# Predictions[0][0] = pitch value\n",
    "# Predictions[0][1] = roll value\n",
    "\n",
    "pitch_predictions = []\n",
    "roll_predictions = []\n",
    "\n",
    "pitch_label = []\n",
    "roll_label = []\n",
    "\n",
    "for i in range(len(predictions)):\n",
    "    pitch_predictions.append(predictions[i][0])\n",
    "    roll_predictions.append(predictions[i][1])\n",
    "    pitch_label.append(labels[i][0])\n",
    "    roll_label.append(labels[i][1])\n",
    "\n",
    "pitch_predictions[0].shape, roll_predictions[0].shape, pitch_label[0].shape, roll_label[0].shape"
   ]
  },
  {
   "cell_type": "markdown",
   "metadata": {},
   "source": [
    "### Average loss-per-frame over all datapoints"
   ]
  },
  {
   "cell_type": "code",
   "execution_count": null,
   "metadata": {},
   "outputs": [],
   "source": [
    "# function that returns a list with loss-values per frame\n",
    "def loss_per_frame(predicted_sequence, real_sequence):\n",
    "    loss_per_frame = []\n",
    "    criterion = nn.MSELoss()\n",
    "    if predicted_sequence.shape != real_sequence.shape:\n",
    "        return loss_per_frame\n",
    "    for i in range(len(predicted_sequence)):\n",
    "        loss = criterion(predicted_sequence[i], real_sequence[i])\n",
    "        loss_per_frame.append(loss.item())\n",
    "    return loss_per_frame"
   ]
  },
  {
   "cell_type": "code",
   "execution_count": null,
   "metadata": {},
   "outputs": [
    {
     "data": {
      "application/vnd.jupyter.widget-view+json": {
       "model_id": "be77d530001d49db8ccb77c8a963e229",
       "version_major": 2,
       "version_minor": 0
      },
      "text/plain": [
       "  0%|          | 0/9268 [00:00<?, ?it/s]"
      ]
     },
     "metadata": {},
     "output_type": "display_data"
    }
   ],
   "source": [
    "# calculate mean loss per frame over all test data\n",
    "total = len(pitch_predictions)\n",
    "pitch_total = np.zeros(FRAMES_OUT, dtype=np.float64)\n",
    "roll_total = np.zeros(FRAMES_OUT, dtype=np.float64)\n",
    "\n",
    "for i in tqdm(range(len(pitch_predictions))):\n",
    "    pitch_lpf = loss_per_frame(pitch_predictions[i], pitch_label[i])\n",
    "    roll_lpf = loss_per_frame(roll_predictions[i], roll_label[i])\n",
    "    pitch_total += pitch_lpf\n",
    "    roll_total += roll_lpf\n",
    "\n",
    "pitch_lpf_mse = pitch_total / total\n",
    "roll_lpf_mse = roll_total / total"
   ]
  },
  {
   "cell_type": "code",
   "execution_count": null,
   "metadata": {},
   "outputs": [
    {
     "data": {
      "image/png": "[encoded data removed]",
      "text/plain": [
       "<Figure size 864x288 with 1 Axes>"
      ]
     },
     "metadata": {
      "needs_background": "light"
     },
     "output_type": "display_data"
    }
   ],
   "source": [
    "plt.figure(figsize=(12, 4))\n",
    "plt.plot(pitch_lpf_mse, label='pitch')\n",
    "plt.plot(roll_lpf_mse, color='orange', label='roll')\n",
    "plt.xlabel('predicted frame')\n",
    "plt.ylabel('MSE Loss')\n",
    "plt.title('Loss per frame: MSE')\n",
    "plt.legend()\n",
    "plt.savefig(f'{RESULT_FOLDER}/LPF-MSE_{FRAMES_IN}in_{FRAMES_OUT}out_epochs{NUM_EPOCHS}')\n",
    "plt.show()"
   ]
  },
  {
   "cell_type": "code",
   "execution_count": null,
   "metadata": {},
   "outputs": [
    {
     "data": {
      "image/png": "[encoded data removed]",
      "text/plain": [
       "<Figure size 864x288 with 1 Axes>"
      ]
     },
     "metadata": {
      "needs_background": "light"
     },
     "output_type": "display_data"
    }
   ],
   "source": [
    "pitch_lpf_rmse = np.sqrt(pitch_lpf_mse)\n",
    "roll_lpf_rmse = np.sqrt(roll_lpf_mse)\n",
    "denorm = lambda x: denorm_pr(x)\n",
    "vfunc = np.vectorize(denorm)\n",
    "plt.figure(figsize=(12, 4))\n",
    "plt.plot(vfunc(pitch_lpf_rmse), label='pitch')\n",
    "plt.plot(vfunc(roll_lpf_rmse), color='orange', label='roll')\n",
    "plt.xlabel('predicted frame')\n",
    "plt.ylabel('Denormalized RMSE Loss (°)')\n",
    "plt.title('Loss per frame: denormalized RMSE')\n",
    "plt.legend()\n",
    "plt.savefig(f'{RESULT_FOLDER}/LPF-denorm-RMSE_{FRAMES_IN}in_{FRAMES_OUT}out_epochs{NUM_EPOCHS}')\n",
    "plt.show()"
   ]
  },
  {
   "cell_type": "markdown",
   "metadata": {},
   "source": [
    "### MSE results pitch"
   ]
  },
  {
   "cell_type": "code",
   "execution_count": null,
   "metadata": {},
   "outputs": [
    {
     "name": "stdout",
     "output_type": "stream",
     "text": [
      "Pitch prediction\n",
      "   MSE: 0.00084\n",
      "   RMSE: 0.029\n",
      "   RMSE denorm: 2.61°\n",
      "Zero prediction\n",
      "   MSE 0: 0.00369\n",
      "   RMSE 0: 0.0607\n",
      "   RMSE denorm: 5.46°\n",
      "Improvement on zero prediction:\n",
      "   MSE delta%: 439.29 %\n",
      "   RMSE delta%: 209.31 %\n"
     ]
    }
   ],
   "source": [
    "n = len(pitch_predictions)\n",
    "loss0_tensor = torch.zeros(FRAMES_OUT)\n",
    "criterion = nn.MSELoss()\n",
    "\n",
    "loss = 0\n",
    "loss0 = 0\n",
    "\n",
    "for i in range(n):\n",
    "    loss += criterion(pitch_label[i], pitch_predictions[i]).item()\n",
    "    loss0 += criterion(pitch_label[i], loss0_tensor).item()\n",
    "\n",
    "mse = round(loss/n, 5)\n",
    "rmse = round(math.sqrt(loss/n), 4)\n",
    "mse0 = round(loss0/n, 5)\n",
    "rmse0 = round(math.sqrt(loss0/n), 4)\n",
    "\n",
    "print(\"Pitch prediction\")\n",
    "print(\"   MSE:\", mse)\n",
    "print(\"   RMSE:\", rmse)\n",
    "print(f\"   RMSE denorm: {round(denorm_pr(rmse), 2)}°\")\n",
    "print(\"Zero prediction\")\n",
    "print(\"   MSE 0:\", mse0)\n",
    "print(\"   RMSE 0:\", rmse0)\n",
    "print(f\"   RMSE denorm: {round(denorm_pr(rmse0), 2)}°\")\n",
    "print(\"Improvement on zero prediction:\")\n",
    "print(\"   MSE delta%:\", round(mse0/mse*100, 2), \"%\")\n",
    "print(\"   RMSE delta%:\", round(rmse0/rmse*100, 2), \"%\")"
   ]
  },
  {
   "cell_type": "markdown",
   "metadata": {},
   "source": [
    "### MSE results roll"
   ]
  },
  {
   "cell_type": "code",
   "execution_count": null,
   "metadata": {},
   "outputs": [
    {
     "name": "stdout",
     "output_type": "stream",
     "text": [
      "Roll prediction\n",
      "   MSE: 0.00088\n",
      "   RMSE: 0.0296\n",
      "   RMSE denorm: 2.66°\n",
      "Zero prediction\n",
      "   MSE 0: 0.00443\n",
      "   RMSE 0: 0.0665\n",
      "   RMSE denorm: 5.98°\n",
      "Improvement on zero prediction:\n",
      "   MSE delta%: 503.41 %\n",
      "   RMSE delta%: 224.66 %\n"
     ]
    }
   ],
   "source": [
    "n = len(pitch_predictions)\n",
    "loss0_tensor = torch.zeros(FRAMES_OUT)\n",
    "criterion = nn.MSELoss()\n",
    "\n",
    "loss = 0\n",
    "loss0 = 0\n",
    "\n",
    "for i in range(n):\n",
    "    loss += criterion(roll_label[i], roll_predictions[i]).item()\n",
    "    loss0 += criterion(roll_label[i], loss0_tensor).item()\n",
    "\n",
    "mse = round(loss/n, 5)\n",
    "rmse = round(math.sqrt(loss/n), 4)\n",
    "mse0 = round(loss0/n, 5)\n",
    "rmse0 = round(math.sqrt(loss0/n), 4)\n",
    "\n",
    "print(\"Roll prediction\")\n",
    "print(\"   MSE:\", mse)\n",
    "print(\"   RMSE:\", rmse)\n",
    "print(f\"   RMSE denorm: {round(denorm_pr(rmse), 2)}°\")\n",
    "print(\"Zero prediction\")\n",
    "print(\"   MSE 0:\", mse0)\n",
    "print(\"   RMSE 0:\", rmse0)\n",
    "print(f\"   RMSE denorm: {round(denorm_pr(rmse0), 2)}°\")\n",
    "print(\"Improvement on zero prediction:\")\n",
    "print(\"   MSE delta%:\", round(mse0/mse*100, 2), \"%\")\n",
    "print(\"   RMSE delta%:\", round(rmse0/rmse*100, 2), \"%\")"
   ]
  }
 ],
 "metadata": {
  "interpreter": {
   "hash": "10eea1320f31955e3067f39969a0854b449a89d7f91a5c6b0bcec70e16d0858a"
  },
  "kernelspec": {
   "display_name": "Python 3.8.13 ('thesis')",
   "language": "python",
   "name": "python3"
  },
  "language_info": {
   "codemirror_mode": {
    "name": "ipython",
    "version": 3
   },
   "file_extension": ".py",
   "mimetype": "text/x-python",
   "name": "python",
   "nbconvert_exporter": "python",
   "pygments_lexer": "ipython3",
   "version": "3.8.13"
  },
  "orig_nbformat": 4
 },
 "nbformat": 4,
 "nbformat_minor": 2
}
