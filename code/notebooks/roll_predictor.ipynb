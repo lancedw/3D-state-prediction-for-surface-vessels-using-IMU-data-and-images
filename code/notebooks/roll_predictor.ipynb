{
 "cells": [
  {
   "cell_type": "markdown",
   "metadata": {},
   "source": [
    "# Pitch & Roll prediction model"
   ]
  },
  {
   "cell_type": "code",
   "execution_count": 2,
   "metadata": {},
   "outputs": [],
   "source": [
    "import gc\n",
    "import os\n",
    "import json\n",
    "import math\n",
    "import pickle\n",
    "import random\n",
    "import platform\n",
    "import numpy as np\n",
    "import pandas as pd\n",
    "import multiprocessing\n",
    "from tqdm.notebook import tqdm\n",
    "import matplotlib.pyplot as plt\n",
    "\n",
    "import torch\n",
    "import torch.nn as nn\n",
    "import torch.optim as optim\n",
    "import torch.nn.functional as F\n",
    "import torch.autograd as autograd\n",
    "from torch.utils.data import Dataset, DataLoader\n",
    "\n",
    "import pytorch_lightning as pl"
   ]
  },
  {
   "cell_type": "code",
   "execution_count": 3,
   "metadata": {},
   "outputs": [
    {
     "name": "stdout",
     "output_type": "stream",
     "text": [
      "1.11.0\n",
      "1.6.0\n"
     ]
    }
   ],
   "source": [
    "print(torch.__version__)\n",
    "print(pl.__version__)"
   ]
  },
  {
   "cell_type": "code",
   "execution_count": 4,
   "metadata": {},
   "outputs": [
    {
     "name": "stdout",
     "output_type": "stream",
     "text": [
      "device: cuda\n",
      "CPU count: 4\n",
      "Platform: windows\n",
      "number of workers: 0\n"
     ]
    }
   ],
   "source": [
    "device = torch.device('cuda' if torch.cuda.is_available() else 'cpu')\n",
    "print(\"device:\", device)\n",
    "cpu_count = multiprocessing.cpu_count()\n",
    "print('CPU count:', cpu_count)\n",
    "platform_os = \"windows\" if platform.system() == \"Windows\" else \"linux\"\n",
    "print(\"Platform:\", platform_os)\n",
    "\n",
    "# Pytorch Dataloader can't handle n_workers > 0 on windows due to bugs\n",
    "N_WORKERS = 0 if platform_os==\"windows\" else cpu_count\n",
    "print(f\"number of workers: {N_WORKERS}\")"
   ]
  },
  {
   "cell_type": "markdown",
   "metadata": {},
   "source": [
    "# Constants"
   ]
  },
  {
   "cell_type": "code",
   "execution_count": 5,
   "metadata": {},
   "outputs": [],
   "source": [
    "# change to appropriate location\n",
    "TRAIN_FOLDER = \"../3dmodel/test_4_episode_\"\n",
    "MODEL_NAME = \"LSTM_PR_single_output_roll\"\n",
    "MODEL_STATE_FOLDER = f\"model_states/{MODEL_NAME}\"\n",
    "RESULT_FOLDER = f\"../results/{MODEL_NAME}\"\n",
    "TRAIN_RESULT_FOLDER = f\"training_results/{MODEL_NAME}\""
   ]
  },
  {
   "cell_type": "code",
   "execution_count": 6,
   "metadata": {},
   "outputs": [],
   "source": [
    "if not os.path.exists(MODEL_STATE_FOLDER):\n",
    "    os.mkdir(MODEL_STATE_FOLDER)\n",
    "if not os.path.exists(TRAIN_RESULT_FOLDER):\n",
    "    os.mkdir(TRAIN_RESULT_FOLDER)\n",
    "if not os.path.exists(RESULT_FOLDER):\n",
    "    os.mkdir(RESULT_FOLDER)"
   ]
  },
  {
   "cell_type": "code",
   "execution_count": 7,
   "metadata": {},
   "outputs": [],
   "source": [
    "FRAMES_IN = 10\n",
    "FRAMES_OUT = 1\n",
    "\n",
    "N_EPISODES = 540\n",
    "FRAMES_PER_EPISODE = 400\n",
    "\n",
    "TRAIN_SIZE = 0.8\n",
    "NUM_EPOCHS = 50\n",
    "BATCH_SIZE = 64\n",
    "LEARNING_RATE = 0.001\n",
    "\n",
    "CUDA = device.type == 'cuda'\n",
    "DEVICE = device"
   ]
  },
  {
   "cell_type": "markdown",
   "metadata": {},
   "source": [
    "# Load data from episodes"
   ]
  },
  {
   "cell_type": "code",
   "execution_count": 8,
   "metadata": {},
   "outputs": [
    {
     "data": {
      "text/html": [
       "<div>\n",
       "<style scoped>\n",
       "    .dataframe tbody tr th:only-of-type {\n",
       "        vertical-align: middle;\n",
       "    }\n",
       "\n",
       "    .dataframe tbody tr th {\n",
       "        vertical-align: top;\n",
       "    }\n",
       "\n",
       "    .dataframe thead th {\n",
       "        text-align: right;\n",
       "    }\n",
       "</style>\n",
       "<table border=\"1\" class=\"dataframe\">\n",
       "  <thead>\n",
       "    <tr style=\"text-align: right;\">\n",
       "      <th></th>\n",
       "      <th>pitch</th>\n",
       "      <th>roll</th>\n",
       "    </tr>\n",
       "  </thead>\n",
       "  <tbody>\n",
       "    <tr>\n",
       "      <th>0</th>\n",
       "      <td>15.915869</td>\n",
       "      <td>2.358416</td>\n",
       "    </tr>\n",
       "    <tr>\n",
       "      <th>1</th>\n",
       "      <td>14.295925</td>\n",
       "      <td>1.700391</td>\n",
       "    </tr>\n",
       "    <tr>\n",
       "      <th>2</th>\n",
       "      <td>6.213590</td>\n",
       "      <td>1.611325</td>\n",
       "    </tr>\n",
       "    <tr>\n",
       "      <th>3</th>\n",
       "      <td>1.235337</td>\n",
       "      <td>6.175461</td>\n",
       "    </tr>\n",
       "    <tr>\n",
       "      <th>4</th>\n",
       "      <td>1.341678</td>\n",
       "      <td>3.695468</td>\n",
       "    </tr>\n",
       "    <tr>\n",
       "      <th>...</th>\n",
       "      <td>...</td>\n",
       "      <td>...</td>\n",
       "    </tr>\n",
       "    <tr>\n",
       "      <th>395</th>\n",
       "      <td>-0.204481</td>\n",
       "      <td>1.503337</td>\n",
       "    </tr>\n",
       "    <tr>\n",
       "      <th>396</th>\n",
       "      <td>1.074743</td>\n",
       "      <td>10.724272</td>\n",
       "    </tr>\n",
       "    <tr>\n",
       "      <th>397</th>\n",
       "      <td>13.373594</td>\n",
       "      <td>1.542949</td>\n",
       "    </tr>\n",
       "    <tr>\n",
       "      <th>398</th>\n",
       "      <td>11.193637</td>\n",
       "      <td>-0.848632</td>\n",
       "    </tr>\n",
       "    <tr>\n",
       "      <th>399</th>\n",
       "      <td>5.131548</td>\n",
       "      <td>0.977777</td>\n",
       "    </tr>\n",
       "  </tbody>\n",
       "</table>\n",
       "<p>400 rows × 2 columns</p>\n",
       "</div>"
      ],
      "text/plain": [
       "         pitch       roll\n",
       "0    15.915869   2.358416\n",
       "1    14.295925   1.700391\n",
       "2     6.213590   1.611325\n",
       "3     1.235337   6.175461\n",
       "4     1.341678   3.695468\n",
       "..         ...        ...\n",
       "395  -0.204481   1.503337\n",
       "396   1.074743  10.724272\n",
       "397  13.373594   1.542949\n",
       "398  11.193637  -0.848632\n",
       "399   5.131548   0.977777\n",
       "\n",
       "[400 rows x 2 columns]"
      ]
     },
     "execution_count": 8,
     "metadata": {},
     "output_type": "execute_result"
    }
   ],
   "source": [
    "# view first episode \n",
    "filename = \"../3dmodel/test_4_episode_1/labels_0.json\"\n",
    "data = []\n",
    "labels = json.load(open(filename))\n",
    "ep1 = pd.DataFrame(labels)\n",
    "ep1 = ep1.transpose()\n",
    "ep1.rename(columns = {0:'pitch', 1:'roll'}, inplace=True)\n",
    "ep1"
   ]
  },
  {
   "cell_type": "code",
   "execution_count": 9,
   "metadata": {},
   "outputs": [],
   "source": [
    "# load all data\n",
    "episodes = [] # holds pitch, roll, episode number and position within episode number\n",
    "pr_per_episode = [] # holds all pitch and roll tuples per episode in one row (see pr_per_episode_df)\n",
    "for ep in range(1, N_EPISODES+1):\n",
    "    filename = TRAIN_FOLDER+ str(ep) +\"/labels_0.json\"\n",
    "    labels = json.load(open(filename))\n",
    "    pr_in_current_episode = []\n",
    "    for i in labels:\n",
    "        pr_in_current_episode.append(labels[i])\n",
    "        episodes.append(labels[i]+[ep, i])\n",
    "    pr_per_episode.append(pr_in_current_episode)"
   ]
  },
  {
   "cell_type": "code",
   "execution_count": 10,
   "metadata": {},
   "outputs": [
    {
     "data": {
      "text/html": [
       "<div>\n",
       "<style scoped>\n",
       "    .dataframe tbody tr th:only-of-type {\n",
       "        vertical-align: middle;\n",
       "    }\n",
       "\n",
       "    .dataframe tbody tr th {\n",
       "        vertical-align: top;\n",
       "    }\n",
       "\n",
       "    .dataframe thead th {\n",
       "        text-align: right;\n",
       "    }\n",
       "</style>\n",
       "<table border=\"1\" class=\"dataframe\">\n",
       "  <thead>\n",
       "    <tr style=\"text-align: right;\">\n",
       "      <th></th>\n",
       "      <th>pitch</th>\n",
       "      <th>roll</th>\n",
       "    </tr>\n",
       "  </thead>\n",
       "  <tbody>\n",
       "    <tr>\n",
       "      <th>0</th>\n",
       "      <td>15.915869</td>\n",
       "      <td>2.358416</td>\n",
       "    </tr>\n",
       "    <tr>\n",
       "      <th>1</th>\n",
       "      <td>14.295925</td>\n",
       "      <td>1.700391</td>\n",
       "    </tr>\n",
       "    <tr>\n",
       "      <th>2</th>\n",
       "      <td>6.213590</td>\n",
       "      <td>1.611325</td>\n",
       "    </tr>\n",
       "    <tr>\n",
       "      <th>3</th>\n",
       "      <td>1.235337</td>\n",
       "      <td>6.175461</td>\n",
       "    </tr>\n",
       "    <tr>\n",
       "      <th>4</th>\n",
       "      <td>1.341678</td>\n",
       "      <td>3.695468</td>\n",
       "    </tr>\n",
       "  </tbody>\n",
       "</table>\n",
       "</div>"
      ],
      "text/plain": [
       "       pitch      roll\n",
       "0  15.915869  2.358416\n",
       "1  14.295925  1.700391\n",
       "2   6.213590  1.611325\n",
       "3   1.235337  6.175461\n",
       "4   1.341678  3.695468"
      ]
     },
     "execution_count": 10,
     "metadata": {},
     "output_type": "execute_result"
    }
   ],
   "source": [
    "p_r_df = pd.DataFrame(episodes)\n",
    "# p_r_df.rename(columns = {0:'pitch', 1:'roll', 2:'episode', 3:'position_within_episode'}, inplace=True)\n",
    "p_r_df.rename(columns = {0:'pitch', 1:'roll'}, inplace=True)\n",
    "p_r_df = p_r_df.astype({\"pitch\": float, \"roll\": float})\n",
    "p_r_df = p_r_df.drop([2,3], axis=1)     # drop episode and position_within_episode\n",
    "p_r_df.head()"
   ]
  },
  {
   "cell_type": "code",
   "execution_count": 11,
   "metadata": {},
   "outputs": [
    {
     "data": {
      "text/html": [
       "<div>\n",
       "<style scoped>\n",
       "    .dataframe tbody tr th:only-of-type {\n",
       "        vertical-align: middle;\n",
       "    }\n",
       "\n",
       "    .dataframe tbody tr th {\n",
       "        vertical-align: top;\n",
       "    }\n",
       "\n",
       "    .dataframe thead th {\n",
       "        text-align: right;\n",
       "    }\n",
       "</style>\n",
       "<table border=\"1\" class=\"dataframe\">\n",
       "  <thead>\n",
       "    <tr style=\"text-align: right;\">\n",
       "      <th></th>\n",
       "      <th>0</th>\n",
       "      <th>1</th>\n",
       "      <th>2</th>\n",
       "      <th>3</th>\n",
       "      <th>4</th>\n",
       "      <th>5</th>\n",
       "      <th>6</th>\n",
       "      <th>7</th>\n",
       "      <th>8</th>\n",
       "      <th>9</th>\n",
       "      <th>...</th>\n",
       "      <th>390</th>\n",
       "      <th>391</th>\n",
       "      <th>392</th>\n",
       "      <th>393</th>\n",
       "      <th>394</th>\n",
       "      <th>395</th>\n",
       "      <th>396</th>\n",
       "      <th>397</th>\n",
       "      <th>398</th>\n",
       "      <th>399</th>\n",
       "    </tr>\n",
       "  </thead>\n",
       "  <tbody>\n",
       "    <tr>\n",
       "      <th>0</th>\n",
       "      <td>[15.9158690209565, 2.3584162956378014]</td>\n",
       "      <td>[14.29592488097425, 1.7003911752437184]</td>\n",
       "      <td>[6.2135895738216185, 1.6113252950233405]</td>\n",
       "      <td>[1.235337361757596, 6.175460896553669]</td>\n",
       "      <td>[1.341678284492817, 3.695467874019875]</td>\n",
       "      <td>[-0.0651516203579112, 3.0756651325514186]</td>\n",
       "      <td>[-4.392773839217525, 0.8726621608752939]</td>\n",
       "      <td>[-4.184235784139164, 0.35570707390756684]</td>\n",
       "      <td>[-3.3195511241318867, 6.666652243167843]</td>\n",
       "      <td>[5.894038319728926, -0.13849362470644613]</td>\n",
       "      <td>...</td>\n",
       "      <td>[10.389031062517569, 1.5248242575580084]</td>\n",
       "      <td>[-1.2002740520448067, 0.5092731518638726]</td>\n",
       "      <td>[-10.535511299457662, -4.131095631735996]</td>\n",
       "      <td>[-18.896939235154417, -4.945806145463817]</td>\n",
       "      <td>[-22.184256348715486, -1.9589200251876364]</td>\n",
       "      <td>[-0.2044812962373426, 1.503336589150854]</td>\n",
       "      <td>[1.0747428590627885, 10.724272114907427]</td>\n",
       "      <td>[13.3735940647023, 1.5429493384594009]</td>\n",
       "      <td>[11.19363673825518, -0.8486316877453378]</td>\n",
       "      <td>[5.131548017300437, 0.9777773314587621]</td>\n",
       "    </tr>\n",
       "    <tr>\n",
       "      <th>1</th>\n",
       "      <td>[15.97866748773289, 2.268047343389832]</td>\n",
       "      <td>[9.855846859112509, 1.360887657924949]</td>\n",
       "      <td>[6.105283691039549, 1.5623034265245723]</td>\n",
       "      <td>[1.3507750292502163, 4.69679068181667]</td>\n",
       "      <td>[1.724415511875592, 4.076017413155836]</td>\n",
       "      <td>[0.03351754252109094, 3.1310278711991915]</td>\n",
       "      <td>[-7.604052164296134, 1.8397739918625224]</td>\n",
       "      <td>[-2.5471177738191515, 2.5391520656996245]</td>\n",
       "      <td>[-2.625542432756061, 7.979014181804202]</td>\n",
       "      <td>[6.084213411223707, 0.050736486104279443]</td>\n",
       "      <td>...</td>\n",
       "      <td>[9.820045568804241, 1.8697905388306129]</td>\n",
       "      <td>[1.4623980360913844, 0.5153293418627053]</td>\n",
       "      <td>[-10.619933291372666, -3.1525508644909594]</td>\n",
       "      <td>[-15.18629041193054, -5.8295536500011895]</td>\n",
       "      <td>[-21.331025702502906, -4.46392562734884]</td>\n",
       "      <td>[-0.980658924236567, 0.000323666141662183]</td>\n",
       "      <td>[1.1033292284517018, 11.141469460921915]</td>\n",
       "      <td>[14.080388870204388, 0.990625450896085]</td>\n",
       "      <td>[11.345563197284712, -0.7964093420118897]</td>\n",
       "      <td>[4.760598735929752, 1.6810054975536355]</td>\n",
       "    </tr>\n",
       "    <tr>\n",
       "      <th>2</th>\n",
       "      <td>[15.961578354429518, 2.074803789410423]</td>\n",
       "      <td>[6.179635849683839, 0.12110205542910284]</td>\n",
       "      <td>[6.079602606647125, 1.6753055979695541]</td>\n",
       "      <td>[1.3610495547526196, 8.341244726699365]</td>\n",
       "      <td>[0.2675885889498374, 4.800268474629186]</td>\n",
       "      <td>[0.06658679384694029, 3.1533924718627517]</td>\n",
       "      <td>[-5.6663031642145985, 1.2498673085563288]</td>\n",
       "      <td>[-6.884764942802091, 0.6056172923359865]</td>\n",
       "      <td>[-2.0016676178818074, 6.428251747264541]</td>\n",
       "      <td>[6.3722296819184505, 0.18303076698380022]</td>\n",
       "      <td>...</td>\n",
       "      <td>[9.64882211782213, 1.973062358750971]</td>\n",
       "      <td>[2.395990446922511, 0.4464584900686305]</td>\n",
       "      <td>[-10.690737593629956, -2.750964556154771]</td>\n",
       "      <td>[-14.010888280304924, -6.054184484537745]</td>\n",
       "      <td>[-21.49614211059338, -4.60819715186608]</td>\n",
       "      <td>[-4.0433481914688425, 1.2884030224101293]</td>\n",
       "      <td>[1.1818524982447534, 11.202268389818784]</td>\n",
       "      <td>[14.342162700334297, 0.7591126138013591]</td>\n",
       "      <td>[8.761085355922647, -0.30987522391631195]</td>\n",
       "      <td>[4.628031167442151, 1.9668671637303579]</td>\n",
       "    </tr>\n",
       "    <tr>\n",
       "      <th>3</th>\n",
       "      <td>[7.69906521829289, 1.5796155014713218]</td>\n",
       "      <td>[8.481780991514256, 0.05603940762328032]</td>\n",
       "      <td>[3.159275826059072, 0.8631695853111513]</td>\n",
       "      <td>[1.049441063612711, 2.2469629763088257]</td>\n",
       "      <td>[0.3593771266476851, 1.8488201505313813]</td>\n",
       "      <td>[-0.07217797069325685, 1.49066178576372]</td>\n",
       "      <td>[-2.60443416001296, 0.27787303957087833]</td>\n",
       "      <td>[-5.056486372756112, 0.3636566403690948]</td>\n",
       "      <td>[-1.834612289840697, 3.3018218740372376]</td>\n",
       "      <td>[2.911777518181313, -0.18950627990486155]</td>\n",
       "      <td>...</td>\n",
       "      <td>[5.454093028683711, 0.6530340130189489]</td>\n",
       "      <td>[-1.6791362668768735, 0.18489125982090143]</td>\n",
       "      <td>[-5.466481284290821, -2.2171972253493215]</td>\n",
       "      <td>[-11.403407215591903, -1.6377460675585367]</td>\n",
       "      <td>[-9.300110224841715, 0.5591612804484688]</td>\n",
       "      <td>[-0.9304575674455022, 1.7758436346746147]</td>\n",
       "      <td>[0.5600581696638561, 4.948483152731639]</td>\n",
       "      <td>[6.361704787294284, 1.072871920838734]</td>\n",
       "      <td>[6.398844794679874, -0.44728280852408636]</td>\n",
       "      <td>[2.689249101248651, 0.22945817745416852]</td>\n",
       "    </tr>\n",
       "    <tr>\n",
       "      <th>4</th>\n",
       "      <td>[7.810402424405974, 1.4887826299683204]</td>\n",
       "      <td>[7.868472692729423, 0.18104613012244872]</td>\n",
       "      <td>[3.1332145989506532, 0.9057401800562839]</td>\n",
       "      <td>[0.9454851575582939, 2.1807891154219803]</td>\n",
       "      <td>[0.49654637500602317, 1.7821752200352163]</td>\n",
       "      <td>[-0.04738833270922448, 1.498974979757272]</td>\n",
       "      <td>[-2.617495189253317, 0.3204662326372101]</td>\n",
       "      <td>[-4.8539576034868945, 0.6764536111050119]</td>\n",
       "      <td>[-1.7194979891165945, 3.217247483526378]</td>\n",
       "      <td>[2.9227715614240943, -0.18400777751980293]</td>\n",
       "      <td>...</td>\n",
       "      <td>[5.2915481868157475, 0.7305929454785594]</td>\n",
       "      <td>[-0.9451557076525465, 0.23233229971256872]</td>\n",
       "      <td>[-5.385949938881786, -2.115911496373556]</td>\n",
       "      <td>[-10.588910572162469, -2.129767602321985]</td>\n",
       "      <td>[-11.214334772761257, 0.4122007691519324]</td>\n",
       "      <td>[-0.6278739439941491, 1.3888120325728999]</td>\n",
       "      <td>[0.5675734588241329, 5.078608501704137]</td>\n",
       "      <td>[6.597650257077789, 0.9384355485611944]</td>\n",
       "      <td>[5.924619637964011, -0.43206877559129453]</td>\n",
       "      <td>[2.6134350686785672, 0.35495815433724554]</td>\n",
       "    </tr>\n",
       "  </tbody>\n",
       "</table>\n",
       "<p>5 rows × 400 columns</p>\n",
       "</div>"
      ],
      "text/plain": [
       "                                       0    \\\n",
       "0   [15.9158690209565, 2.3584162956378014]   \n",
       "1   [15.97866748773289, 2.268047343389832]   \n",
       "2  [15.961578354429518, 2.074803789410423]   \n",
       "3   [7.69906521829289, 1.5796155014713218]   \n",
       "4  [7.810402424405974, 1.4887826299683204]   \n",
       "\n",
       "                                        1    \\\n",
       "0   [14.29592488097425, 1.7003911752437184]   \n",
       "1    [9.855846859112509, 1.360887657924949]   \n",
       "2  [6.179635849683839, 0.12110205542910284]   \n",
       "3  [8.481780991514256, 0.05603940762328032]   \n",
       "4  [7.868472692729423, 0.18104613012244872]   \n",
       "\n",
       "                                        2    \\\n",
       "0  [6.2135895738216185, 1.6113252950233405]   \n",
       "1   [6.105283691039549, 1.5623034265245723]   \n",
       "2   [6.079602606647125, 1.6753055979695541]   \n",
       "3   [3.159275826059072, 0.8631695853111513]   \n",
       "4  [3.1332145989506532, 0.9057401800562839]   \n",
       "\n",
       "                                        3    \\\n",
       "0    [1.235337361757596, 6.175460896553669]   \n",
       "1    [1.3507750292502163, 4.69679068181667]   \n",
       "2   [1.3610495547526196, 8.341244726699365]   \n",
       "3   [1.049441063612711, 2.2469629763088257]   \n",
       "4  [0.9454851575582939, 2.1807891154219803]   \n",
       "\n",
       "                                         4    \\\n",
       "0     [1.341678284492817, 3.695467874019875]   \n",
       "1     [1.724415511875592, 4.076017413155836]   \n",
       "2    [0.2675885889498374, 4.800268474629186]   \n",
       "3   [0.3593771266476851, 1.8488201505313813]   \n",
       "4  [0.49654637500602317, 1.7821752200352163]   \n",
       "\n",
       "                                         5    \\\n",
       "0  [-0.0651516203579112, 3.0756651325514186]   \n",
       "1  [0.03351754252109094, 3.1310278711991915]   \n",
       "2  [0.06658679384694029, 3.1533924718627517]   \n",
       "3   [-0.07217797069325685, 1.49066178576372]   \n",
       "4  [-0.04738833270922448, 1.498974979757272]   \n",
       "\n",
       "                                         6    \\\n",
       "0   [-4.392773839217525, 0.8726621608752939]   \n",
       "1   [-7.604052164296134, 1.8397739918625224]   \n",
       "2  [-5.6663031642145985, 1.2498673085563288]   \n",
       "3   [-2.60443416001296, 0.27787303957087833]   \n",
       "4   [-2.617495189253317, 0.3204662326372101]   \n",
       "\n",
       "                                         7    \\\n",
       "0  [-4.184235784139164, 0.35570707390756684]   \n",
       "1  [-2.5471177738191515, 2.5391520656996245]   \n",
       "2   [-6.884764942802091, 0.6056172923359865]   \n",
       "3   [-5.056486372756112, 0.3636566403690948]   \n",
       "4  [-4.8539576034868945, 0.6764536111050119]   \n",
       "\n",
       "                                        8    \\\n",
       "0  [-3.3195511241318867, 6.666652243167843]   \n",
       "1   [-2.625542432756061, 7.979014181804202]   \n",
       "2  [-2.0016676178818074, 6.428251747264541]   \n",
       "3  [-1.834612289840697, 3.3018218740372376]   \n",
       "4  [-1.7194979891165945, 3.217247483526378]   \n",
       "\n",
       "                                          9    ...  \\\n",
       "0   [5.894038319728926, -0.13849362470644613]  ...   \n",
       "1   [6.084213411223707, 0.050736486104279443]  ...   \n",
       "2   [6.3722296819184505, 0.18303076698380022]  ...   \n",
       "3   [2.911777518181313, -0.18950627990486155]  ...   \n",
       "4  [2.9227715614240943, -0.18400777751980293]  ...   \n",
       "\n",
       "                                        390  \\\n",
       "0  [10.389031062517569, 1.5248242575580084]   \n",
       "1   [9.820045568804241, 1.8697905388306129]   \n",
       "2     [9.64882211782213, 1.973062358750971]   \n",
       "3   [5.454093028683711, 0.6530340130189489]   \n",
       "4  [5.2915481868157475, 0.7305929454785594]   \n",
       "\n",
       "                                          391  \\\n",
       "0   [-1.2002740520448067, 0.5092731518638726]   \n",
       "1    [1.4623980360913844, 0.5153293418627053]   \n",
       "2     [2.395990446922511, 0.4464584900686305]   \n",
       "3  [-1.6791362668768735, 0.18489125982090143]   \n",
       "4  [-0.9451557076525465, 0.23233229971256872]   \n",
       "\n",
       "                                          392  \\\n",
       "0   [-10.535511299457662, -4.131095631735996]   \n",
       "1  [-10.619933291372666, -3.1525508644909594]   \n",
       "2   [-10.690737593629956, -2.750964556154771]   \n",
       "3   [-5.466481284290821, -2.2171972253493215]   \n",
       "4    [-5.385949938881786, -2.115911496373556]   \n",
       "\n",
       "                                          393  \\\n",
       "0   [-18.896939235154417, -4.945806145463817]   \n",
       "1   [-15.18629041193054, -5.8295536500011895]   \n",
       "2   [-14.010888280304924, -6.054184484537745]   \n",
       "3  [-11.403407215591903, -1.6377460675585367]   \n",
       "4   [-10.588910572162469, -2.129767602321985]   \n",
       "\n",
       "                                          394  \\\n",
       "0  [-22.184256348715486, -1.9589200251876364]   \n",
       "1    [-21.331025702502906, -4.46392562734884]   \n",
       "2     [-21.49614211059338, -4.60819715186608]   \n",
       "3    [-9.300110224841715, 0.5591612804484688]   \n",
       "4   [-11.214334772761257, 0.4122007691519324]   \n",
       "\n",
       "                                          395  \\\n",
       "0    [-0.2044812962373426, 1.503336589150854]   \n",
       "1  [-0.980658924236567, 0.000323666141662183]   \n",
       "2   [-4.0433481914688425, 1.2884030224101293]   \n",
       "3   [-0.9304575674455022, 1.7758436346746147]   \n",
       "4   [-0.6278739439941491, 1.3888120325728999]   \n",
       "\n",
       "                                        396  \\\n",
       "0  [1.0747428590627885, 10.724272114907427]   \n",
       "1  [1.1033292284517018, 11.141469460921915]   \n",
       "2  [1.1818524982447534, 11.202268389818784]   \n",
       "3   [0.5600581696638561, 4.948483152731639]   \n",
       "4   [0.5675734588241329, 5.078608501704137]   \n",
       "\n",
       "                                        397  \\\n",
       "0    [13.3735940647023, 1.5429493384594009]   \n",
       "1   [14.080388870204388, 0.990625450896085]   \n",
       "2  [14.342162700334297, 0.7591126138013591]   \n",
       "3    [6.361704787294284, 1.072871920838734]   \n",
       "4   [6.597650257077789, 0.9384355485611944]   \n",
       "\n",
       "                                         398  \\\n",
       "0   [11.19363673825518, -0.8486316877453378]   \n",
       "1  [11.345563197284712, -0.7964093420118897]   \n",
       "2  [8.761085355922647, -0.30987522391631195]   \n",
       "3  [6.398844794679874, -0.44728280852408636]   \n",
       "4  [5.924619637964011, -0.43206877559129453]   \n",
       "\n",
       "                                         399  \n",
       "0    [5.131548017300437, 0.9777773314587621]  \n",
       "1    [4.760598735929752, 1.6810054975536355]  \n",
       "2    [4.628031167442151, 1.9668671637303579]  \n",
       "3   [2.689249101248651, 0.22945817745416852]  \n",
       "4  [2.6134350686785672, 0.35495815433724554]  \n",
       "\n",
       "[5 rows x 400 columns]"
      ]
     },
     "execution_count": 11,
     "metadata": {},
     "output_type": "execute_result"
    }
   ],
   "source": [
    "pr_per_episode_df = pd.DataFrame(pr_per_episode)\n",
    "pr_per_episode_df.head()"
   ]
  },
  {
   "cell_type": "code",
   "execution_count": 12,
   "metadata": {},
   "outputs": [],
   "source": [
    "# Function to normalize pitch and roll angles\n",
    "def norm_pr(x, min = -90.0, max = 90.0):\n",
    "    return ((x - min) * 2) / (max - min) - 1\n",
    "\n",
    "# Function to normalize pitch and roll angles\n",
    "def denorm_pr(x, min = -90.0, max = 90.0):\n",
    "    return ((x + 1) * (max - min))/2 + min"
   ]
  },
  {
   "cell_type": "code",
   "execution_count": 13,
   "metadata": {},
   "outputs": [
    {
     "data": {
      "text/html": [
       "<div>\n",
       "<style scoped>\n",
       "    .dataframe tbody tr th:only-of-type {\n",
       "        vertical-align: middle;\n",
       "    }\n",
       "\n",
       "    .dataframe tbody tr th {\n",
       "        vertical-align: top;\n",
       "    }\n",
       "\n",
       "    .dataframe thead th {\n",
       "        text-align: right;\n",
       "    }\n",
       "</style>\n",
       "<table border=\"1\" class=\"dataframe\">\n",
       "  <thead>\n",
       "    <tr style=\"text-align: right;\">\n",
       "      <th></th>\n",
       "      <th>pitch</th>\n",
       "      <th>roll</th>\n",
       "    </tr>\n",
       "  </thead>\n",
       "  <tbody>\n",
       "    <tr>\n",
       "      <th>0</th>\n",
       "      <td>0.176843</td>\n",
       "      <td>0.026205</td>\n",
       "    </tr>\n",
       "    <tr>\n",
       "      <th>1</th>\n",
       "      <td>0.158844</td>\n",
       "      <td>0.018893</td>\n",
       "    </tr>\n",
       "    <tr>\n",
       "      <th>2</th>\n",
       "      <td>0.069040</td>\n",
       "      <td>0.017904</td>\n",
       "    </tr>\n",
       "    <tr>\n",
       "      <th>3</th>\n",
       "      <td>0.013726</td>\n",
       "      <td>0.068616</td>\n",
       "    </tr>\n",
       "    <tr>\n",
       "      <th>4</th>\n",
       "      <td>0.014908</td>\n",
       "      <td>0.041061</td>\n",
       "    </tr>\n",
       "  </tbody>\n",
       "</table>\n",
       "</div>"
      ],
      "text/plain": [
       "      pitch      roll\n",
       "0  0.176843  0.026205\n",
       "1  0.158844  0.018893\n",
       "2  0.069040  0.017904\n",
       "3  0.013726  0.068616\n",
       "4  0.014908  0.041061"
      ]
     },
     "execution_count": 13,
     "metadata": {},
     "output_type": "execute_result"
    }
   ],
   "source": [
    "# normalize PR-values\n",
    "p_r_df['pitch'] = p_r_df['pitch'].apply(lambda x : norm_pr(x))\n",
    "p_r_df['roll'] = p_r_df['roll'].apply(lambda x : norm_pr(x))\n",
    "p_r_df.head()"
   ]
  },
  {
   "cell_type": "markdown",
   "metadata": {},
   "source": [
    "# Create input and output sequences"
   ]
  },
  {
   "cell_type": "code",
   "execution_count": 14,
   "metadata": {},
   "outputs": [],
   "source": [
    "# function to create sequences with one target column\n",
    "def create_sequences(input_data: pd.DataFrame, \n",
    "        input_feature_columns, \n",
    "        output_feature_columns,\n",
    "        input_sequence_length=FRAMES_IN, \n",
    "        output_sequence_length=FRAMES_OUT, \n",
    "        episode_length = FRAMES_PER_EPISODE, \n",
    "        n_episodes = N_EPISODES\n",
    "    ):\n",
    "    sequences= []\n",
    "\n",
    "    # make sequences per episode, one sequence can only hold data of one and the same episode!\n",
    "    for n in tqdm(range(n_episodes)):\n",
    "        for l in range(episode_length-output_sequence_length-input_sequence_length+1):\n",
    "\n",
    "            i = l+(n*episode_length)\n",
    "\n",
    "            # sequence = input_data.iloc[i:i+input_sequence_length][input_feature_columns]\n",
    "            sequence = input_data.iloc[i:i+input_sequence_length]\n",
    "\n",
    "            target_position = i + input_sequence_length\n",
    "            # target = input_data.iloc[target_position:target_position+output_sequence_length][output_feature_columns]\n",
    "            target = input_data.iloc[target_position:target_position+output_sequence_length][output_feature_columns]\n",
    "            \n",
    "            sequences.append((sequence, target))\n",
    "\n",
    "    return sequences"
   ]
  },
  {
   "cell_type": "code",
   "execution_count": 15,
   "metadata": {},
   "outputs": [
    {
     "data": {
      "application/vnd.jupyter.widget-view+json": {
       "model_id": "20323ca106f24b41ab4ba3d067fc3fd3",
       "version_major": 2,
       "version_minor": 0
      },
      "text/plain": [
       "  0%|          | 0/540 [00:00<?, ?it/s]"
      ]
     },
     "metadata": {},
     "output_type": "display_data"
    }
   ],
   "source": [
    "input_features = [\"pitch\", \"roll\"]\n",
    "output_features = [\"roll\"]\n",
    "all_sequences = create_sequences(p_r_df, input_features, output_features)"
   ]
  },
  {
   "cell_type": "code",
   "execution_count": 16,
   "metadata": {},
   "outputs": [
    {
     "data": {
      "text/plain": [
       "(210600, (10, 2), (1, 1))"
      ]
     },
     "execution_count": 16,
     "metadata": {},
     "output_type": "execute_result"
    }
   ],
   "source": [
    "len(all_sequences), all_sequences[0][0].shape, all_sequences[0][1].shape "
   ]
  },
  {
   "cell_type": "code",
   "execution_count": 17,
   "metadata": {},
   "outputs": [
    {
     "data": {
      "text/html": [
       "<div>\n",
       "<style scoped>\n",
       "    .dataframe tbody tr th:only-of-type {\n",
       "        vertical-align: middle;\n",
       "    }\n",
       "\n",
       "    .dataframe tbody tr th {\n",
       "        vertical-align: top;\n",
       "    }\n",
       "\n",
       "    .dataframe thead th {\n",
       "        text-align: right;\n",
       "    }\n",
       "</style>\n",
       "<table border=\"1\" class=\"dataframe\">\n",
       "  <thead>\n",
       "    <tr style=\"text-align: right;\">\n",
       "      <th></th>\n",
       "      <th>pitch</th>\n",
       "      <th>roll</th>\n",
       "    </tr>\n",
       "  </thead>\n",
       "  <tbody>\n",
       "    <tr>\n",
       "      <th>0</th>\n",
       "      <td>0.176843</td>\n",
       "      <td>0.026205</td>\n",
       "    </tr>\n",
       "    <tr>\n",
       "      <th>1</th>\n",
       "      <td>0.158844</td>\n",
       "      <td>0.018893</td>\n",
       "    </tr>\n",
       "    <tr>\n",
       "      <th>2</th>\n",
       "      <td>0.069040</td>\n",
       "      <td>0.017904</td>\n",
       "    </tr>\n",
       "    <tr>\n",
       "      <th>3</th>\n",
       "      <td>0.013726</td>\n",
       "      <td>0.068616</td>\n",
       "    </tr>\n",
       "    <tr>\n",
       "      <th>4</th>\n",
       "      <td>0.014908</td>\n",
       "      <td>0.041061</td>\n",
       "    </tr>\n",
       "    <tr>\n",
       "      <th>5</th>\n",
       "      <td>-0.000724</td>\n",
       "      <td>0.034174</td>\n",
       "    </tr>\n",
       "    <tr>\n",
       "      <th>6</th>\n",
       "      <td>-0.048809</td>\n",
       "      <td>0.009696</td>\n",
       "    </tr>\n",
       "    <tr>\n",
       "      <th>7</th>\n",
       "      <td>-0.046492</td>\n",
       "      <td>0.003952</td>\n",
       "    </tr>\n",
       "    <tr>\n",
       "      <th>8</th>\n",
       "      <td>-0.036884</td>\n",
       "      <td>0.074074</td>\n",
       "    </tr>\n",
       "    <tr>\n",
       "      <th>9</th>\n",
       "      <td>0.065489</td>\n",
       "      <td>-0.001539</td>\n",
       "    </tr>\n",
       "  </tbody>\n",
       "</table>\n",
       "</div>"
      ],
      "text/plain": [
       "      pitch      roll\n",
       "0  0.176843  0.026205\n",
       "1  0.158844  0.018893\n",
       "2  0.069040  0.017904\n",
       "3  0.013726  0.068616\n",
       "4  0.014908  0.041061\n",
       "5 -0.000724  0.034174\n",
       "6 -0.048809  0.009696\n",
       "7 -0.046492  0.003952\n",
       "8 -0.036884  0.074074\n",
       "9  0.065489 -0.001539"
      ]
     },
     "execution_count": 17,
     "metadata": {},
     "output_type": "execute_result"
    }
   ],
   "source": [
    "all_sequences[0][0]"
   ]
  },
  {
   "cell_type": "code",
   "execution_count": 18,
   "metadata": {},
   "outputs": [
    {
     "data": {
      "text/html": [
       "<div>\n",
       "<style scoped>\n",
       "    .dataframe tbody tr th:only-of-type {\n",
       "        vertical-align: middle;\n",
       "    }\n",
       "\n",
       "    .dataframe tbody tr th {\n",
       "        vertical-align: top;\n",
       "    }\n",
       "\n",
       "    .dataframe thead th {\n",
       "        text-align: right;\n",
       "    }\n",
       "</style>\n",
       "<table border=\"1\" class=\"dataframe\">\n",
       "  <thead>\n",
       "    <tr style=\"text-align: right;\">\n",
       "      <th></th>\n",
       "      <th>roll</th>\n",
       "    </tr>\n",
       "  </thead>\n",
       "  <tbody>\n",
       "    <tr>\n",
       "      <th>10</th>\n",
       "      <td>0.05608</td>\n",
       "    </tr>\n",
       "  </tbody>\n",
       "</table>\n",
       "</div>"
      ],
      "text/plain": [
       "       roll\n",
       "10  0.05608"
      ]
     },
     "execution_count": 18,
     "metadata": {},
     "output_type": "execute_result"
    }
   ],
   "source": [
    "all_sequences[0][1]"
   ]
  },
  {
   "cell_type": "code",
   "execution_count": 19,
   "metadata": {},
   "outputs": [
    {
     "name": "stdout",
     "output_type": "stream",
     "text": [
      "Sequence for target value:           roll\n",
      "359 -0.108568\n"
     ]
    },
    {
     "data": {
      "text/html": [
       "<div>\n",
       "<style scoped>\n",
       "    .dataframe tbody tr th:only-of-type {\n",
       "        vertical-align: middle;\n",
       "    }\n",
       "\n",
       "    .dataframe tbody tr th {\n",
       "        vertical-align: top;\n",
       "    }\n",
       "\n",
       "    .dataframe thead th {\n",
       "        text-align: right;\n",
       "    }\n",
       "</style>\n",
       "<table border=\"1\" class=\"dataframe\">\n",
       "  <thead>\n",
       "    <tr style=\"text-align: right;\">\n",
       "      <th></th>\n",
       "      <th>pitch</th>\n",
       "      <th>roll</th>\n",
       "    </tr>\n",
       "  </thead>\n",
       "  <tbody>\n",
       "    <tr>\n",
       "      <th>349</th>\n",
       "      <td>-0.027831</td>\n",
       "      <td>0.082243</td>\n",
       "    </tr>\n",
       "    <tr>\n",
       "      <th>350</th>\n",
       "      <td>0.110468</td>\n",
       "      <td>0.039379</td>\n",
       "    </tr>\n",
       "    <tr>\n",
       "      <th>357</th>\n",
       "      <td>-0.054622</td>\n",
       "      <td>-0.087071</td>\n",
       "    </tr>\n",
       "    <tr>\n",
       "      <th>358</th>\n",
       "      <td>0.143515</td>\n",
       "      <td>-0.115367</td>\n",
       "    </tr>\n",
       "  </tbody>\n",
       "</table>\n",
       "</div>"
      ],
      "text/plain": [
       "        pitch      roll\n",
       "349 -0.027831  0.082243\n",
       "350  0.110468  0.039379\n",
       "357 -0.054622 -0.087071\n",
       "358  0.143515 -0.115367"
      ]
     },
     "execution_count": 19,
     "metadata": {},
     "output_type": "execute_result"
    }
   ],
   "source": [
    "index = 349\n",
    "print(\"Sequence for target value: \", all_sequences[index][1])\n",
    "pd.concat([all_sequences[index][0].head(2),all_sequences[index][0].tail(2)])"
   ]
  },
  {
   "cell_type": "code",
   "execution_count": 20,
   "metadata": {},
   "outputs": [
    {
     "name": "stdout",
     "output_type": "stream",
     "text": [
      "Sequence for target value:           roll\n",
      "360 -0.057671\n"
     ]
    },
    {
     "data": {
      "text/html": [
       "<div>\n",
       "<style scoped>\n",
       "    .dataframe tbody tr th:only-of-type {\n",
       "        vertical-align: middle;\n",
       "    }\n",
       "\n",
       "    .dataframe tbody tr th {\n",
       "        vertical-align: top;\n",
       "    }\n",
       "\n",
       "    .dataframe thead th {\n",
       "        text-align: right;\n",
       "    }\n",
       "</style>\n",
       "<table border=\"1\" class=\"dataframe\">\n",
       "  <thead>\n",
       "    <tr style=\"text-align: right;\">\n",
       "      <th></th>\n",
       "      <th>pitch</th>\n",
       "      <th>roll</th>\n",
       "    </tr>\n",
       "  </thead>\n",
       "  <tbody>\n",
       "    <tr>\n",
       "      <th>350</th>\n",
       "      <td>0.110468</td>\n",
       "      <td>0.039379</td>\n",
       "    </tr>\n",
       "    <tr>\n",
       "      <th>351</th>\n",
       "      <td>0.156376</td>\n",
       "      <td>-0.051486</td>\n",
       "    </tr>\n",
       "    <tr>\n",
       "      <th>358</th>\n",
       "      <td>0.143515</td>\n",
       "      <td>-0.115367</td>\n",
       "    </tr>\n",
       "    <tr>\n",
       "      <th>359</th>\n",
       "      <td>0.247955</td>\n",
       "      <td>-0.108568</td>\n",
       "    </tr>\n",
       "  </tbody>\n",
       "</table>\n",
       "</div>"
      ],
      "text/plain": [
       "        pitch      roll\n",
       "350  0.110468  0.039379\n",
       "351  0.156376 -0.051486\n",
       "358  0.143515 -0.115367\n",
       "359  0.247955 -0.108568"
      ]
     },
     "execution_count": 20,
     "metadata": {},
     "output_type": "execute_result"
    }
   ],
   "source": [
    "index = 350\n",
    "print(\"Sequence for target value: \", all_sequences[index][1])\n",
    "pd.concat([all_sequences[index][0].head(2),all_sequences[index][0].tail(2)])"
   ]
  },
  {
   "cell_type": "code",
   "execution_count": 21,
   "metadata": {},
   "outputs": [
    {
     "name": "stdout",
     "output_type": "stream",
     "text": [
      "True\n",
      "168480 42120\n",
      "[167621, 29184, 6556, 194393, 72097, 64196, 58513, 36579, 193061, 26868]\n",
      "[131073, 3, 4, 131078, 7, 8, 131083, 131088, 131089, 131090]\n"
     ]
    }
   ],
   "source": [
    "# Grab random subsets from all sequences for training and test data (without overlapping data)\n",
    "data_size = len(all_sequences)\n",
    "data_indices = list(np.arange(0, data_size, 1))\n",
    "\n",
    "# train indices are random sample from all data indices\n",
    "random.seed(42)\n",
    "train_size = int(TRAIN_SIZE * data_size)\n",
    "train_indices = random.sample(data_indices, train_size)\n",
    "\n",
    "# test indices are the difference of all data indices and train indices\n",
    "test_indices = list(set(data_indices) - set(train_indices))\n",
    "\n",
    "print((len(train_indices) + len(test_indices)) <= data_size)\n",
    "print(len(train_indices), len(test_indices))\n",
    "print(train_indices[:10])\n",
    "print(test_indices[:10])"
   ]
  },
  {
   "cell_type": "code",
   "execution_count": 22,
   "metadata": {},
   "outputs": [
    {
     "data": {
      "application/vnd.jupyter.widget-view+json": {
       "model_id": "bad7a33e89da4f519d4c96af5fd70fe7",
       "version_major": 2,
       "version_minor": 0
      },
      "text/plain": [
       "  0%|          | 0/168480 [00:00<?, ?it/s]"
      ]
     },
     "metadata": {},
     "output_type": "display_data"
    },
    {
     "data": {
      "application/vnd.jupyter.widget-view+json": {
       "model_id": "91f2ab76f2b5457588bd6a7bba85bc62",
       "version_major": 2,
       "version_minor": 0
      },
      "text/plain": [
       "  0%|          | 0/42120 [00:00<?, ?it/s]"
      ]
     },
     "metadata": {},
     "output_type": "display_data"
    },
    {
     "name": "stdout",
     "output_type": "stream",
     "text": [
      "True\n",
      "168480 (10, 2) (1, 1)\n",
      "42120 (10, 2) (1, 1)\n"
     ]
    }
   ],
   "source": [
    "train_sequences = []\n",
    "test_sequences = []\n",
    "\n",
    "for idx in tqdm(train_indices):\n",
    "    seq = all_sequences[idx][0]\n",
    "    label = all_sequences[idx][1]\n",
    "    train_sequences.append((seq,label))\n",
    "\n",
    "for idx in tqdm(test_indices):\n",
    "    seq = all_sequences[idx][0]\n",
    "    label = all_sequences[idx][1]\n",
    "    test_sequences.append((seq,label))\n",
    "\n",
    "print((len(train_sequences) + len(test_sequences)) <= len(all_sequences))\n",
    "print(len(train_sequences), train_sequences[0][0].shape, train_sequences[0][1].shape) \n",
    "print(len(test_sequences), test_sequences[0][0].shape, test_sequences[0][1].shape)"
   ]
  },
  {
   "cell_type": "markdown",
   "metadata": {},
   "source": [
    "## Pytorch Dataset and DataLoader"
   ]
  },
  {
   "cell_type": "code",
   "execution_count": 23,
   "metadata": {},
   "outputs": [],
   "source": [
    "class PRDataset(Dataset):\n",
    "    def __init__(self, sequences):\n",
    "        self.sequences = sequences\n",
    "\n",
    "    def __len__(self):\n",
    "        return len(self.sequences)\n",
    "\n",
    "    def __getitem__(self, index):\n",
    "        input, output = self.sequences[index]\n",
    "\n",
    "        return dict(\n",
    "            input = torch.Tensor(input.to_numpy()),\n",
    "            output = torch.Tensor(output.to_numpy().squeeze()),\n",
    "        )"
   ]
  },
  {
   "cell_type": "code",
   "execution_count": 24,
   "metadata": {},
   "outputs": [],
   "source": [
    "class PRDataModule(pl.LightningDataModule):\n",
    "    def __init__(self, train_sequences, test_sequences, batchsize = 8):\n",
    "        super().__init__()\n",
    "        self.train_sequences = train_sequences\n",
    "        self.test_sequences = test_sequences\n",
    "        self.batchsize = batchsize\n",
    "\n",
    "    # turns normal list object into Dataset object\n",
    "    def setup(self):\n",
    "        self.train_dataset = PRDataset(self.train_sequences)\n",
    "        self.test_dataset = PRDataset(self.test_sequences)\n",
    "\n",
    "    def train_dataloader(self):\n",
    "        return DataLoader(\n",
    "            self.train_dataset,\n",
    "            batch_size = self.batchsize,\n",
    "            shuffle = False,\n",
    "            num_workers=N_WORKERS,\n",
    "        )\n",
    "\n",
    "    def val_dataloader(self):\n",
    "        return DataLoader(\n",
    "            self.test_dataset,\n",
    "            batch_size = self.batchsize,\n",
    "            shuffle = False,\n",
    "            num_workers=N_WORKERS,\n",
    "        )\n",
    "\n",
    "    def test_dataloader(self):\n",
    "        return DataLoader(\n",
    "            self.test_dataset,\n",
    "            batch_size = 1,\n",
    "            shuffle = False,\n",
    "            num_workers=N_WORKERS,\n",
    "        )"
   ]
  },
  {
   "cell_type": "code",
   "execution_count": 25,
   "metadata": {},
   "outputs": [],
   "source": [
    "data_module = PRDataModule(train_sequences, test_sequences, BATCH_SIZE)\n",
    "data_module.setup()"
   ]
  },
  {
   "cell_type": "code",
   "execution_count": 26,
   "metadata": {},
   "outputs": [
    {
     "data": {
      "text/plain": [
       "tensor(-0.0671)"
      ]
     },
     "execution_count": 26,
     "metadata": {},
     "output_type": "execute_result"
    }
   ],
   "source": [
    "data_module_train_dataloader = data_module.train_dataloader()\n",
    "data_module_train_dataloader.dataset.__getitem__(0)[\"output\"]"
   ]
  },
  {
   "cell_type": "code",
   "execution_count": 27,
   "metadata": {},
   "outputs": [
    {
     "name": "stdout",
     "output_type": "stream",
     "text": [
      "torch.Size([64, 10, 2])\n",
      "torch.Size([64])\n"
     ]
    }
   ],
   "source": [
    "for item in data_module_train_dataloader:\n",
    "    x_input = item[\"input\"]\n",
    "    x_output = item[\"output\"]\n",
    "    print(x_input.shape)\n",
    "    print(x_output.shape)\n",
    "    break"
   ]
  },
  {
   "cell_type": "code",
   "execution_count": 28,
   "metadata": {},
   "outputs": [],
   "source": [
    "# turn sequence list into Dataset object\n",
    "train_dataset = PRDataset(train_sequences)"
   ]
  },
  {
   "cell_type": "code",
   "execution_count": 29,
   "metadata": {},
   "outputs": [
    {
     "name": "stdout",
     "output_type": "stream",
     "text": [
      "torch.Size([10, 2])\n",
      "torch.Size([])\n",
      "tensor(-0.0671)\n"
     ]
    }
   ],
   "source": [
    "for item in train_dataset:\n",
    "    print(item[\"input\"].shape)\n",
    "    print(item[\"output\"].shape)\n",
    "    print(item[\"output\"])\n",
    "    break"
   ]
  },
  {
   "cell_type": "markdown",
   "metadata": {},
   "source": [
    "## LSTM Model"
   ]
  },
  {
   "cell_type": "code",
   "execution_count": 30,
   "metadata": {},
   "outputs": [],
   "source": [
    "class RollPredictor(nn.Module):\n",
    "    def __init__(self, n_features, n_hidden=128, n_layers=2):\n",
    "        super().__init__()\n",
    "\n",
    "        self.n_hidden = n_hidden\n",
    "\n",
    "        self.lstm = nn.LSTM(\n",
    "            input_size=n_features,\n",
    "            hidden_size=n_hidden,\n",
    "            batch_first=True,\n",
    "            num_layers=n_layers,\n",
    "            dropout=0.2\n",
    "        )\n",
    "\n",
    "        self.fc = nn.Linear(n_hidden, 1)\n",
    "\n",
    "    def forward(self, x):\n",
    "        # print(f\"input size: {x.shape}\")\n",
    "        self.lstm.flatten_parameters()\n",
    "        # print(f\"flatten size: {x.shape}\")\n",
    "        _, (hidden, _) = self.lstm(x)\n",
    "        # print(f\"hidden size: {hidden.shape}\")\n",
    "        # grab hidden vector from last LSTM layer (hidden size = (1*num_layers, batch size, hidden size))\n",
    "        out = hidden[-1]\n",
    "        # print(f\"out size: {out.shape}\")\n",
    "        return self.fc(out)"
   ]
  },
  {
   "cell_type": "code",
   "execution_count": 31,
   "metadata": {},
   "outputs": [
    {
     "data": {
      "text/plain": [
       "True"
      ]
     },
     "execution_count": 31,
     "metadata": {},
     "output_type": "execute_result"
    }
   ],
   "source": [
    "test = RollPredictor(2)\n",
    "y = test(x_input)\n",
    "y.squeeze(1).shape == x_output.shape"
   ]
  },
  {
   "cell_type": "markdown",
   "metadata": {},
   "source": [
    "# Training"
   ]
  },
  {
   "cell_type": "code",
   "execution_count": 32,
   "metadata": {},
   "outputs": [
    {
     "name": "stdout",
     "output_type": "stream",
     "text": [
      "torch.Size([64, 10, 2]) torch.Size([64])\n"
     ]
    }
   ],
   "source": [
    "# get the first batch out of the dataloader for testing purposes\n",
    "for batch in data_module.train_dataloader():\n",
    "    x_train = batch[\"input\"]\n",
    "    y_train = batch[\"output\"]\n",
    "    break\n",
    "\n",
    "print(x_train.shape, y_train.shape)"
   ]
  },
  {
   "cell_type": "code",
   "execution_count": 33,
   "metadata": {},
   "outputs": [
    {
     "data": {
      "text/plain": [
       "torch.Size([64, 1])"
      ]
     },
     "execution_count": 33,
     "metadata": {},
     "output_type": "execute_result"
    }
   ],
   "source": [
    "model = RollPredictor(n_features=2)\n",
    "\n",
    "outputs = model.forward(x_train)\n",
    "# output should be a sequence of pitch and roll (2 features)\n",
    "outputs.shape"
   ]
  },
  {
   "cell_type": "markdown",
   "metadata": {},
   "source": [
    "### Training loop"
   ]
  },
  {
   "cell_type": "code",
   "execution_count": 34,
   "metadata": {},
   "outputs": [
    {
     "data": {
      "application/vnd.jupyter.widget-view+json": {
       "model_id": "dfcac00a0bb84cfab8d8d049bb934ac4",
       "version_major": 2,
       "version_minor": 0
      },
      "text/plain": [
       "  0%|          | 0/50 [00:00<?, ?it/s]"
      ]
     },
     "metadata": {},
     "output_type": "display_data"
    },
    {
     "name": "stdout",
     "output_type": "stream",
     "text": [
      "EPOCH 0 training loss: 0.001933 | validation loss: 0.006295\n",
      "EPOCH 1 training loss: 0.00176 | validation loss: 0.001718\n",
      "EPOCH 2 training loss: 0.001736 | validation loss: 0.001717\n",
      "EPOCH 3 training loss: 0.001715 | validation loss: 0.001697\n",
      "EPOCH 4 training loss: 0.001701 | validation loss: 0.001685\n",
      "EPOCH 5 training loss: 0.001685 | validation loss: 0.00167\n",
      "EPOCH 6 training loss: 0.001673 | validation loss: 0.001664\n",
      "EPOCH 7 training loss: 0.001661 | validation loss: 0.001652\n",
      "EPOCH 8 training loss: 0.001654 | validation loss: 0.001644\n",
      "EPOCH 9 training loss: 0.001648 | validation loss: 0.001642\n",
      "EPOCH 10 training loss: 0.001636 | validation loss: 0.001632\n",
      "EPOCH 11 training loss: 0.001629 | validation loss: 0.001621\n",
      "EPOCH 12 training loss: 0.001618 | validation loss: 0.001617\n",
      "EPOCH 13 training loss: 0.001605 | validation loss: 0.001612\n",
      "EPOCH 14 training loss: 0.001594 | validation loss: 0.001602\n",
      "EPOCH 15 training loss: 0.001577 | validation loss: 0.001588\n",
      "EPOCH 16 training loss: 0.001565 | validation loss: 0.001584\n",
      "EPOCH 17 training loss: 0.001549 | validation loss: 0.001574\n",
      "EPOCH 18 training loss: 0.001532 | validation loss: 0.001564\n",
      "EPOCH 19 training loss: 0.001513 | validation loss: 0.001581\n",
      "EPOCH 20 training loss: 0.00149 | validation loss: 0.001551\n",
      "EPOCH 21 training loss: 0.001466 | validation loss: 0.001525\n",
      "EPOCH 22 training loss: 0.001436 | validation loss: 0.001517\n",
      "EPOCH 23 training loss: 0.00141 | validation loss: 0.00149\n",
      "EPOCH 24 training loss: 0.001372 | validation loss: 0.001474\n",
      "EPOCH 25 training loss: 0.001341 | validation loss: 0.001457\n",
      "EPOCH 26 training loss: 0.001311 | validation loss: 0.001435\n",
      "EPOCH 27 training loss: 0.00127 | validation loss: 0.001408\n",
      "EPOCH 28 training loss: 0.001231 | validation loss: 0.001378\n",
      "EPOCH 29 training loss: 0.001191 | validation loss: 0.001368\n",
      "EPOCH 30 training loss: 0.001149 | validation loss: 0.001299\n",
      "EPOCH 31 training loss: 0.001111 | validation loss: 0.00127\n",
      "EPOCH 32 training loss: 0.001065 | validation loss: 0.001245\n",
      "EPOCH 33 training loss: 0.001023 | validation loss: 0.001211\n",
      "EPOCH 34 training loss: 0.00098 | validation loss: 0.001181\n",
      "EPOCH 35 training loss: 0.000937 | validation loss: 0.001133\n",
      "EPOCH 36 training loss: 0.000896 | validation loss: 0.001106\n",
      "EPOCH 37 training loss: 0.000856 | validation loss: 0.001062\n",
      "EPOCH 38 training loss: 0.000818 | validation loss: 0.001037\n",
      "EPOCH 39 training loss: 0.000782 | validation loss: 0.001014\n",
      "EPOCH 40 training loss: 0.000747 | validation loss: 0.000958\n",
      "EPOCH 41 training loss: 0.000714 | validation loss: 0.000951\n",
      "EPOCH 42 training loss: 0.000678 | validation loss: 0.000906\n",
      "EPOCH 43 training loss: 0.000656 | validation loss: 0.000879\n",
      "EPOCH 44 training loss: 0.000625 | validation loss: 0.000858\n",
      "EPOCH 45 training loss: 0.000598 | validation loss: 0.000821\n",
      "EPOCH 46 training loss: 0.000576 | validation loss: 0.000789\n",
      "EPOCH 47 training loss: 0.000551 | validation loss: 0.000764\n",
      "EPOCH 48 training loss: 0.000533 | validation loss: 0.000748\n",
      "EPOCH 49 training loss: 0.000511 | validation loss: 0.000717\n"
     ]
    }
   ],
   "source": [
    "model = RollPredictor(n_features=2)\n",
    "\n",
    "if CUDA:\n",
    "    model.cuda()\n",
    "\n",
    "criterion = nn.MSELoss()\n",
    "optimizer = optim.Adam(model.parameters(), lr=LEARNING_RATE)\n",
    "\n",
    "# TRACKERS\n",
    "train_losses_epoch = []\n",
    "val_losses_epoch = []\n",
    "\n",
    "n_epochs = NUM_EPOCHS\n",
    "\n",
    "for epoch in tqdm(range(n_epochs)):\n",
    "\n",
    "    # validation loss\n",
    "    with torch.no_grad():\n",
    "        i = 0\n",
    "        total_batch_loss = 0\n",
    "        for batch in data_module.val_dataloader():\n",
    "            x_val = batch[\"input\"]\n",
    "            y_val = batch[\"output\"]\n",
    "            i += 1\n",
    "\n",
    "            if CUDA: \n",
    "                x_val = batch[\"input\"].cuda()\n",
    "                y_val = batch[\"output\"].cuda()\n",
    "            \n",
    "            # Predict on forward pass \n",
    "            y_pred = model.forward(x_val)\n",
    "\n",
    "            loss = criterion(y_pred.squeeze(1), y_val)\n",
    "            total_batch_loss += loss.item()\n",
    "\n",
    "        mean_val_loss = total_batch_loss/i\n",
    "        val_losses_epoch.append(mean_val_loss)\n",
    "        val_loss = round(mean_val_loss, 6)\n",
    "\n",
    "\n",
    "    losses_current_batch = []\n",
    "    i = 0\n",
    "    total_batch_loss = 0\n",
    "\n",
    "    for batch in data_module.train_dataloader():\n",
    "        print(f\"batch {i}\", end='\\r')\n",
    "        i += 1\n",
    "        x_train = batch[\"input\"]\n",
    "        y_train = batch[\"output\"]\n",
    "\n",
    "        if CUDA: \n",
    "            x_train = batch[\"input\"].cuda()\n",
    "            y_train = batch[\"output\"].cuda()\n",
    "        \n",
    "        # Predict on forward pass \n",
    "        y_pred = model.forward(x_train)\n",
    "\n",
    "        # Calculate loss/error\n",
    "        loss = criterion(y_pred.squeeze(1), y_train)\n",
    "        losses_current_batch.append(loss.item())\n",
    "        total_batch_loss += loss.item()\n",
    "\n",
    "        # Backpropagation\n",
    "        optimizer.zero_grad()\n",
    "        loss.backward()\n",
    "        optimizer.step()\n",
    "    \n",
    "    mean_train_loss = total_batch_loss/i\n",
    "    train_losses_epoch.append(mean_train_loss)\n",
    "    train_loss = round(mean_train_loss, 6)\n",
    "\n",
    "    print(f\"EPOCH {epoch} training loss: {train_loss} | validation loss: {val_loss}\")"
   ]
  },
  {
   "cell_type": "markdown",
   "metadata": {},
   "source": [
    "### Save and load model"
   ]
  },
  {
   "cell_type": "code",
   "execution_count": 35,
   "metadata": {},
   "outputs": [],
   "source": [
    "# save train losses per epoch\n",
    "filename = f'{TRAIN_RESULT_FOLDER}/train_loss_{FRAMES_IN}in_{FRAMES_OUT}out_{NUM_EPOCHS}epochs'\n",
    "with open(filename, 'wb') as f: \n",
    "    pickle.dump(train_losses_epoch, f)\n",
    "# save val losses per epoch\n",
    "filename = f'{TRAIN_RESULT_FOLDER}/val_loss_{FRAMES_IN}in_{FRAMES_OUT}out_{NUM_EPOCHS}epochs'\n",
    "with open(filename, 'wb') as f: \n",
    "    pickle.dump(val_losses_epoch, f)"
   ]
  },
  {
   "cell_type": "code",
   "execution_count": 36,
   "metadata": {},
   "outputs": [],
   "source": [
    "filename = f'{MODEL_STATE_FOLDER}/{MODEL_NAME}_{FRAMES_IN}in_{FRAMES_OUT}out_epochs{NUM_EPOCHS}'\n",
    "torch.save(model.state_dict(), filename)"
   ]
  },
  {
   "cell_type": "code",
   "execution_count": 34,
   "metadata": {},
   "outputs": [
    {
     "data": {
      "text/plain": [
       "RollPredictor(\n",
       "  (lstm): LSTM(2, 128, num_layers=2, batch_first=True, dropout=0.2)\n",
       "  (fc): Linear(in_features=128, out_features=1, bias=True)\n",
       ")"
      ]
     },
     "execution_count": 34,
     "metadata": {},
     "output_type": "execute_result"
    }
   ],
   "source": [
    "filename = f'{MODEL_STATE_FOLDER}/{MODEL_NAME}_{FRAMES_IN}in_{FRAMES_OUT}out_epochs{NUM_EPOCHS}'\n",
    "loaded_model = RollPredictor(n_features=2)\n",
    "loaded_model.load_state_dict(torch.load(filename))\n",
    "if CUDA: \n",
    "    loaded_model = loaded_model.cuda()\n",
    "\n",
    "loaded_model.eval()"
   ]
  },
  {
   "cell_type": "markdown",
   "metadata": {},
   "source": [
    "## Training results"
   ]
  },
  {
   "cell_type": "code",
   "execution_count": 38,
   "metadata": {},
   "outputs": [
    {
     "data": {
      "image/png": "[encoded data removed]",
      "text/plain": [
       "<Figure size 1080x504 with 1 Axes>"
      ]
     },
     "metadata": {
      "needs_background": "light"
     },
     "output_type": "display_data"
    }
   ],
   "source": [
    "plt.figure(figsize=(15, 7))\n",
    "plt.plot(range(NUM_EPOCHS), train_losses_epoch, label='training loss')\n",
    "plt.plot(range(NUM_EPOCHS), val_losses_epoch, label='validation loss')\n",
    "plt.xlabel(\"epochs\")\n",
    "plt.ylabel(\"MSE loss\")\n",
    "plt.title(\"Training and validation loss per epoch\")\n",
    "plt.legend()\n",
    "plt.savefig(f'{RESULT_FOLDER}/train-test-loss_{FRAMES_IN}in_{FRAMES_OUT}out_epochs{NUM_EPOCHS}')\n",
    "plt.show()"
   ]
  },
  {
   "cell_type": "markdown",
   "metadata": {},
   "source": [
    "# Testing"
   ]
  },
  {
   "cell_type": "code",
   "execution_count": 35,
   "metadata": {},
   "outputs": [
    {
     "data": {
      "application/vnd.jupyter.widget-view+json": {
       "model_id": "c67ebbe15ea24fe7a8075c97daeaf0d3",
       "version_major": 2,
       "version_minor": 0
      },
      "text/plain": [
       "  0%|          | 0/42120 [00:00<?, ?it/s]"
      ]
     },
     "metadata": {},
     "output_type": "display_data"
    }
   ],
   "source": [
    "predictions = []\n",
    "labels = []\n",
    "loss_values = []\n",
    "\n",
    "for item in tqdm(data_module.test_dataloader()):\n",
    "    x_test = item[\"input\"]\n",
    "    y_test = item[\"output\"]\n",
    "\n",
    "    if CUDA:\n",
    "        x_test = x_test.cuda()\n",
    "        y_test = y_test.cuda()\n",
    "\n",
    "    output = loaded_model(x_test)\n",
    "    predictions.append(output.item())\n",
    "    labels.append(y_test.item())"
   ]
  },
  {
   "cell_type": "code",
   "execution_count": 39,
   "metadata": {},
   "outputs": [
    {
     "data": {
      "text/plain": [
       "(42120, 42120)"
      ]
     },
     "execution_count": 39,
     "metadata": {},
     "output_type": "execute_result"
    }
   ],
   "source": [
    "len(predictions), len(test_sequences)"
   ]
  },
  {
   "cell_type": "code",
   "execution_count": 40,
   "metadata": {},
   "outputs": [
    {
     "data": {
      "text/plain": [
       "(0.004330962896347046, 0.0031125687528401613)"
      ]
     },
     "execution_count": 40,
     "metadata": {},
     "output_type": "execute_result"
    }
   ],
   "source": [
    "predictions[0], labels[0]"
   ]
  },
  {
   "cell_type": "code",
   "execution_count": 41,
   "metadata": {},
   "outputs": [
    {
     "data": {
      "text/plain": [
       "(-2.666085585951805, -1.7782276310026646)"
      ]
     },
     "execution_count": 41,
     "metadata": {},
     "output_type": "execute_result"
    }
   ],
   "source": [
    "denorm_pr(predictions[2]), denorm_pr(labels[2])"
   ]
  },
  {
   "cell_type": "code",
   "execution_count": 42,
   "metadata": {},
   "outputs": [],
   "source": [
    "denorm_predictions = []\n",
    "denorm_labels = []\n",
    "\n",
    "for el in predictions:\n",
    "    denorm_predictions.append(denorm_pr(el))\n",
    "\n",
    "for el in labels:\n",
    "    denorm_labels.append(denorm_pr(el))"
   ]
  },
  {
   "cell_type": "code",
   "execution_count": 45,
   "metadata": {},
   "outputs": [
    {
     "data": {
      "text/plain": [
       "<matplotlib.legend.Legend at 0x2caf78a7f10>"
      ]
     },
     "execution_count": 45,
     "metadata": {},
     "output_type": "execute_result"
    },
    {
     "data": {
      "image/png": "[encoded data removed]",
      "text/plain": [
       "<Figure size 1080x504 with 1 Axes>"
      ]
     },
     "metadata": {
      "needs_background": "light"
     },
     "output_type": "display_data"
    }
   ],
   "source": [
    "plt.figure(figsize=(15, 7))\n",
    "plt.plot(denorm_labels[:700], label=\"real\", color=\"y\")\n",
    "plt.plot(denorm_predictions[:700], label=\"predicted\",color=\"r\", alpha=0.35)\n",
    "plt.xlabel('frames')\n",
    "plt.ylabel('roll (°)')\n",
    "plt.title(\"Roll prediction overlap\")\n",
    "plt.savefig(f'{RESULT_FOLDER}/roll_overlap_{FRAMES_IN}in_{FRAMES_OUT}out_epochs{NUM_EPOCHS}')\n",
    "plt.legend()"
   ]
  },
  {
   "cell_type": "code",
   "execution_count": 47,
   "metadata": {},
   "outputs": [
    {
     "data": {
      "text/plain": [
       "<matplotlib.legend.Legend at 0x2caf9c4d910>"
      ]
     },
     "execution_count": 47,
     "metadata": {},
     "output_type": "execute_result"
    },
    {
     "data": {
      "image/png": "[encoded data removed]",
      "text/plain": [
       "<Figure size 1080x504 with 1 Axes>"
      ]
     },
     "metadata": {
      "needs_background": "light"
     },
     "output_type": "display_data"
    }
   ],
   "source": [
    "plt.figure(figsize=(15, 7))\n",
    "plt.plot(denorm_labels[:100], label=\"real\")\n",
    "plt.plot(denorm_predictions[:100], label=\"predicted\", color=\"r\")\n",
    "plt.xlabel('frames')\n",
    "plt.ylabel('roll (°)')\n",
    "plt.title(\"Roll predictions\")\n",
    "plt.savefig(f'{RESULT_FOLDER}/roll_prediction_{FRAMES_IN}in_{FRAMES_OUT}out_epochs{NUM_EPOCHS}')\n",
    "plt.legend()"
   ]
  },
  {
   "cell_type": "code",
   "execution_count": 44,
   "metadata": {},
   "outputs": [
    {
     "name": "stdout",
     "output_type": "stream",
     "text": [
      "Roll prediction\n",
      "   MSE: 0.00063\n",
      "   RMSE: 0.025\n",
      "   RMSE denorm: 2.25°\n",
      "Zero prediction\n",
      "   MSE 0: 0.00619\n",
      "   RMSE 0: 0.079\n",
      "   RMSE denorm: 7.08°\n",
      "Improvement on zero prediction:\n",
      "   MSE delta%: 986.35 %\n",
      "   RMSE delta%: 314.06 %\n"
     ]
    }
   ],
   "source": [
    "n = len(predictions)\n",
    "loss = 0\n",
    "loss0 = 0\n",
    "\n",
    "for i in range(n):\n",
    "    loss += (labels[i]-predictions[i])**2\n",
    "    loss0 += (labels[i]-0)**2\n",
    "\n",
    "mse = loss/n\n",
    "rmse = math.sqrt(loss/n)\n",
    "mse0 = loss0/n\n",
    "rmse0 = math.sqrt(loss0/n)\n",
    "\n",
    "print(\"Roll prediction\")\n",
    "print(\"   MSE:\", round(mse, 5))\n",
    "print(\"   RMSE:\", round(rmse, 3))\n",
    "print(f\"   RMSE denorm: {round(denorm_pr(rmse), 2)}°\")\n",
    "print(\"Zero prediction\")\n",
    "print(\"   MSE 0:\", round(mse0, 5))\n",
    "print(\"   RMSE 0:\", round(rmse0, 3))\n",
    "print(f\"   RMSE denorm: {round(denorm_pr(rmse0), 2)}°\")\n",
    "print(\"Improvement on zero prediction:\")\n",
    "print(\"   MSE delta%:\", round(mse0/mse*100, 2), \"%\")\n",
    "print(\"   RMSE delta%:\", round(rmse0/rmse*100, 2), \"%\")"
   ]
  }
 ],
 "metadata": {
  "interpreter": {
   "hash": "10eea1320f31955e3067f39969a0854b449a89d7f91a5c6b0bcec70e16d0858a"
  },
  "kernelspec": {
   "display_name": "Python 3.8.13 ('thesis')",
   "language": "python",
   "name": "python3"
  },
  "language_info": {
   "codemirror_mode": {
    "name": "ipython",
    "version": 3
   },
   "file_extension": ".py",
   "mimetype": "text/x-python",
   "name": "python",
   "nbconvert_exporter": "python",
   "pygments_lexer": "ipython3",
   "version": "3.8.13"
  },
  "orig_nbformat": 4
 },
 "nbformat": 4,
 "nbformat_minor": 2
}
