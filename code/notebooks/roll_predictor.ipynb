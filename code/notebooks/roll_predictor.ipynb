{
 "cells": [
  {
   "cell_type": "markdown",
   "metadata": {},
   "source": [
    "# Pitch & Roll prediction model"
   ]
  },
  {
   "cell_type": "code",
   "execution_count": 2,
   "metadata": {},
   "outputs": [],
   "source": [
    "import tensorflow as tf\n",
    "import numpy as np\n",
    "import seaborn as sns\n",
    "import pandas as pd\n",
    "import matplotlib.pyplot as plt\n",
    "import random\n",
    "from tqdm.notebook import tqdm\n",
    "import json\n",
    "import pickle\n",
    "import multiprocessing\n",
    "import platform\n",
    "import math\n",
    "\n",
    "import torch\n",
    "import torch.nn as nn\n",
    "import torch.optim as optim\n",
    "import torch.autograd as autograd\n",
    "import torch.nn.functional as F\n",
    "from torch.utils.data import Dataset, DataLoader\n",
    "\n",
    "import pytorch_lightning as pl\n",
    "from pytorch_lightning.callbacks import ModelCheckpoint, EarlyStopping\n",
    "from pytorch_lightning.loggers import TensorBoardLogger\n",
    "\n",
    "from sklearn.preprocessing import MinMaxScaler\n",
    "\n",
    "from tensorflow.keras.models import Sequential\n",
    "from tensorflow.keras.layers import Dense, Dropout, Activation, Flatten, Conv2D, MaxPooling2D"
   ]
  },
  {
   "cell_type": "code",
   "execution_count": 3,
   "metadata": {},
   "outputs": [
    {
     "name": "stdout",
     "output_type": "stream",
     "text": [
      "1.10.2\n",
      "1.5.10\n"
     ]
    }
   ],
   "source": [
    "print(torch.__version__)\n",
    "print(pl.__version__)"
   ]
  },
  {
   "cell_type": "code",
   "execution_count": 4,
   "metadata": {},
   "outputs": [
    {
     "name": "stdout",
     "output_type": "stream",
     "text": [
      "Num GPUs Available:  0\n",
      "device: cuda\n",
      "CPU count: 16\n",
      "Platform: windows\n",
      "number of workers: 0\n"
     ]
    }
   ],
   "source": [
    "print(\"Num GPUs Available: \", len(tf.config.experimental.list_physical_devices('GPU')))\n",
    "device = torch.device('cuda' if torch.cuda.is_available() else 'cpu')\n",
    "print(\"device:\",device)\n",
    "cpu_count = multiprocessing.cpu_count()\n",
    "print('CPU count:', cpu_count)\n",
    "platform_os = \"windows\" if platform.system() == \"Windows\" else \"linux\"\n",
    "print(\"Platform:\", platform_os)\n",
    "\n",
    "# Pytorch Dataloader can't handle n_workers > 0 on windows due to bugs\n",
    "N_WORKERS = 0 if platform_os==\"windows\" else cpu_count\n",
    "print(f\"number of workers: {N_WORKERS}\")"
   ]
  },
  {
   "cell_type": "markdown",
   "metadata": {},
   "source": [
    "# Constants"
   ]
  },
  {
   "cell_type": "code",
   "execution_count": 5,
   "metadata": {},
   "outputs": [],
   "source": [
    "num_epochs = 20\n",
    "batchsize = 24\n",
    "learning_rate = 0.0001\n",
    "optimizer = \"adam\"\n",
    "future_window_size = 12\n",
    "past_window_size = 10\n",
    "weight_decay = 0.001\n",
    "\n",
    "encoder_latent_vector = 300\n",
    "decoder_latent_vector = 300\n",
    "\n",
    "N_EPISODES = 540\n",
    "FRAMES_PER_EPISODE = 400\n",
    "TRAIN_FOLDER = \"3dmodel/test_4_episode_\"\n",
    "SEQUENCE_LENGTH = 50\n",
    "\n",
    "TRAIN_SIZE = 0.8"
   ]
  },
  {
   "cell_type": "markdown",
   "metadata": {},
   "source": [
    "# Load data from episodes"
   ]
  },
  {
   "cell_type": "code",
   "execution_count": 6,
   "metadata": {},
   "outputs": [
    {
     "data": {
      "text/html": [
       "<div>\n",
       "<style scoped>\n",
       "    .dataframe tbody tr th:only-of-type {\n",
       "        vertical-align: middle;\n",
       "    }\n",
       "\n",
       "    .dataframe tbody tr th {\n",
       "        vertical-align: top;\n",
       "    }\n",
       "\n",
       "    .dataframe thead th {\n",
       "        text-align: right;\n",
       "    }\n",
       "</style>\n",
       "<table border=\"1\" class=\"dataframe\">\n",
       "  <thead>\n",
       "    <tr style=\"text-align: right;\">\n",
       "      <th></th>\n",
       "      <th>pitch</th>\n",
       "      <th>roll</th>\n",
       "    </tr>\n",
       "  </thead>\n",
       "  <tbody>\n",
       "    <tr>\n",
       "      <th>0</th>\n",
       "      <td>15.915869</td>\n",
       "      <td>2.358416</td>\n",
       "    </tr>\n",
       "    <tr>\n",
       "      <th>1</th>\n",
       "      <td>14.295925</td>\n",
       "      <td>1.700391</td>\n",
       "    </tr>\n",
       "    <tr>\n",
       "      <th>2</th>\n",
       "      <td>6.213590</td>\n",
       "      <td>1.611325</td>\n",
       "    </tr>\n",
       "    <tr>\n",
       "      <th>3</th>\n",
       "      <td>1.235337</td>\n",
       "      <td>6.175461</td>\n",
       "    </tr>\n",
       "    <tr>\n",
       "      <th>4</th>\n",
       "      <td>1.341678</td>\n",
       "      <td>3.695468</td>\n",
       "    </tr>\n",
       "    <tr>\n",
       "      <th>...</th>\n",
       "      <td>...</td>\n",
       "      <td>...</td>\n",
       "    </tr>\n",
       "    <tr>\n",
       "      <th>395</th>\n",
       "      <td>-0.204481</td>\n",
       "      <td>1.503337</td>\n",
       "    </tr>\n",
       "    <tr>\n",
       "      <th>396</th>\n",
       "      <td>1.074743</td>\n",
       "      <td>10.724272</td>\n",
       "    </tr>\n",
       "    <tr>\n",
       "      <th>397</th>\n",
       "      <td>13.373594</td>\n",
       "      <td>1.542949</td>\n",
       "    </tr>\n",
       "    <tr>\n",
       "      <th>398</th>\n",
       "      <td>11.193637</td>\n",
       "      <td>-0.848632</td>\n",
       "    </tr>\n",
       "    <tr>\n",
       "      <th>399</th>\n",
       "      <td>5.131548</td>\n",
       "      <td>0.977777</td>\n",
       "    </tr>\n",
       "  </tbody>\n",
       "</table>\n",
       "<p>400 rows × 2 columns</p>\n",
       "</div>"
      ],
      "text/plain": [
       "         pitch       roll\n",
       "0    15.915869   2.358416\n",
       "1    14.295925   1.700391\n",
       "2     6.213590   1.611325\n",
       "3     1.235337   6.175461\n",
       "4     1.341678   3.695468\n",
       "..         ...        ...\n",
       "395  -0.204481   1.503337\n",
       "396   1.074743  10.724272\n",
       "397  13.373594   1.542949\n",
       "398  11.193637  -0.848632\n",
       "399   5.131548   0.977777\n",
       "\n",
       "[400 rows x 2 columns]"
      ]
     },
     "execution_count": 6,
     "metadata": {},
     "output_type": "execute_result"
    }
   ],
   "source": [
    "# view first episode \n",
    "filename = \"../3dmodel/test_4_episode_1/labels_0.json\"\n",
    "data = []\n",
    "labels = json.load(open(filename))\n",
    "ep1 = pd.DataFrame(labels)\n",
    "ep1 = ep1.transpose()\n",
    "ep1.rename(columns = {0:'pitch', 1:'roll'}, inplace=True)\n",
    "ep1"
   ]
  },
  {
   "cell_type": "code",
   "execution_count": 7,
   "metadata": {},
   "outputs": [],
   "source": [
    "# load all data\n",
    "pr = []\n",
    "episodes = []\n",
    "for ep in range(1, N_EPISODES+1):\n",
    "    filename = \"../3dmodel/test_4_episode_\"+ str(ep) +\"/labels_0.json\"\n",
    "    labels = json.load(open(filename))\n",
    "    for i in labels:\n",
    "        pr.append(labels[i])\n",
    "        episodes.append(labels[i]+[ep, i])"
   ]
  },
  {
   "cell_type": "code",
   "execution_count": 8,
   "metadata": {},
   "outputs": [
    {
     "data": {
      "text/html": [
       "<div>\n",
       "<style scoped>\n",
       "    .dataframe tbody tr th:only-of-type {\n",
       "        vertical-align: middle;\n",
       "    }\n",
       "\n",
       "    .dataframe tbody tr th {\n",
       "        vertical-align: top;\n",
       "    }\n",
       "\n",
       "    .dataframe thead th {\n",
       "        text-align: right;\n",
       "    }\n",
       "</style>\n",
       "<table border=\"1\" class=\"dataframe\">\n",
       "  <thead>\n",
       "    <tr style=\"text-align: right;\">\n",
       "      <th></th>\n",
       "      <th>pitch</th>\n",
       "      <th>roll</th>\n",
       "      <th>episode</th>\n",
       "      <th>position_within_episode</th>\n",
       "    </tr>\n",
       "  </thead>\n",
       "  <tbody>\n",
       "    <tr>\n",
       "      <th>0</th>\n",
       "      <td>15.915869</td>\n",
       "      <td>2.358416</td>\n",
       "      <td>1</td>\n",
       "      <td>0</td>\n",
       "    </tr>\n",
       "    <tr>\n",
       "      <th>1</th>\n",
       "      <td>14.295925</td>\n",
       "      <td>1.700391</td>\n",
       "      <td>1</td>\n",
       "      <td>1</td>\n",
       "    </tr>\n",
       "    <tr>\n",
       "      <th>2</th>\n",
       "      <td>6.213590</td>\n",
       "      <td>1.611325</td>\n",
       "      <td>1</td>\n",
       "      <td>2</td>\n",
       "    </tr>\n",
       "    <tr>\n",
       "      <th>3</th>\n",
       "      <td>1.235337</td>\n",
       "      <td>6.175461</td>\n",
       "      <td>1</td>\n",
       "      <td>3</td>\n",
       "    </tr>\n",
       "    <tr>\n",
       "      <th>4</th>\n",
       "      <td>1.341678</td>\n",
       "      <td>3.695468</td>\n",
       "      <td>1</td>\n",
       "      <td>4</td>\n",
       "    </tr>\n",
       "    <tr>\n",
       "      <th>...</th>\n",
       "      <td>...</td>\n",
       "      <td>...</td>\n",
       "      <td>...</td>\n",
       "      <td>...</td>\n",
       "    </tr>\n",
       "    <tr>\n",
       "      <th>215995</th>\n",
       "      <td>0.428497</td>\n",
       "      <td>-0.663964</td>\n",
       "      <td>540</td>\n",
       "      <td>395</td>\n",
       "    </tr>\n",
       "    <tr>\n",
       "      <th>215996</th>\n",
       "      <td>0.485498</td>\n",
       "      <td>-1.376229</td>\n",
       "      <td>540</td>\n",
       "      <td>396</td>\n",
       "    </tr>\n",
       "    <tr>\n",
       "      <th>215997</th>\n",
       "      <td>-0.658033</td>\n",
       "      <td>-1.328761</td>\n",
       "      <td>540</td>\n",
       "      <td>397</td>\n",
       "    </tr>\n",
       "    <tr>\n",
       "      <th>215998</th>\n",
       "      <td>-1.322262</td>\n",
       "      <td>-1.650465</td>\n",
       "      <td>540</td>\n",
       "      <td>398</td>\n",
       "    </tr>\n",
       "    <tr>\n",
       "      <th>215999</th>\n",
       "      <td>-3.697282</td>\n",
       "      <td>-1.758844</td>\n",
       "      <td>540</td>\n",
       "      <td>399</td>\n",
       "    </tr>\n",
       "  </tbody>\n",
       "</table>\n",
       "<p>216000 rows × 4 columns</p>\n",
       "</div>"
      ],
      "text/plain": [
       "            pitch      roll  episode position_within_episode\n",
       "0       15.915869  2.358416        1                       0\n",
       "1       14.295925  1.700391        1                       1\n",
       "2        6.213590  1.611325        1                       2\n",
       "3        1.235337  6.175461        1                       3\n",
       "4        1.341678  3.695468        1                       4\n",
       "...           ...       ...      ...                     ...\n",
       "215995   0.428497 -0.663964      540                     395\n",
       "215996   0.485498 -1.376229      540                     396\n",
       "215997  -0.658033 -1.328761      540                     397\n",
       "215998  -1.322262 -1.650465      540                     398\n",
       "215999  -3.697282 -1.758844      540                     399\n",
       "\n",
       "[216000 rows x 4 columns]"
      ]
     },
     "execution_count": 8,
     "metadata": {},
     "output_type": "execute_result"
    }
   ],
   "source": [
    "p_r_df = pd.DataFrame(episodes)\n",
    "p_r_df.rename(columns = {0:'pitch', 1:'roll', 2:'episode', 3:'position_within_episode'}, inplace=True)\n",
    "p_r_df = p_r_df.astype({\"pitch\": float, \"roll\": float})\n",
    "p_r_df"
   ]
  },
  {
   "cell_type": "code",
   "execution_count": 9,
   "metadata": {},
   "outputs": [
    {
     "data": {
      "text/html": [
       "<div>\n",
       "<style scoped>\n",
       "    .dataframe tbody tr th:only-of-type {\n",
       "        vertical-align: middle;\n",
       "    }\n",
       "\n",
       "    .dataframe tbody tr th {\n",
       "        vertical-align: top;\n",
       "    }\n",
       "\n",
       "    .dataframe thead th {\n",
       "        text-align: right;\n",
       "    }\n",
       "</style>\n",
       "<table border=\"1\" class=\"dataframe\">\n",
       "  <thead>\n",
       "    <tr style=\"text-align: right;\">\n",
       "      <th></th>\n",
       "      <th>episode</th>\n",
       "      <th>pr</th>\n",
       "    </tr>\n",
       "  </thead>\n",
       "  <tbody>\n",
       "    <tr>\n",
       "      <th>0</th>\n",
       "      <td>1</td>\n",
       "      <td>[(15.92, 2.36), (14.3, 1.7), (6.21, 1.61), (1....</td>\n",
       "    </tr>\n",
       "    <tr>\n",
       "      <th>1</th>\n",
       "      <td>2</td>\n",
       "      <td>[(15.98, 2.27), (9.86, 1.36), (6.11, 1.56), (1...</td>\n",
       "    </tr>\n",
       "    <tr>\n",
       "      <th>2</th>\n",
       "      <td>3</td>\n",
       "      <td>[(15.96, 2.07), (6.18, 0.12), (6.08, 1.68), (1...</td>\n",
       "    </tr>\n",
       "    <tr>\n",
       "      <th>3</th>\n",
       "      <td>4</td>\n",
       "      <td>[(7.7, 1.58), (8.48, 0.06), (3.16, 0.86), (1.0...</td>\n",
       "    </tr>\n",
       "    <tr>\n",
       "      <th>4</th>\n",
       "      <td>5</td>\n",
       "      <td>[(7.81, 1.49), (7.87, 0.18), (3.13, 0.91), (0....</td>\n",
       "    </tr>\n",
       "    <tr>\n",
       "      <th>...</th>\n",
       "      <td>...</td>\n",
       "      <td>...</td>\n",
       "    </tr>\n",
       "    <tr>\n",
       "      <th>535</th>\n",
       "      <td>536</td>\n",
       "      <td>[(27.03, -7.86), (19.12, -5.18), (12.65, -3.41...</td>\n",
       "    </tr>\n",
       "    <tr>\n",
       "      <th>536</th>\n",
       "      <td>537</td>\n",
       "      <td>[(18.02, -5.29), (18.95, -5.79), (10.58, -2.69...</td>\n",
       "    </tr>\n",
       "    <tr>\n",
       "      <th>537</th>\n",
       "      <td>538</td>\n",
       "      <td>[(21.82, -6.14), (14.1, -3.58), (9.7, -2.57), ...</td>\n",
       "    </tr>\n",
       "    <tr>\n",
       "      <th>538</th>\n",
       "      <td>539</td>\n",
       "      <td>[(21.23, -6.12), (16.44, -4.69), (10.11, -2.68...</td>\n",
       "    </tr>\n",
       "    <tr>\n",
       "      <th>539</th>\n",
       "      <td>540</td>\n",
       "      <td>[(-0.65, -0.5), (-0.81, -0.24), (2.55, 0.03), ...</td>\n",
       "    </tr>\n",
       "  </tbody>\n",
       "</table>\n",
       "<p>540 rows × 2 columns</p>\n",
       "</div>"
      ],
      "text/plain": [
       "     episode                                                 pr\n",
       "0          1  [(15.92, 2.36), (14.3, 1.7), (6.21, 1.61), (1....\n",
       "1          2  [(15.98, 2.27), (9.86, 1.36), (6.11, 1.56), (1...\n",
       "2          3  [(15.96, 2.07), (6.18, 0.12), (6.08, 1.68), (1...\n",
       "3          4  [(7.7, 1.58), (8.48, 0.06), (3.16, 0.86), (1.0...\n",
       "4          5  [(7.81, 1.49), (7.87, 0.18), (3.13, 0.91), (0....\n",
       "..       ...                                                ...\n",
       "535      536  [(27.03, -7.86), (19.12, -5.18), (12.65, -3.41...\n",
       "536      537  [(18.02, -5.29), (18.95, -5.79), (10.58, -2.69...\n",
       "537      538  [(21.82, -6.14), (14.1, -3.58), (9.7, -2.57), ...\n",
       "538      539  [(21.23, -6.12), (16.44, -4.69), (10.11, -2.68...\n",
       "539      540  [(-0.65, -0.5), (-0.81, -0.24), (2.55, 0.03), ...\n",
       "\n",
       "[540 rows x 2 columns]"
      ]
     },
     "execution_count": 9,
     "metadata": {},
     "output_type": "execute_result"
    }
   ],
   "source": [
    "df2 = p_r_df.copy()\n",
    "df2[\"pr\"] = list(zip(p_r_df[\"pitch\"].round(2), p_r_df[\"roll\"].round(2)))\n",
    "df2.drop(columns=[\"pitch\",\"roll\"], axis=0, inplace=True)\n",
    "df2 = df2[[\"pr\",\"episode\",\"position_within_episode\"]]\n",
    "rows = df2.groupby('episode')['pr'].apply(list)\n",
    "df_stack = pd.DataFrame(rows)\n",
    "df_stack = df_stack.reset_index()\n",
    "df_stack"
   ]
  },
  {
   "cell_type": "code",
   "execution_count": 10,
   "metadata": {},
   "outputs": [],
   "source": [
    "# Function to normalize pitch and roll angles\n",
    "def norm_pr(x, min = -90.0, max = 90.0):\n",
    "    return ((x - min) * 2) / (max - min) - 1"
   ]
  },
  {
   "cell_type": "code",
   "execution_count": 11,
   "metadata": {},
   "outputs": [
    {
     "data": {
      "text/html": [
       "<div>\n",
       "<style scoped>\n",
       "    .dataframe tbody tr th:only-of-type {\n",
       "        vertical-align: middle;\n",
       "    }\n",
       "\n",
       "    .dataframe tbody tr th {\n",
       "        vertical-align: top;\n",
       "    }\n",
       "\n",
       "    .dataframe thead th {\n",
       "        text-align: right;\n",
       "    }\n",
       "</style>\n",
       "<table border=\"1\" class=\"dataframe\">\n",
       "  <thead>\n",
       "    <tr style=\"text-align: right;\">\n",
       "      <th></th>\n",
       "      <th>pitch</th>\n",
       "      <th>roll</th>\n",
       "      <th>episode</th>\n",
       "      <th>position_within_episode</th>\n",
       "    </tr>\n",
       "  </thead>\n",
       "  <tbody>\n",
       "    <tr>\n",
       "      <th>0</th>\n",
       "      <td>0.176843</td>\n",
       "      <td>0.026205</td>\n",
       "      <td>1</td>\n",
       "      <td>0</td>\n",
       "    </tr>\n",
       "    <tr>\n",
       "      <th>1</th>\n",
       "      <td>0.158844</td>\n",
       "      <td>0.018893</td>\n",
       "      <td>1</td>\n",
       "      <td>1</td>\n",
       "    </tr>\n",
       "    <tr>\n",
       "      <th>2</th>\n",
       "      <td>0.069040</td>\n",
       "      <td>0.017904</td>\n",
       "      <td>1</td>\n",
       "      <td>2</td>\n",
       "    </tr>\n",
       "    <tr>\n",
       "      <th>3</th>\n",
       "      <td>0.013726</td>\n",
       "      <td>0.068616</td>\n",
       "      <td>1</td>\n",
       "      <td>3</td>\n",
       "    </tr>\n",
       "    <tr>\n",
       "      <th>4</th>\n",
       "      <td>0.014908</td>\n",
       "      <td>0.041061</td>\n",
       "      <td>1</td>\n",
       "      <td>4</td>\n",
       "    </tr>\n",
       "    <tr>\n",
       "      <th>...</th>\n",
       "      <td>...</td>\n",
       "      <td>...</td>\n",
       "      <td>...</td>\n",
       "      <td>...</td>\n",
       "    </tr>\n",
       "    <tr>\n",
       "      <th>215995</th>\n",
       "      <td>0.004761</td>\n",
       "      <td>-0.007377</td>\n",
       "      <td>540</td>\n",
       "      <td>395</td>\n",
       "    </tr>\n",
       "    <tr>\n",
       "      <th>215996</th>\n",
       "      <td>0.005394</td>\n",
       "      <td>-0.015291</td>\n",
       "      <td>540</td>\n",
       "      <td>396</td>\n",
       "    </tr>\n",
       "    <tr>\n",
       "      <th>215997</th>\n",
       "      <td>-0.007311</td>\n",
       "      <td>-0.014764</td>\n",
       "      <td>540</td>\n",
       "      <td>397</td>\n",
       "    </tr>\n",
       "    <tr>\n",
       "      <th>215998</th>\n",
       "      <td>-0.014692</td>\n",
       "      <td>-0.018338</td>\n",
       "      <td>540</td>\n",
       "      <td>398</td>\n",
       "    </tr>\n",
       "    <tr>\n",
       "      <th>215999</th>\n",
       "      <td>-0.041081</td>\n",
       "      <td>-0.019543</td>\n",
       "      <td>540</td>\n",
       "      <td>399</td>\n",
       "    </tr>\n",
       "  </tbody>\n",
       "</table>\n",
       "<p>216000 rows × 4 columns</p>\n",
       "</div>"
      ],
      "text/plain": [
       "           pitch      roll  episode position_within_episode\n",
       "0       0.176843  0.026205        1                       0\n",
       "1       0.158844  0.018893        1                       1\n",
       "2       0.069040  0.017904        1                       2\n",
       "3       0.013726  0.068616        1                       3\n",
       "4       0.014908  0.041061        1                       4\n",
       "...          ...       ...      ...                     ...\n",
       "215995  0.004761 -0.007377      540                     395\n",
       "215996  0.005394 -0.015291      540                     396\n",
       "215997 -0.007311 -0.014764      540                     397\n",
       "215998 -0.014692 -0.018338      540                     398\n",
       "215999 -0.041081 -0.019543      540                     399\n",
       "\n",
       "[216000 rows x 4 columns]"
      ]
     },
     "execution_count": 11,
     "metadata": {},
     "output_type": "execute_result"
    }
   ],
   "source": [
    "# normalize PR-values\n",
    "p_r_df['pitch'] = p_r_df['pitch'].apply(lambda x : norm_pr(x))\n",
    "p_r_df['roll'] = p_r_df['roll'].apply(lambda x : norm_pr(x))\n",
    "p_r_df"
   ]
  },
  {
   "cell_type": "markdown",
   "metadata": {},
   "source": [
    "# Create sequences with target value"
   ]
  },
  {
   "cell_type": "code",
   "execution_count": 12,
   "metadata": {},
   "outputs": [],
   "source": [
    "# function to create sequences with one target column\n",
    "def create_sequences(input_data: pd.DataFrame, target_column, sequence_length, input_columns = [\"pitch\", \"roll\"], episode_length = FRAMES_PER_EPISODE, n_episodes = N_EPISODES):\n",
    "    sequences= []\n",
    "\n",
    "    # make sequences per episode, one sequence can only hold data of one and the same episode!\n",
    "    for n in tqdm(range(n_episodes)):\n",
    "\n",
    "        for l in range(episode_length-SEQUENCE_LENGTH):\n",
    "            \n",
    "            i = l+(n*episode_length)\n",
    "\n",
    "            sequence = input_data.iloc[i:i+sequence_length]\n",
    "\n",
    "            target_position = i + sequence_length\n",
    "            target = input_data.iloc[target_position][target_column]\n",
    "\n",
    "            sequences.append((sequence, target))\n",
    "\n",
    "    return sequences"
   ]
  },
  {
   "cell_type": "code",
   "execution_count": 13,
   "metadata": {},
   "outputs": [
    {
     "data": {
      "text/plain": [
       "(50, 4)"
      ]
     },
     "execution_count": 13,
     "metadata": {},
     "output_type": "execute_result"
    }
   ],
   "source": [
    "target = \"roll\"\n",
    "try:\n",
    "    with open(f'sequences_{target}.pkl', 'rb') as f:\n",
    "        all_sequences = pickle.load(f)\n",
    "except:\n",
    "    all_sequences = create_sequences(p_r_df, target, SEQUENCE_LENGTH)\n",
    "    with open(f'sequences_{target}.pkl', 'wb') as f:\n",
    "        pickle.dump(all_sequences, f)\n",
    "all_sequences[0][0].shape"
   ]
  },
  {
   "cell_type": "code",
   "execution_count": 14,
   "metadata": {},
   "outputs": [
    {
     "data": {
      "text/plain": [
       "0.13332854642487857"
      ]
     },
     "execution_count": 14,
     "metadata": {},
     "output_type": "execute_result"
    }
   ],
   "source": [
    "all_sequences[0][1]"
   ]
  },
  {
   "cell_type": "code",
   "execution_count": 15,
   "metadata": {},
   "outputs": [],
   "source": [
    "# check sequence integrity\n",
    "def test_sequences_integrity(sequences):\n",
    "    fact = N_EPISODES*FRAMES_PER_EPISODE - N_EPISODES*SEQUENCE_LENGTH\n",
    "    act = len(sequences)\n",
    "\n",
    "    if(not fact == act):\n",
    "        print(\"Length of sequences is: \"+act+\"\\nShould be: \"+fact)\n",
    "        return False\n",
    "\n",
    "    for seq in tqdm(range(len(sequences))):\n",
    "\n",
    "        df = sequences[seq][0]\n",
    "        if (len(df['episode'].unique()) !=1):\n",
    "            print(\"seq: \"+seq+\" contains data from different episodes\")\n",
    "            return False\n",
    "        \n",
    "    print(\"All sequences are correct\")\n",
    "    return True"
   ]
  },
  {
   "cell_type": "code",
   "execution_count": 16,
   "metadata": {},
   "outputs": [
    {
     "data": {
      "application/vnd.jupyter.widget-view+json": {
       "model_id": "1790761e6aeb4340839996505baa0474",
       "version_major": 2,
       "version_minor": 0
      },
      "text/plain": [
       "  0%|          | 0/189000 [00:00<?, ?it/s]"
      ]
     },
     "metadata": {},
     "output_type": "display_data"
    },
    {
     "name": "stdout",
     "output_type": "stream",
     "text": [
      "All sequences are correct\n"
     ]
    },
    {
     "data": {
      "text/plain": [
       "True"
      ]
     },
     "execution_count": 16,
     "metadata": {},
     "output_type": "execute_result"
    }
   ],
   "source": [
    "# !jupyter nbextension enable --py widgetsnbextension\n",
    "test_sequences_integrity(all_sequences)"
   ]
  },
  {
   "cell_type": "code",
   "execution_count": 17,
   "metadata": {},
   "outputs": [
    {
     "name": "stdout",
     "output_type": "stream",
     "text": [
      "Sequence for target value:  0.010864192571764075\n"
     ]
    },
    {
     "data": {
      "text/html": [
       "<div>\n",
       "<style scoped>\n",
       "    .dataframe tbody tr th:only-of-type {\n",
       "        vertical-align: middle;\n",
       "    }\n",
       "\n",
       "    .dataframe tbody tr th {\n",
       "        vertical-align: top;\n",
       "    }\n",
       "\n",
       "    .dataframe thead th {\n",
       "        text-align: right;\n",
       "    }\n",
       "</style>\n",
       "<table border=\"1\" class=\"dataframe\">\n",
       "  <thead>\n",
       "    <tr style=\"text-align: right;\">\n",
       "      <th></th>\n",
       "      <th>pitch</th>\n",
       "      <th>roll</th>\n",
       "      <th>episode</th>\n",
       "      <th>position_within_episode</th>\n",
       "    </tr>\n",
       "  </thead>\n",
       "  <tbody>\n",
       "    <tr>\n",
       "      <th>349</th>\n",
       "      <td>-0.027831</td>\n",
       "      <td>0.082243</td>\n",
       "      <td>1</td>\n",
       "      <td>349</td>\n",
       "    </tr>\n",
       "    <tr>\n",
       "      <th>350</th>\n",
       "      <td>0.110468</td>\n",
       "      <td>0.039379</td>\n",
       "      <td>1</td>\n",
       "      <td>350</td>\n",
       "    </tr>\n",
       "    <tr>\n",
       "      <th>397</th>\n",
       "      <td>0.148595</td>\n",
       "      <td>0.017144</td>\n",
       "      <td>1</td>\n",
       "      <td>397</td>\n",
       "    </tr>\n",
       "    <tr>\n",
       "      <th>398</th>\n",
       "      <td>0.124374</td>\n",
       "      <td>-0.009429</td>\n",
       "      <td>1</td>\n",
       "      <td>398</td>\n",
       "    </tr>\n",
       "  </tbody>\n",
       "</table>\n",
       "</div>"
      ],
      "text/plain": [
       "        pitch      roll  episode position_within_episode\n",
       "349 -0.027831  0.082243        1                     349\n",
       "350  0.110468  0.039379        1                     350\n",
       "397  0.148595  0.017144        1                     397\n",
       "398  0.124374 -0.009429        1                     398"
      ]
     },
     "execution_count": 17,
     "metadata": {},
     "output_type": "execute_result"
    }
   ],
   "source": [
    "index = 349\n",
    "print(\"Sequence for target value: \", all_sequences[index][1])\n",
    "pd.concat([all_sequences[index][0].head(2),all_sequences[index][0].tail(2)])"
   ]
  },
  {
   "cell_type": "code",
   "execution_count": 18,
   "metadata": {},
   "outputs": [
    {
     "name": "stdout",
     "output_type": "stream",
     "text": [
      "Sequence for target value:  0.16881833267512492\n"
     ]
    },
    {
     "data": {
      "text/html": [
       "<div>\n",
       "<style scoped>\n",
       "    .dataframe tbody tr th:only-of-type {\n",
       "        vertical-align: middle;\n",
       "    }\n",
       "\n",
       "    .dataframe tbody tr th {\n",
       "        vertical-align: top;\n",
       "    }\n",
       "\n",
       "    .dataframe thead th {\n",
       "        text-align: right;\n",
       "    }\n",
       "</style>\n",
       "<table border=\"1\" class=\"dataframe\">\n",
       "  <thead>\n",
       "    <tr style=\"text-align: right;\">\n",
       "      <th></th>\n",
       "      <th>pitch</th>\n",
       "      <th>roll</th>\n",
       "      <th>episode</th>\n",
       "      <th>position_within_episode</th>\n",
       "    </tr>\n",
       "  </thead>\n",
       "  <tbody>\n",
       "    <tr>\n",
       "      <th>400</th>\n",
       "      <td>0.177541</td>\n",
       "      <td>0.025201</td>\n",
       "      <td>2</td>\n",
       "      <td>0</td>\n",
       "    </tr>\n",
       "    <tr>\n",
       "      <th>401</th>\n",
       "      <td>0.109509</td>\n",
       "      <td>0.015121</td>\n",
       "      <td>2</td>\n",
       "      <td>1</td>\n",
       "    </tr>\n",
       "    <tr>\n",
       "      <th>448</th>\n",
       "      <td>0.184947</td>\n",
       "      <td>0.081514</td>\n",
       "      <td>2</td>\n",
       "      <td>48</td>\n",
       "    </tr>\n",
       "    <tr>\n",
       "      <th>449</th>\n",
       "      <td>0.172527</td>\n",
       "      <td>0.109872</td>\n",
       "      <td>2</td>\n",
       "      <td>49</td>\n",
       "    </tr>\n",
       "  </tbody>\n",
       "</table>\n",
       "</div>"
      ],
      "text/plain": [
       "        pitch      roll  episode position_within_episode\n",
       "400  0.177541  0.025201        2                       0\n",
       "401  0.109509  0.015121        2                       1\n",
       "448  0.184947  0.081514        2                      48\n",
       "449  0.172527  0.109872        2                      49"
      ]
     },
     "execution_count": 18,
     "metadata": {},
     "output_type": "execute_result"
    }
   ],
   "source": [
    "index = 350\n",
    "print(\"Sequence for target value: \", all_sequences[index][1])\n",
    "pd.concat([all_sequences[index][0].head(2),all_sequences[index][0].tail(2)])"
   ]
  },
  {
   "cell_type": "code",
   "execution_count": 19,
   "metadata": {},
   "outputs": [
    {
     "name": "stdout",
     "output_type": "stream",
     "text": [
      "True\n",
      "151200 37800\n",
      "[167621, 29184, 6556, 72097, 64196, 58513, 36579, 26868, 177392, 142964]\n",
      "[1, 131073, 4, 131077, 6, 131079, 11, 131088, 17, 131089]\n"
     ]
    }
   ],
   "source": [
    "# Grab random subsets from all sequences for training and test data (without overlapping data)\n",
    "data_size = len(all_sequences)\n",
    "data_indices = list(np.arange(0, data_size, 1))\n",
    "\n",
    "# train indices are random sample from all data indices\n",
    "random.seed(42)\n",
    "train_size = int(TRAIN_SIZE * data_size)\n",
    "train_indices = random.sample(data_indices, train_size)\n",
    "\n",
    "# test indices are the difference of all data indices and train indices\n",
    "test_indices = list(set(data_indices) - set(train_indices))\n",
    "\n",
    "print((len(train_indices) + len(test_indices)) <= data_size)\n",
    "print(len(train_indices), len(test_indices))\n",
    "print(train_indices[:10])\n",
    "print(test_indices[:10])"
   ]
  },
  {
   "cell_type": "code",
   "execution_count": 20,
   "metadata": {},
   "outputs": [
    {
     "data": {
      "application/vnd.jupyter.widget-view+json": {
       "model_id": "cd77065038bf4d33ad595680c0dc77f0",
       "version_major": 2,
       "version_minor": 0
      },
      "text/plain": [
       "  0%|          | 0/151200 [00:00<?, ?it/s]"
      ]
     },
     "metadata": {},
     "output_type": "display_data"
    },
    {
     "data": {
      "application/vnd.jupyter.widget-view+json": {
       "model_id": "2df8568a78c74809bf2f3c540a1fb05e",
       "version_major": 2,
       "version_minor": 0
      },
      "text/plain": [
       "  0%|          | 0/37800 [00:00<?, ?it/s]"
      ]
     },
     "metadata": {},
     "output_type": "display_data"
    },
    {
     "name": "stdout",
     "output_type": "stream",
     "text": [
      "True\n"
     ]
    },
    {
     "data": {
      "text/plain": [
       "(151200, (50, 2), 37800, (50, 2))"
      ]
     },
     "execution_count": 20,
     "metadata": {},
     "output_type": "execute_result"
    }
   ],
   "source": [
    "# drop temporary episode and position_within_episode columns in all sequences\n",
    "train_sequences = []\n",
    "test_sequences = []\n",
    "\n",
    "for idx in tqdm(train_indices):\n",
    "    seq = all_sequences[idx][0].drop(columns=[\"episode\", \"position_within_episode\"], axis=0)\n",
    "    label = all_sequences[idx][1]\n",
    "    train_sequences.append((seq,label))\n",
    "\n",
    "for idx in tqdm(test_indices):\n",
    "    seq = all_sequences[idx][0].drop(columns=[\"episode\", \"position_within_episode\"], axis=0)\n",
    "    label = all_sequences[idx][1]\n",
    "    test_sequences.append((seq,label))\n",
    "\n",
    "print((len(train_sequences) + len(test_sequences)) <= len(all_sequences))\n",
    "len(train_sequences), train_sequences[0][0].shape, len(test_sequences), test_sequences[0][0].shape"
   ]
  },
  {
   "cell_type": "code",
   "execution_count": 21,
   "metadata": {},
   "outputs": [
    {
     "name": "stdout",
     "output_type": "stream",
     "text": [
      "Training sequence for target value:  -0.06934802054887956\n"
     ]
    },
    {
     "data": {
      "text/html": [
       "<div>\n",
       "<style scoped>\n",
       "    .dataframe tbody tr th:only-of-type {\n",
       "        vertical-align: middle;\n",
       "    }\n",
       "\n",
       "    .dataframe tbody tr th {\n",
       "        vertical-align: top;\n",
       "    }\n",
       "\n",
       "    .dataframe thead th {\n",
       "        text-align: right;\n",
       "    }\n",
       "</style>\n",
       "<table border=\"1\" class=\"dataframe\">\n",
       "  <thead>\n",
       "    <tr style=\"text-align: right;\">\n",
       "      <th></th>\n",
       "      <th>pitch</th>\n",
       "      <th>roll</th>\n",
       "    </tr>\n",
       "  </thead>\n",
       "  <tbody>\n",
       "    <tr>\n",
       "      <th>191521</th>\n",
       "      <td>-0.143385</td>\n",
       "      <td>0.008034</td>\n",
       "    </tr>\n",
       "    <tr>\n",
       "      <th>191522</th>\n",
       "      <td>-0.030586</td>\n",
       "      <td>-0.100261</td>\n",
       "    </tr>\n",
       "    <tr>\n",
       "      <th>191569</th>\n",
       "      <td>0.037312</td>\n",
       "      <td>-0.005534</td>\n",
       "    </tr>\n",
       "    <tr>\n",
       "      <th>191570</th>\n",
       "      <td>0.130020</td>\n",
       "      <td>-0.031995</td>\n",
       "    </tr>\n",
       "  </tbody>\n",
       "</table>\n",
       "</div>"
      ],
      "text/plain": [
       "           pitch      roll\n",
       "191521 -0.143385  0.008034\n",
       "191522 -0.030586 -0.100261\n",
       "191569  0.037312 -0.005534\n",
       "191570  0.130020 -0.031995"
      ]
     },
     "execution_count": 21,
     "metadata": {},
     "output_type": "execute_result"
    }
   ],
   "source": [
    "index = 0\n",
    "print(\"Training sequence for target value: \", train_sequences[index][1])\n",
    "pd.concat([train_sequences[index][0].head(2),train_sequences[index][0].tail(2)])"
   ]
  },
  {
   "cell_type": "code",
   "execution_count": 22,
   "metadata": {},
   "outputs": [
    {
     "name": "stdout",
     "output_type": "stream",
     "text": [
      "Training sequence for target value:  -0.21254057439110896\n"
     ]
    },
    {
     "data": {
      "text/html": [
       "<div>\n",
       "<style scoped>\n",
       "    .dataframe tbody tr th:only-of-type {\n",
       "        vertical-align: middle;\n",
       "    }\n",
       "\n",
       "    .dataframe tbody tr th {\n",
       "        vertical-align: top;\n",
       "    }\n",
       "\n",
       "    .dataframe thead th {\n",
       "        text-align: right;\n",
       "    }\n",
       "</style>\n",
       "<table border=\"1\" class=\"dataframe\">\n",
       "  <thead>\n",
       "    <tr style=\"text-align: right;\">\n",
       "      <th></th>\n",
       "      <th>pitch</th>\n",
       "      <th>roll</th>\n",
       "    </tr>\n",
       "  </thead>\n",
       "  <tbody>\n",
       "    <tr>\n",
       "      <th>33334</th>\n",
       "      <td>0.033731</td>\n",
       "      <td>0.122046</td>\n",
       "    </tr>\n",
       "    <tr>\n",
       "      <th>33335</th>\n",
       "      <td>0.141326</td>\n",
       "      <td>0.081722</td>\n",
       "    </tr>\n",
       "    <tr>\n",
       "      <th>33382</th>\n",
       "      <td>-0.050703</td>\n",
       "      <td>-0.179941</td>\n",
       "    </tr>\n",
       "    <tr>\n",
       "      <th>33383</th>\n",
       "      <td>-0.037357</td>\n",
       "      <td>-0.218784</td>\n",
       "    </tr>\n",
       "  </tbody>\n",
       "</table>\n",
       "</div>"
      ],
      "text/plain": [
       "          pitch      roll\n",
       "33334  0.033731  0.122046\n",
       "33335  0.141326  0.081722\n",
       "33382 -0.050703 -0.179941\n",
       "33383 -0.037357 -0.218784"
      ]
     },
     "execution_count": 22,
     "metadata": {},
     "output_type": "execute_result"
    }
   ],
   "source": [
    "index = 1\n",
    "print(\"Training sequence for target value: \", train_sequences[index][1])\n",
    "pd.concat([train_sequences[index][0].head(2),train_sequences[index][0].tail(2)])"
   ]
  },
  {
   "cell_type": "code",
   "execution_count": 23,
   "metadata": {},
   "outputs": [
    {
     "name": "stdout",
     "output_type": "stream",
     "text": [
      "Test sequence for target value:  0.16589988770651676\n"
     ]
    },
    {
     "data": {
      "text/html": [
       "<div>\n",
       "<style scoped>\n",
       "    .dataframe tbody tr th:only-of-type {\n",
       "        vertical-align: middle;\n",
       "    }\n",
       "\n",
       "    .dataframe tbody tr th {\n",
       "        vertical-align: top;\n",
       "    }\n",
       "\n",
       "    .dataframe thead th {\n",
       "        text-align: right;\n",
       "    }\n",
       "</style>\n",
       "<table border=\"1\" class=\"dataframe\">\n",
       "  <thead>\n",
       "    <tr style=\"text-align: right;\">\n",
       "      <th></th>\n",
       "      <th>pitch</th>\n",
       "      <th>roll</th>\n",
       "    </tr>\n",
       "  </thead>\n",
       "  <tbody>\n",
       "    <tr>\n",
       "      <th>191521</th>\n",
       "      <td>-0.143385</td>\n",
       "      <td>0.008034</td>\n",
       "    </tr>\n",
       "    <tr>\n",
       "      <th>191522</th>\n",
       "      <td>-0.030586</td>\n",
       "      <td>-0.100261</td>\n",
       "    </tr>\n",
       "    <tr>\n",
       "      <th>191569</th>\n",
       "      <td>0.037312</td>\n",
       "      <td>-0.005534</td>\n",
       "    </tr>\n",
       "    <tr>\n",
       "      <th>191570</th>\n",
       "      <td>0.130020</td>\n",
       "      <td>-0.031995</td>\n",
       "    </tr>\n",
       "  </tbody>\n",
       "</table>\n",
       "</div>"
      ],
      "text/plain": [
       "           pitch      roll\n",
       "191521 -0.143385  0.008034\n",
       "191522 -0.030586 -0.100261\n",
       "191569  0.037312 -0.005534\n",
       "191570  0.130020 -0.031995"
      ]
     },
     "execution_count": 23,
     "metadata": {},
     "output_type": "execute_result"
    }
   ],
   "source": [
    "index = 0\n",
    "print(\"Test sequence for target value: \", test_sequences[index][1])\n",
    "pd.concat([train_sequences[index][0].head(2),train_sequences[index][0].tail(2)])"
   ]
  },
  {
   "cell_type": "code",
   "execution_count": 24,
   "metadata": {},
   "outputs": [
    {
     "name": "stdout",
     "output_type": "stream",
     "text": [
      "Test sequence for target value:  -0.0003514220151041858\n"
     ]
    },
    {
     "data": {
      "text/html": [
       "<div>\n",
       "<style scoped>\n",
       "    .dataframe tbody tr th:only-of-type {\n",
       "        vertical-align: middle;\n",
       "    }\n",
       "\n",
       "    .dataframe tbody tr th {\n",
       "        vertical-align: top;\n",
       "    }\n",
       "\n",
       "    .dataframe thead th {\n",
       "        text-align: right;\n",
       "    }\n",
       "</style>\n",
       "<table border=\"1\" class=\"dataframe\">\n",
       "  <thead>\n",
       "    <tr style=\"text-align: right;\">\n",
       "      <th></th>\n",
       "      <th>pitch</th>\n",
       "      <th>roll</th>\n",
       "    </tr>\n",
       "  </thead>\n",
       "  <tbody>\n",
       "    <tr>\n",
       "      <th>33334</th>\n",
       "      <td>0.033731</td>\n",
       "      <td>0.122046</td>\n",
       "    </tr>\n",
       "    <tr>\n",
       "      <th>33335</th>\n",
       "      <td>0.141326</td>\n",
       "      <td>0.081722</td>\n",
       "    </tr>\n",
       "    <tr>\n",
       "      <th>33382</th>\n",
       "      <td>-0.050703</td>\n",
       "      <td>-0.179941</td>\n",
       "    </tr>\n",
       "    <tr>\n",
       "      <th>33383</th>\n",
       "      <td>-0.037357</td>\n",
       "      <td>-0.218784</td>\n",
       "    </tr>\n",
       "  </tbody>\n",
       "</table>\n",
       "</div>"
      ],
      "text/plain": [
       "          pitch      roll\n",
       "33334  0.033731  0.122046\n",
       "33335  0.141326  0.081722\n",
       "33382 -0.050703 -0.179941\n",
       "33383 -0.037357 -0.218784"
      ]
     },
     "execution_count": 24,
     "metadata": {},
     "output_type": "execute_result"
    }
   ],
   "source": [
    "index = 1\n",
    "print(\"Test sequence for target value: \", test_sequences[index][1])\n",
    "pd.concat([train_sequences[index][0].head(2),train_sequences[index][0].tail(2)])"
   ]
  },
  {
   "cell_type": "code",
   "execution_count": 25,
   "metadata": {},
   "outputs": [
    {
     "data": {
      "text/plain": [
       "(151200, (50, 2), 37800, (50, 2))"
      ]
     },
     "execution_count": 25,
     "metadata": {},
     "output_type": "execute_result"
    }
   ],
   "source": [
    "len(train_sequences), train_sequences[0][0].shape, len(test_sequences), test_sequences[0][0].shape"
   ]
  },
  {
   "cell_type": "markdown",
   "metadata": {},
   "source": [
    "## Pytorch Dataset"
   ]
  },
  {
   "cell_type": "code",
   "execution_count": 26,
   "metadata": {},
   "outputs": [],
   "source": [
    "class PRDataset(Dataset):\n",
    "    def __init__(self, sequences):\n",
    "        self.sequences = sequences\n",
    "\n",
    "    def __len__(self):\n",
    "        return len(self.sequences)\n",
    "\n",
    "    def __getitem__(self, index):\n",
    "        sequence, label = self.sequences[index]\n",
    "\n",
    "        return dict(\n",
    "            sequence = torch.Tensor(sequence.to_numpy()),\n",
    "            label = torch.tensor(label).float()\n",
    "        )"
   ]
  },
  {
   "cell_type": "code",
   "execution_count": 27,
   "metadata": {},
   "outputs": [],
   "source": [
    "class PRDataModule(pl.LightningDataModule):\n",
    "    def __init__(self, train_sequences, test_sequences, batchsize = 8):\n",
    "        super().__init__()\n",
    "        self.train_sequences = train_sequences\n",
    "        self.test_sequences = test_sequences\n",
    "        self.batchsize = batchsize\n",
    "\n",
    "    # turns normal list object into Dataset object\n",
    "    def setup(self):\n",
    "        self.train_dataset = PRDataset(self.train_sequences)\n",
    "        self.test_dataset = PRDataset(self.test_sequences)\n",
    "\n",
    "    def train_dataloader(self):\n",
    "        return DataLoader(\n",
    "            self.train_dataset,\n",
    "            batch_size = self.batchsize,\n",
    "            shuffle = False,\n",
    "            num_workers=N_WORKERS,\n",
    "        )\n",
    "\n",
    "    def val_dataloader(self):\n",
    "        return DataLoader(\n",
    "            self.test_dataset,\n",
    "            batch_size = 1,\n",
    "            shuffle = False,\n",
    "            num_workers=N_WORKERS,\n",
    "        )\n",
    "\n",
    "    def test_dataloader(self):\n",
    "        return DataLoader(\n",
    "            self.test_dataset,\n",
    "            batch_size = 1,\n",
    "            shuffle = False,\n",
    "            num_workers=N_WORKERS,\n",
    "        )"
   ]
  },
  {
   "cell_type": "code",
   "execution_count": 28,
   "metadata": {},
   "outputs": [],
   "source": [
    "NUM_EPOCHS = 8\n",
    "BATCH_SIZE = 64\n",
    "\n",
    "data_module = PRDataModule(train_sequences, test_sequences, BATCH_SIZE)\n",
    "data_module.setup()"
   ]
  },
  {
   "cell_type": "code",
   "execution_count": 29,
   "metadata": {},
   "outputs": [
    {
     "data": {
      "text/plain": [
       "tensor(-0.0693)"
      ]
     },
     "execution_count": 29,
     "metadata": {},
     "output_type": "execute_result"
    }
   ],
   "source": [
    "data_module_train_dataloader = data_module.train_dataloader()\n",
    "data_module_train_dataloader.dataset.__getitem__(0)[\"label\"]"
   ]
  },
  {
   "cell_type": "code",
   "execution_count": 30,
   "metadata": {},
   "outputs": [
    {
     "name": "stdout",
     "output_type": "stream",
     "text": [
      "torch.Size([64, 50, 2])\n",
      "torch.Size([64])\n"
     ]
    }
   ],
   "source": [
    "for item in data_module_train_dataloader:\n",
    "    print(item[\"sequence\"].shape)\n",
    "    print(item[\"label\"].shape)\n",
    "    break"
   ]
  },
  {
   "cell_type": "code",
   "execution_count": 31,
   "metadata": {},
   "outputs": [],
   "source": [
    "# turn sequence list into Dataset object\n",
    "train_dataset = PRDataset(train_sequences)"
   ]
  },
  {
   "cell_type": "code",
   "execution_count": 32,
   "metadata": {},
   "outputs": [
    {
     "name": "stdout",
     "output_type": "stream",
     "text": [
      "torch.Size([50, 2])\n",
      "torch.Size([])\n",
      "tensor(-0.0693)\n"
     ]
    }
   ],
   "source": [
    "for item in train_dataset:\n",
    "    print(item[\"sequence\"].shape)\n",
    "    print(item[\"label\"].shape)\n",
    "    print(item[\"label\"])\n",
    "    break"
   ]
  },
  {
   "cell_type": "markdown",
   "metadata": {},
   "source": [
    "## LSTM Model"
   ]
  },
  {
   "cell_type": "code",
   "execution_count": 33,
   "metadata": {},
   "outputs": [],
   "source": [
    "class PRPredictionModel(nn.Module):\n",
    "    def __init__(self, n_features, n_hidden=128, n_layers=2):\n",
    "        super().__init__()\n",
    "\n",
    "        self.n_hidden = n_hidden\n",
    "\n",
    "        self.lstm = nn.LSTM(\n",
    "            input_size=n_features,\n",
    "            hidden_size=n_hidden,\n",
    "            batch_first=True,\n",
    "            num_layers=n_layers,\n",
    "            dropout=0.2\n",
    "        )\n",
    "\n",
    "        self.regressor = nn.Linear(n_hidden, 1)\n",
    "\n",
    "    def forward(self, x):\n",
    "        self.lstm.flatten_parameters()\n",
    "    \n",
    "        _, (hidden, _) = self.lstm(x)\n",
    "        out = hidden[-1]\n",
    "\n",
    "        return self.regressor(out)"
   ]
  },
  {
   "cell_type": "code",
   "execution_count": 34,
   "metadata": {},
   "outputs": [],
   "source": [
    "class PRPredictor(pl.LightningModule):\n",
    "    def __init__(self, n_features: int): \n",
    "        super().__init__()\n",
    "\n",
    "        self.model = PRPredictionModel(n_features)\n",
    "        self.criterion = nn.MSELoss()\n",
    "\n",
    "    def forward(self, x, labels=None):\n",
    "        output = self.model(x)\n",
    "        loss = 0\n",
    "        if labels is not None:\n",
    "            loss = self.criterion(output, labels.unsqueeze(dim=1))\n",
    "\n",
    "        return loss, output\n",
    "    \n",
    "    def training_step(self, batch, batch_index):\n",
    "        sequences = batch[\"sequence\"]\n",
    "        labels = batch[\"label\"]\n",
    "\n",
    "        loss, outputs = self(sequences, labels)\n",
    "\n",
    "        self.log(\"train_loss\", loss, prog_bar=True, logger=True)\n",
    "        return loss\n",
    "\n",
    "    def validation_step(self, batch, batch_index):\n",
    "        sequences = batch[\"sequence\"]\n",
    "        labels = batch[\"label\"]\n",
    "\n",
    "        loss, outputs = self(sequences, labels)\n",
    "\n",
    "        self.log(\"val_loss\", loss, prog_bar=True, logger=True)\n",
    "        return loss\n",
    "\n",
    "    def test_step(self, batch, batch_index):\n",
    "        sequences = batch[\"sequence\"]\n",
    "        labels = batch[\"label\"]\n",
    "\n",
    "        loss, outputs = self(sequences, labels)\n",
    "\n",
    "        self.log(\"test_loss\", loss, prog_bar=True, logger=True)\n",
    "        return loss\n",
    "\n",
    "    def configure_optimizers(self):\n",
    "        return optim.AdamW(self.parameters(), lr=0.0001)"
   ]
  },
  {
   "cell_type": "code",
   "execution_count": 35,
   "metadata": {},
   "outputs": [],
   "source": [
    "# n features = 2: pitch & roll\n",
    "model = PRPredictor(n_features=2)"
   ]
  },
  {
   "cell_type": "code",
   "execution_count": 36,
   "metadata": {},
   "outputs": [
    {
     "data": {
      "text/plain": [
       "Reusing TensorBoard on port 6006 (pid 5180), started 6:43:54 ago. (Use '!kill 5180' to kill it.)"
      ]
     },
     "metadata": {},
     "output_type": "display_data"
    },
    {
     "data": {
      "text/html": [
       "\n",
       "      <iframe id=\"tensorboard-frame-d5dec577114821e9\" width=\"100%\" height=\"800\" frameborder=\"0\">\n",
       "      </iframe>\n",
       "      <script>\n",
       "        (function() {\n",
       "          const frame = document.getElementById(\"tensorboard-frame-d5dec577114821e9\");\n",
       "          const url = new URL(\"http://localhost\");\n",
       "          const port = 6006;\n",
       "          if (port) {\n",
       "            url.port = port;\n",
       "          }\n",
       "          frame.src = url;\n",
       "        })();\n",
       "      </script>\n",
       "    "
      ],
      "text/plain": [
       "<IPython.core.display.HTML object>"
      ]
     },
     "metadata": {},
     "output_type": "display_data"
    }
   ],
   "source": [
    "%load_ext tensorboard\n",
    "%tensorboard --logdir ./lightning_logs\n"
   ]
  },
  {
   "cell_type": "code",
   "execution_count": 37,
   "metadata": {},
   "outputs": [
    {
     "name": "stderr",
     "output_type": "stream",
     "text": [
      "C:\\src\\Anaconda\\envs\\ML env\\lib\\site-packages\\pytorch_lightning\\trainer\\connectors\\callback_connector.py:147: LightningDeprecationWarning: Setting `Trainer(checkpoint_callback=<pytorch_lightning.callbacks.model_checkpoint.ModelCheckpoint object at 0x000001B49E1B0F10>)` is deprecated in v1.5 and will be removed in v1.7. Please consider using `Trainer(enable_checkpointing=<pytorch_lightning.callbacks.model_checkpoint.ModelCheckpoint object at 0x000001B49E1B0F10>)`.\n",
      "  rank_zero_deprecation(\n",
      "C:\\src\\Anaconda\\envs\\ML env\\lib\\site-packages\\pytorch_lightning\\trainer\\connectors\\callback_connector.py:90: LightningDeprecationWarning: Setting `Trainer(progress_bar_refresh_rate=30)` is deprecated in v1.5 and will be removed in v1.7. Please pass `pytorch_lightning.callbacks.progress.TQDMProgressBar` with `refresh_rate` directly to the Trainer's `callbacks` argument instead. Or, to disable the progress bar pass `enable_progress_bar = False` to the Trainer.\n",
      "  rank_zero_deprecation(\n",
      "GPU available: True, used: True\n",
      "TPU available: False, using: 0 TPU cores\n",
      "IPU available: False, using: 0 IPUs\n"
     ]
    }
   ],
   "source": [
    "checkpoint_callback = ModelCheckpoint(\n",
    "    dirpath=\"checkpoints\",\n",
    "    filename=\"best-checkpoint\",\n",
    "    save_top_k=1,\n",
    "    verbose=True,\n",
    "    monitor=\"val_loss\",\n",
    "    mode=\"min\"\n",
    ")\n",
    "\n",
    "logger = TensorBoardLogger(\"lightning_logs\", name=\"PR-prediction\")\n",
    "\n",
    "early_stopping_callback = EarlyStopping(monitor=\"val_loss\", patience=2)\n",
    "\n",
    "trainer = pl.Trainer(\n",
    "    logger=logger,\n",
    "    checkpoint_callback=checkpoint_callback,\n",
    "    callbacks=[early_stopping_callback],\n",
    "    max_epochs = NUM_EPOCHS,\n",
    "    gpus=1,\n",
    "    progress_bar_refresh_rate=30\n",
    ")"
   ]
  },
  {
   "cell_type": "code",
   "execution_count": 38,
   "metadata": {},
   "outputs": [
    {
     "name": "stderr",
     "output_type": "stream",
     "text": [
      "C:\\src\\Anaconda\\envs\\ML env\\lib\\site-packages\\pytorch_lightning\\core\\datamodule.py:469: LightningDeprecationWarning: DataModule.setup has already been called, so it will not be called again. In v1.6 this behavior will change to always call DataModule.setup.\n",
      "  rank_zero_deprecation(\n",
      "LOCAL_RANK: 0 - CUDA_VISIBLE_DEVICES: [0]\n",
      "\n",
      "  | Name      | Type              | Params\n",
      "------------------------------------------------\n",
      "0 | model     | PRPredictionModel | 199 K \n",
      "1 | criterion | MSELoss           | 0     \n",
      "------------------------------------------------\n",
      "199 K     Trainable params\n",
      "0         Non-trainable params\n",
      "199 K     Total params\n",
      "0.799     Total estimated model params size (MB)\n"
     ]
    },
    {
     "name": "stdout",
     "output_type": "stream",
     "text": [
      "Validation sanity check:   0%|          | 0/2 [00:00<?, ?it/s]"
     ]
    },
    {
     "name": "stderr",
     "output_type": "stream",
     "text": [
      "C:\\src\\Anaconda\\envs\\ML env\\lib\\site-packages\\pytorch_lightning\\trainer\\data_loading.py:132: UserWarning: The dataloader, val_dataloader 0, does not have many workers which may be a bottleneck. Consider increasing the value of the `num_workers` argument` (try 16 which is the number of cpus on this machine) in the `DataLoader` init to improve performance.\n",
      "  rank_zero_warn(\n"
     ]
    },
    {
     "name": "stdout",
     "output_type": "stream",
     "text": [
      "                                                                      "
     ]
    },
    {
     "name": "stderr",
     "output_type": "stream",
     "text": [
      "C:\\src\\Anaconda\\envs\\ML env\\lib\\site-packages\\pytorch_lightning\\trainer\\data_loading.py:132: UserWarning: The dataloader, train_dataloader, does not have many workers which may be a bottleneck. Consider increasing the value of the `num_workers` argument` (try 16 which is the number of cpus on this machine) in the `DataLoader` init to improve performance.\n",
      "  rank_zero_warn(\n"
     ]
    },
    {
     "name": "stdout",
     "output_type": "stream",
     "text": [
      "Epoch 7: 100%|██████████| 40163/40163 [01:50<00:00, 364.37it/s, loss=0.00194, v_num=8, train_loss=0.00642, val_loss=0.00175]\n"
     ]
    }
   ],
   "source": [
    "trainer.fit(model, data_module)"
   ]
  },
  {
   "cell_type": "markdown",
   "metadata": {},
   "source": [
    "# LSTM PR Model results"
   ]
  },
  {
   "cell_type": "code",
   "execution_count": 39,
   "metadata": {},
   "outputs": [],
   "source": [
    "# freeze model to optimize performance\n",
    "model.freeze()"
   ]
  },
  {
   "cell_type": "code",
   "execution_count": 40,
   "metadata": {},
   "outputs": [
    {
     "data": {
      "application/vnd.jupyter.widget-view+json": {
       "model_id": "909cce3b2bc2437eab2e90db3d0231d6",
       "version_major": 2,
       "version_minor": 0
      },
      "text/plain": [
       "  0%|          | 0/37800 [00:00<?, ?it/s]"
      ]
     },
     "metadata": {},
     "output_type": "display_data"
    }
   ],
   "source": [
    "predictions = []\n",
    "labels = []\n",
    "loss_values = []\n",
    "\n",
    "for item in tqdm(data_module.test_dataset):\n",
    "    seq = item[\"sequence\"]\n",
    "    label = item[\"label\"]\n",
    "\n",
    "    loss, output = model(seq.unsqueeze(dim=0))\n",
    "    predictions.append(output.item())\n",
    "    labels.append(label.item())"
   ]
  },
  {
   "cell_type": "code",
   "execution_count": 41,
   "metadata": {},
   "outputs": [
    {
     "data": {
      "text/plain": [
       "(37800, 37800)"
      ]
     },
     "execution_count": 41,
     "metadata": {},
     "output_type": "execute_result"
    }
   ],
   "source": [
    "len(predictions), len(test_sequences)"
   ]
  },
  {
   "cell_type": "code",
   "execution_count": 42,
   "metadata": {},
   "outputs": [
    {
     "data": {
      "text/plain": [
       "(0.12525618076324463, 0.16589988768100739)"
      ]
     },
     "execution_count": 42,
     "metadata": {},
     "output_type": "execute_result"
    }
   ],
   "source": [
    "predictions[0], labels[0]"
   ]
  },
  {
   "cell_type": "code",
   "execution_count": 43,
   "metadata": {},
   "outputs": [],
   "source": [
    "# Function to normalize pitch and roll angles\n",
    "def denorm_pr(x, min = -90.0, max = 90.0):\n",
    "    return ((x + 1) * (max - min))/2 + min"
   ]
  },
  {
   "cell_type": "code",
   "execution_count": 44,
   "metadata": {},
   "outputs": [
    {
     "data": {
      "text/plain": [
       "(11.273056268692017, 14.930989891290665)"
      ]
     },
     "execution_count": 44,
     "metadata": {},
     "output_type": "execute_result"
    }
   ],
   "source": [
    "denorm_pr(predictions[0]), denorm_pr(labels[0])"
   ]
  },
  {
   "cell_type": "code",
   "execution_count": 45,
   "metadata": {},
   "outputs": [],
   "source": [
    "denorm_predictions = []\n",
    "denorm_labels = []\n",
    "\n",
    "for el in predictions:\n",
    "    denorm_predictions.append(denorm_pr(el))\n",
    "\n",
    "for el in labels:\n",
    "    denorm_labels.append(denorm_pr(el))"
   ]
  },
  {
   "cell_type": "code",
   "execution_count": 46,
   "metadata": {},
   "outputs": [
    {
     "data": {
      "text/plain": [
       "<matplotlib.legend.Legend at 0x1b47de4d970>"
      ]
     },
     "execution_count": 46,
     "metadata": {},
     "output_type": "execute_result"
    },
    {
     "data": {
      "image/png": "[encoded data removed]",
      "text/plain": [
       "<Figure size 1440x720 with 1 Axes>"
      ]
     },
     "metadata": {
      "needs_background": "light"
     },
     "output_type": "display_data"
    }
   ],
   "source": [
    "plt.figure(figsize=(20, 10))\n",
    "plt.plot(denorm_labels, label=\"real\")\n",
    "plt.plot(denorm_predictions, label=\"predicted\")\n",
    "plt.legend()"
   ]
  },
  {
   "cell_type": "code",
   "execution_count": 47,
   "metadata": {},
   "outputs": [
    {
     "data": {
      "text/plain": [
       "<matplotlib.legend.Legend at 0x1b47e2a6d90>"
      ]
     },
     "execution_count": 47,
     "metadata": {},
     "output_type": "execute_result"
    },
    {
     "data": {
      "image/png": "[encoded data removed]",
      "text/plain": [
       "<Figure size 1440x720 with 1 Axes>"
      ]
     },
     "metadata": {
      "needs_background": "light"
     },
     "output_type": "display_data"
    }
   ],
   "source": [
    "plt.figure(figsize=(20, 10))\n",
    "plt.plot(denorm_labels[:500], label=\"real\")\n",
    "plt.plot(denorm_predictions[:500], label=\"predicted\")\n",
    "plt.legend()"
   ]
  },
  {
   "cell_type": "code",
   "execution_count": 48,
   "metadata": {},
   "outputs": [
    {
     "name": "stdout",
     "output_type": "stream",
     "text": [
      "Real prediction\n",
      "   MSE: 0.0017477230950979949\n",
      "   RMSE: 0.04180577825011747\n",
      "   RMSE denorm: 3.762520042510573\n",
      "Zero prediction\n",
      "   MSE 0: 0.0065761528051619875\n",
      "   RMSE 0: 0.08109348189072897\n",
      "   RMSE 0 denorm: 7.298413370165605\n",
      "Improvement on zero prediction:\n",
      "   MSE delta%: 376.27 %\n",
      "   RMSE delta%: 193.98 %\n"
     ]
    }
   ],
   "source": [
    "n = len(predictions)\n",
    "loss = 0\n",
    "loss0 = 0\n",
    "\n",
    "for i in range(n):\n",
    "    loss += (labels[i]-predictions[i])**2\n",
    "    loss0 += (labels[i]-0)**2\n",
    "\n",
    "mse = loss/n\n",
    "rmse = math.sqrt(loss/n)\n",
    "mse0 = loss0/n\n",
    "rmse0 = math.sqrt(loss0/n)\n",
    "\n",
    "print(\"Real prediction\")\n",
    "print(\"   MSE:\", mse)\n",
    "print(\"   RMSE:\", rmse)\n",
    "print(\"   RMSE denorm:\", denorm_pr(rmse))\n",
    "print(\"Zero prediction\")\n",
    "print(\"   MSE 0:\", mse0)\n",
    "print(\"   RMSE 0:\", rmse0)\n",
    "print(\"   RMSE 0 denorm:\", denorm_pr(rmse0))\n",
    "print(\"Improvement on zero prediction:\")\n",
    "print(\"   MSE delta%:\", round(mse0/mse*100, 2), \"%\")\n",
    "print(\"   RMSE delta%:\", round(rmse0/rmse*100, 2), \"%\")"
   ]
  },
  {
   "cell_type": "code",
   "execution_count": null,
   "metadata": {},
   "outputs": [],
   "source": []
  },
  {
   "cell_type": "markdown",
   "metadata": {},
   "source": [
    "# LSTM from Nazar"
   ]
  },
  {
   "cell_type": "code",
   "execution_count": 49,
   "metadata": {},
   "outputs": [],
   "source": [
    "class LSTM_PR(nn.Module):\n",
    "    def __init__(self, cuda, encoder_input_size, output_size, encoder_hidden_size=300, decoder_hidden_size=300): \n",
    "        super(LSTM_PR, self).__init__()\n",
    "        self.cuda_p = cuda\n",
    "        \n",
    "        self.encoder_hidden_size = encoder_hidden_size\n",
    "        self.decoder_hidden_size = decoder_hidden_size\n",
    "\n",
    "         # (input size, hidden size, num_layers)\n",
    "        self.encoder_lstm = nn.LSTM(encoder_input_size, encoder_hidden_size, batch_first=True)\n",
    "        self.decoder_lstm = nn.LSTM(decoder_hidden_size, decoder_hidden_size, batch_first=True)\n",
    "\n",
    "        # (in_features, out_features)\n",
    "        self.decoder_fc_1 = nn.Linear(decoder_hidden_size, int(decoder_hidden_size/2))\n",
    "        self.decoder_fc_2 = nn.Linear(int(decoder_hidden_size/2), output_size)\n",
    "    \n",
    "    def forward(self, pr, use_n_pr, predict_n_pr, encoder_hidden, decoder_hidden):\n",
    "        PR  = [pr[i] for i in range(use_n_pr)]\n",
    "\n",
    "        lstm_input_features = torch.cat(PR, 1).view(pr[0].size(0), 1, -1)\n",
    "\n",
    "        encoder_output, encoder_hidden = self.LSTM_encoder(lstm_input_features,  encoder_hidden)\n",
    "        decoder_output, decoder_hidden = self.LSTM_decoder(encoder_output, decoder_hidden)\n",
    "\n",
    "        decoder_output = decoder_output.view(pr[0].size(0), predict_n_pr, -1)\n",
    "\n",
    "        return decoder_output, encoder_hidden, decoder_hidden"
   ]
  }
 ],
 "metadata": {
  "interpreter": {
   "hash": "4c1b2a501f02df7b26d92d459eb05316e48170af73a43fcdd672df666b3b816d"
  },
  "kernelspec": {
   "display_name": "Python 3.8.12 64-bit ('Thesis': conda)",
   "language": "python",
   "name": "python3"
  },
  "language_info": {
   "codemirror_mode": {
    "name": "ipython",
    "version": 3
   },
   "file_extension": ".py",
   "mimetype": "text/x-python",
   "name": "python",
   "nbconvert_exporter": "python",
   "pygments_lexer": "ipython3",
   "version": "3.8.12"
  },
  "orig_nbformat": 4
 },
 "nbformat": 4,
 "nbformat_minor": 2
}
