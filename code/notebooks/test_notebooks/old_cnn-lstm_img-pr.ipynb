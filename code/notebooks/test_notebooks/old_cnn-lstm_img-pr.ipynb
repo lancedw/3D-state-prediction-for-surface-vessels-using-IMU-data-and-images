{
 "cells": [
  {
   "cell_type": "markdown",
   "metadata": {},
   "source": [
    "# Pitch & Roll prediction w/Images and PR"
   ]
  },
  {
   "cell_type": "code",
   "execution_count": 1,
   "metadata": {},
   "outputs": [],
   "source": [
    "import gc\n",
    "import os\n",
    "import sys\n",
    "import math\n",
    "import pickle\n",
    "import platform\n",
    "import numpy as np\n",
    "import multiprocessing\n",
    "from tqdm.notebook import tqdm\n",
    "import matplotlib.pyplot as plt\n",
    "\n",
    "import torch\n",
    "import torch.nn as nn\n",
    "\n",
    "import pytorch_lightning as pl"
   ]
  },
  {
   "cell_type": "code",
   "execution_count": 2,
   "metadata": {},
   "outputs": [],
   "source": [
    "current = os.path.dirname(os.path.realpath(''))\n",
    "parent = os.path.dirname(current)\n",
    "sys.path.append(parent)  \n",
    "\n",
    "# del sys.modules[\"notebooks.data_loaders.data_module\"]\n",
    "from notebooks.data_loaders.utils import Utilities\n",
    "from notebooks.data_loaders.splitter import DataSplitter\n",
    "from notebooks.models.model_provider import ModelProvider\n",
    "from notebooks.data_loaders.data_module import DataModule\n",
    "from notebooks.data_loaders.data_loader import CustomDataLoader\n",
    "from notebooks.models.model_provider import ModelProvider\n",
    "from notebooks.data_loaders.sequence_generator import SequenceGenerator"
   ]
  },
  {
   "cell_type": "code",
   "execution_count": 3,
   "metadata": {},
   "outputs": [
    {
     "name": "stdout",
     "output_type": "stream",
     "text": [
      "1.11.0\n",
      "1.6.1\n"
     ]
    }
   ],
   "source": [
    "print(torch.__version__)\n",
    "print(pl.__version__)"
   ]
  },
  {
   "cell_type": "code",
   "execution_count": 4,
   "metadata": {},
   "outputs": [
    {
     "name": "stdout",
     "output_type": "stream",
     "text": [
      "device: cuda\n",
      "CPU count: 16\n",
      "Platform: windows\n",
      "number of workers: 0\n"
     ]
    }
   ],
   "source": [
    "device = torch.device('cuda' if torch.cuda.is_available() else 'cpu')\n",
    "print(\"device:\", device)\n",
    "cpu_count = multiprocessing.cpu_count()\n",
    "print('CPU count:', cpu_count)\n",
    "platform_os = \"windows\" if platform.system() == \"Windows\" else \"linux\"\n",
    "print(\"Platform:\", platform_os)\n",
    "\n",
    "# Pytorch Dataloader can't handle n_workers > 0 on windows due to bugs\n",
    "N_WORKERS = 0 if platform_os==\"windows\" else cpu_count\n",
    "print(f\"number of workers: {N_WORKERS}\")"
   ]
  },
  {
   "cell_type": "markdown",
   "metadata": {},
   "source": [
    "## Constants"
   ]
  },
  {
   "cell_type": "code",
   "execution_count": 5,
   "metadata": {},
   "outputs": [],
   "source": [
    "# change to appropriate location\n",
    "TRAIN_FOLDER = \"../../3dmodel/test_4_episode_\"\n",
    "MODEL_NAME = \"CNN_img-PR-to-PR\"\n",
    "MODEL_STATE_FOLDER = f\"../model_states/{MODEL_NAME}\"\n",
    "RESULT_FOLDER = f\"../../results/{MODEL_NAME}\"\n",
    "TRAIN_RESULT_FOLDER = f\"../training_results/{MODEL_NAME}\"\n",
    "TEST_RESULT_FOLDER = f\"../test_results/{MODEL_NAME}\""
   ]
  },
  {
   "cell_type": "code",
   "execution_count": 6,
   "metadata": {},
   "outputs": [],
   "source": [
    "if not os.path.exists(MODEL_STATE_FOLDER):\n",
    "    os.mkdir(MODEL_STATE_FOLDER)\n",
    "if not os.path.exists(TRAIN_RESULT_FOLDER):\n",
    "    os.mkdir(TRAIN_RESULT_FOLDER)\n",
    "if not os.path.exists(TEST_RESULT_FOLDER):\n",
    "    os.mkdir(TEST_RESULT_FOLDER)\n",
    "if not os.path.exists(RESULT_FOLDER):\n",
    "    os.mkdir(RESULT_FOLDER)"
   ]
  },
  {
   "cell_type": "code",
   "execution_count": 7,
   "metadata": {},
   "outputs": [],
   "source": [
    "FRAMES_IN = 10\n",
    "FRAMES_OUT = 60\n",
    "\n",
    "N_EPISODES = 10\n",
    "FRAMES_PER_EPISODE = 400\n",
    "\n",
    "TRAIN_SIZE = 0.8\n",
    "NUM_EPOCHS = 50\n",
    "BATCH_SIZE = 64\n",
    "LEARNING_RATE = 0.001\n",
    "\n",
    "CUDA = device.type == 'cuda'\n",
    "\n",
    "# determines whether to save plots and if all tests should be run\n",
    "SAVE = False\n",
    "RUN_TESTS = True"
   ]
  },
  {
   "cell_type": "markdown",
   "metadata": {},
   "source": [
    "## Load data from episodes"
   ]
  },
  {
   "cell_type": "code",
   "execution_count": 16,
   "metadata": {},
   "outputs": [
    {
     "name": "stdout",
     "output_type": "stream",
     "text": [
      "PR data:\t (4000, 2)\n",
      "Images:\t torch.Size([4000, 3, 54, 96])\n"
     ]
    }
   ],
   "source": [
    "if RUN_TESTS:    \n",
    "    dl = CustomDataLoader(TRAIN_FOLDER, N_EPISODES, load_images=True)\n",
    "    print(\"PR data:\\t\", dl.pr_data.shape)\n",
    "    print(\"Images:\\t\", dl.image_tensor.shape)"
   ]
  },
  {
   "cell_type": "markdown",
   "metadata": {},
   "source": [
    "## Create input and output sequences"
   ]
  },
  {
   "cell_type": "code",
   "execution_count": 18,
   "metadata": {},
   "outputs": [
    {
     "name": "stdout",
     "output_type": "stream",
     "text": [
      "total nr of sequences: 3310\n",
      "input shapes: torch.Size([10, 3, 54, 96]) (10, 2)\n",
      "output shape (2, 60)\n"
     ]
    }
   ],
   "source": [
    "if RUN_TESTS:    \n",
    "    all_sequences = SequenceGenerator.create_ImgPR_to_PR_sequences(dl.pr_data, dl.image_tensor, FRAMES_IN, FRAMES_OUT, FRAMES_PER_EPISODE, N_EPISODES)\n",
    "    # total nr of sequences, first input sequence shape, first output sequence shape\n",
    "    (img_input, pr_input), output = all_sequences[0]\n",
    "    print(\"total nr of sequences:\", len(all_sequences))\n",
    "    print(\"input shapes:\", img_input.shape, pr_input.shape)\n",
    "    print(\"output shape\", output.shape)"
   ]
  },
  {
   "cell_type": "markdown",
   "metadata": {},
   "source": [
    "## Split data"
   ]
  },
  {
   "cell_type": "code",
   "execution_count": 19,
   "metadata": {},
   "outputs": [
    {
     "name": "stdout",
     "output_type": "stream",
     "text": [
      "Training size: 2648 | Test size: 662\n",
      "[torch.Size([10, 3, 54, 96]), (10, 2)] (2, 60)\n",
      "[torch.Size([10, 3, 54, 96]), (10, 2)] (2, 60)\n"
     ]
    }
   ],
   "source": [
    "if RUN_TESTS:    \n",
    "    train_sequences, test_sequences = DataSplitter.split_sequences(all_sequences, TRAIN_SIZE)\n",
    "    print([a.shape for a in train_sequences[0][0]], train_sequences[0][1].shape)\n",
    "    print([a.shape for a in test_sequences[0][0]], test_sequences[0][1].shape)"
   ]
  },
  {
   "cell_type": "markdown",
   "metadata": {},
   "source": [
    "## Pytorch Dataset and DataLoader"
   ]
  },
  {
   "cell_type": "code",
   "execution_count": 20,
   "metadata": {},
   "outputs": [],
   "source": [
    "if RUN_TESTS:    \n",
    "    # type = 4 for img+PR to PR dataset\n",
    "    data_module = DataModule(train_sequences, test_sequences, BATCH_SIZE, N_WORKERS, type=4)\n",
    "    data_module.setup()"
   ]
  },
  {
   "cell_type": "code",
   "execution_count": 23,
   "metadata": {},
   "outputs": [
    {
     "name": "stdout",
     "output_type": "stream",
     "text": [
      "[torch.Size([64, 10, 3, 54, 96]), torch.Size([64, 10, 2])] torch.Size([64, 2, 60])\n"
     ]
    }
   ],
   "source": [
    "if RUN_TESTS:    \n",
    "    # batch size first\n",
    "    for batch in data_module.train_dataloader():\n",
    "        x_train = batch[\"input\"]\n",
    "        y_train = batch[\"output\"]\n",
    "        break\n",
    "\n",
    "    print([a.shape for a in x_train], y_train.shape)"
   ]
  },
  {
   "cell_type": "markdown",
   "metadata": {},
   "source": [
    "## CNN Model"
   ]
  },
  {
   "cell_type": "code",
   "execution_count": 25,
   "metadata": {},
   "outputs": [
    {
     "name": "stdout",
     "output_type": "stream",
     "text": [
      "torch.Size([64, 2, 60])\n"
     ]
    }
   ],
   "source": [
    "if RUN_TESTS:    \n",
    "    model = ModelProvider.cnn_lstm_dual(FRAMES_IN,  FRAMES_OUT)\n",
    "    out = model.forward(x_train)\n",
    "    print(out.shape)"
   ]
  },
  {
   "cell_type": "markdown",
   "metadata": {},
   "source": [
    "## Load model state"
   ]
  },
  {
   "cell_type": "code",
   "execution_count": 26,
   "metadata": {},
   "outputs": [
    {
     "data": {
      "text/plain": [
       "CNN_LSTM_seq2seq(\n",
       "  (cnn_encoder): CNN_encoder(\n",
       "    (cnn_encoder): Sequential(\n",
       "      (0): Conv2d(3, 8, kernel_size=(5, 5), stride=(1, 1), padding=(2, 2))\n",
       "      (1): ReLU(inplace=True)\n",
       "      (2): MaxPool2d(kernel_size=2, stride=2, padding=0, dilation=1, ceil_mode=False)\n",
       "      (3): Conv2d(8, 16, kernel_size=(3, 3), stride=(1, 1), padding=(1, 1))\n",
       "      (4): ReLU(inplace=True)\n",
       "      (5): MaxPool2d(kernel_size=2, stride=2, padding=0, dilation=1, ceil_mode=False)\n",
       "    )\n",
       "  )\n",
       "  (lstm_encoder): LSTM_encoder(\n",
       "    (encoder_lstm): LSTM(49940, 1024, batch_first=True)\n",
       "  )\n",
       "  (decoder): Decoder(\n",
       "    (decoder_lstm): LSTM(1024, 1024, batch_first=True)\n",
       "    (decoder_fc_1): Linear(in_features=1024, out_features=512, bias=True)\n",
       "    (decoder_fc_2): Linear(in_features=512, out_features=120, bias=True)\n",
       "  )\n",
       ")"
      ]
     },
     "execution_count": 26,
     "metadata": {},
     "output_type": "execute_result"
    }
   ],
   "source": [
    "filename = f'{MODEL_STATE_FOLDER}/{MODEL_NAME}_{FRAMES_IN}in_{FRAMES_OUT}out_epochs{NUM_EPOCHS}'\n",
    "loaded_model = ModelProvider.cnn_lstm_dual(FRAMES_IN, FRAMES_OUT)\n",
    "loaded_model.load_state_dict(torch.load(filename))\n",
    "if CUDA: \n",
    "    loaded_model = loaded_model.cuda()\n",
    "loaded_model.eval()"
   ]
  },
  {
   "cell_type": "markdown",
   "metadata": {},
   "source": [
    "# Training results"
   ]
  },
  {
   "cell_type": "code",
   "execution_count": 27,
   "metadata": {},
   "outputs": [
    {
     "data": {
      "image/png": "[encoded data removed]",
      "text/plain": [
       "<Figure size 864x432 with 1 Axes>"
      ]
     },
     "metadata": {
      "needs_background": "light"
     },
     "output_type": "display_data"
    }
   ],
   "source": [
    "plt.figure(figsize=(12, 6))\n",
    "with open(f'{TRAIN_RESULT_FOLDER}/train_loss_{FRAMES_IN}in_{FRAMES_OUT}out_{NUM_EPOCHS}epochs', 'rb') as f:\n",
    "    train_losses_epoch = pickle.load(f)\n",
    "with open(f'{TRAIN_RESULT_FOLDER}/val_loss_{FRAMES_IN}in_{FRAMES_OUT}out_{NUM_EPOCHS}epochs', 'rb') as f:\n",
    "    val_losses_epoch = pickle.load(f)\n",
    "plt.plot(range(NUM_EPOCHS), train_losses_epoch, label='training loss')\n",
    "plt.plot(range(NUM_EPOCHS), val_losses_epoch, label='validation loss')\n",
    "plt.xlabel(\"epochs\")\n",
    "plt.ylabel(\"MSE loss\")\n",
    "plt.title(\"Training and validation loss per epoch\")\n",
    "plt.legend()\n",
    "if SAVE:\n",
    "    plt.savefig(f'{RESULT_FOLDER}/train-test-loss_{FRAMES_IN}in_{FRAMES_OUT}out_epochs{NUM_EPOCHS}')\n",
    "plt.show()"
   ]
  },
  {
   "cell_type": "markdown",
   "metadata": {},
   "source": [
    "# Testing"
   ]
  },
  {
   "cell_type": "code",
   "execution_count": 16,
   "metadata": {},
   "outputs": [],
   "source": [
    "if RUN_TESTS:    \n",
    "    # get first I/O-sequence of test dataset for visualizing a prediction\n",
    "    for batch in data_module.test_dataloader():\n",
    "        x_test = batch[\"input\"]\n",
    "        y_test = batch[\"output\"]\n",
    "        break\n",
    "\n",
    "    if CUDA:\n",
    "        x_test = x_test.cuda()\n",
    "        y_test = y_test.cuda()\n",
    "\n",
    "    print(x_test.shape, y_test.shape)"
   ]
  },
  {
   "cell_type": "code",
   "execution_count": 17,
   "metadata": {},
   "outputs": [],
   "source": [
    "if RUN_TESTS:    \n",
    "    criterion = nn.MSELoss()\n",
    "\n",
    "    # make one prediction for visualization\n",
    "    with torch.no_grad():\n",
    "        y_pred = loaded_model(x_test.squeeze(1))\n",
    "        loss = criterion(y_pred, y_test)\n",
    "\n",
    "        # clean up tensor and round results to visually compare predicted sequence\n",
    "        a = y_pred.squeeze(0)[0].tolist()\n",
    "        a = [round(num, 4) for num in a]\n",
    "\n",
    "        b = y_test.squeeze(0)[0].tolist()\n",
    "        b = [round(num, 4) for num in b]\n",
    "\n",
    "        print(f'predicted pitch: {a}\\nreal pitch:\\t {b}')\n",
    "        print(\"loss:\", round(loss.item(), 6))\n",
    "\n",
    "    # squeeze out batch size and convert into cpu format for plotting\n",
    "    x_test.squeeze(0).shape\n",
    "    input_sequence = x_test.squeeze(0).cpu()\n",
    "    output_sequence = y_test.squeeze(0).cpu()\n",
    "    predicted_sequence = y_pred.squeeze(0).cpu()\n",
    "    input_sequence.shape, output_sequence.shape, predicted_sequence.shape"
   ]
  },
  {
   "cell_type": "markdown",
   "metadata": {},
   "source": [
    "### Prediction vs. real on first test I/O-sequence"
   ]
  },
  {
   "cell_type": "code",
   "execution_count": 18,
   "metadata": {},
   "outputs": [],
   "source": [
    "if RUN_TESTS:     \n",
    "    frames = np.arange(0,FRAMES_OUT)\n",
    "    fig, ax = plt.subplots(figsize=(12, 6))\n",
    "    ax.plot(output_sequence[0].apply_(Utilities.denorm_pr), label=\"real\")\n",
    "    ax.plot(predicted_sequence[0].apply_(Utilities.denorm_pr), color=\"red\", label='predicted')\n",
    "    ax.set_xlabel('frames')\n",
    "    ax.set_ylabel('pitch (°)')\n",
    "    ax.set_title(f'CNNN LSTM {FRAMES_IN} to {FRAMES_OUT} prediction results')\n",
    "    plt.legend()\n",
    "    if SAVE:\n",
    "        plt.savefig(f'{RESULT_FOLDER}/1ep_pitch-prediction_{FRAMES_IN}in_{FRAMES_OUT}out_epochs{NUM_EPOCHS}')\n",
    "    plt.show()"
   ]
  },
  {
   "cell_type": "code",
   "execution_count": 19,
   "metadata": {},
   "outputs": [],
   "source": [
    "if RUN_TESTS: \n",
    "    frames = np.arange(0,FRAMES_OUT)\n",
    "    fig, ax = plt.subplots(figsize=(12, 6))\n",
    "    ax.plot(output_sequence[1].apply_(Utilities.denorm_pr), label=\"real\")\n",
    "    ax.plot(predicted_sequence[1].apply_(Utilities.denorm_pr), color=\"red\", label='predicted')\n",
    "    ax.set_xlabel('frames')\n",
    "    ax.set_ylabel('roll (°)')\n",
    "    ax.set_title(f'CNN LSTM {FRAMES_IN} to {FRAMES_OUT} prediction results')\n",
    "    plt.legend()\n",
    "    if SAVE:\n",
    "        plt.savefig(f'{RESULT_FOLDER}/1ep_roll-prediction_{FRAMES_IN}in_{FRAMES_OUT}out_epochs{NUM_EPOCHS}')\n",
    "    plt.show()"
   ]
  },
  {
   "cell_type": "markdown",
   "metadata": {},
   "source": [
    "### Inference time"
   ]
  },
  {
   "cell_type": "code",
   "execution_count": 20,
   "metadata": {},
   "outputs": [],
   "source": [
    "if RUN_TESTS: \n",
    "    total, inference = Utilities.inference_time(loaded_model, x_test, repetitions=10000)\n",
    "    print(f\"total execution time for 10.000 predictions: {np.sum(total)}\")\n",
    "    print(f\"Inference time for 10.000 predictions:\\t {inference}\")\n",
    "\n",
    "    sum = 0\n",
    "    for p in loaded_model.parameters():\n",
    "        sum += p.numel()\n",
    "\n",
    "    print(f\"Total trainable parameters:\\t {sum}\")"
   ]
  },
  {
   "cell_type": "code",
   "execution_count": 21,
   "metadata": {},
   "outputs": [],
   "source": [
    "if RUN_TESTS:     \n",
    "    plt.figure(figsize=(10,5))\n",
    "    plt.plot(total)\n",
    "    plt.ylabel(\"time (s)\")\n",
    "    plt.xlabel(\"number of predictions\")\n",
    "    plt.title(\"Inference time for single-step model\")\n",
    "    if SAVE:\n",
    "        plt.savefig(f'{RESULT_FOLDER}/inference_{FRAMES_IN}in_{FRAMES_OUT}out_epochs{NUM_EPOCHS}', bbox_inches='tight')\n",
    "    plt.show()"
   ]
  },
  {
   "cell_type": "markdown",
   "metadata": {},
   "source": [
    "### Full test loop"
   ]
  },
  {
   "cell_type": "code",
   "execution_count": 22,
   "metadata": {},
   "outputs": [],
   "source": [
    "if RUN_TESTS:     \n",
    "    predictions = []\n",
    "    labels = []\n",
    "\n",
    "    with torch.no_grad():\n",
    "        for batch in tqdm(data_module.test_dataloader()):\n",
    "            x_test = batch[\"input\"]\n",
    "            y_test = batch[\"output\"]\n",
    "\n",
    "            if CUDA:\n",
    "                x_test = x_test.cuda()\n",
    "\n",
    "            output = loaded_model(x_test.squeeze(1))\n",
    "\n",
    "            # squeeze out batch size which is = 1 for test dataset\n",
    "            predictions.append(output.cpu().squeeze(0))\n",
    "            labels.append(y_test.squeeze(0))"
   ]
  },
  {
   "cell_type": "code",
   "execution_count": 23,
   "metadata": {},
   "outputs": [],
   "source": [
    "if RUN_TESTS:     \n",
    "    # Predictions[0] = tensor object\n",
    "    # Predictions[0][0] = pitch value\n",
    "    # Predictions[0][1] = roll value\n",
    "\n",
    "    pitch_predictions = []\n",
    "    roll_predictions = []\n",
    "\n",
    "    pitch_label = []\n",
    "    roll_label = []\n",
    "\n",
    "    for i in range(len(predictions)):\n",
    "        pitch_predictions.append(predictions[i][0])\n",
    "        roll_predictions.append(predictions[i][1])\n",
    "        pitch_label.append(labels[i][0])\n",
    "        roll_label.append(labels[i][1])\n",
    "\n",
    "    pitch_predictions[0].shape, roll_predictions[0].shape, pitch_label[0].shape, roll_label[0].shape"
   ]
  },
  {
   "cell_type": "markdown",
   "metadata": {},
   "source": [
    "### Average loss-per-frame over all datapoints"
   ]
  },
  {
   "cell_type": "code",
   "execution_count": 24,
   "metadata": {},
   "outputs": [],
   "source": [
    "# function that returns a list with loss-values per frame\n",
    "def loss_per_frame(predicted_sequence, real_sequence):\n",
    "    loss_per_frame = []\n",
    "    criterion = nn.MSELoss()\n",
    "    if predicted_sequence.shape != real_sequence.shape:\n",
    "        return loss_per_frame\n",
    "    for i in range(len(predicted_sequence)):\n",
    "        loss = criterion(predicted_sequence[i], real_sequence[i])\n",
    "        loss_per_frame.append(loss.item())\n",
    "    return loss_per_frame"
   ]
  },
  {
   "cell_type": "code",
   "execution_count": 25,
   "metadata": {},
   "outputs": [],
   "source": [
    "if RUN_TESTS: \n",
    "    # calculate mean loss per frame over all test data\n",
    "    total = len(pitch_predictions)\n",
    "    pitch_total = np.zeros(FRAMES_OUT, dtype=np.float64)\n",
    "    roll_total = np.zeros(FRAMES_OUT, dtype=np.float64)\n",
    "\n",
    "    for i in tqdm(range(len(pitch_predictions))):\n",
    "        pitch_lpf = loss_per_frame(pitch_predictions[i], pitch_label[i])\n",
    "        roll_lpf = loss_per_frame(roll_predictions[i], roll_label[i])\n",
    "        pitch_total += pitch_lpf\n",
    "        roll_total += roll_lpf\n",
    "\n",
    "    pitch_lpf_mse = pitch_total / total\n",
    "    roll_lpf_mse = roll_total / total"
   ]
  },
  {
   "cell_type": "code",
   "execution_count": 26,
   "metadata": {},
   "outputs": [],
   "source": [
    "if RUN_TESTS:     \n",
    "    pitch_lpf_rmse = np.sqrt(pitch_lpf_mse)\n",
    "    roll_lpf_rmse = np.sqrt(roll_lpf_mse)\n",
    "    denorm = lambda x: Utilities.denorm_pr(x)\n",
    "    vfunc = np.vectorize(denorm)\n",
    "    plt.figure(figsize=(12, 5))\n",
    "    plt.plot(vfunc(pitch_lpf_rmse), label='pitch')\n",
    "    plt.plot(vfunc(roll_lpf_rmse), color='orange', label='roll')\n",
    "    plt.xlabel('predicted frame')\n",
    "    plt.ylabel('Denormalized RMSE Loss (°)')\n",
    "    plt.title('Loss per frame: denormalized RMSE')\n",
    "    plt.legend()\n",
    "    if SAVE:\n",
    "        plt.savefig(f'{RESULT_FOLDER}/LPF-denorm-RMSE_{FRAMES_IN}in_{FRAMES_OUT}out_epochs{NUM_EPOCHS}')\n",
    "    plt.show()"
   ]
  },
  {
   "cell_type": "markdown",
   "metadata": {},
   "source": [
    "### MSE results pitch"
   ]
  },
  {
   "cell_type": "code",
   "execution_count": 27,
   "metadata": {},
   "outputs": [],
   "source": [
    "if RUN_TESTS:     \n",
    "    n = len(pitch_predictions)\n",
    "    loss0_tensor = torch.zeros(FRAMES_OUT)\n",
    "    criterion = nn.MSELoss()\n",
    "\n",
    "    loss = []\n",
    "    loss0 = []\n",
    "\n",
    "    total = 0\n",
    "    total0 = 0\n",
    "\n",
    "    for i in range(n):\n",
    "        error = criterion(pitch_label[i], pitch_predictions[i]).item()\n",
    "        error0 = criterion(pitch_label[i], loss0_tensor).item()\n",
    "        loss.append(Utilities.denorm_pr(math.sqrt(error)))\n",
    "        loss0.append(Utilities.denorm_pr(math.sqrt(error)))\n",
    "        total += error\n",
    "        total0 += error0\n",
    "        \n",
    "\n",
    "    mse = round(total/n, 5)\n",
    "    rmse = round(math.sqrt(total/n), 4)\n",
    "    mse0 = round(total0/n, 5)\n",
    "    rmse0 = round(math.sqrt(total0/n), 4)\n",
    "\n",
    "    if SAVE:\n",
    "        np.save(f\"{TEST_RESULT_FOLDER}/pitch_denormalized_error\", loss)\n",
    "        np.save(f\"{TEST_RESULT_FOLDER}/pitch_zero_error\", loss0)\n",
    "\n",
    "    print(\"Pitch prediction\")\n",
    "    print(\"   MSE:\", mse)\n",
    "    print(\"   RMSE:\", rmse)\n",
    "    print(f\"   RMSE denorm: {round(Utilities.denorm_pr(rmse), 2)}°\")\n",
    "    print(\"Zero prediction\")\n",
    "    print(\"   MSE 0:\", mse0)\n",
    "    print(\"   RMSE 0:\", rmse0)\n",
    "    print(f\"   RMSE denorm: {round(Utilities.denorm_pr(rmse0), 2)}°\")\n",
    "    print(\"Improvement on zero prediction:\")\n",
    "    print(\"   MSE delta%:\", round(mse0/mse*100, 2), \"%\")\n",
    "    print(\"   RMSE delta%:\", round(rmse0/rmse*100, 2), \"%\")"
   ]
  },
  {
   "cell_type": "markdown",
   "metadata": {},
   "source": [
    "### MSE results roll"
   ]
  },
  {
   "cell_type": "code",
   "execution_count": 28,
   "metadata": {},
   "outputs": [],
   "source": [
    "if RUN_TESTS:     \n",
    "    n = len(pitch_predictions)\n",
    "    loss0_tensor = torch.zeros(FRAMES_OUT)\n",
    "    criterion = nn.MSELoss()\n",
    "\n",
    "    loss = []\n",
    "    loss0 = []\n",
    "\n",
    "    total = 0\n",
    "    total0 = 0\n",
    "\n",
    "    for i in range(n):\n",
    "        error = criterion(roll_label[i], roll_predictions[i]).item()\n",
    "        error0 = criterion(roll_label[i], loss0_tensor).item()\n",
    "        loss.append(Utilities.denorm_pr(math.sqrt(error)))\n",
    "        loss0.append(Utilities.denorm_pr(math.sqrt(error)))\n",
    "        total += error\n",
    "        total0 += error0\n",
    "        \n",
    "\n",
    "    mse = round(total/n, 5)\n",
    "    rmse = round(math.sqrt(total/n), 4)\n",
    "    mse0 = round(total0/n, 5)\n",
    "    rmse0 = round(math.sqrt(total0/n), 4)\n",
    "\n",
    "    if SAVE:\n",
    "        np.save(f\"{TEST_RESULT_FOLDER}/roll_denormalized_error\", loss)\n",
    "        np.save(f\"{TEST_RESULT_FOLDER}/roll_zero_error\", loss0)\n",
    "\n",
    "    print(\"Roll prediction\")\n",
    "    print(\"   MSE:\", mse)\n",
    "    print(\"   RMSE:\", rmse)\n",
    "    print(f\"   RMSE denorm: {round(Utilities.denorm_pr(rmse), 2)}°\")\n",
    "    print(\"Zero prediction\")\n",
    "    print(\"   MSE 0:\", mse0)\n",
    "    print(\"   RMSE 0:\", rmse0)\n",
    "    print(f\"   RMSE denorm: {round(Utilities.denorm_pr(rmse0), 2)}°\")\n",
    "    print(\"Improvement on zero prediction:\")\n",
    "    print(\"   MSE delta%:\", round(mse0/mse*100, 2), \"%\")\n",
    "    print(\"   RMSE delta%:\", round(rmse0/rmse*100, 2), \"%\")"
   ]
  },
  {
   "cell_type": "code",
   "execution_count": 28,
   "metadata": {},
   "outputs": [
    {
     "data": {
      "image/png": "[encoded data removed]",
      "text/plain": [
       "<Figure size 216x288 with 1 Axes>"
      ]
     },
     "metadata": {
      "needs_background": "light"
     },
     "output_type": "display_data"
    }
   ],
   "source": [
    "fig, ax = plt.subplots(figsize=(3,4))\n",
    "pitch_error = np.load(f\"{TEST_RESULT_FOLDER}/pitch_denormalized_error.npy\")\n",
    "roll_error = np.load(f\"{TEST_RESULT_FOLDER}/roll_denormalized_error.npy\")\n",
    "ax.boxplot([pitch_error, roll_error], showfliers=False, widths=(0.5), showmeans=True, meanline=True)\n",
    "ax.set_ylabel(\"error (°)\", fontsize=12)\n",
    "ax.set_xticks([1,2], [\"pitch\", \"roll\"], fontsize=12)\n",
    "ax.set_title(\"prediction error for pitch and roll\", fontsize=12)\n",
    "if SAVE:\n",
    "    plt.savefig(f'{RESULT_FOLDER}/error_boxplot_{FRAMES_IN}in_{FRAMES_OUT}out_epochs{NUM_EPOCHS}', bbox_inches='tight')"
   ]
  }
 ],
 "metadata": {
  "interpreter": {
   "hash": "10eea1320f31955e3067f39969a0854b449a89d7f91a5c6b0bcec70e16d0858a"
  },
  "kernelspec": {
   "display_name": "Python 3.8.13 ('thesis')",
   "language": "python",
   "name": "python3"
  },
  "language_info": {
   "codemirror_mode": {
    "name": "ipython",
    "version": 3
   },
   "file_extension": ".py",
   "mimetype": "text/x-python",
   "name": "python",
   "nbconvert_exporter": "python",
   "pygments_lexer": "ipython3",
   "version": "3.8.13"
  },
  "orig_nbformat": 4
 },
 "nbformat": 4,
 "nbformat_minor": 2
}
