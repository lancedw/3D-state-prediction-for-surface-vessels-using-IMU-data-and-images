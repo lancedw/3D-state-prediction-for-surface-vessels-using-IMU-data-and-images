{
 "cells": [
  {
   "cell_type": "markdown",
   "metadata": {},
   "source": [
    "# Pitch & Roll prediction w/Images"
   ]
  },
  {
   "cell_type": "code",
   "execution_count": 2,
   "metadata": {},
   "outputs": [],
   "source": [
    "import gc\n",
    "import os\n",
    "import sys\n",
    "import cv2\n",
    "import json\n",
    "import math\n",
    "import pickle\n",
    "import random\n",
    "import platform\n",
    "import numpy as np\n",
    "import pandas as pd\n",
    "import multiprocessing\n",
    "from tqdm.notebook import tqdm\n",
    "import matplotlib.pyplot as plt\n",
    "\n",
    "import torch\n",
    "import torch.nn as nn\n",
    "import torch.optim as optim\n",
    "import torch.nn.functional as F\n",
    "import torch.autograd as autograd\n",
    "from torch.utils.data import Dataset, DataLoader\n",
    "\n",
    "import pytorch_lightning as pl"
   ]
  },
  {
   "cell_type": "code",
   "execution_count": 3,
   "metadata": {},
   "outputs": [
    {
     "name": "stdout",
     "output_type": "stream",
     "text": [
      "1.11.0\n",
      "1.6.1\n"
     ]
    }
   ],
   "source": [
    "print(torch.__version__)\n",
    "print(pl.__version__)"
   ]
  },
  {
   "cell_type": "code",
   "execution_count": 4,
   "metadata": {},
   "outputs": [
    {
     "name": "stdout",
     "output_type": "stream",
     "text": [
      "device: cuda\n",
      "CPU count: 16\n",
      "Platform: windows\n",
      "number of workers: 0\n"
     ]
    }
   ],
   "source": [
    "device = torch.device('cuda' if torch.cuda.is_available() else 'cpu')\n",
    "print(\"device:\", device)\n",
    "cpu_count = multiprocessing.cpu_count()\n",
    "print('CPU count:', cpu_count)\n",
    "platform_os = \"windows\" if platform.system() == \"Windows\" else \"linux\"\n",
    "print(\"Platform:\", platform_os)\n",
    "\n",
    "# Pytorch Dataloader can't handle n_workers > 0 on windows due to bugs\n",
    "N_WORKERS = 0 if platform_os==\"windows\" else cpu_count\n",
    "print(f\"number of workers: {N_WORKERS}\")"
   ]
  },
  {
   "cell_type": "markdown",
   "metadata": {},
   "source": [
    "# Constants"
   ]
  },
  {
   "cell_type": "code",
   "execution_count": 5,
   "metadata": {},
   "outputs": [],
   "source": [
    "# change to appropriate location\n",
    "TRAIN_FOLDER = \"../../3dmodel/test_4_episode_\"\n",
    "MODEL_NAME = \"CNN_img-to-PR\"\n",
    "MODEL_STATE_FOLDER = f\"../model_states/{MODEL_NAME}\"\n",
    "RESULT_FOLDER = f\"../../results/{MODEL_NAME}\"\n",
    "TRAIN_RESULT_FOLDER = f\"../training_results/{MODEL_NAME}\"\n",
    "TEST_RESULT_FOLDER = f\"../test_results/{MODEL_NAME}\""
   ]
  },
  {
   "cell_type": "code",
   "execution_count": 6,
   "metadata": {},
   "outputs": [],
   "source": [
    "if not os.path.exists(MODEL_STATE_FOLDER):\n",
    "    os.mkdir(MODEL_STATE_FOLDER)\n",
    "if not os.path.exists(TRAIN_RESULT_FOLDER):\n",
    "    os.mkdir(TRAIN_RESULT_FOLDER)\n",
    "if not os.path.exists(TEST_RESULT_FOLDER):\n",
    "    os.mkdir(TEST_RESULT_FOLDER)\n",
    "if not os.path.exists(RESULT_FOLDER):\n",
    "    os.mkdir(RESULT_FOLDER)"
   ]
  },
  {
   "cell_type": "code",
   "execution_count": 7,
   "metadata": {},
   "outputs": [],
   "source": [
    "FRAMES_IN = 10\n",
    "FRAMES_OUT = 60\n",
    "\n",
    "N_EPISODES = 540\n",
    "FRAMES_PER_EPISODE = 400\n",
    "\n",
    "TRAIN_SIZE = 0.8\n",
    "NUM_EPOCHS = 50\n",
    "BATCH_SIZE = 64\n",
    "LEARNING_RATE = 0.001\n",
    "\n",
    "CUDA = device.type == 'cuda'"
   ]
  },
  {
   "cell_type": "markdown",
   "metadata": {},
   "source": [
    "# Load data from episodes"
   ]
  },
  {
   "cell_type": "code",
   "execution_count": 8,
   "metadata": {},
   "outputs": [
    {
     "data": {
      "text/html": [
       "<div>\n",
       "<style scoped>\n",
       "    .dataframe tbody tr th:only-of-type {\n",
       "        vertical-align: middle;\n",
       "    }\n",
       "\n",
       "    .dataframe tbody tr th {\n",
       "        vertical-align: top;\n",
       "    }\n",
       "\n",
       "    .dataframe thead th {\n",
       "        text-align: right;\n",
       "    }\n",
       "</style>\n",
       "<table border=\"1\" class=\"dataframe\">\n",
       "  <thead>\n",
       "    <tr style=\"text-align: right;\">\n",
       "      <th></th>\n",
       "      <th>pitch</th>\n",
       "      <th>roll</th>\n",
       "    </tr>\n",
       "  </thead>\n",
       "  <tbody>\n",
       "    <tr>\n",
       "      <th>0</th>\n",
       "      <td>15.915869</td>\n",
       "      <td>2.358416</td>\n",
       "    </tr>\n",
       "    <tr>\n",
       "      <th>1</th>\n",
       "      <td>14.295925</td>\n",
       "      <td>1.700391</td>\n",
       "    </tr>\n",
       "    <tr>\n",
       "      <th>2</th>\n",
       "      <td>6.213590</td>\n",
       "      <td>1.611325</td>\n",
       "    </tr>\n",
       "    <tr>\n",
       "      <th>3</th>\n",
       "      <td>1.235337</td>\n",
       "      <td>6.175461</td>\n",
       "    </tr>\n",
       "    <tr>\n",
       "      <th>4</th>\n",
       "      <td>1.341678</td>\n",
       "      <td>3.695468</td>\n",
       "    </tr>\n",
       "  </tbody>\n",
       "</table>\n",
       "</div>"
      ],
      "text/plain": [
       "       pitch      roll\n",
       "0  15.915869  2.358416\n",
       "1  14.295925  1.700391\n",
       "2   6.213590  1.611325\n",
       "3   1.235337  6.175461\n",
       "4   1.341678  3.695468"
      ]
     },
     "execution_count": 8,
     "metadata": {},
     "output_type": "execute_result"
    }
   ],
   "source": [
    "# view first episode 's datapoints\n",
    "filename = TRAIN_FOLDER + \"1/\"\n",
    "data = []\n",
    "labels = json.load(open(filename+\"labels_0.json\"))\n",
    "ep1 = pd.DataFrame(labels)\n",
    "ep1 = ep1.transpose()\n",
    "ep1.rename(columns = {0:'pitch', 1:'roll'}, inplace=True)\n",
    "ep1.head(5)"
   ]
  },
  {
   "cell_type": "code",
   "execution_count": 9,
   "metadata": {},
   "outputs": [
    {
     "data": {
      "text/html": [
       "<div>\n",
       "<style scoped>\n",
       "    .dataframe tbody tr th:only-of-type {\n",
       "        vertical-align: middle;\n",
       "    }\n",
       "\n",
       "    .dataframe tbody tr th {\n",
       "        vertical-align: top;\n",
       "    }\n",
       "\n",
       "    .dataframe thead th {\n",
       "        text-align: right;\n",
       "    }\n",
       "</style>\n",
       "<table border=\"1\" class=\"dataframe\">\n",
       "  <thead>\n",
       "    <tr style=\"text-align: right;\">\n",
       "      <th></th>\n",
       "      <th>pitch</th>\n",
       "      <th>roll</th>\n",
       "    </tr>\n",
       "  </thead>\n",
       "  <tbody>\n",
       "    <tr>\n",
       "      <th>0</th>\n",
       "      <td>15.915869</td>\n",
       "      <td>2.358416</td>\n",
       "    </tr>\n",
       "    <tr>\n",
       "      <th>1</th>\n",
       "      <td>14.295925</td>\n",
       "      <td>1.700391</td>\n",
       "    </tr>\n",
       "    <tr>\n",
       "      <th>2</th>\n",
       "      <td>6.213590</td>\n",
       "      <td>1.611325</td>\n",
       "    </tr>\n",
       "    <tr>\n",
       "      <th>3</th>\n",
       "      <td>1.235337</td>\n",
       "      <td>6.175461</td>\n",
       "    </tr>\n",
       "    <tr>\n",
       "      <th>4</th>\n",
       "      <td>1.341678</td>\n",
       "      <td>3.695468</td>\n",
       "    </tr>\n",
       "  </tbody>\n",
       "</table>\n",
       "</div>"
      ],
      "text/plain": [
       "       pitch      roll\n",
       "0  15.915869  2.358416\n",
       "1  14.295925  1.700391\n",
       "2   6.213590  1.611325\n",
       "3   1.235337  6.175461\n",
       "4   1.341678  3.695468"
      ]
     },
     "execution_count": 9,
     "metadata": {},
     "output_type": "execute_result"
    }
   ],
   "source": [
    "img_tensors_array = []\n",
    "filename = TRAIN_FOLDER + \"1/\"\n",
    "for index, row in ep1.iterrows():\n",
    "    img = cv2.imread(filename + str(index) + \".png\")\n",
    "    img_tensors_array.append(torch.Tensor(img))\n",
    "ep1.head(5)"
   ]
  },
  {
   "cell_type": "code",
   "execution_count": 10,
   "metadata": {},
   "outputs": [
    {
     "data": {
      "text/plain": [
       "(400, torch.Size([54, 96, 3]))"
      ]
     },
     "execution_count": 10,
     "metadata": {},
     "output_type": "execute_result"
    }
   ],
   "source": [
    "len(img_tensors_array), img_tensors_array[0].shape"
   ]
  },
  {
   "cell_type": "code",
   "execution_count": 11,
   "metadata": {},
   "outputs": [],
   "source": [
    "# Function to normalize pixels\n",
    "def norm_pixel(x):\n",
    "    x = x.astype('float32')\n",
    "    return (x*2)/255-1\n",
    "\n",
    "# Function to denormalize pixels\n",
    "def denorm_pixel(x):\n",
    "    x = x.astype('float32')\n",
    "    return (x+1)*255/2"
   ]
  },
  {
   "cell_type": "code",
   "execution_count": 12,
   "metadata": {},
   "outputs": [],
   "source": [
    "# Function to normalize pitch and roll angles\n",
    "def norm_pr(x, min = -90.0, max = 90.0):\n",
    "    return ((x - min) * 2) / (max - min) - 1\n",
    "\n",
    "# Function to denormalize pitch and roll angles\n",
    "def denorm_pr(x, min = -90.0, max = 90.0):\n",
    "    return ((x + 1) * (max - min))/2 + min"
   ]
  },
  {
   "cell_type": "code",
   "execution_count": 13,
   "metadata": {},
   "outputs": [
    {
     "data": {
      "application/vnd.jupyter.widget-view+json": {
       "model_id": "99c4b066f61f4c5e84374a315cc20177",
       "version_major": 2,
       "version_minor": 0
      },
      "text/plain": [
       "  0%|          | 0/540 [00:00<?, ?it/s]"
      ]
     },
     "metadata": {},
     "output_type": "display_data"
    },
    {
     "data": {
      "text/plain": [
       "(216000, torch.Size([54, 96, 3]))"
      ]
     },
     "execution_count": 13,
     "metadata": {},
     "output_type": "execute_result"
    }
   ],
   "source": [
    "# load all data\n",
    "episodes_data = []\n",
    "img_tensors_array = []\n",
    "\n",
    "for ep in tqdm(range(1, N_EPISODES+1)):\n",
    "    folder = TRAIN_FOLDER + str(ep) + \"/\"\n",
    "    filename = folder + \"labels_0.json\"\n",
    "    labels = json.load(open(filename))\n",
    "    for i in labels:\n",
    "        # load image, normalize and convert to tensor\n",
    "        img = cv2.imread(folder + str(i) + \".png\")\n",
    "        img = norm_pixel(img)\n",
    "        img_tensors_array.append(torch.Tensor(img))\n",
    "\n",
    "        # pitch and roll is read with labels[i] as [pitch, roll]\n",
    "        episodes_data.append(labels[i])\n",
    "\n",
    "# verify that 216.000 images were loaded\n",
    "len(img_tensors_array), img_tensors_array[0].shape"
   ]
  },
  {
   "cell_type": "code",
   "execution_count": 14,
   "metadata": {},
   "outputs": [
    {
     "name": "stdout",
     "output_type": "stream",
     "text": [
      "(216000, 2)\n"
     ]
    },
    {
     "data": {
      "text/html": [
       "<div>\n",
       "<style scoped>\n",
       "    .dataframe tbody tr th:only-of-type {\n",
       "        vertical-align: middle;\n",
       "    }\n",
       "\n",
       "    .dataframe tbody tr th {\n",
       "        vertical-align: top;\n",
       "    }\n",
       "\n",
       "    .dataframe thead th {\n",
       "        text-align: right;\n",
       "    }\n",
       "</style>\n",
       "<table border=\"1\" class=\"dataframe\">\n",
       "  <thead>\n",
       "    <tr style=\"text-align: right;\">\n",
       "      <th></th>\n",
       "      <th>pitch</th>\n",
       "      <th>roll</th>\n",
       "    </tr>\n",
       "  </thead>\n",
       "  <tbody>\n",
       "    <tr>\n",
       "      <th>0</th>\n",
       "      <td>0.176843</td>\n",
       "      <td>0.026205</td>\n",
       "    </tr>\n",
       "    <tr>\n",
       "      <th>1</th>\n",
       "      <td>0.158844</td>\n",
       "      <td>0.018893</td>\n",
       "    </tr>\n",
       "    <tr>\n",
       "      <th>2</th>\n",
       "      <td>0.069040</td>\n",
       "      <td>0.017904</td>\n",
       "    </tr>\n",
       "    <tr>\n",
       "      <th>3</th>\n",
       "      <td>0.013726</td>\n",
       "      <td>0.068616</td>\n",
       "    </tr>\n",
       "    <tr>\n",
       "      <th>4</th>\n",
       "      <td>0.014908</td>\n",
       "      <td>0.041061</td>\n",
       "    </tr>\n",
       "  </tbody>\n",
       "</table>\n",
       "</div>"
      ],
      "text/plain": [
       "      pitch      roll\n",
       "0  0.176843  0.026205\n",
       "1  0.158844  0.018893\n",
       "2  0.069040  0.017904\n",
       "3  0.013726  0.068616\n",
       "4  0.014908  0.041061"
      ]
     },
     "execution_count": 14,
     "metadata": {},
     "output_type": "execute_result"
    }
   ],
   "source": [
    "# build dataframe with pitch and roll, cast as float and normalize\n",
    "p_r_df = pd.DataFrame(episodes_data)\n",
    "p_r_df.rename(columns = {0:'pitch', 1:'roll'}, inplace=True)\n",
    "p_r_df = p_r_df.astype({\"pitch\": float, \"roll\": float})\n",
    "p_r_df['pitch'] = p_r_df['pitch'].apply(lambda x : norm_pr(x))\n",
    "p_r_df['roll'] = p_r_df['roll'].apply(lambda x : norm_pr(x))\n",
    "print(p_r_df.shape)\n",
    "p_r_df.head(5)"
   ]
  },
  {
   "cell_type": "code",
   "execution_count": 15,
   "metadata": {},
   "outputs": [
    {
     "data": {
      "text/plain": [
       "torch.Size([216000, 54, 96, 3])"
      ]
     },
     "execution_count": 15,
     "metadata": {},
     "output_type": "execute_result"
    }
   ],
   "source": [
    "# tranform the array of image tensors into one tensor of shape: (samples, height, width, channels)\n",
    "img_tensor = torch.stack(img_tensors_array)\n",
    "img_tensor_array = None # free this memory\n",
    "img_tensor.shape"
   ]
  },
  {
   "cell_type": "code",
   "execution_count": 16,
   "metadata": {},
   "outputs": [
    {
     "data": {
      "text/plain": [
       "torch.Size([216000, 3, 54, 96])"
      ]
     },
     "execution_count": 16,
     "metadata": {},
     "output_type": "execute_result"
    }
   ],
   "source": [
    "# Permute from (n, h, w, c) to (n, c, h, w) format for pytorch CNN\n",
    "img_tensor = img_tensor.permute(0,3,1,2)\n",
    "img_tensor.shape"
   ]
  },
  {
   "cell_type": "code",
   "execution_count": 17,
   "metadata": {},
   "outputs": [
    {
     "data": {
      "text/plain": [
       "18"
      ]
     },
     "execution_count": 17,
     "metadata": {},
     "output_type": "execute_result"
    }
   ],
   "source": [
    "# clear memory\n",
    "gc.collect()"
   ]
  },
  {
   "cell_type": "markdown",
   "metadata": {},
   "source": [
    "# Create input and output sequences"
   ]
  },
  {
   "cell_type": "code",
   "execution_count": 18,
   "metadata": {},
   "outputs": [],
   "source": [
    "# function to create sequences with one target column\n",
    "def create_sequences(\n",
    "        input_data: pd.DataFrame, \n",
    "        input_images,\n",
    "        input_feature_columns,\n",
    "        output_target_columns, \n",
    "        input_sequence_length=FRAMES_IN, \n",
    "        output_sequence_length=FRAMES_OUT,  \n",
    "        episode_length = FRAMES_PER_EPISODE, \n",
    "        n_episodes = N_EPISODES\n",
    "    ):\n",
    "    sequences= []\n",
    "\n",
    "    # make sequences per episode, one sequence can only hold data of one and the same episode!\n",
    "    for n in tqdm(range(n_episodes)):\n",
    "\n",
    "        for l in range(episode_length-output_sequence_length-input_sequence_length+1):\n",
    "            \n",
    "            i = l+(n*episode_length)\n",
    "\n",
    "            # grab image input tensors from list with img_tensors\n",
    "            sequence = input_images[i:i+input_sequence_length]\n",
    "\n",
    "            # grab pr output sequence from dataframe\n",
    "            target_position = i + input_sequence_length\n",
    "            target = input_data.iloc[target_position:target_position+output_sequence_length].transpose()\n",
    "\n",
    "            sequences.append((sequence, target))\n",
    "\n",
    "    return sequences"
   ]
  },
  {
   "cell_type": "code",
   "execution_count": 19,
   "metadata": {},
   "outputs": [
    {
     "data": {
      "application/vnd.jupyter.widget-view+json": {
       "model_id": "1232e762e76d4e32876c1af192f5667f",
       "version_major": 2,
       "version_minor": 0
      },
      "text/plain": [
       "  0%|          | 0/540 [00:00<?, ?it/s]"
      ]
     },
     "metadata": {},
     "output_type": "display_data"
    }
   ],
   "source": [
    "# use images to predict pitch and roll\n",
    "input_features = []\n",
    "output_features = [\"pitch\", \"roll\"]\n",
    "all_sequences = create_sequences(p_r_df, img_tensor, input_features, output_features)"
   ]
  },
  {
   "cell_type": "code",
   "execution_count": 20,
   "metadata": {},
   "outputs": [
    {
     "data": {
      "text/plain": [
       "(178740, torch.Size([10, 3, 54, 96]), (2, 60))"
      ]
     },
     "execution_count": 20,
     "metadata": {},
     "output_type": "execute_result"
    }
   ],
   "source": [
    "len(all_sequences), all_sequences[0][0].shape , all_sequences[0][1].shape"
   ]
  },
  {
   "cell_type": "code",
   "execution_count": 21,
   "metadata": {},
   "outputs": [
    {
     "data": {
      "text/plain": [
       "torch.Size([10, 3, 54, 96])"
      ]
     },
     "execution_count": 21,
     "metadata": {},
     "output_type": "execute_result"
    }
   ],
   "source": [
    "# first input sequence\n",
    "all_sequences[0][0].shape"
   ]
  },
  {
   "cell_type": "code",
   "execution_count": 22,
   "metadata": {},
   "outputs": [
    {
     "data": {
      "text/html": [
       "<div>\n",
       "<style scoped>\n",
       "    .dataframe tbody tr th:only-of-type {\n",
       "        vertical-align: middle;\n",
       "    }\n",
       "\n",
       "    .dataframe tbody tr th {\n",
       "        vertical-align: top;\n",
       "    }\n",
       "\n",
       "    .dataframe thead th {\n",
       "        text-align: right;\n",
       "    }\n",
       "</style>\n",
       "<table border=\"1\" class=\"dataframe\">\n",
       "  <thead>\n",
       "    <tr style=\"text-align: right;\">\n",
       "      <th></th>\n",
       "      <th>10</th>\n",
       "      <th>11</th>\n",
       "      <th>12</th>\n",
       "      <th>13</th>\n",
       "      <th>14</th>\n",
       "      <th>15</th>\n",
       "      <th>16</th>\n",
       "      <th>17</th>\n",
       "      <th>18</th>\n",
       "      <th>19</th>\n",
       "      <th>...</th>\n",
       "      <th>60</th>\n",
       "      <th>61</th>\n",
       "      <th>62</th>\n",
       "      <th>63</th>\n",
       "      <th>64</th>\n",
       "      <th>65</th>\n",
       "      <th>66</th>\n",
       "      <th>67</th>\n",
       "      <th>68</th>\n",
       "      <th>69</th>\n",
       "    </tr>\n",
       "  </thead>\n",
       "  <tbody>\n",
       "    <tr>\n",
       "      <th>pitch</th>\n",
       "      <td>0.029492</td>\n",
       "      <td>-0.003735</td>\n",
       "      <td>0.152513</td>\n",
       "      <td>0.091190</td>\n",
       "      <td>0.093264</td>\n",
       "      <td>-0.012752</td>\n",
       "      <td>0.095015</td>\n",
       "      <td>0.162501</td>\n",
       "      <td>0.103608</td>\n",
       "      <td>0.077369</td>\n",
       "      <td>...</td>\n",
       "      <td>-0.04063</td>\n",
       "      <td>0.033109</td>\n",
       "      <td>-0.145496</td>\n",
       "      <td>0.017612</td>\n",
       "      <td>0.028490</td>\n",
       "      <td>0.129367</td>\n",
       "      <td>0.116320</td>\n",
       "      <td>0.022583</td>\n",
       "      <td>0.017130</td>\n",
       "      <td>-0.066031</td>\n",
       "    </tr>\n",
       "    <tr>\n",
       "      <th>roll</th>\n",
       "      <td>0.056080</td>\n",
       "      <td>0.063161</td>\n",
       "      <td>0.047668</td>\n",
       "      <td>0.016488</td>\n",
       "      <td>-0.019758</td>\n",
       "      <td>0.099169</td>\n",
       "      <td>0.120886</td>\n",
       "      <td>0.146725</td>\n",
       "      <td>0.127897</td>\n",
       "      <td>0.098694</td>\n",
       "      <td>...</td>\n",
       "      <td>0.01884</td>\n",
       "      <td>0.025537</td>\n",
       "      <td>0.007478</td>\n",
       "      <td>0.125550</td>\n",
       "      <td>0.101467</td>\n",
       "      <td>0.081079</td>\n",
       "      <td>0.029056</td>\n",
       "      <td>-0.044213</td>\n",
       "      <td>-0.067851</td>\n",
       "      <td>-0.083604</td>\n",
       "    </tr>\n",
       "  </tbody>\n",
       "</table>\n",
       "<p>2 rows × 60 columns</p>\n",
       "</div>"
      ],
      "text/plain": [
       "             10        11        12        13        14        15        16  \\\n",
       "pitch  0.029492 -0.003735  0.152513  0.091190  0.093264 -0.012752  0.095015   \n",
       "roll   0.056080  0.063161  0.047668  0.016488 -0.019758  0.099169  0.120886   \n",
       "\n",
       "             17        18        19  ...       60        61        62  \\\n",
       "pitch  0.162501  0.103608  0.077369  ... -0.04063  0.033109 -0.145496   \n",
       "roll   0.146725  0.127897  0.098694  ...  0.01884  0.025537  0.007478   \n",
       "\n",
       "             63        64        65        66        67        68        69  \n",
       "pitch  0.017612  0.028490  0.129367  0.116320  0.022583  0.017130 -0.066031  \n",
       "roll   0.125550  0.101467  0.081079  0.029056 -0.044213 -0.067851 -0.083604  \n",
       "\n",
       "[2 rows x 60 columns]"
      ]
     },
     "execution_count": 22,
     "metadata": {},
     "output_type": "execute_result"
    }
   ],
   "source": [
    "# first output sequence\n",
    "all_sequences[0][1].head()"
   ]
  },
  {
   "cell_type": "code",
   "execution_count": 23,
   "metadata": {},
   "outputs": [
    {
     "name": "stdout",
     "output_type": "stream",
     "text": [
      "True\n",
      "Training size: 142992 | Test size: 35748\n",
      "[167621, 29184, 6556, 72097, 64196, 58513, 36579, 26868, 177392, 142964]\n",
      "[1, 3, 4, 5, 131080, 12, 131085, 131087, 17, 21]\n"
     ]
    }
   ],
   "source": [
    "# Grab random subsets from all sequences for training and test data (without overlapping data)\n",
    "data_size = len(all_sequences)\n",
    "data_indices = list(np.arange(0, data_size, 1))\n",
    "\n",
    "# train indices are random sample from all data indices\n",
    "random.seed(42)\n",
    "train_size = int(TRAIN_SIZE * data_size)\n",
    "train_indices = random.sample(data_indices, train_size)\n",
    "\n",
    "# test indices are the difference of all data indices and train indices\n",
    "test_indices = list(set(data_indices) - set(train_indices))\n",
    "\n",
    "print((len(train_indices) + len(test_indices)) <= data_size)\n",
    "print(\"Training size:\", len(train_indices),\"| Test size:\", len(test_indices))\n",
    "print(train_indices[:10])\n",
    "print(test_indices[:10])"
   ]
  },
  {
   "cell_type": "code",
   "execution_count": 24,
   "metadata": {},
   "outputs": [
    {
     "data": {
      "application/vnd.jupyter.widget-view+json": {
       "model_id": "ed9f5df176474ce09fdf09c3f9c9a88a",
       "version_major": 2,
       "version_minor": 0
      },
      "text/plain": [
       "  0%|          | 0/142992 [00:00<?, ?it/s]"
      ]
     },
     "metadata": {},
     "output_type": "display_data"
    },
    {
     "data": {
      "application/vnd.jupyter.widget-view+json": {
       "model_id": "283aa18cbfa840b399aa36cbeb462669",
       "version_major": 2,
       "version_minor": 0
      },
      "text/plain": [
       "  0%|          | 0/35748 [00:00<?, ?it/s]"
      ]
     },
     "metadata": {},
     "output_type": "display_data"
    },
    {
     "name": "stdout",
     "output_type": "stream",
     "text": [
      "True\n",
      "142992 torch.Size([10, 3, 54, 96]) (2, 60)\n",
      "35748 torch.Size([10, 3, 54, 96]) (2, 60)\n"
     ]
    }
   ],
   "source": [
    "train_sequences = []\n",
    "test_sequences = []\n",
    "\n",
    "for idx in tqdm(train_indices):\n",
    "    seq = all_sequences[idx][0]\n",
    "    label = all_sequences[idx][1]\n",
    "    train_sequences.append((seq,label))\n",
    "\n",
    "for idx in tqdm(test_indices):\n",
    "    seq = all_sequences[idx][0]\n",
    "    label = all_sequences[idx][1]\n",
    "    test_sequences.append((seq,label))\n",
    "\n",
    "print((len(train_sequences) + len(test_sequences)) <= len(all_sequences))\n",
    "print(len(train_sequences), train_sequences[0][0].shape, train_sequences[0][1].shape) \n",
    "print(len(test_sequences), test_sequences[0][0].shape, test_sequences[0][1].shape)"
   ]
  },
  {
   "cell_type": "markdown",
   "metadata": {},
   "source": [
    "## Pytorch Dataset and DataLoader"
   ]
  },
  {
   "cell_type": "code",
   "execution_count": 25,
   "metadata": {},
   "outputs": [],
   "source": [
    "class PRDataset(Dataset):\n",
    "    def __init__(self, sequences):\n",
    "        self.sequences = sequences\n",
    "\n",
    "    def __len__(self):\n",
    "        return len(self.sequences)\n",
    "\n",
    "    def __getitem__(self, index):\n",
    "        input_sequence, output_sequence = self.sequences[index]\n",
    "\n",
    "        return dict(\n",
    "            input = input_sequence,\n",
    "            output = torch.Tensor(output_sequence.to_numpy())\n",
    "        )"
   ]
  },
  {
   "cell_type": "code",
   "execution_count": 26,
   "metadata": {},
   "outputs": [],
   "source": [
    "class PRDataModule(pl.LightningDataModule):\n",
    "    def __init__(self, train_sequences, test_sequences, batchsize = BATCH_SIZE):\n",
    "        super().__init__()\n",
    "        self.train_sequences = train_sequences\n",
    "        self.test_sequences = test_sequences\n",
    "        self.batchsize = batchsize\n",
    "\n",
    "    # turns normal list object into Dataset object\n",
    "    def setup(self):\n",
    "        self.train_dataset = PRDataset(self.train_sequences)\n",
    "        self.test_dataset = PRDataset(self.test_sequences)\n",
    "\n",
    "    def train_dataloader(self):\n",
    "        return DataLoader(\n",
    "            self.train_dataset,\n",
    "            batch_size = self.batchsize,\n",
    "            shuffle = False,\n",
    "            num_workers=N_WORKERS,\n",
    "        )\n",
    "\n",
    "    def val_dataloader(self):\n",
    "        return DataLoader(\n",
    "            self.test_dataset,\n",
    "            batch_size = self.batchsize,\n",
    "            shuffle = False,\n",
    "            num_workers=N_WORKERS,\n",
    "        )\n",
    "\n",
    "    def test_dataloader(self):\n",
    "        return DataLoader(\n",
    "            self.test_dataset,\n",
    "            batch_size = 1,\n",
    "            shuffle = False,\n",
    "            num_workers=N_WORKERS,\n",
    "        )"
   ]
  },
  {
   "cell_type": "code",
   "execution_count": 27,
   "metadata": {},
   "outputs": [],
   "source": [
    "data_module = PRDataModule(train_sequences, test_sequences, BATCH_SIZE)\n",
    "data_module.setup()"
   ]
  },
  {
   "cell_type": "code",
   "execution_count": 28,
   "metadata": {},
   "outputs": [
    {
     "name": "stdout",
     "output_type": "stream",
     "text": [
      "torch.Size([64, 10, 3, 54, 96])\n",
      "torch.Size([64, 2, 60])\n"
     ]
    }
   ],
   "source": [
    "# batch size first\n",
    "for batch in data_module.train_dataloader():\n",
    "    print(batch[\"input\"].shape)\n",
    "    print(batch[\"output\"].shape)\n",
    "    break"
   ]
  },
  {
   "cell_type": "markdown",
   "metadata": {},
   "source": [
    "## CNN Model"
   ]
  },
  {
   "cell_type": "code",
   "execution_count": 29,
   "metadata": {},
   "outputs": [],
   "source": [
    "class CNN_encoder(nn.Module):\n",
    "\n",
    "    def __init__(self, channels=3):\n",
    "        super(CNN_encoder, self).__init__()\n",
    "\n",
    "        # outputs a tensor of shape (batch, out_channels, h/2/2, w/2/2)\n",
    "        self.cnn_encoder = nn.Sequential(\n",
    "            nn.Conv2d(in_channels=channels, out_channels=8, kernel_size=5, padding=2),\n",
    "            nn.ReLU(inplace=True),\n",
    "            nn.MaxPool2d(kernel_size=2, stride=2),\n",
    "    \n",
    "            nn.Conv2d(in_channels=8, out_channels=16, kernel_size=3, padding=1),\n",
    "            nn.ReLU(inplace=True),\n",
    "            nn.MaxPool2d(kernel_size=2, stride=2),\n",
    "        )\n",
    "\n",
    "    def forward(self, x, batch_size):\n",
    "        # x is of shape (batch, seq_lenth, channels, height, width)\n",
    "        # iterate over the sequence and encode a feature vector for each image\n",
    "        img_features = [self.cnn_encoder(x[:,i,:,:,:]) for i in range(x.size(1))]\n",
    "        \n",
    "        # flatten feature vectors in img_features\n",
    "        img_features = [img.reshape(batch_size, -1) for img in img_features]\n",
    "\n",
    "        # convert list of vectors into tensor of shape: (batch, len(img_features), features)\n",
    "        img_features = torch.stack(img_features, 1)\n",
    "\n",
    "        # reshape into (batch, 1, n*features)\n",
    "        img_features = img_features.reshape(batch_size, -1).unsqueeze(1)\n",
    "\n",
    "\n",
    "        return img_features"
   ]
  },
  {
   "cell_type": "code",
   "execution_count": 30,
   "metadata": {},
   "outputs": [
    {
     "name": "stdout",
     "output_type": "stream",
     "text": [
      "torch.Size([64, 10, 3, 54, 96]) torch.Size([64, 2, 60])\n"
     ]
    }
   ],
   "source": [
    "# get the first batch out of the dataloader for testing purposes\n",
    "for batch in data_module.train_dataloader():\n",
    "    x_train = batch[\"input\"]\n",
    "    y_train = batch[\"output\"]\n",
    "    break\n",
    "\n",
    "print(x_train.shape, y_train.shape)"
   ]
  },
  {
   "cell_type": "code",
   "execution_count": 31,
   "metadata": {},
   "outputs": [
    {
     "data": {
      "text/plain": [
       "torch.Size([64, 1, 49920])"
      ]
     },
     "execution_count": 31,
     "metadata": {},
     "output_type": "execute_result"
    }
   ],
   "source": [
    "model = CNN_encoder()\n",
    "img_features = model.forward(x_train, BATCH_SIZE)\n",
    "img_features.shape"
   ]
  },
  {
   "cell_type": "code",
   "execution_count": 32,
   "metadata": {},
   "outputs": [],
   "source": [
    "# ENCODER\n",
    "class LSTM_encoder(nn.Module):\n",
    "    def __init__(self, input_size, hidden_size=1024, num_layers=1):\n",
    "       \n",
    "        super(LSTM_encoder, self).__init__()\n",
    "\n",
    "        self.encoder_lstm = nn.LSTM(\n",
    "            input_size=input_size*4992, \n",
    "            hidden_size=hidden_size, \n",
    "            num_layers=num_layers,\n",
    "            batch_first=True,\n",
    "        )\n",
    "\n",
    "    def forward(self, input_seq):\n",
    "\n",
    "        ouputs, hidden = self.encoder_lstm(input_seq)\n",
    "        \n",
    "        return ouputs, hidden"
   ]
  },
  {
   "cell_type": "code",
   "execution_count": 33,
   "metadata": {},
   "outputs": [
    {
     "data": {
      "text/plain": [
       "(torch.Size([64, 1, 1024]), torch.Size([1, 64, 1024]))"
      ]
     },
     "execution_count": 33,
     "metadata": {},
     "output_type": "execute_result"
    }
   ],
   "source": [
    "model = LSTM_encoder(FRAMES_IN)\n",
    "output, hidden = model.forward(img_features)\n",
    "output.shape, hidden[0].shape"
   ]
  },
  {
   "cell_type": "code",
   "execution_count": 34,
   "metadata": {},
   "outputs": [],
   "source": [
    "# DECODER\n",
    "class Decoder(nn.Module):\n",
    "    def __init__(self, output_size, hidden_size=1024, num_layers=1):\n",
    "        super(Decoder, self).__init__()\n",
    "\n",
    "        self.output_size = output_size*2\n",
    "        self.hidden_size = hidden_size\n",
    "        self.num_layers = num_layers\n",
    "\n",
    "        self.decoder_lstm = nn.LSTM(\n",
    "            input_size = hidden_size, \n",
    "            hidden_size = hidden_size,\n",
    "            num_layers = num_layers, \n",
    "            batch_first = True\n",
    "        )\n",
    "\n",
    "        self.decoder_fc_1 = nn.Linear(hidden_size, int(hidden_size/2))\n",
    "        self.decoder_fc_2 = nn.Linear(int(hidden_size/2), output_size*2)\n",
    "\n",
    "    def forward(self, x_input, hidden):\n",
    "\n",
    "        outputs, hidden = self.decoder_lstm(x_input, hidden)\n",
    "\n",
    "        outputs = self.decoder_fc_1(outputs)\n",
    "        outputs = torch.tanh(self.decoder_fc_2(outputs))\n",
    "\n",
    "        return outputs, hidden"
   ]
  },
  {
   "cell_type": "code",
   "execution_count": 35,
   "metadata": {},
   "outputs": [
    {
     "data": {
      "text/plain": [
       "torch.Size([64, 1, 120])"
      ]
     },
     "execution_count": 35,
     "metadata": {},
     "output_type": "execute_result"
    }
   ],
   "source": [
    "model = Decoder(FRAMES_OUT)\n",
    "out, hidden = model.forward(output, hidden)\n",
    "out.shape"
   ]
  },
  {
   "cell_type": "code",
   "execution_count": 36,
   "metadata": {},
   "outputs": [],
   "source": [
    "# Wrapper class for encoder and decoder\n",
    "class CNN_LSTM_seq2seq(nn.Module):\n",
    "    def __init__(self, encoder_input_size, output_size, channels = 3, hidden_size = 1024):\n",
    "        super(CNN_LSTM_seq2seq, self).__init__()\n",
    "\n",
    "        self.input_size = encoder_input_size\n",
    "        self.output_size = output_size\n",
    "        self.hidden_size = hidden_size\n",
    "\n",
    "        self.cnn_encoder = CNN_encoder(channels=channels)\n",
    "        self.lstm_encoder = LSTM_encoder(input_size = encoder_input_size, hidden_size = hidden_size)\n",
    "        self.decoder = Decoder(output_size = output_size, hidden_size = hidden_size)\n",
    "\n",
    "    def forward(self, input_sequence):\n",
    "        batch_size = input_sequence.size(0)\n",
    "\n",
    "        features_vector = self.cnn_encoder(input_sequence, batch_size)\n",
    "\n",
    "        encoder_outputs, encoder_hidden  = self.lstm_encoder.forward(features_vector)\n",
    "\n",
    "        output, decoder_hidden = self.decoder.forward(encoder_outputs, encoder_hidden)\n",
    "\n",
    "        # reshape to (2, FRAMES_OUT) for two dimensional pitch and roll matrix\n",
    "        output = output.reshape(batch_size, 2, self.output_size)\n",
    "\n",
    "        return output"
   ]
  },
  {
   "cell_type": "code",
   "execution_count": 37,
   "metadata": {},
   "outputs": [
    {
     "data": {
      "text/plain": [
       "torch.Size([64, 2, 60])"
      ]
     },
     "execution_count": 37,
     "metadata": {},
     "output_type": "execute_result"
    }
   ],
   "source": [
    "# TODO: make input size of encoder not hardcoded\n",
    "model = CNN_LSTM_seq2seq(encoder_input_size=FRAMES_IN, output_size=FRAMES_OUT)\n",
    "out = model.forward(x_train)\n",
    "out.shape"
   ]
  },
  {
   "cell_type": "markdown",
   "metadata": {},
   "source": [
    "# Training"
   ]
  },
  {
   "cell_type": "code",
   "execution_count": 38,
   "metadata": {},
   "outputs": [
    {
     "name": "stdout",
     "output_type": "stream",
     "text": [
      "torch.Size([64, 10, 3, 54, 96]) torch.Size([64, 2, 60])\n"
     ]
    }
   ],
   "source": [
    "for batch in data_module.val_dataloader():\n",
    "    x_train = batch[\"input\"]\n",
    "    y_train = batch[\"output\"]\n",
    "    break\n",
    "\n",
    "print(x_train.shape, y_train.shape)"
   ]
  },
  {
   "cell_type": "code",
   "execution_count": 39,
   "metadata": {},
   "outputs": [
    {
     "data": {
      "text/plain": [
       "torch.Size([64, 2, 60])"
      ]
     },
     "execution_count": 39,
     "metadata": {},
     "output_type": "execute_result"
    }
   ],
   "source": [
    "model = CNN_LSTM_seq2seq(encoder_input_size=FRAMES_IN, output_size=FRAMES_OUT)\n",
    "ypred = model.forward(x_train)\n",
    "ypred.shape"
   ]
  },
  {
   "cell_type": "markdown",
   "metadata": {},
   "source": [
    "### Training loop"
   ]
  },
  {
   "cell_type": "code",
   "execution_count": 40,
   "metadata": {},
   "outputs": [],
   "source": [
    "torch.cuda.empty_cache()"
   ]
  },
  {
   "cell_type": "code",
   "execution_count": 41,
   "metadata": {},
   "outputs": [
    {
     "data": {
      "application/vnd.jupyter.widget-view+json": {
       "model_id": "85052f40ada04cc8b62291166087878d",
       "version_major": 2,
       "version_minor": 0
      },
      "text/plain": [
       "  0%|          | 0/50 [00:00<?, ?it/s]"
      ]
     },
     "metadata": {},
     "output_type": "display_data"
    },
    {
     "name": "stdout",
     "output_type": "stream",
     "text": [
      "EPOCH 0 training loss: 0.00375 | validation loss: 0.007049\n",
      "EPOCH 1 training loss: 0.001601 | validation loss: 0.002236\n",
      "EPOCH 2 training loss: 0.001052 | validation loss: 0.001353\n",
      "EPOCH 3 training loss: 0.000829 | validation loss: 0.001069\n",
      "EPOCH 4 training loss: 0.000691 | validation loss: 0.000914\n",
      "EPOCH 5 training loss: 0.000594 | validation loss: 0.0008\n",
      "EPOCH 6 training loss: 0.000521 | validation loss: 0.000737\n",
      "EPOCH 7 training loss: 0.000458 | validation loss: 0.000675\n",
      "EPOCH 8 training loss: 0.000409 | validation loss: 0.000634\n",
      "EPOCH 9 training loss: 0.000366 | validation loss: 0.000605\n",
      "EPOCH 10 training loss: 0.000326 | validation loss: 0.000555\n",
      "EPOCH 11 training loss: 0.000292 | validation loss: 0.000529\n",
      "EPOCH 12 training loss: 0.000265 | validation loss: 0.000512\n",
      "EPOCH 13 training loss: 0.000236 | validation loss: 0.000495\n",
      "EPOCH 14 training loss: 0.000212 | validation loss: 0.000482\n",
      "EPOCH 15 training loss: 0.000197 | validation loss: 0.000453\n",
      "EPOCH 16 training loss: 0.000182 | validation loss: 0.000463\n",
      "EPOCH 17 training loss: 0.000173 | validation loss: 0.000444\n",
      "EPOCH 18 training loss: 0.000158 | validation loss: 0.000425\n",
      "EPOCH 19 training loss: 0.00015 | validation loss: 0.000416\n",
      "EPOCH 20 training loss: 0.000148 | validation loss: 0.000423\n",
      "EPOCH 21 training loss: 0.000179 | validation loss: 0.00041\n",
      "EPOCH 22 training loss: 0.00011 | validation loss: 0.000379\n",
      "EPOCH 23 training loss: 9.2e-05 | validation loss: 0.000367\n",
      "EPOCH 24 training loss: 8.9e-05 | validation loss: 0.000365\n",
      "EPOCH 25 training loss: 8.9e-05 | validation loss: 0.000363\n",
      "EPOCH 26 training loss: 8.3e-05 | validation loss: 0.000358\n",
      "EPOCH 27 training loss: 8.1e-05 | validation loss: 0.00036\n",
      "EPOCH 28 training loss: 8.2e-05 | validation loss: 0.000363\n",
      "EPOCH 29 training loss: 8.3e-05 | validation loss: 0.000363\n",
      "EPOCH 30 training loss: 8.7e-05 | validation loss: 0.000359\n",
      "EPOCH 31 training loss: 9.3e-05 | validation loss: 0.000358\n",
      "EPOCH 32 training loss: 0.000105 | validation loss: 0.000356\n",
      "EPOCH 33 training loss: 8.2e-05 | validation loss: 0.000356\n",
      "EPOCH 34 training loss: 6e-05 | validation loss: 0.00034\n",
      "EPOCH 35 training loss: 5.4e-05 | validation loss: 0.000336\n",
      "EPOCH 36 training loss: 5.3e-05 | validation loss: 0.000333\n",
      "EPOCH 37 training loss: 5.4e-05 | validation loss: 0.000332\n",
      "EPOCH 38 training loss: 5.3e-05 | validation loss: 0.000332\n",
      "EPOCH 39 training loss: 5.4e-05 | validation loss: 0.000335\n",
      "EPOCH 40 training loss: 5.8e-05 | validation loss: 0.000344\n",
      "EPOCH 41 training loss: 6.8e-05 | validation loss: 0.000342\n",
      "EPOCH 42 training loss: 7.5e-05 | validation loss: 0.000354\n",
      "EPOCH 43 training loss: 7.5e-05 | validation loss: 0.000366\n",
      "EPOCH 44 training loss: 6.9e-05 | validation loss: 0.000368\n",
      "EPOCH 45 training loss: 6.2e-05 | validation loss: 0.00036\n",
      "EPOCH 46 training loss: 5.5e-05 | validation loss: 0.000352\n",
      "EPOCH 47 training loss: 5.1e-05 | validation loss: 0.000348\n",
      "EPOCH 48 training loss: 5.7e-05 | validation loss: 0.000348\n",
      "EPOCH 49 training loss: 7.5e-05 | validation loss: 0.000361\n"
     ]
    }
   ],
   "source": [
    "model = CNN_LSTM_seq2seq(encoder_input_size=FRAMES_IN, output_size=FRAMES_OUT)\n",
    "\n",
    "if CUDA:\n",
    "    model.cuda()\n",
    "\n",
    "criterion = nn.MSELoss()\n",
    "optimizer = optim.Adam(model.parameters(), lr=LEARNING_RATE)\n",
    "\n",
    "# TRACKERS\n",
    "train_losses_epoch = []\n",
    "val_losses_epoch = []\n",
    "train_losses_batch = []\n",
    "val_losses_batch = []\n",
    "\n",
    "for epoch in tqdm(range(NUM_EPOCHS)):\n",
    "    \n",
    "    # validation loss with initial weights\n",
    "    with torch.no_grad():\n",
    "        i = 0\n",
    "        total_batch_loss = 0\n",
    "        for batch in data_module.val_dataloader():\n",
    "            print(f\"batch {i}\", end='\\r')\n",
    "            x_val = batch[\"input\"]\n",
    "            y_val = batch[\"output\"]\n",
    "            i += 1\n",
    "\n",
    "            if CUDA: \n",
    "                x_val = batch[\"input\"].cuda()\n",
    "                y_val = batch[\"output\"].cuda()\n",
    "            \n",
    "            # Predict on forward pass \n",
    "            y_pred = model.forward(x_val)\n",
    "            \n",
    "            loss = criterion(y_pred, y_val)\n",
    "            total_batch_loss += loss.item()\n",
    "            val_losses_batch.append(loss.item())\n",
    "\n",
    "        mean_val_loss = total_batch_loss/i\n",
    "        val_losses_epoch.append(mean_val_loss)\n",
    "        val_loss = round(mean_val_loss, 6)\n",
    "\n",
    "    i = 0 \n",
    "    total_batch_loss = 0\n",
    "\n",
    "    for batch in data_module.train_dataloader():\n",
    "        print(f\"batch {i}\", end='\\r')\n",
    "        i += 1\n",
    "        x_train = batch[\"input\"]\n",
    "        y_train = batch[\"output\"]\n",
    "\n",
    "        if CUDA: \n",
    "            x_train = batch[\"input\"].cuda()\n",
    "            y_train = batch[\"output\"].cuda()\n",
    "        \n",
    "        # Predict on forward pass \n",
    "        y_pred = model.forward(x_train)\n",
    "\n",
    "        # Calculate loss/error\n",
    "        loss = criterion(y_pred, y_train)\n",
    "        train_losses_batch.append(loss.item())\n",
    "        total_batch_loss += loss.item()\n",
    "\n",
    "        # Backpropagation\n",
    "        optimizer.zero_grad()\n",
    "        loss.backward()\n",
    "        optimizer.step()\n",
    "    \n",
    "    mean_train_loss = total_batch_loss/i\n",
    "    train_losses_epoch.append(mean_train_loss)\n",
    "    train_loss = round(mean_train_loss, 6)\n",
    "\n",
    "    print(f\"EPOCH {epoch} training loss: {train_loss} | validation loss: {val_loss}\")"
   ]
  },
  {
   "cell_type": "markdown",
   "metadata": {},
   "source": [
    "### Save training losses and model state"
   ]
  },
  {
   "cell_type": "code",
   "execution_count": 42,
   "metadata": {},
   "outputs": [],
   "source": [
    "# save train losses per epoch\n",
    "filename = f'{TRAIN_RESULT_FOLDER}/train_loss_{FRAMES_IN}in_{FRAMES_OUT}out_{NUM_EPOCHS}epochs'\n",
    "with open(filename, 'wb') as f: \n",
    "    pickle.dump(train_losses_epoch, f)\n",
    "# save val losses per epoch\n",
    "filename = f'{TRAIN_RESULT_FOLDER}/val_loss_{FRAMES_IN}in_{FRAMES_OUT}out_{NUM_EPOCHS}epochs'\n",
    "with open(filename, 'wb') as f: \n",
    "    pickle.dump(val_losses_epoch, f)"
   ]
  },
  {
   "cell_type": "code",
   "execution_count": 43,
   "metadata": {},
   "outputs": [],
   "source": [
    "filename = f'{MODEL_STATE_FOLDER}/{MODEL_NAME}_{FRAMES_IN}in_{FRAMES_OUT}out_epochs{NUM_EPOCHS}'\n",
    "torch.save(model.state_dict(), filename)"
   ]
  },
  {
   "cell_type": "markdown",
   "metadata": {},
   "source": [
    "### Load model"
   ]
  },
  {
   "cell_type": "code",
   "execution_count": 44,
   "metadata": {},
   "outputs": [
    {
     "data": {
      "text/plain": [
       "CNN_LSTM_seq2seq(\n",
       "  (cnn_encoder): CNN_encoder(\n",
       "    (cnn_encoder): Sequential(\n",
       "      (0): Conv2d(3, 8, kernel_size=(5, 5), stride=(1, 1), padding=(2, 2))\n",
       "      (1): ReLU(inplace=True)\n",
       "      (2): MaxPool2d(kernel_size=2, stride=2, padding=0, dilation=1, ceil_mode=False)\n",
       "      (3): Conv2d(8, 16, kernel_size=(3, 3), stride=(1, 1), padding=(1, 1))\n",
       "      (4): ReLU(inplace=True)\n",
       "      (5): MaxPool2d(kernel_size=2, stride=2, padding=0, dilation=1, ceil_mode=False)\n",
       "    )\n",
       "  )\n",
       "  (lstm_encoder): LSTM_encoder(\n",
       "    (encoder_lstm): LSTM(49920, 1024, batch_first=True)\n",
       "  )\n",
       "  (decoder): Decoder(\n",
       "    (decoder_lstm): LSTM(1024, 1024, batch_first=True)\n",
       "    (decoder_fc_1): Linear(in_features=1024, out_features=512, bias=True)\n",
       "    (decoder_fc_2): Linear(in_features=512, out_features=120, bias=True)\n",
       "  )\n",
       ")"
      ]
     },
     "execution_count": 44,
     "metadata": {},
     "output_type": "execute_result"
    }
   ],
   "source": [
    "filename = f'{MODEL_STATE_FOLDER}/{MODEL_NAME}_{FRAMES_IN}in_{FRAMES_OUT}out_epochs{NUM_EPOCHS}'\n",
    "loaded_model = CNN_LSTM_seq2seq(encoder_input_size=FRAMES_IN, output_size=FRAMES_OUT)\n",
    "loaded_model.load_state_dict(torch.load(filename))\n",
    "if CUDA: \n",
    "    loaded_model = loaded_model.cuda()\n",
    "loaded_model.eval()"
   ]
  },
  {
   "cell_type": "markdown",
   "metadata": {},
   "source": [
    "# Training results"
   ]
  },
  {
   "cell_type": "code",
   "execution_count": 45,
   "metadata": {},
   "outputs": [
    {
     "data": {
      "image/png": "[encoded data removed]",
      "text/plain": [
       "<Figure size 864x432 with 1 Axes>"
      ]
     },
     "metadata": {
      "needs_background": "light"
     },
     "output_type": "display_data"
    }
   ],
   "source": [
    "plt.figure(figsize=(12, 6))\n",
    "plt.plot(range(NUM_EPOCHS), train_losses_epoch, label='training loss')\n",
    "plt.plot(range(NUM_EPOCHS), val_losses_epoch, label='validation loss')\n",
    "plt.xlabel(\"epochs\")\n",
    "plt.ylabel(\"MSE loss\")\n",
    "plt.title(\"Training and validation loss per epoch\")\n",
    "plt.legend()\n",
    "plt.savefig(f'{RESULT_FOLDER}/train-test-loss_{FRAMES_IN}in_{FRAMES_OUT}out_epochs{NUM_EPOCHS}', bbox_inches='tight')\n",
    "plt.show()"
   ]
  },
  {
   "cell_type": "markdown",
   "metadata": {},
   "source": [
    "# Testing"
   ]
  },
  {
   "cell_type": "code",
   "execution_count": 46,
   "metadata": {},
   "outputs": [
    {
     "name": "stdout",
     "output_type": "stream",
     "text": [
      "torch.Size([1, 10, 3, 54, 96]) torch.Size([1, 2, 60])\n"
     ]
    }
   ],
   "source": [
    "# get first I/O-sequence of test dataset for visualizing a prediction\n",
    "for batch in data_module.test_dataloader():\n",
    "    x_test = batch[\"input\"]\n",
    "    y_test = batch[\"output\"]\n",
    "    break\n",
    "\n",
    "if CUDA:\n",
    "    x_test = x_test.cuda()\n",
    "    y_test = y_test.cuda()\n",
    "\n",
    "print(x_test.shape, y_test.shape)"
   ]
  },
  {
   "cell_type": "code",
   "execution_count": 47,
   "metadata": {},
   "outputs": [
    {
     "name": "stdout",
     "output_type": "stream",
     "text": [
      "predicted pitch: [0.0004, 0.1487, 0.0853, 0.0851, -0.0135, 0.0898, 0.1591, 0.0783, 0.0619, 0.1079, 0.0625, 0.1192, -0.0998, -0.0408, -0.0829, 0.1055, 0.0661, 0.1967, 0.1542, 0.0791, 0.0748, -0.0353, 0.0418, 0.1043, 0.0746, 0.0492, 0.0254, 0.0472, 0.0388, -0.0253, 0.019, 0.11, -0.111, -0.1592, -0.1928, 0.064, 0.1996, 0.1663, 0.1835, 0.1584, 0.2483, 0.1955, 0.1326, -0.022, 0.1785, 0.0221, 0.0319, 0.0615, 0.1088, -0.0277, 0.0298, -0.1379, 0.0088, 0.0309, 0.1284, 0.1152, 0.0269, 0.019, -0.0755, 0.0311]\n",
      "real pitch:\t [-0.0037, 0.1525, 0.0912, 0.0933, -0.0128, 0.095, 0.1625, 0.1036, 0.0774, 0.0955, 0.0615, 0.1166, -0.1029, -0.039, -0.0965, 0.115, 0.0672, 0.1892, 0.1413, 0.0972, 0.0782, -0.0112, 0.0431, 0.1098, 0.081, 0.0346, 0.0441, 0.0603, 0.0499, -0.0585, 0.0075, 0.0952, -0.1104, -0.1677, -0.1942, 0.0601, 0.1967, 0.1765, 0.1818, 0.1645, 0.2538, 0.2093, 0.1261, -0.0085, 0.1973, 0.0156, 0.0242, 0.059, 0.1047, -0.0406, 0.0331, -0.1455, 0.0176, 0.0285, 0.1294, 0.1163, 0.0226, 0.0171, -0.066, 0.0246]\n",
      "loss: 9.2e-05\n"
     ]
    },
    {
     "data": {
      "text/plain": [
       "(torch.Size([10, 3, 54, 96]), torch.Size([2, 60]), torch.Size([2, 60]))"
      ]
     },
     "execution_count": 47,
     "metadata": {},
     "output_type": "execute_result"
    }
   ],
   "source": [
    "criterion = nn.MSELoss()\n",
    "\n",
    "# make one prediction for visualization\n",
    "with torch.no_grad():\n",
    "    y_pred = loaded_model(x_test.squeeze(1))\n",
    "    loss = criterion(y_pred, y_test)\n",
    "\n",
    "    # clean up tensor and round results to visually compare predicted sequence\n",
    "    a = y_pred.squeeze(0)[0].tolist()\n",
    "    a = [round(num, 4) for num in a]\n",
    "\n",
    "    b = y_test.squeeze(0)[0].tolist()\n",
    "    b = [round(num, 4) for num in b]\n",
    "\n",
    "    print(f'predicted pitch: {a}\\nreal pitch:\\t {b}')\n",
    "    print(\"loss:\", round(loss.item(), 6))\n",
    "\n",
    "# squeeze out batch size and convert into cpu format for plotting\n",
    "x_test.squeeze(0).shape\n",
    "input_sequence = x_test.squeeze(0).cpu()\n",
    "output_sequence = y_test.squeeze(0).cpu()\n",
    "predicted_sequence = y_pred.squeeze(0).cpu()\n",
    "input_sequence.shape, output_sequence.shape, predicted_sequence.shape"
   ]
  },
  {
   "cell_type": "markdown",
   "metadata": {},
   "source": [
    "### Prediction vs. real on first test I/O-sequence"
   ]
  },
  {
   "cell_type": "code",
   "execution_count": 48,
   "metadata": {},
   "outputs": [
    {
     "data": {
      "image/png": "[encoded data removed]",
      "text/plain": [
       "<Figure size 864x432 with 1 Axes>"
      ]
     },
     "metadata": {
      "needs_background": "light"
     },
     "output_type": "display_data"
    }
   ],
   "source": [
    "frames = np.arange(0,FRAMES_OUT)\n",
    "fig, ax = plt.subplots(figsize=(12, 6))\n",
    "ax.plot(output_sequence[0].apply_(denorm_pr), label=\"real\")\n",
    "ax.plot(predicted_sequence[0].apply_(denorm_pr), color=\"red\", label='predicted')\n",
    "ax.set_xlabel('frames')\n",
    "ax.set_ylabel('pitch (°)')\n",
    "ax.set_title(f'CNN LSTM {FRAMES_IN} to {FRAMES_OUT} prediction results')\n",
    "plt.legend()\n",
    "# plt.savefig(f'{RESULT_FOLDER}/1ep_pitch-prediction_{FRAMES_IN}in_{FRAMES_OUT}out_epochs{NUM_EPOCHS}', bbox_inches='tight')\n",
    "plt.show()"
   ]
  },
  {
   "cell_type": "code",
   "execution_count": 49,
   "metadata": {},
   "outputs": [
    {
     "data": {
      "image/png": "[encoded data removed]",
      "text/plain": [
       "<Figure size 864x432 with 1 Axes>"
      ]
     },
     "metadata": {
      "needs_background": "light"
     },
     "output_type": "display_data"
    }
   ],
   "source": [
    "frames = np.arange(0,FRAMES_OUT)\n",
    "fig, ax = plt.subplots(figsize=(12, 6))\n",
    "ax.plot(output_sequence[1].apply_(denorm_pr), label=\"real\")\n",
    "ax.plot(predicted_sequence[1].apply_(denorm_pr), color=\"red\", label='predicted')\n",
    "ax.set_xlabel('frames')\n",
    "ax.set_ylabel('roll (°)')\n",
    "ax.set_title(f'CNN LSTM {FRAMES_IN} to {FRAMES_OUT} prediction results')\n",
    "plt.legend()\n",
    "# plt.savefig(f'{RESULT_FOLDER}/1ep_roll-prediction_{FRAMES_IN}in_{FRAMES_OUT}out_epochs{NUM_EPOCHS}', bbox_inches='tight')\n",
    "plt.show()"
   ]
  },
  {
   "cell_type": "markdown",
   "metadata": {},
   "source": [
    "### Inference time"
   ]
  },
  {
   "cell_type": "code",
   "execution_count": 50,
   "metadata": {},
   "outputs": [
    {
     "name": "stdout",
     "output_type": "stream",
     "text": [
      "total execution time for 10.000 predictions: 40427.831419467926\n",
      "Inference time for 10.000 predictions:\t 4.042783141946793\n",
      "Total trainable parameters:\t 217659752\n"
     ]
    }
   ],
   "source": [
    "current = os.path.dirname(os.path.realpath(''))\n",
    "parent = os.path.dirname(current)\n",
    "sys.path.append(parent)  \n",
    "\n",
    "# del sys.modules[\"notebooks.data_loaders.utils\"]\n",
    "from notebooks.data_loaders.utils import Utilities\n",
    "\n",
    "total, inference = Utilities.inference_time(loaded_model, x_test, repetitions=10000)\n",
    "print(f\"total execution time for 10.000 predictions: {np.sum(total)}\")\n",
    "print(f\"Inference time for 10.000 predictions:\\t {inference}\")\n",
    "\n",
    "sum = 0\n",
    "for p in loaded_model.parameters():\n",
    "    sum += p.numel()\n",
    "\n",
    "print(f\"Total trainable parameters:\\t {sum}\")"
   ]
  },
  {
   "cell_type": "code",
   "execution_count": 51,
   "metadata": {},
   "outputs": [
    {
     "data": {
      "image/png": "[encoded data removed]",
      "text/plain": [
       "<Figure size 720x360 with 1 Axes>"
      ]
     },
     "metadata": {
      "needs_background": "light"
     },
     "output_type": "display_data"
    }
   ],
   "source": [
    "plt.figure(figsize=(10,5))\n",
    "plt.plot(total)\n",
    "plt.ylabel(\"time (s)\")\n",
    "plt.xlabel(\"number of predictions\")\n",
    "plt.title(\"Inference time for single-step model\")\n",
    "plt.savefig(f'{RESULT_FOLDER}/inference_{FRAMES_IN}in_{FRAMES_OUT}out_epochs{NUM_EPOCHS}', bbox_inches='tight')\n",
    "plt.show()"
   ]
  },
  {
   "cell_type": "markdown",
   "metadata": {},
   "source": [
    "### Full test loop"
   ]
  },
  {
   "cell_type": "code",
   "execution_count": 52,
   "metadata": {},
   "outputs": [
    {
     "data": {
      "application/vnd.jupyter.widget-view+json": {
       "model_id": "522ae6af3a5a47009c7578308852676b",
       "version_major": 2,
       "version_minor": 0
      },
      "text/plain": [
       "  0%|          | 0/35748 [00:00<?, ?it/s]"
      ]
     },
     "metadata": {},
     "output_type": "display_data"
    }
   ],
   "source": [
    "predictions = []\n",
    "labels = []\n",
    "\n",
    "with torch.no_grad():\n",
    "    for batch in tqdm(data_module.test_dataloader()):\n",
    "        x_test = batch[\"input\"]\n",
    "        y_test = batch[\"output\"]\n",
    "\n",
    "        if CUDA:\n",
    "            x_test = x_test.cuda()\n",
    "\n",
    "        output = loaded_model(x_test.squeeze(1))\n",
    "\n",
    "        # squeeze out batch size which is = 1 for test dataset\n",
    "        predictions.append(output.cpu().squeeze(0))\n",
    "        labels.append(y_test.squeeze(0))"
   ]
  },
  {
   "cell_type": "code",
   "execution_count": 53,
   "metadata": {},
   "outputs": [
    {
     "data": {
      "text/plain": [
       "(torch.Size([60]), torch.Size([60]), torch.Size([60]), torch.Size([60]))"
      ]
     },
     "execution_count": 53,
     "metadata": {},
     "output_type": "execute_result"
    }
   ],
   "source": [
    "# Predictions[0] = tensor object\n",
    "# Predictions[0][0] = pitch value\n",
    "# Predictions[0][1] = roll value\n",
    "\n",
    "pitch_predictions = []\n",
    "roll_predictions = []\n",
    "\n",
    "pitch_label = []\n",
    "roll_label = []\n",
    "\n",
    "for i in range(len(predictions)):\n",
    "    pitch_predictions.append(predictions[i][0])\n",
    "    roll_predictions.append(predictions[i][1])\n",
    "    pitch_label.append(labels[i][0])\n",
    "    roll_label.append(labels[i][1])\n",
    "\n",
    "pitch_predictions[0].shape, roll_predictions[0].shape, pitch_label[0].shape, roll_label[0].shape"
   ]
  },
  {
   "cell_type": "markdown",
   "metadata": {},
   "source": [
    "### Average loss-per-frame over all datapoints"
   ]
  },
  {
   "cell_type": "code",
   "execution_count": 54,
   "metadata": {},
   "outputs": [],
   "source": [
    "# function that returns a list with loss-values per frame\n",
    "def loss_per_frame(predicted_sequence, real_sequence):\n",
    "    loss_per_frame = []\n",
    "    criterion = nn.MSELoss()\n",
    "    if predicted_sequence.shape != real_sequence.shape:\n",
    "        return loss_per_frame\n",
    "    for i in range(len(predicted_sequence)):\n",
    "        loss = criterion(predicted_sequence[i], real_sequence[i])\n",
    "        loss_per_frame.append(loss.item())\n",
    "    return loss_per_frame"
   ]
  },
  {
   "cell_type": "code",
   "execution_count": 55,
   "metadata": {},
   "outputs": [
    {
     "data": {
      "application/vnd.jupyter.widget-view+json": {
       "model_id": "12537c6b40294bd5a3ece6a8d7c3002d",
       "version_major": 2,
       "version_minor": 0
      },
      "text/plain": [
       "  0%|          | 0/35748 [00:00<?, ?it/s]"
      ]
     },
     "metadata": {},
     "output_type": "display_data"
    }
   ],
   "source": [
    "# calculate mean loss per frame over all test data\n",
    "total = len(pitch_predictions)\n",
    "pitch_total = np.zeros(FRAMES_OUT, dtype=np.float64)\n",
    "roll_total = np.zeros(FRAMES_OUT, dtype=np.float64)\n",
    "\n",
    "for i in tqdm(range(len(pitch_predictions))):\n",
    "    pitch_lpf = loss_per_frame(pitch_predictions[i], pitch_label[i])\n",
    "    roll_lpf = loss_per_frame(roll_predictions[i], roll_label[i])\n",
    "    pitch_total += pitch_lpf\n",
    "    roll_total += roll_lpf\n",
    "\n",
    "pitch_lpf_mse = pitch_total / total\n",
    "roll_lpf_mse = roll_total / total"
   ]
  },
  {
   "cell_type": "code",
   "execution_count": 56,
   "metadata": {},
   "outputs": [
    {
     "data": {
      "image/png": "[encoded data removed]",
      "text/plain": [
       "<Figure size 720x288 with 1 Axes>"
      ]
     },
     "metadata": {
      "needs_background": "light"
     },
     "output_type": "display_data"
    }
   ],
   "source": [
    "pitch_lpf_rmse = np.sqrt(pitch_lpf_mse)\n",
    "roll_lpf_rmse = np.sqrt(roll_lpf_mse)\n",
    "denorm = lambda x: denorm_pr(x)\n",
    "vfunc = np.vectorize(denorm)\n",
    "plt.figure(figsize=(10, 4))\n",
    "plt.plot(vfunc(pitch_lpf_rmse), label='pitch')\n",
    "plt.plot(vfunc(roll_lpf_rmse), color='orange', label='roll')\n",
    "plt.xlabel('predicted frame')\n",
    "plt.ylabel('Denormalized RMSE Loss (°)')\n",
    "plt.title('Loss per frame: denormalized RMSE')\n",
    "plt.legend()\n",
    "plt.savefig(f'{RESULT_FOLDER}/LPF-denorm-RMSE_{FRAMES_IN}in_{FRAMES_OUT}out_epochs{NUM_EPOCHS}', bbox_inches='tight')\n",
    "plt.show()"
   ]
  },
  {
   "cell_type": "markdown",
   "metadata": {},
   "source": [
    "### MSE results pitch"
   ]
  },
  {
   "cell_type": "code",
   "execution_count": 57,
   "metadata": {},
   "outputs": [
    {
     "name": "stdout",
     "output_type": "stream",
     "text": [
      "Pitch prediction\n",
      "   MSE: 0.00037\n",
      "   RMSE: 0.0193\n",
      "   RMSE denorm: 1.74°\n",
      "Zero prediction\n",
      "   MSE 0: 0.00494\n",
      "   RMSE 0: 0.0703\n",
      "   RMSE denorm: 6.33°\n",
      "Improvement on zero prediction:\n",
      "   MSE delta%: 1335.14 %\n",
      "   RMSE delta%: 364.25 %\n"
     ]
    }
   ],
   "source": [
    "n = len(pitch_predictions)\n",
    "loss0_tensor = torch.zeros(FRAMES_OUT)\n",
    "criterion = nn.MSELoss()\n",
    "\n",
    "loss = []\n",
    "loss0 = []\n",
    "\n",
    "total = 0\n",
    "total0 = 0\n",
    "\n",
    "for i in range(n):\n",
    "    error = criterion(pitch_label[i], pitch_predictions[i]).item()\n",
    "    error0 = criterion(pitch_label[i], loss0_tensor).item()\n",
    "    loss.append(denorm_pr(math.sqrt(error)))\n",
    "    loss0.append(denorm_pr(math.sqrt(error)))\n",
    "    total += error\n",
    "    total0 += error0\n",
    "    \n",
    "\n",
    "mse = round(total/n, 5)\n",
    "rmse = round(math.sqrt(total/n), 4)\n",
    "mse0 = round(total0/n, 5)\n",
    "rmse0 = round(math.sqrt(total0/n), 4)\n",
    "\n",
    "np.save(f\"{TEST_RESULT_FOLDER}/pitch_denormalized_error\", loss)\n",
    "np.save(f\"{TEST_RESULT_FOLDER}/pitch_zero_error\", loss0)\n",
    "\n",
    "print(\"Pitch prediction\")\n",
    "print(\"   MSE:\", mse)\n",
    "print(\"   RMSE:\", rmse)\n",
    "print(f\"   RMSE denorm: {round(denorm_pr(rmse), 2)}°\")\n",
    "print(\"Zero prediction\")\n",
    "print(\"   MSE 0:\", mse0)\n",
    "print(\"   RMSE 0:\", rmse0)\n",
    "print(f\"   RMSE denorm: {round(denorm_pr(rmse0), 2)}°\")\n",
    "print(\"Improvement on zero prediction:\")\n",
    "print(\"   MSE delta%:\", round(mse0/mse*100, 2), \"%\")\n",
    "print(\"   RMSE delta%:\", round(rmse0/rmse*100, 2), \"%\")"
   ]
  },
  {
   "cell_type": "markdown",
   "metadata": {},
   "source": [
    "### MSE results roll"
   ]
  },
  {
   "cell_type": "code",
   "execution_count": 58,
   "metadata": {},
   "outputs": [
    {
     "name": "stdout",
     "output_type": "stream",
     "text": [
      "Roll prediction\n",
      "   MSE: 0.00033\n",
      "   RMSE: 0.0183\n",
      "   RMSE denorm: 1.65°\n",
      "Zero prediction\n",
      "   MSE 0: 0.00682\n",
      "   RMSE 0: 0.0826\n",
      "   RMSE denorm: 7.43°\n",
      "Improvement on zero prediction:\n",
      "   MSE delta%: 2066.67 %\n",
      "   RMSE delta%: 451.37 %\n"
     ]
    }
   ],
   "source": [
    "n = len(pitch_predictions)\n",
    "loss0_tensor = torch.zeros(FRAMES_OUT)\n",
    "criterion = nn.MSELoss()\n",
    "\n",
    "loss = []\n",
    "loss0 = []\n",
    "\n",
    "total = 0\n",
    "total0 = 0\n",
    "\n",
    "for i in range(n):\n",
    "    error = criterion(roll_label[i], roll_predictions[i]).item()\n",
    "    error0 = criterion(roll_label[i], loss0_tensor).item()\n",
    "    loss.append(denorm_pr(math.sqrt(error)))\n",
    "    loss0.append(denorm_pr(math.sqrt(error)))\n",
    "    total += error\n",
    "    total0 += error0\n",
    "    \n",
    "\n",
    "mse = round(total/n, 5)\n",
    "rmse = round(math.sqrt(total/n), 4)\n",
    "mse0 = round(total0/n, 5)\n",
    "rmse0 = round(math.sqrt(total0/n), 4)\n",
    "\n",
    "np.save(f\"{TEST_RESULT_FOLDER}/roll_denormalized_error\", loss)\n",
    "np.save(f\"{TEST_RESULT_FOLDER}/roll_zero_error\", loss0)\n",
    "\n",
    "print(\"Roll prediction\")\n",
    "print(\"   MSE:\", mse)\n",
    "print(\"   RMSE:\", rmse)\n",
    "print(f\"   RMSE denorm: {round(denorm_pr(rmse), 2)}°\")\n",
    "print(\"Zero prediction\")\n",
    "print(\"   MSE 0:\", mse0)\n",
    "print(\"   RMSE 0:\", rmse0)\n",
    "print(f\"   RMSE denorm: {round(denorm_pr(rmse0), 2)}°\")\n",
    "print(\"Improvement on zero prediction:\")\n",
    "print(\"   MSE delta%:\", round(mse0/mse*100, 2), \"%\")\n",
    "print(\"   RMSE delta%:\", round(rmse0/rmse*100, 2), \"%\")"
   ]
  },
  {
   "cell_type": "code",
   "execution_count": 59,
   "metadata": {},
   "outputs": [
    {
     "data": {
      "image/png": "[encoded data removed]",
      "text/plain": [
       "<Figure size 216x288 with 1 Axes>"
      ]
     },
     "metadata": {
      "needs_background": "light"
     },
     "output_type": "display_data"
    }
   ],
   "source": [
    "fig, ax = plt.subplots(figsize=(3,4))\n",
    "pitch_error = np.load(f\"{TEST_RESULT_FOLDER}/pitch_denormalized_error.npy\")\n",
    "roll_error = np.load(f\"{TEST_RESULT_FOLDER}/roll_denormalized_error.npy\")\n",
    "ax.boxplot([pitch_error, roll_error], showfliers=False, widths=(0.5), showmeans=True, meanline=True)\n",
    "ax.set_ylabel(\"error (°)\", fontsize=12)\n",
    "ax.set_xticks([1,2], [\"pitch\", \"roll\"], fontsize=12)\n",
    "ax.set_title(\"prediction error for pitch and roll\", fontsize=12)\n",
    "plt.savefig(f'{RESULT_FOLDER}/error_boxplot_{FRAMES_IN}in_{FRAMES_OUT}out_epochs{NUM_EPOCHS}', bbox_inches='tight')"
   ]
  }
 ],
 "metadata": {
  "interpreter": {
   "hash": "10eea1320f31955e3067f39969a0854b449a89d7f91a5c6b0bcec70e16d0858a"
  },
  "kernelspec": {
   "display_name": "Python 3.8.13 ('thesis')",
   "language": "python",
   "name": "python3"
  },
  "language_info": {
   "codemirror_mode": {
    "name": "ipython",
    "version": 3
   },
   "file_extension": ".py",
   "mimetype": "text/x-python",
   "name": "python",
   "nbconvert_exporter": "python",
   "pygments_lexer": "ipython3",
   "version": "3.8.13"
  },
  "orig_nbformat": 4
 },
 "nbformat": 4,
 "nbformat_minor": 2
}
