{
 "cells": [
  {
   "cell_type": "markdown",
   "metadata": {},
   "source": [
    "# Pitch & Roll sequence prediction"
   ]
  },
  {
   "cell_type": "code",
   "execution_count": 1,
   "metadata": {},
   "outputs": [],
   "source": [
    "import gc\n",
    "import os\n",
    "import sys\n",
    "import json\n",
    "import math\n",
    "import pickle\n",
    "import random\n",
    "import platform\n",
    "import numpy as np\n",
    "import pandas as pd\n",
    "import multiprocessing\n",
    "from tqdm.notebook import tqdm\n",
    "import matplotlib.pyplot as plt\n",
    "\n",
    "import torch\n",
    "import torch.nn as nn\n",
    "import torch.optim as optim\n",
    "import torch.nn.functional as F\n",
    "import torch.autograd as autograd\n",
    "from torch.utils.data import Dataset, DataLoader\n",
    "\n",
    "import pytorch_lightning as pl"
   ]
  },
  {
   "cell_type": "code",
   "execution_count": 2,
   "metadata": {},
   "outputs": [
    {
     "name": "stdout",
     "output_type": "stream",
     "text": [
      "1.11.0\n",
      "1.6.1\n"
     ]
    }
   ],
   "source": [
    "print(torch.__version__)\n",
    "print(pl.__version__)"
   ]
  },
  {
   "cell_type": "code",
   "execution_count": 3,
   "metadata": {},
   "outputs": [
    {
     "name": "stdout",
     "output_type": "stream",
     "text": [
      "device: cuda\n",
      "CPU count: 16\n",
      "Platform: windows\n",
      "number of workers: 0\n"
     ]
    }
   ],
   "source": [
    "device = torch.device('cuda' if torch.cuda.is_available() else 'cpu')\n",
    "print(\"device:\", device)\n",
    "cpu_count = multiprocessing.cpu_count()\n",
    "print('CPU count:', cpu_count)\n",
    "platform_os = \"windows\" if platform.system() == \"Windows\" else \"linux\"\n",
    "print(\"Platform:\", platform_os)\n",
    "\n",
    "# Pytorch Dataloader can't handle n_workers > 0 on windows due to bugs\n",
    "N_WORKERS = 0 if platform_os==\"windows\" else cpu_count\n",
    "print(f\"number of workers: {N_WORKERS}\")"
   ]
  },
  {
   "cell_type": "markdown",
   "metadata": {},
   "source": [
    "# Constants"
   ]
  },
  {
   "cell_type": "code",
   "execution_count": 4,
   "metadata": {},
   "outputs": [],
   "source": [
    "# change to appropriate location\n",
    "TRAIN_FOLDER = \"../../3dmodel/test_4_episode_\"\n",
    "MODEL_NAME = \"test_LSTM_PR_sequence_output\"\n",
    "MODEL_STATE_FOLDER = f\"../model_states/{MODEL_NAME}\"\n",
    "RESULT_FOLDER = f\"../../results/{MODEL_NAME}\"\n",
    "TRAIN_RESULT_FOLDER = f\"../training_results/{MODEL_NAME}\"\n",
    "TEST_RESULT_FOLDER = f\"../test_results/{MODEL_NAME}\"\n",
    "SAVE_RESULTS = True\n",
    "TRAIN_MODEL = True"
   ]
  },
  {
   "cell_type": "code",
   "execution_count": 5,
   "metadata": {},
   "outputs": [],
   "source": [
    "if not os.path.exists(MODEL_STATE_FOLDER):\n",
    "    os.mkdir(MODEL_STATE_FOLDER)\n",
    "if not os.path.exists(TRAIN_RESULT_FOLDER):\n",
    "    os.mkdir(TRAIN_RESULT_FOLDER)\n",
    "if not os.path.exists(TEST_RESULT_FOLDER):\n",
    "    os.mkdir(TEST_RESULT_FOLDER)\n",
    "if not os.path.exists(RESULT_FOLDER):\n",
    "    os.mkdir(RESULT_FOLDER)"
   ]
  },
  {
   "cell_type": "code",
   "execution_count": 6,
   "metadata": {},
   "outputs": [],
   "source": [
    "FRAMES_IN = 60\n",
    "FRAMES_OUT = 60\n",
    "\n",
    "N_EPISODES = 540\n",
    "FRAMES_PER_EPISODE = 400\n",
    "\n",
    "TRAIN_SIZE = 0.8\n",
    "NUM_EPOCHS = 50\n",
    "BATCH_SIZE = 64\n",
    "LEARNING_RATE = 0.001\n",
    "\n",
    "CUDA = device.type == 'cuda'\n",
    "DEVICE = device"
   ]
  },
  {
   "cell_type": "markdown",
   "metadata": {},
   "source": [
    "# Load data from episodes"
   ]
  },
  {
   "cell_type": "code",
   "execution_count": 7,
   "metadata": {},
   "outputs": [
    {
     "data": {
      "text/html": [
       "<div>\n",
       "<style scoped>\n",
       "    .dataframe tbody tr th:only-of-type {\n",
       "        vertical-align: middle;\n",
       "    }\n",
       "\n",
       "    .dataframe tbody tr th {\n",
       "        vertical-align: top;\n",
       "    }\n",
       "\n",
       "    .dataframe thead th {\n",
       "        text-align: right;\n",
       "    }\n",
       "</style>\n",
       "<table border=\"1\" class=\"dataframe\">\n",
       "  <thead>\n",
       "    <tr style=\"text-align: right;\">\n",
       "      <th></th>\n",
       "      <th>pitch</th>\n",
       "      <th>roll</th>\n",
       "    </tr>\n",
       "  </thead>\n",
       "  <tbody>\n",
       "    <tr>\n",
       "      <th>0</th>\n",
       "      <td>15.915869</td>\n",
       "      <td>2.358416</td>\n",
       "    </tr>\n",
       "    <tr>\n",
       "      <th>1</th>\n",
       "      <td>14.295925</td>\n",
       "      <td>1.700391</td>\n",
       "    </tr>\n",
       "    <tr>\n",
       "      <th>2</th>\n",
       "      <td>6.213590</td>\n",
       "      <td>1.611325</td>\n",
       "    </tr>\n",
       "    <tr>\n",
       "      <th>3</th>\n",
       "      <td>1.235337</td>\n",
       "      <td>6.175461</td>\n",
       "    </tr>\n",
       "    <tr>\n",
       "      <th>4</th>\n",
       "      <td>1.341678</td>\n",
       "      <td>3.695468</td>\n",
       "    </tr>\n",
       "  </tbody>\n",
       "</table>\n",
       "</div>"
      ],
      "text/plain": [
       "       pitch      roll\n",
       "0  15.915869  2.358416\n",
       "1  14.295925  1.700391\n",
       "2   6.213590  1.611325\n",
       "3   1.235337  6.175461\n",
       "4   1.341678  3.695468"
      ]
     },
     "execution_count": 7,
     "metadata": {},
     "output_type": "execute_result"
    }
   ],
   "source": [
    "# view first episode \n",
    "filename = TRAIN_FOLDER + \"1/labels_0.json\"\n",
    "data = []\n",
    "labels = json.load(open(filename))\n",
    "ep1 = pd.DataFrame(labels)\n",
    "ep1 = ep1.transpose()\n",
    "ep1.rename(columns = {0:'pitch', 1:'roll'}, inplace=True)\n",
    "ep1.head()"
   ]
  },
  {
   "cell_type": "code",
   "execution_count": 8,
   "metadata": {},
   "outputs": [],
   "source": [
    "# load all data\n",
    "episodes = [] # holds pitch, roll, episode number and position within episode number\n",
    "pr_per_episode = [] # holds all pitch and roll tuples per episode in one row (see pr_per_episode_df)\n",
    "for ep in range(1, N_EPISODES+1):\n",
    "    filename = TRAIN_FOLDER+ str(ep) +\"/labels_0.json\"\n",
    "    labels = json.load(open(filename))\n",
    "    pr_in_current_episode = []\n",
    "    for i in labels:\n",
    "        pr_in_current_episode.append(labels[i])\n",
    "        episodes.append(labels[i]+[ep, i])\n",
    "    pr_per_episode.append(pr_in_current_episode)"
   ]
  },
  {
   "cell_type": "code",
   "execution_count": 9,
   "metadata": {},
   "outputs": [
    {
     "data": {
      "text/html": [
       "<div>\n",
       "<style scoped>\n",
       "    .dataframe tbody tr th:only-of-type {\n",
       "        vertical-align: middle;\n",
       "    }\n",
       "\n",
       "    .dataframe tbody tr th {\n",
       "        vertical-align: top;\n",
       "    }\n",
       "\n",
       "    .dataframe thead th {\n",
       "        text-align: right;\n",
       "    }\n",
       "</style>\n",
       "<table border=\"1\" class=\"dataframe\">\n",
       "  <thead>\n",
       "    <tr style=\"text-align: right;\">\n",
       "      <th></th>\n",
       "      <th>pitch</th>\n",
       "      <th>roll</th>\n",
       "    </tr>\n",
       "  </thead>\n",
       "  <tbody>\n",
       "    <tr>\n",
       "      <th>0</th>\n",
       "      <td>15.915869</td>\n",
       "      <td>2.358416</td>\n",
       "    </tr>\n",
       "    <tr>\n",
       "      <th>1</th>\n",
       "      <td>14.295925</td>\n",
       "      <td>1.700391</td>\n",
       "    </tr>\n",
       "    <tr>\n",
       "      <th>2</th>\n",
       "      <td>6.213590</td>\n",
       "      <td>1.611325</td>\n",
       "    </tr>\n",
       "    <tr>\n",
       "      <th>3</th>\n",
       "      <td>1.235337</td>\n",
       "      <td>6.175461</td>\n",
       "    </tr>\n",
       "    <tr>\n",
       "      <th>4</th>\n",
       "      <td>1.341678</td>\n",
       "      <td>3.695468</td>\n",
       "    </tr>\n",
       "  </tbody>\n",
       "</table>\n",
       "</div>"
      ],
      "text/plain": [
       "       pitch      roll\n",
       "0  15.915869  2.358416\n",
       "1  14.295925  1.700391\n",
       "2   6.213590  1.611325\n",
       "3   1.235337  6.175461\n",
       "4   1.341678  3.695468"
      ]
     },
     "execution_count": 9,
     "metadata": {},
     "output_type": "execute_result"
    }
   ],
   "source": [
    "p_r_df = pd.DataFrame(episodes)\n",
    "# p_r_df.rename(columns = {0:'pitch', 1:'roll', 2:'episode', 3:'position_within_episode'}, inplace=True)\n",
    "p_r_df.rename(columns = {0:'pitch', 1:'roll'}, inplace=True)\n",
    "p_r_df = p_r_df.astype({\"pitch\": float, \"roll\": float})\n",
    "p_r_df = p_r_df.drop([2,3], axis=1)     # drop episode and position_within_episode\n",
    "p_r_df.head()"
   ]
  },
  {
   "cell_type": "code",
   "execution_count": 10,
   "metadata": {},
   "outputs": [
    {
     "data": {
      "text/html": [
       "<div>\n",
       "<style scoped>\n",
       "    .dataframe tbody tr th:only-of-type {\n",
       "        vertical-align: middle;\n",
       "    }\n",
       "\n",
       "    .dataframe tbody tr th {\n",
       "        vertical-align: top;\n",
       "    }\n",
       "\n",
       "    .dataframe thead th {\n",
       "        text-align: right;\n",
       "    }\n",
       "</style>\n",
       "<table border=\"1\" class=\"dataframe\">\n",
       "  <thead>\n",
       "    <tr style=\"text-align: right;\">\n",
       "      <th></th>\n",
       "      <th>0</th>\n",
       "      <th>1</th>\n",
       "      <th>2</th>\n",
       "      <th>3</th>\n",
       "      <th>4</th>\n",
       "      <th>5</th>\n",
       "      <th>6</th>\n",
       "      <th>7</th>\n",
       "      <th>8</th>\n",
       "      <th>9</th>\n",
       "      <th>...</th>\n",
       "      <th>390</th>\n",
       "      <th>391</th>\n",
       "      <th>392</th>\n",
       "      <th>393</th>\n",
       "      <th>394</th>\n",
       "      <th>395</th>\n",
       "      <th>396</th>\n",
       "      <th>397</th>\n",
       "      <th>398</th>\n",
       "      <th>399</th>\n",
       "    </tr>\n",
       "  </thead>\n",
       "  <tbody>\n",
       "    <tr>\n",
       "      <th>0</th>\n",
       "      <td>[15.9158690209565, 2.3584162956378014]</td>\n",
       "      <td>[14.29592488097425, 1.7003911752437184]</td>\n",
       "      <td>[6.2135895738216185, 1.6113252950233405]</td>\n",
       "      <td>[1.235337361757596, 6.175460896553669]</td>\n",
       "      <td>[1.341678284492817, 3.695467874019875]</td>\n",
       "      <td>[-0.0651516203579112, 3.0756651325514186]</td>\n",
       "      <td>[-4.392773839217525, 0.8726621608752939]</td>\n",
       "      <td>[-4.184235784139164, 0.35570707390756684]</td>\n",
       "      <td>[-3.3195511241318867, 6.666652243167843]</td>\n",
       "      <td>[5.894038319728926, -0.13849362470644613]</td>\n",
       "      <td>...</td>\n",
       "      <td>[10.389031062517569, 1.5248242575580084]</td>\n",
       "      <td>[-1.2002740520448067, 0.5092731518638726]</td>\n",
       "      <td>[-10.535511299457662, -4.131095631735996]</td>\n",
       "      <td>[-18.896939235154417, -4.945806145463817]</td>\n",
       "      <td>[-22.184256348715486, -1.9589200251876364]</td>\n",
       "      <td>[-0.2044812962373426, 1.503336589150854]</td>\n",
       "      <td>[1.0747428590627885, 10.724272114907427]</td>\n",
       "      <td>[13.3735940647023, 1.5429493384594009]</td>\n",
       "      <td>[11.19363673825518, -0.8486316877453378]</td>\n",
       "      <td>[5.131548017300437, 0.9777773314587621]</td>\n",
       "    </tr>\n",
       "    <tr>\n",
       "      <th>1</th>\n",
       "      <td>[15.97866748773289, 2.268047343389832]</td>\n",
       "      <td>[9.855846859112509, 1.360887657924949]</td>\n",
       "      <td>[6.105283691039549, 1.5623034265245723]</td>\n",
       "      <td>[1.3507750292502163, 4.69679068181667]</td>\n",
       "      <td>[1.724415511875592, 4.076017413155836]</td>\n",
       "      <td>[0.03351754252109094, 3.1310278711991915]</td>\n",
       "      <td>[-7.604052164296134, 1.8397739918625224]</td>\n",
       "      <td>[-2.5471177738191515, 2.5391520656996245]</td>\n",
       "      <td>[-2.625542432756061, 7.979014181804202]</td>\n",
       "      <td>[6.084213411223707, 0.050736486104279443]</td>\n",
       "      <td>...</td>\n",
       "      <td>[9.820045568804241, 1.8697905388306129]</td>\n",
       "      <td>[1.4623980360913844, 0.5153293418627053]</td>\n",
       "      <td>[-10.619933291372666, -3.1525508644909594]</td>\n",
       "      <td>[-15.18629041193054, -5.8295536500011895]</td>\n",
       "      <td>[-21.331025702502906, -4.46392562734884]</td>\n",
       "      <td>[-0.980658924236567, 0.000323666141662183]</td>\n",
       "      <td>[1.1033292284517018, 11.141469460921915]</td>\n",
       "      <td>[14.080388870204388, 0.990625450896085]</td>\n",
       "      <td>[11.345563197284712, -0.7964093420118897]</td>\n",
       "      <td>[4.760598735929752, 1.6810054975536355]</td>\n",
       "    </tr>\n",
       "    <tr>\n",
       "      <th>2</th>\n",
       "      <td>[15.961578354429518, 2.074803789410423]</td>\n",
       "      <td>[6.179635849683839, 0.12110205542910284]</td>\n",
       "      <td>[6.079602606647125, 1.6753055979695541]</td>\n",
       "      <td>[1.3610495547526196, 8.341244726699365]</td>\n",
       "      <td>[0.2675885889498374, 4.800268474629186]</td>\n",
       "      <td>[0.06658679384694029, 3.1533924718627517]</td>\n",
       "      <td>[-5.6663031642145985, 1.2498673085563288]</td>\n",
       "      <td>[-6.884764942802091, 0.6056172923359865]</td>\n",
       "      <td>[-2.0016676178818074, 6.428251747264541]</td>\n",
       "      <td>[6.3722296819184505, 0.18303076698380022]</td>\n",
       "      <td>...</td>\n",
       "      <td>[9.64882211782213, 1.973062358750971]</td>\n",
       "      <td>[2.395990446922511, 0.4464584900686305]</td>\n",
       "      <td>[-10.690737593629956, -2.750964556154771]</td>\n",
       "      <td>[-14.010888280304924, -6.054184484537745]</td>\n",
       "      <td>[-21.49614211059338, -4.60819715186608]</td>\n",
       "      <td>[-4.0433481914688425, 1.2884030224101293]</td>\n",
       "      <td>[1.1818524982447534, 11.202268389818784]</td>\n",
       "      <td>[14.342162700334297, 0.7591126138013591]</td>\n",
       "      <td>[8.761085355922647, -0.30987522391631195]</td>\n",
       "      <td>[4.628031167442151, 1.9668671637303579]</td>\n",
       "    </tr>\n",
       "    <tr>\n",
       "      <th>3</th>\n",
       "      <td>[7.69906521829289, 1.5796155014713218]</td>\n",
       "      <td>[8.481780991514256, 0.05603940762328032]</td>\n",
       "      <td>[3.159275826059072, 0.8631695853111513]</td>\n",
       "      <td>[1.049441063612711, 2.2469629763088257]</td>\n",
       "      <td>[0.3593771266476851, 1.8488201505313813]</td>\n",
       "      <td>[-0.07217797069325685, 1.49066178576372]</td>\n",
       "      <td>[-2.60443416001296, 0.27787303957087833]</td>\n",
       "      <td>[-5.056486372756112, 0.3636566403690948]</td>\n",
       "      <td>[-1.834612289840697, 3.3018218740372376]</td>\n",
       "      <td>[2.911777518181313, -0.18950627990486155]</td>\n",
       "      <td>...</td>\n",
       "      <td>[5.454093028683711, 0.6530340130189489]</td>\n",
       "      <td>[-1.6791362668768735, 0.18489125982090143]</td>\n",
       "      <td>[-5.466481284290821, -2.2171972253493215]</td>\n",
       "      <td>[-11.403407215591903, -1.6377460675585367]</td>\n",
       "      <td>[-9.300110224841715, 0.5591612804484688]</td>\n",
       "      <td>[-0.9304575674455022, 1.7758436346746147]</td>\n",
       "      <td>[0.5600581696638561, 4.948483152731639]</td>\n",
       "      <td>[6.361704787294284, 1.072871920838734]</td>\n",
       "      <td>[6.398844794679874, -0.44728280852408636]</td>\n",
       "      <td>[2.689249101248651, 0.22945817745416852]</td>\n",
       "    </tr>\n",
       "    <tr>\n",
       "      <th>4</th>\n",
       "      <td>[7.810402424405974, 1.4887826299683204]</td>\n",
       "      <td>[7.868472692729423, 0.18104613012244872]</td>\n",
       "      <td>[3.1332145989506532, 0.9057401800562839]</td>\n",
       "      <td>[0.9454851575582939, 2.1807891154219803]</td>\n",
       "      <td>[0.49654637500602317, 1.7821752200352163]</td>\n",
       "      <td>[-0.04738833270922448, 1.498974979757272]</td>\n",
       "      <td>[-2.617495189253317, 0.3204662326372101]</td>\n",
       "      <td>[-4.8539576034868945, 0.6764536111050119]</td>\n",
       "      <td>[-1.7194979891165945, 3.217247483526378]</td>\n",
       "      <td>[2.9227715614240943, -0.18400777751980293]</td>\n",
       "      <td>...</td>\n",
       "      <td>[5.2915481868157475, 0.7305929454785594]</td>\n",
       "      <td>[-0.9451557076525465, 0.23233229971256872]</td>\n",
       "      <td>[-5.385949938881786, -2.115911496373556]</td>\n",
       "      <td>[-10.588910572162469, -2.129767602321985]</td>\n",
       "      <td>[-11.214334772761257, 0.4122007691519324]</td>\n",
       "      <td>[-0.6278739439941491, 1.3888120325728999]</td>\n",
       "      <td>[0.5675734588241329, 5.078608501704137]</td>\n",
       "      <td>[6.597650257077789, 0.9384355485611944]</td>\n",
       "      <td>[5.924619637964011, -0.43206877559129453]</td>\n",
       "      <td>[2.6134350686785672, 0.35495815433724554]</td>\n",
       "    </tr>\n",
       "  </tbody>\n",
       "</table>\n",
       "<p>5 rows × 400 columns</p>\n",
       "</div>"
      ],
      "text/plain": [
       "                                       0    \\\n",
       "0   [15.9158690209565, 2.3584162956378014]   \n",
       "1   [15.97866748773289, 2.268047343389832]   \n",
       "2  [15.961578354429518, 2.074803789410423]   \n",
       "3   [7.69906521829289, 1.5796155014713218]   \n",
       "4  [7.810402424405974, 1.4887826299683204]   \n",
       "\n",
       "                                        1    \\\n",
       "0   [14.29592488097425, 1.7003911752437184]   \n",
       "1    [9.855846859112509, 1.360887657924949]   \n",
       "2  [6.179635849683839, 0.12110205542910284]   \n",
       "3  [8.481780991514256, 0.05603940762328032]   \n",
       "4  [7.868472692729423, 0.18104613012244872]   \n",
       "\n",
       "                                        2    \\\n",
       "0  [6.2135895738216185, 1.6113252950233405]   \n",
       "1   [6.105283691039549, 1.5623034265245723]   \n",
       "2   [6.079602606647125, 1.6753055979695541]   \n",
       "3   [3.159275826059072, 0.8631695853111513]   \n",
       "4  [3.1332145989506532, 0.9057401800562839]   \n",
       "\n",
       "                                        3    \\\n",
       "0    [1.235337361757596, 6.175460896553669]   \n",
       "1    [1.3507750292502163, 4.69679068181667]   \n",
       "2   [1.3610495547526196, 8.341244726699365]   \n",
       "3   [1.049441063612711, 2.2469629763088257]   \n",
       "4  [0.9454851575582939, 2.1807891154219803]   \n",
       "\n",
       "                                         4    \\\n",
       "0     [1.341678284492817, 3.695467874019875]   \n",
       "1     [1.724415511875592, 4.076017413155836]   \n",
       "2    [0.2675885889498374, 4.800268474629186]   \n",
       "3   [0.3593771266476851, 1.8488201505313813]   \n",
       "4  [0.49654637500602317, 1.7821752200352163]   \n",
       "\n",
       "                                         5    \\\n",
       "0  [-0.0651516203579112, 3.0756651325514186]   \n",
       "1  [0.03351754252109094, 3.1310278711991915]   \n",
       "2  [0.06658679384694029, 3.1533924718627517]   \n",
       "3   [-0.07217797069325685, 1.49066178576372]   \n",
       "4  [-0.04738833270922448, 1.498974979757272]   \n",
       "\n",
       "                                         6    \\\n",
       "0   [-4.392773839217525, 0.8726621608752939]   \n",
       "1   [-7.604052164296134, 1.8397739918625224]   \n",
       "2  [-5.6663031642145985, 1.2498673085563288]   \n",
       "3   [-2.60443416001296, 0.27787303957087833]   \n",
       "4   [-2.617495189253317, 0.3204662326372101]   \n",
       "\n",
       "                                         7    \\\n",
       "0  [-4.184235784139164, 0.35570707390756684]   \n",
       "1  [-2.5471177738191515, 2.5391520656996245]   \n",
       "2   [-6.884764942802091, 0.6056172923359865]   \n",
       "3   [-5.056486372756112, 0.3636566403690948]   \n",
       "4  [-4.8539576034868945, 0.6764536111050119]   \n",
       "\n",
       "                                        8    \\\n",
       "0  [-3.3195511241318867, 6.666652243167843]   \n",
       "1   [-2.625542432756061, 7.979014181804202]   \n",
       "2  [-2.0016676178818074, 6.428251747264541]   \n",
       "3  [-1.834612289840697, 3.3018218740372376]   \n",
       "4  [-1.7194979891165945, 3.217247483526378]   \n",
       "\n",
       "                                          9    ...  \\\n",
       "0   [5.894038319728926, -0.13849362470644613]  ...   \n",
       "1   [6.084213411223707, 0.050736486104279443]  ...   \n",
       "2   [6.3722296819184505, 0.18303076698380022]  ...   \n",
       "3   [2.911777518181313, -0.18950627990486155]  ...   \n",
       "4  [2.9227715614240943, -0.18400777751980293]  ...   \n",
       "\n",
       "                                        390  \\\n",
       "0  [10.389031062517569, 1.5248242575580084]   \n",
       "1   [9.820045568804241, 1.8697905388306129]   \n",
       "2     [9.64882211782213, 1.973062358750971]   \n",
       "3   [5.454093028683711, 0.6530340130189489]   \n",
       "4  [5.2915481868157475, 0.7305929454785594]   \n",
       "\n",
       "                                          391  \\\n",
       "0   [-1.2002740520448067, 0.5092731518638726]   \n",
       "1    [1.4623980360913844, 0.5153293418627053]   \n",
       "2     [2.395990446922511, 0.4464584900686305]   \n",
       "3  [-1.6791362668768735, 0.18489125982090143]   \n",
       "4  [-0.9451557076525465, 0.23233229971256872]   \n",
       "\n",
       "                                          392  \\\n",
       "0   [-10.535511299457662, -4.131095631735996]   \n",
       "1  [-10.619933291372666, -3.1525508644909594]   \n",
       "2   [-10.690737593629956, -2.750964556154771]   \n",
       "3   [-5.466481284290821, -2.2171972253493215]   \n",
       "4    [-5.385949938881786, -2.115911496373556]   \n",
       "\n",
       "                                          393  \\\n",
       "0   [-18.896939235154417, -4.945806145463817]   \n",
       "1   [-15.18629041193054, -5.8295536500011895]   \n",
       "2   [-14.010888280304924, -6.054184484537745]   \n",
       "3  [-11.403407215591903, -1.6377460675585367]   \n",
       "4   [-10.588910572162469, -2.129767602321985]   \n",
       "\n",
       "                                          394  \\\n",
       "0  [-22.184256348715486, -1.9589200251876364]   \n",
       "1    [-21.331025702502906, -4.46392562734884]   \n",
       "2     [-21.49614211059338, -4.60819715186608]   \n",
       "3    [-9.300110224841715, 0.5591612804484688]   \n",
       "4   [-11.214334772761257, 0.4122007691519324]   \n",
       "\n",
       "                                          395  \\\n",
       "0    [-0.2044812962373426, 1.503336589150854]   \n",
       "1  [-0.980658924236567, 0.000323666141662183]   \n",
       "2   [-4.0433481914688425, 1.2884030224101293]   \n",
       "3   [-0.9304575674455022, 1.7758436346746147]   \n",
       "4   [-0.6278739439941491, 1.3888120325728999]   \n",
       "\n",
       "                                        396  \\\n",
       "0  [1.0747428590627885, 10.724272114907427]   \n",
       "1  [1.1033292284517018, 11.141469460921915]   \n",
       "2  [1.1818524982447534, 11.202268389818784]   \n",
       "3   [0.5600581696638561, 4.948483152731639]   \n",
       "4   [0.5675734588241329, 5.078608501704137]   \n",
       "\n",
       "                                        397  \\\n",
       "0    [13.3735940647023, 1.5429493384594009]   \n",
       "1   [14.080388870204388, 0.990625450896085]   \n",
       "2  [14.342162700334297, 0.7591126138013591]   \n",
       "3    [6.361704787294284, 1.072871920838734]   \n",
       "4   [6.597650257077789, 0.9384355485611944]   \n",
       "\n",
       "                                         398  \\\n",
       "0   [11.19363673825518, -0.8486316877453378]   \n",
       "1  [11.345563197284712, -0.7964093420118897]   \n",
       "2  [8.761085355922647, -0.30987522391631195]   \n",
       "3  [6.398844794679874, -0.44728280852408636]   \n",
       "4  [5.924619637964011, -0.43206877559129453]   \n",
       "\n",
       "                                         399  \n",
       "0    [5.131548017300437, 0.9777773314587621]  \n",
       "1    [4.760598735929752, 1.6810054975536355]  \n",
       "2    [4.628031167442151, 1.9668671637303579]  \n",
       "3   [2.689249101248651, 0.22945817745416852]  \n",
       "4  [2.6134350686785672, 0.35495815433724554]  \n",
       "\n",
       "[5 rows x 400 columns]"
      ]
     },
     "execution_count": 10,
     "metadata": {},
     "output_type": "execute_result"
    }
   ],
   "source": [
    "pr_per_episode_df = pd.DataFrame(pr_per_episode)\n",
    "pr_per_episode_df.head()"
   ]
  },
  {
   "cell_type": "code",
   "execution_count": 11,
   "metadata": {},
   "outputs": [],
   "source": [
    "# Function to normalize pitch and roll angles\n",
    "def norm_pr(x, min = -90.0, max = 90.0):\n",
    "    return ((x - min) * 2) / (max - min) - 1\n",
    "\n",
    "# Function to normalize pitch and roll angles\n",
    "def denorm_pr(x, min = -90.0, max = 90.0):\n",
    "    return ((x + 1) * (max - min))/2 + min"
   ]
  },
  {
   "cell_type": "code",
   "execution_count": 12,
   "metadata": {},
   "outputs": [
    {
     "data": {
      "text/plain": [
       "array([ True])"
      ]
     },
     "execution_count": 12,
     "metadata": {},
     "output_type": "execute_result"
    }
   ],
   "source": [
    "# check if the norm and denorm functions work properly\n",
    "# compares norm and denorm values for all values within [-90, 90] interval\n",
    "a = np.arange(-90,91)\n",
    "n = norm_pr(a)\n",
    "np.unique(a == np.rint(denorm_pr(n)))"
   ]
  },
  {
   "cell_type": "code",
   "execution_count": 13,
   "metadata": {},
   "outputs": [
    {
     "data": {
      "text/html": [
       "<div>\n",
       "<style scoped>\n",
       "    .dataframe tbody tr th:only-of-type {\n",
       "        vertical-align: middle;\n",
       "    }\n",
       "\n",
       "    .dataframe tbody tr th {\n",
       "        vertical-align: top;\n",
       "    }\n",
       "\n",
       "    .dataframe thead th {\n",
       "        text-align: right;\n",
       "    }\n",
       "</style>\n",
       "<table border=\"1\" class=\"dataframe\">\n",
       "  <thead>\n",
       "    <tr style=\"text-align: right;\">\n",
       "      <th></th>\n",
       "      <th>pitch</th>\n",
       "      <th>roll</th>\n",
       "    </tr>\n",
       "  </thead>\n",
       "  <tbody>\n",
       "    <tr>\n",
       "      <th>0</th>\n",
       "      <td>0.176843</td>\n",
       "      <td>0.026205</td>\n",
       "    </tr>\n",
       "    <tr>\n",
       "      <th>1</th>\n",
       "      <td>0.158844</td>\n",
       "      <td>0.018893</td>\n",
       "    </tr>\n",
       "    <tr>\n",
       "      <th>2</th>\n",
       "      <td>0.069040</td>\n",
       "      <td>0.017904</td>\n",
       "    </tr>\n",
       "    <tr>\n",
       "      <th>3</th>\n",
       "      <td>0.013726</td>\n",
       "      <td>0.068616</td>\n",
       "    </tr>\n",
       "    <tr>\n",
       "      <th>4</th>\n",
       "      <td>0.014908</td>\n",
       "      <td>0.041061</td>\n",
       "    </tr>\n",
       "  </tbody>\n",
       "</table>\n",
       "</div>"
      ],
      "text/plain": [
       "      pitch      roll\n",
       "0  0.176843  0.026205\n",
       "1  0.158844  0.018893\n",
       "2  0.069040  0.017904\n",
       "3  0.013726  0.068616\n",
       "4  0.014908  0.041061"
      ]
     },
     "execution_count": 13,
     "metadata": {},
     "output_type": "execute_result"
    }
   ],
   "source": [
    "# normalize PR-values\n",
    "p_r_df['pitch'] = p_r_df['pitch'].apply(lambda x : norm_pr(x))\n",
    "p_r_df['roll'] = p_r_df['roll'].apply(lambda x : norm_pr(x))\n",
    "p_r_df.head()"
   ]
  },
  {
   "cell_type": "markdown",
   "metadata": {},
   "source": [
    "# Create input and output sequences"
   ]
  },
  {
   "cell_type": "code",
   "execution_count": 14,
   "metadata": {},
   "outputs": [],
   "source": [
    "# function to create sequences with one target column\n",
    "def create_sequences(input_data: pd.DataFrame, \n",
    "        input_feature_columns, \n",
    "        output_feature_columns,\n",
    "        input_sequence_length=FRAMES_IN, \n",
    "        output_sequence_length=FRAMES_OUT, \n",
    "        episode_length = FRAMES_PER_EPISODE, \n",
    "        n_episodes = N_EPISODES\n",
    "    ):\n",
    "    sequences= []\n",
    "\n",
    "    # make sequences per episode, one sequence can only hold data of one and the same episode!\n",
    "    for n in tqdm(range(n_episodes)):\n",
    "        for l in range(episode_length-output_sequence_length-input_sequence_length+1):\n",
    "\n",
    "            i = l+(n*episode_length)\n",
    "\n",
    "            # sequence = input_data.iloc[i:i+input_sequence_length][input_feature_columns]\n",
    "            sequence = input_data.iloc[i:i+input_sequence_length].transpose()\n",
    "\n",
    "            target_position = i + input_sequence_length\n",
    "            # target = input_data.iloc[target_position:target_position+output_sequence_length][output_feature_columns]\n",
    "            target = input_data.iloc[target_position:target_position+output_sequence_length].transpose()\n",
    "\n",
    "            sequences.append((sequence, target))\n",
    "\n",
    "    return sequences"
   ]
  },
  {
   "cell_type": "code",
   "execution_count": 15,
   "metadata": {},
   "outputs": [
    {
     "data": {
      "application/vnd.jupyter.widget-view+json": {
       "model_id": "7a8f1efa23d04df1818d977925a8260e",
       "version_major": 2,
       "version_minor": 0
      },
      "text/plain": [
       "  0%|          | 0/540 [00:00<?, ?it/s]"
      ]
     },
     "metadata": {},
     "output_type": "display_data"
    }
   ],
   "source": [
    "input_features = [\"pitch\", \"roll\"]\n",
    "output_features = [\"pitch\", \"roll\"]\n",
    "all_sequences = create_sequences(p_r_df, output_features, input_features)"
   ]
  },
  {
   "cell_type": "code",
   "execution_count": 16,
   "metadata": {},
   "outputs": [
    {
     "data": {
      "text/plain": [
       "(151740, (2, 60), (2, 60))"
      ]
     },
     "execution_count": 16,
     "metadata": {},
     "output_type": "execute_result"
    }
   ],
   "source": [
    "len(all_sequences), all_sequences[0][0].shape, all_sequences[0][1].shape "
   ]
  },
  {
   "cell_type": "code",
   "execution_count": 17,
   "metadata": {},
   "outputs": [
    {
     "data": {
      "text/html": [
       "<div>\n",
       "<style scoped>\n",
       "    .dataframe tbody tr th:only-of-type {\n",
       "        vertical-align: middle;\n",
       "    }\n",
       "\n",
       "    .dataframe tbody tr th {\n",
       "        vertical-align: top;\n",
       "    }\n",
       "\n",
       "    .dataframe thead th {\n",
       "        text-align: right;\n",
       "    }\n",
       "</style>\n",
       "<table border=\"1\" class=\"dataframe\">\n",
       "  <thead>\n",
       "    <tr style=\"text-align: right;\">\n",
       "      <th></th>\n",
       "      <th>0</th>\n",
       "      <th>1</th>\n",
       "      <th>2</th>\n",
       "      <th>3</th>\n",
       "      <th>4</th>\n",
       "      <th>5</th>\n",
       "      <th>6</th>\n",
       "      <th>7</th>\n",
       "      <th>8</th>\n",
       "      <th>9</th>\n",
       "      <th>...</th>\n",
       "      <th>50</th>\n",
       "      <th>51</th>\n",
       "      <th>52</th>\n",
       "      <th>53</th>\n",
       "      <th>54</th>\n",
       "      <th>55</th>\n",
       "      <th>56</th>\n",
       "      <th>57</th>\n",
       "      <th>58</th>\n",
       "      <th>59</th>\n",
       "    </tr>\n",
       "  </thead>\n",
       "  <tbody>\n",
       "    <tr>\n",
       "      <th>pitch</th>\n",
       "      <td>0.176843</td>\n",
       "      <td>0.158844</td>\n",
       "      <td>0.069040</td>\n",
       "      <td>0.013726</td>\n",
       "      <td>0.014908</td>\n",
       "      <td>-0.000724</td>\n",
       "      <td>-0.048809</td>\n",
       "      <td>-0.046492</td>\n",
       "      <td>-0.036884</td>\n",
       "      <td>0.065489</td>\n",
       "      <td>...</td>\n",
       "      <td>0.164457</td>\n",
       "      <td>0.253773</td>\n",
       "      <td>0.209255</td>\n",
       "      <td>0.126102</td>\n",
       "      <td>-0.008498</td>\n",
       "      <td>0.197257</td>\n",
       "      <td>0.015589</td>\n",
       "      <td>0.024246</td>\n",
       "      <td>0.058990</td>\n",
       "      <td>0.104660</td>\n",
       "    </tr>\n",
       "    <tr>\n",
       "      <th>roll</th>\n",
       "      <td>0.026205</td>\n",
       "      <td>0.018893</td>\n",
       "      <td>0.017904</td>\n",
       "      <td>0.068616</td>\n",
       "      <td>0.041061</td>\n",
       "      <td>0.034174</td>\n",
       "      <td>0.009696</td>\n",
       "      <td>0.003952</td>\n",
       "      <td>0.074074</td>\n",
       "      <td>-0.001539</td>\n",
       "      <td>...</td>\n",
       "      <td>0.133329</td>\n",
       "      <td>0.165900</td>\n",
       "      <td>0.179920</td>\n",
       "      <td>0.163708</td>\n",
       "      <td>0.131590</td>\n",
       "      <td>0.006408</td>\n",
       "      <td>-0.022288</td>\n",
       "      <td>-0.008416</td>\n",
       "      <td>0.044812</td>\n",
       "      <td>0.018803</td>\n",
       "    </tr>\n",
       "  </tbody>\n",
       "</table>\n",
       "<p>2 rows × 60 columns</p>\n",
       "</div>"
      ],
      "text/plain": [
       "             0         1         2         3         4         5         6   \\\n",
       "pitch  0.176843  0.158844  0.069040  0.013726  0.014908 -0.000724 -0.048809   \n",
       "roll   0.026205  0.018893  0.017904  0.068616  0.041061  0.034174  0.009696   \n",
       "\n",
       "             7         8         9   ...        50        51        52  \\\n",
       "pitch -0.046492 -0.036884  0.065489  ...  0.164457  0.253773  0.209255   \n",
       "roll   0.003952  0.074074 -0.001539  ...  0.133329  0.165900  0.179920   \n",
       "\n",
       "             53        54        55        56        57        58        59  \n",
       "pitch  0.126102 -0.008498  0.197257  0.015589  0.024246  0.058990  0.104660  \n",
       "roll   0.163708  0.131590  0.006408 -0.022288 -0.008416  0.044812  0.018803  \n",
       "\n",
       "[2 rows x 60 columns]"
      ]
     },
     "execution_count": 17,
     "metadata": {},
     "output_type": "execute_result"
    }
   ],
   "source": [
    "all_sequences[0][0]"
   ]
  },
  {
   "cell_type": "code",
   "execution_count": 18,
   "metadata": {},
   "outputs": [
    {
     "name": "stdout",
     "output_type": "stream",
     "text": [
      "True\n",
      "Training size: 121392 | Test size: 30348\n",
      "[29184, 6556, 72097, 64196, 58513, 36579, 26868, 142964, 22790, 110604]\n",
      "[1, 131073, 3, 131075, 14, 131088, 131089, 18, 21, 26]\n"
     ]
    }
   ],
   "source": [
    "# Grab random subsets from all sequences for training and test data (without overlapping data)\n",
    "data_size = len(all_sequences)\n",
    "data_indices = list(np.arange(0, data_size, 1))\n",
    "\n",
    "# train indices are random sample from all data indices\n",
    "random.seed(42)\n",
    "train_size = int(TRAIN_SIZE * data_size)\n",
    "train_indices = random.sample(data_indices, train_size)\n",
    "\n",
    "# test indices are the difference of all data indices and train indices\n",
    "test_indices = list(set(data_indices) - set(train_indices))\n",
    "\n",
    "print((len(train_indices) + len(test_indices)) <= data_size)\n",
    "print(\"Training size:\", len(train_indices),\"| Test size:\", len(test_indices))\n",
    "print(train_indices[:10])\n",
    "print(test_indices[:10])"
   ]
  },
  {
   "cell_type": "code",
   "execution_count": 19,
   "metadata": {},
   "outputs": [
    {
     "data": {
      "application/vnd.jupyter.widget-view+json": {
       "model_id": "3708c129112241d2b7c79f8f0b03fff6",
       "version_major": 2,
       "version_minor": 0
      },
      "text/plain": [
       "  0%|          | 0/121392 [00:00<?, ?it/s]"
      ]
     },
     "metadata": {},
     "output_type": "display_data"
    },
    {
     "data": {
      "application/vnd.jupyter.widget-view+json": {
       "model_id": "f20e1bbd28b844e2a9c04008db648d2c",
       "version_major": 2,
       "version_minor": 0
      },
      "text/plain": [
       "  0%|          | 0/30348 [00:00<?, ?it/s]"
      ]
     },
     "metadata": {},
     "output_type": "display_data"
    },
    {
     "name": "stdout",
     "output_type": "stream",
     "text": [
      "True\n",
      "121392 (2, 60) (2, 60)\n",
      "30348 (2, 60) (2, 60)\n"
     ]
    }
   ],
   "source": [
    "train_sequences = []\n",
    "test_sequences = []\n",
    "\n",
    "for idx in tqdm(train_indices):\n",
    "    seq = all_sequences[idx][0]\n",
    "    label = all_sequences[idx][1]\n",
    "    train_sequences.append((seq,label))\n",
    "\n",
    "for idx in tqdm(test_indices):\n",
    "    seq = all_sequences[idx][0]\n",
    "    label = all_sequences[idx][1]\n",
    "    test_sequences.append((seq,label))\n",
    "\n",
    "print((len(train_sequences) + len(test_sequences)) <= len(all_sequences))\n",
    "print(len(train_sequences), train_sequences[0][0].shape, train_sequences[0][1].shape) \n",
    "print(len(test_sequences), test_sequences[0][0].shape, test_sequences[0][1].shape)"
   ]
  },
  {
   "cell_type": "markdown",
   "metadata": {},
   "source": [
    "## Pytorch Dataset and DataLoader"
   ]
  },
  {
   "cell_type": "code",
   "execution_count": 20,
   "metadata": {},
   "outputs": [],
   "source": [
    "class PRDataset(Dataset):\n",
    "    def __init__(self, sequences):\n",
    "        self.sequences = sequences\n",
    "\n",
    "    def __len__(self):\n",
    "        return len(self.sequences)\n",
    "\n",
    "    def __getitem__(self, index):\n",
    "        sequence, labels = self.sequences[index]\n",
    "\n",
    "        return dict(\n",
    "            sequence = torch.Tensor(sequence.to_numpy()),\n",
    "            labels = torch.Tensor(labels.to_numpy())\n",
    "        )"
   ]
  },
  {
   "cell_type": "code",
   "execution_count": 21,
   "metadata": {},
   "outputs": [],
   "source": [
    "class PRDataModule(pl.LightningDataModule):\n",
    "    def __init__(self, train_sequences, test_sequences, batchsize = BATCH_SIZE):\n",
    "        super().__init__()\n",
    "        self.train_sequences = train_sequences\n",
    "        self.test_sequences = test_sequences\n",
    "        self.batchsize = batchsize\n",
    "\n",
    "    # turns normal list object into Dataset object\n",
    "    def setup(self):\n",
    "        self.train_dataset = PRDataset(self.train_sequences)\n",
    "        self.test_dataset = PRDataset(self.test_sequences)\n",
    "\n",
    "    def train_dataloader(self):\n",
    "        return DataLoader(\n",
    "            self.train_dataset,\n",
    "            batch_size = self.batchsize,\n",
    "            shuffle = False,\n",
    "            num_workers=N_WORKERS,\n",
    "        )\n",
    "\n",
    "    def val_dataloader(self):\n",
    "        return DataLoader(\n",
    "            self.test_dataset,\n",
    "            batch_size = self.batchsize,\n",
    "            shuffle = False,\n",
    "            num_workers=N_WORKERS,\n",
    "        )\n",
    "\n",
    "    def test_dataloader(self):\n",
    "        return DataLoader(\n",
    "            self.test_dataset,\n",
    "            batch_size = 1,\n",
    "            shuffle = False,\n",
    "            num_workers=N_WORKERS,\n",
    "        )"
   ]
  },
  {
   "cell_type": "code",
   "execution_count": 22,
   "metadata": {},
   "outputs": [],
   "source": [
    "# setup datamodule\n",
    "data_module = PRDataModule(train_sequences, test_sequences, BATCH_SIZE)\n",
    "data_module.setup()"
   ]
  },
  {
   "cell_type": "code",
   "execution_count": 23,
   "metadata": {},
   "outputs": [
    {
     "name": "stdout",
     "output_type": "stream",
     "text": [
      "torch.Size([64, 2, 60]) torch.Size([64, 2, 60])\n"
     ]
    }
   ],
   "source": [
    "# check if shape of train dataloader object is correct\n",
    "for batch in data_module.train_dataloader():\n",
    "    x_train = batch[\"sequence\"]\n",
    "    y_train = batch[\"labels\"]\n",
    "    break\n",
    "\n",
    "print(x_train.shape, y_train.shape)"
   ]
  },
  {
   "cell_type": "code",
   "execution_count": 24,
   "metadata": {},
   "outputs": [
    {
     "name": "stdout",
     "output_type": "stream",
     "text": [
      "torch.Size([64, 2, 60]) torch.Size([64, 2, 60])\n"
     ]
    }
   ],
   "source": [
    "# check if shape of val dataloader object is correct\n",
    "for batch in data_module.val_dataloader():\n",
    "    x_val = batch[\"sequence\"]\n",
    "    y_val = batch[\"labels\"]\n",
    "    break\n",
    "\n",
    "print(x_val.shape, y_val.shape)"
   ]
  },
  {
   "cell_type": "code",
   "execution_count": 25,
   "metadata": {},
   "outputs": [
    {
     "name": "stdout",
     "output_type": "stream",
     "text": [
      "torch.Size([1, 2, 60]) torch.Size([1, 2, 60])\n"
     ]
    }
   ],
   "source": [
    "# check if shape of test dataloader object is correct\n",
    "for batch in data_module.test_dataloader():\n",
    "    x_test = batch[\"sequence\"]\n",
    "    y_test = batch[\"labels\"]\n",
    "    break\n",
    "\n",
    "print(x_test.shape, y_test.shape)"
   ]
  },
  {
   "cell_type": "markdown",
   "metadata": {},
   "source": [
    "## LSTM Model"
   ]
  },
  {
   "cell_type": "code",
   "execution_count": 26,
   "metadata": {},
   "outputs": [],
   "source": [
    "# ENCODER\n",
    "class Encoder(nn.Module):\n",
    "    def __init__(self, input_size, hidden_size=300, num_layers=1):\n",
    "        super(Encoder, self).__init__()\n",
    "\n",
    "        self.hidden_size = hidden_size\n",
    "        self.num_layers = num_layers\n",
    "        self.input_size = input_size\n",
    "\n",
    "        self.encoder_lstm = nn.LSTM(\n",
    "            input_size=input_size, \n",
    "            hidden_size=hidden_size, \n",
    "            num_layers=num_layers,\n",
    "            batch_first=True,\n",
    "        )\n",
    "\n",
    "    def forward(self, input_seq):\n",
    "        ouputs, hidden = self.encoder_lstm(input_seq)\n",
    "        \n",
    "        return ouputs, hidden"
   ]
  },
  {
   "cell_type": "code",
   "execution_count": 27,
   "metadata": {},
   "outputs": [],
   "source": [
    "# DECODER\n",
    "class Decoder(nn.Module):\n",
    "    def __init__(self, output_size, hidden_size=300, num_layers = 1):\n",
    "        super(Decoder, self).__init__()\n",
    "        self.output_size = output_size\n",
    "        self.hidden_size = hidden_size\n",
    "        self.num_layers = num_layers\n",
    "\n",
    "        self.decoder_lstm = nn.LSTM(\n",
    "            input_size = hidden_size, \n",
    "            hidden_size = hidden_size,\n",
    "            num_layers = num_layers, \n",
    "            batch_first = True\n",
    "        )\n",
    "\n",
    "        self.decoder_fc_1 = nn.Linear(hidden_size, int(hidden_size/2))\n",
    "        self.decoder_fc_2 = nn.Linear(int(hidden_size/2), output_size)\n",
    "\n",
    "        #self.linear = nn.Linear(hidden_size, output_size)           \n",
    "\n",
    "    def forward(self, x_input, hidden):\n",
    "\n",
    "        outputs, hidden = self.decoder_lstm(x_input, hidden)\n",
    "        \n",
    "        outputs = self.decoder_fc_1(outputs)\n",
    "        outputs = self.decoder_fc_2(outputs)\n",
    "\n",
    "        return outputs, hidden"
   ]
  },
  {
   "cell_type": "code",
   "execution_count": 28,
   "metadata": {},
   "outputs": [],
   "source": [
    "# Wrapper class for encoder and decoder\n",
    "class LSTM_seq2seq(nn.Module):    \n",
    "    def __init__(self, input_size, output_size, hidden_size = 300):\n",
    "        super(LSTM_seq2seq, self).__init__()\n",
    "\n",
    "        self.input_size = input_size\n",
    "        self.output_size = output_size\n",
    "        self.hidden_size = hidden_size\n",
    "\n",
    "        self.encoder = Encoder(input_size = input_size, hidden_size = hidden_size)\n",
    "        self.decoder = Decoder(output_size = output_size, hidden_size = hidden_size)\n",
    "\n",
    "    def forward(self, input_tensor):\n",
    "        encoder_outputs, encoder_hidden  = self.encoder.forward(input_tensor)\n",
    "\n",
    "        decoder_outputs, decoder_hidden = self.decoder.forward(encoder_outputs, encoder_hidden)\n",
    "\n",
    "        return decoder_outputs\n",
    "                "
   ]
  },
  {
   "cell_type": "markdown",
   "metadata": {},
   "source": [
    "# Training"
   ]
  },
  {
   "cell_type": "code",
   "execution_count": 29,
   "metadata": {},
   "outputs": [
    {
     "name": "stdout",
     "output_type": "stream",
     "text": [
      "torch.Size([64, 2, 60]) torch.Size([64, 2, 60])\n"
     ]
    }
   ],
   "source": [
    "# get the first batch out of the dataloader for testing purposes\n",
    "for batch in data_module.train_dataloader():\n",
    "    x_train = batch[\"sequence\"]\n",
    "    y_train = batch[\"labels\"]\n",
    "    break\n",
    "\n",
    "print(x_train.shape, y_train.shape)"
   ]
  },
  {
   "cell_type": "code",
   "execution_count": 30,
   "metadata": {},
   "outputs": [
    {
     "data": {
      "text/plain": [
       "torch.Size([64, 2, 60])"
      ]
     },
     "execution_count": 30,
     "metadata": {},
     "output_type": "execute_result"
    }
   ],
   "source": [
    "lstm_seq2seq = LSTM_seq2seq(input_size=FRAMES_IN, output_size=FRAMES_OUT)\n",
    "\n",
    "outputs = lstm_seq2seq.forward(x_train)\n",
    "# output should be a sequence of pitch and roll (2 features)\n",
    "outputs.shape"
   ]
  },
  {
   "cell_type": "markdown",
   "metadata": {},
   "source": [
    "### Training loop"
   ]
  },
  {
   "cell_type": "code",
   "execution_count": 36,
   "metadata": {},
   "outputs": [
    {
     "data": {
      "application/vnd.jupyter.widget-view+json": {
       "model_id": "8a78dad273944e4591eedae8e17159bd",
       "version_major": 2,
       "version_minor": 0
      },
      "text/plain": [
       "  0%|          | 0/50 [00:00<?, ?it/s]"
      ]
     },
     "metadata": {},
     "output_type": "display_data"
    },
    {
     "name": "stdout",
     "output_type": "stream",
     "text": [
      "EPOCH 0 training loss: 0.005536 | validation loss: 0.00923\n",
      "EPOCH 1 training loss: 0.004113 | validation loss: 0.005155\n",
      "EPOCH 2 training loss: 0.00237 | validation loss: 0.003017\n",
      "EPOCH 3 training loss: 0.001737 | validation loss: 0.001981\n",
      "EPOCH 4 training loss: 0.001473 | validation loss: 0.001622\n",
      "EPOCH 5 training loss: 0.001311 | validation loss: 0.001431\n",
      "EPOCH 6 training loss: 0.001192 | validation loss: 0.001299\n",
      "EPOCH 7 training loss: 0.001103 | validation loss: 0.001202\n",
      "EPOCH 8 training loss: 0.001034 | validation loss: 0.001129\n",
      "EPOCH 9 training loss: 0.00098 | validation loss: 0.001071\n",
      "EPOCH 10 training loss: 0.000937 | validation loss: 0.001026\n",
      "EPOCH 11 training loss: 0.000901 | validation loss: 0.00099\n",
      "EPOCH 12 training loss: 0.000872 | validation loss: 0.000961\n",
      "EPOCH 13 training loss: 0.000845 | validation loss: 0.000936\n",
      "EPOCH 14 training loss: 0.000822 | validation loss: 0.000915\n",
      "EPOCH 15 training loss: 0.000801 | validation loss: 0.000896\n",
      "EPOCH 16 training loss: 0.000782 | validation loss: 0.000877\n",
      "EPOCH 17 training loss: 0.000764 | validation loss: 0.000861\n",
      "EPOCH 18 training loss: 0.000749 | validation loss: 0.000847\n",
      "EPOCH 19 training loss: 0.000734 | validation loss: 0.000833\n",
      "EPOCH 20 training loss: 0.00072 | validation loss: 0.000821\n",
      "EPOCH 21 training loss: 0.000707 | validation loss: 0.000809\n",
      "EPOCH 22 training loss: 0.000695 | validation loss: 0.000799\n",
      "EPOCH 23 training loss: 0.000684 | validation loss: 0.000787\n",
      "EPOCH 24 training loss: 0.000674 | validation loss: 0.000779\n",
      "EPOCH 25 training loss: 0.000664 | validation loss: 0.000768\n",
      "EPOCH 26 training loss: 0.000656 | validation loss: 0.000762\n",
      "EPOCH 27 training loss: 0.000648 | validation loss: 0.000755\n",
      "EPOCH 28 training loss: 0.00064 | validation loss: 0.000749\n",
      "EPOCH 29 training loss: 0.000634 | validation loss: 0.000743\n",
      "EPOCH 30 training loss: 0.000628 | validation loss: 0.000738\n",
      "EPOCH 31 training loss: 0.000622 | validation loss: 0.000734\n",
      "EPOCH 32 training loss: 0.000616 | validation loss: 0.000729\n",
      "EPOCH 33 training loss: 0.000611 | validation loss: 0.000724\n",
      "EPOCH 34 training loss: 0.000606 | validation loss: 0.000721\n",
      "EPOCH 35 training loss: 0.000601 | validation loss: 0.000717\n",
      "EPOCH 36 training loss: 0.000596 | validation loss: 0.000713\n",
      "EPOCH 37 training loss: 0.000592 | validation loss: 0.00071\n",
      "EPOCH 38 training loss: 0.000587 | validation loss: 0.000707\n",
      "EPOCH 39 training loss: 0.000583 | validation loss: 0.000704\n",
      "EPOCH 40 training loss: 0.000579 | validation loss: 0.0007\n",
      "EPOCH 41 training loss: 0.000575 | validation loss: 0.000697\n",
      "EPOCH 42 training loss: 0.000571 | validation loss: 0.000694\n",
      "EPOCH 43 training loss: 0.000568 | validation loss: 0.000691\n",
      "EPOCH 44 training loss: 0.000564 | validation loss: 0.000689\n",
      "EPOCH 45 training loss: 0.000561 | validation loss: 0.000686\n",
      "EPOCH 46 training loss: 0.000558 | validation loss: 0.000685\n",
      "EPOCH 47 training loss: 0.000554 | validation loss: 0.000682\n",
      "EPOCH 48 training loss: 0.000552 | validation loss: 0.000681\n",
      "EPOCH 49 training loss: 0.000548 | validation loss: 0.000678\n"
     ]
    }
   ],
   "source": [
    "model = LSTM_seq2seq(input_size=FRAMES_IN, output_size=FRAMES_OUT)\n",
    "\n",
    "if CUDA:\n",
    "    model.cuda()\n",
    "\n",
    "criterion = nn.MSELoss()\n",
    "optimizer = optim.Adam(model.parameters(), lr=LEARNING_RATE)\n",
    "\n",
    "# TRACKERS\n",
    "train_losses_epoch = []\n",
    "val_losses_epoch = []\n",
    "\n",
    "n_epochs = NUM_EPOCHS\n",
    "\n",
    "for epoch in tqdm(range(NUM_EPOCHS)):\n",
    "\n",
    "    # validation loss with initial weights\n",
    "    with torch.no_grad():\n",
    "        i = 0\n",
    "        total_batch_loss = 0\n",
    "        for batch in data_module.val_dataloader():\n",
    "            x_val = batch[\"sequence\"]\n",
    "            y_val = batch[\"labels\"]\n",
    "            i += 1\n",
    "\n",
    "            if CUDA: \n",
    "                x_val = batch[\"sequence\"].cuda()\n",
    "                y_val = batch[\"labels\"].cuda()\n",
    "            \n",
    "            # Predict on forward pass \n",
    "            y_pred = model.forward(x_val)\n",
    "\n",
    "            loss = criterion(y_pred, y_val)\n",
    "            total_batch_loss += loss.item()\n",
    "\n",
    "        mean_val_loss = total_batch_loss/i\n",
    "        val_losses_epoch.append(mean_val_loss)\n",
    "        val_loss = round(mean_val_loss, 6)\n",
    "\n",
    "\n",
    "    i = 0 \n",
    "    total_batch_loss = 0\n",
    "\n",
    "    for batch in data_module.train_dataloader():\n",
    "        print(f\"batch {i}\", end='\\r')\n",
    "        i += 1\n",
    "        x_train = batch[\"sequence\"]\n",
    "        y_train = batch[\"labels\"]\n",
    "\n",
    "        if CUDA: \n",
    "            x_train = batch[\"sequence\"].cuda()\n",
    "            y_train = batch[\"labels\"].cuda()\n",
    "        \n",
    "        # Predict on forward pass \n",
    "        y_pred = model.forward(x_train)\n",
    "\n",
    "        # Calculate loss/error\n",
    "        loss = criterion(y_pred, y_train)\n",
    "        total_batch_loss += loss.item()\n",
    "\n",
    "        # Backpropagation\n",
    "        optimizer.zero_grad()\n",
    "        loss.backward()\n",
    "        optimizer.step()\n",
    "    \n",
    "    mean_train_loss = total_batch_loss/i\n",
    "    train_losses_epoch.append(mean_train_loss)\n",
    "    train_loss = round(mean_train_loss, 6)\n",
    "\n",
    "    print(f\"EPOCH {epoch} training loss: {train_loss} | validation loss: {val_loss}\")"
   ]
  },
  {
   "cell_type": "markdown",
   "metadata": {},
   "source": [
    "### Save model state and training losses"
   ]
  },
  {
   "cell_type": "code",
   "execution_count": 37,
   "metadata": {},
   "outputs": [],
   "source": [
    "# save train losses per epoch\n",
    "filename = f'{TRAIN_RESULT_FOLDER}/train_loss_{FRAMES_IN}in_{FRAMES_OUT}out_{NUM_EPOCHS}epochs'\n",
    "with open(filename, 'wb') as f: \n",
    "    pickle.dump(train_losses_epoch, f)\n",
    "# save val losses per epoch\n",
    "filename = f'{TRAIN_RESULT_FOLDER}/val_loss_{FRAMES_IN}in_{FRAMES_OUT}out_{NUM_EPOCHS}epochs'\n",
    "with open(filename, 'wb') as f: \n",
    "    pickle.dump(val_losses_epoch, f)"
   ]
  },
  {
   "cell_type": "code",
   "execution_count": 38,
   "metadata": {},
   "outputs": [],
   "source": [
    "filename = f'{MODEL_STATE_FOLDER}/{MODEL_NAME}_{FRAMES_IN}in_{FRAMES_OUT}out_epochs{NUM_EPOCHS}'\n",
    "torch.save(model.state_dict(), filename)"
   ]
  },
  {
   "cell_type": "markdown",
   "metadata": {},
   "source": [
    "### Load model state"
   ]
  },
  {
   "cell_type": "code",
   "execution_count": 31,
   "metadata": {},
   "outputs": [
    {
     "data": {
      "text/plain": [
       "LSTM_seq2seq(\n",
       "  (encoder): Encoder(\n",
       "    (encoder_lstm): LSTM(60, 300, batch_first=True)\n",
       "  )\n",
       "  (decoder): Decoder(\n",
       "    (decoder_lstm): LSTM(300, 300, batch_first=True)\n",
       "    (decoder_fc_1): Linear(in_features=300, out_features=150, bias=True)\n",
       "    (decoder_fc_2): Linear(in_features=150, out_features=60, bias=True)\n",
       "  )\n",
       ")"
      ]
     },
     "execution_count": 31,
     "metadata": {},
     "output_type": "execute_result"
    }
   ],
   "source": [
    "filename = f'{MODEL_STATE_FOLDER}/{MODEL_NAME}_{FRAMES_IN}in_{FRAMES_OUT}out_epochs{NUM_EPOCHS}'\n",
    "loaded_model = LSTM_seq2seq(input_size=FRAMES_IN, output_size=FRAMES_OUT)\n",
    "loaded_model.load_state_dict(torch.load(filename))\n",
    "if CUDA: \n",
    "    loaded_model = loaded_model.cuda()\n",
    "\n",
    "\n",
    "loaded_model.eval()"
   ]
  },
  {
   "cell_type": "markdown",
   "metadata": {},
   "source": [
    "## Training results"
   ]
  },
  {
   "cell_type": "code",
   "execution_count": 40,
   "metadata": {},
   "outputs": [
    {
     "data": {
      "image/png": "[encoded data removed]",
      "text/plain": [
       "<Figure size 1080x504 with 1 Axes>"
      ]
     },
     "metadata": {
      "needs_background": "light"
     },
     "output_type": "display_data"
    }
   ],
   "source": [
    "plt.figure(figsize=(15, 7))\n",
    "plt.plot(range(NUM_EPOCHS), train_losses_epoch, label='training loss')\n",
    "plt.plot(range(NUM_EPOCHS), val_losses_epoch, label='validation loss')\n",
    "plt.xlabel(\"epochs\")\n",
    "plt.ylabel(\"MSE loss\")\n",
    "plt.title(\"Training and validation loss per epoch\")\n",
    "plt.legend()\n",
    "if SAVE_RESULTS:\n",
    "    plt.savefig(f'{RESULT_FOLDER}/train-test-loss_{FRAMES_IN}in_{FRAMES_OUT}out_epochs{NUM_EPOCHS}')\n",
    "plt.show()"
   ]
  },
  {
   "cell_type": "markdown",
   "metadata": {},
   "source": [
    "# Testing"
   ]
  },
  {
   "cell_type": "code",
   "execution_count": 33,
   "metadata": {},
   "outputs": [
    {
     "name": "stdout",
     "output_type": "stream",
     "text": [
      "torch.Size([1, 2, 60]) torch.Size([1, 2, 60])\n"
     ]
    }
   ],
   "source": [
    "# get first I/O-sequence of test dataset for visualizing a prediction\n",
    "for batch in data_module.test_dataloader():\n",
    "    x_test = batch[\"sequence\"]\n",
    "    y_test = batch[\"labels\"]\n",
    "    break\n",
    "\n",
    "if CUDA:\n",
    "    x_test = x_test.cuda()\n",
    "    y_test = y_test.cuda()\n",
    "\n",
    "# batch size = 1 for testing dataset\n",
    "print(x_test.shape, y_test.shape)"
   ]
  },
  {
   "cell_type": "code",
   "execution_count": 38,
   "metadata": {},
   "outputs": [
    {
     "name": "stdout",
     "output_type": "stream",
     "text": [
      "predicted pitch: [-0.012, -0.0975, -0.0592, 0.0727, 0.1336, 0.1147, 0.0361, -0.0101, -0.015, -0.0423, -0.0726, -0.0704, -0.0142, -0.033, -0.0963, -0.1551, -0.116, 0.0217, 0.1308, 0.1174, 0.0513, 0.0188, -0.0486, -0.0942, -0.1263, -0.1137, -0.0741, -0.0139, 0.0447, 0.003, -0.0706, -0.1272, -0.1434, -0.1646, -0.1777, -0.1781, -0.2293, -0.2854, -0.2349, -0.0811, 0.0676, 0.0942, 0.0484, -0.0246, -0.0423, 0.0475, 0.1246, 0.084, -0.0096, 0.0087, 0.0935, 0.1048, 0.022, -0.0119, -0.0722, -0.1213, -0.1324, -0.0805, 0.0034, 0.0771]\n",
      "real pitch:\t [0.0331, -0.1455, 0.0176, 0.0285, 0.1294, 0.1163, 0.0226, 0.0171, -0.066, 0.0246, -0.1826, 0.0472, -0.0261, -0.0216, -0.0763, -0.1334, -0.1328, 0.0595, 0.1207, 0.0719, 0.0458, 0.0467, -0.0678, -0.1164, -0.1001, -0.1657, -0.0252, -0.0029, 0.0356, 0.0671, -0.1383, -0.0755, -0.1706, -0.2211, -0.1376, -0.1707, -0.2143, -0.3415, -0.2161, 0.0278, -0.0169, 0.0968, 0.1484, -0.1321, 0.0199, 0.0271, 0.1534, 0.057, -0.081, 0.0942, 0.0339, 0.1032, 0.041, -0.0571, -0.0585, -0.1002, -0.1518, -0.0511, -0.003, 0.1089]\n",
      "loss: 0.001554\n"
     ]
    },
    {
     "data": {
      "text/plain": [
       "(torch.Size([2, 60]), torch.Size([2, 60]), torch.Size([2, 60]))"
      ]
     },
     "execution_count": 38,
     "metadata": {},
     "output_type": "execute_result"
    }
   ],
   "source": [
    "criterion = nn.MSELoss()\n",
    "\n",
    "# make one prediction for visualization\n",
    "with torch.no_grad():\n",
    "    y_pred = loaded_model(x_test)\n",
    "    loss = criterion(y_pred, y_test)\n",
    "\n",
    "    # clean up tensor and round results to visually compare predicted sequence\n",
    "    a = y_pred.squeeze(0)[0].tolist()\n",
    "    a = [round(num, 4) for num in a]\n",
    "\n",
    "    b = y_test.squeeze(0)[0].tolist()\n",
    "    b = [round(num, 4) for num in b]\n",
    "\n",
    "    print(f'predicted pitch: {a}\\nreal pitch:\\t {b}')\n",
    "    print(\"loss:\", round(loss.item(), 6))\n",
    "\n",
    "# squeeze out batch size and convert into cpu format for plotting\n",
    "x_test.squeeze(0).shape\n",
    "input_sequence = x_test.squeeze(0).cpu()\n",
    "output_sequence = y_test.squeeze(0).cpu()\n",
    "predicted_sequence = y_pred.squeeze(0).cpu()\n",
    "input_sequence.shape, output_sequence.shape, predicted_sequence.shape"
   ]
  },
  {
   "cell_type": "markdown",
   "metadata": {},
   "source": [
    "### Prediction vs. real on first test I/O-sequence"
   ]
  },
  {
   "cell_type": "code",
   "execution_count": 39,
   "metadata": {},
   "outputs": [
    {
     "data": {
      "image/png": "[encoded data removed]",
      "text/plain": [
       "<Figure size 864x432 with 1 Axes>"
      ]
     },
     "metadata": {
      "needs_background": "light"
     },
     "output_type": "display_data"
    }
   ],
   "source": [
    "frames = np.arange(0, FRAMES_IN+FRAMES_OUT)\n",
    "fig, ax = plt.subplots(figsize=(12, 6))\n",
    "ax.plot(frames, torch.cat((input_sequence[0].apply_(denorm_pr), output_sequence[0].apply_(denorm_pr))), label=\"real\")\n",
    "ax.plot(frames[FRAMES_IN:], predicted_sequence[0].apply_(denorm_pr), color=\"red\", label='predicted')\n",
    "plt.axvline(x=FRAMES_IN, color='grey', linestyle='dotted')\n",
    "ax.set_xlabel('frames')\n",
    "ax.set_ylabel('pitch (°)')\n",
    "ax.set_title(f'{FRAMES_IN} to {FRAMES_OUT} prediction results')\n",
    "plt.legend()\n",
    "# plt.savefig(f'{RESULT_FOLDER}/1ep_pitch-prediction_{FRAMES_IN}in_{FRAMES_OUT}out_epochs{NUM_EPOCHS}')\n",
    "plt.show()"
   ]
  },
  {
   "cell_type": "code",
   "execution_count": 40,
   "metadata": {},
   "outputs": [
    {
     "data": {
      "image/png": "[encoded data removed]",
      "text/plain": [
       "<Figure size 864x432 with 1 Axes>"
      ]
     },
     "metadata": {
      "needs_background": "light"
     },
     "output_type": "display_data"
    }
   ],
   "source": [
    "frames = np.arange(0, FRAMES_IN+FRAMES_OUT)\n",
    "fig, ax = plt.subplots(figsize=(12, 6))\n",
    "ax.plot(frames, torch.cat((input_sequence[1].apply_(denorm_pr), output_sequence[1].apply_(denorm_pr))), label=\"real\")\n",
    "ax.plot(frames[FRAMES_IN:], predicted_sequence[1].apply_(denorm_pr), color=\"red\", label='predicted')\n",
    "plt.axvline(x=FRAMES_IN, color='grey', linestyle='dotted')\n",
    "ax.set_xlabel('frames')\n",
    "ax.set_ylabel('roll (°)')\n",
    "ax.set_title(f'{FRAMES_IN} to {FRAMES_OUT} prediction results')\n",
    "plt.legend()\n",
    "# plt.savefig(f'{RESULT_FOLDER}/1ep_roll-prediction_{FRAMES_IN}in_{FRAMES_OUT}out_epochs{NUM_EPOCHS}')\n",
    "plt.show()"
   ]
  },
  {
   "cell_type": "markdown",
   "metadata": {},
   "source": [
    "### Inference time"
   ]
  },
  {
   "cell_type": "code",
   "execution_count": 32,
   "metadata": {},
   "outputs": [],
   "source": [
    "current = os.path.dirname(os.path.realpath(''))\n",
    "parent = os.path.dirname(current)\n",
    "sys.path.append(parent)  "
   ]
  },
  {
   "cell_type": "code",
   "execution_count": 34,
   "metadata": {},
   "outputs": [
    {
     "name": "stdout",
     "output_type": "stream",
     "text": [
      "total execution time for 10.000 predictions: 1551.7994148656726\n",
      "Inference time for 10.000 predictions:\t 0.15517994148656725\n",
      "Total trainable parameters:\t 1211010\n"
     ]
    }
   ],
   "source": [
    "# del sys.modules[\"notebooks.data_loaders.utils\"]\n",
    "from notebooks.data_loaders.utils import Utilities\n",
    "\n",
    "total, inference = Utilities.inference_time(loaded_model, x_test, repetitions=10000)\n",
    "print(f\"total execution time for 10.000 predictions: {np.sum(total)}\")\n",
    "print(f\"Inference time for 10.000 predictions:\\t {inference}\")\n",
    "\n",
    "sum = 0\n",
    "for p in loaded_model.parameters():\n",
    "    sum += p.numel()\n",
    "\n",
    "print(f\"Total trainable parameters:\\t {sum}\")"
   ]
  },
  {
   "cell_type": "code",
   "execution_count": 37,
   "metadata": {},
   "outputs": [
    {
     "data": {
      "image/png": "[encoded data removed]",
      "text/plain": [
       "<Figure size 864x432 with 1 Axes>"
      ]
     },
     "metadata": {
      "needs_background": "light"
     },
     "output_type": "display_data"
    }
   ],
   "source": [
    "plt.figure(figsize=(12,6))\n",
    "plt.plot(total)\n",
    "plt.ylabel(\"time (s)\")\n",
    "plt.xlabel(\"number of predictions\")\n",
    "plt.title(\"Inference time for encoder-decoder LSTM\")\n",
    "plt.savefig(f'{RESULT_FOLDER}/inference_{FRAMES_IN}in_{FRAMES_OUT}out_epochs{NUM_EPOCHS}',  bbox_inches='tight')\n",
    "plt.show()"
   ]
  },
  {
   "cell_type": "markdown",
   "metadata": {},
   "source": [
    "### Full test loop"
   ]
  },
  {
   "cell_type": "code",
   "execution_count": 53,
   "metadata": {},
   "outputs": [
    {
     "data": {
      "application/vnd.jupyter.widget-view+json": {
       "model_id": "58add42d6a3a4ebf9ad4f03fa8349eed",
       "version_major": 2,
       "version_minor": 0
      },
      "text/plain": [
       "  0%|          | 0/30348 [00:00<?, ?it/s]"
      ]
     },
     "metadata": {},
     "output_type": "display_data"
    }
   ],
   "source": [
    "predictions = []\n",
    "labels = []\n",
    "\n",
    "with torch.no_grad():\n",
    "    for batch in tqdm(data_module.test_dataloader()):\n",
    "        x_test = batch[\"sequence\"]\n",
    "        y_test = batch[\"labels\"]\n",
    "\n",
    "        if CUDA:\n",
    "            x_test = x_test.cuda()\n",
    "\n",
    "        output = loaded_model(x_test)\n",
    "\n",
    "        # squeeze out batch size which is = 1 for test dataset\n",
    "        predictions.append(output.cpu().squeeze(0))\n",
    "        labels.append(y_test.squeeze(0))"
   ]
  },
  {
   "cell_type": "code",
   "execution_count": 54,
   "metadata": {},
   "outputs": [
    {
     "data": {
      "text/plain": [
       "(torch.Size([60]), torch.Size([60]), torch.Size([60]), torch.Size([60]))"
      ]
     },
     "execution_count": 54,
     "metadata": {},
     "output_type": "execute_result"
    }
   ],
   "source": [
    "# Predictions[0] = tensor object\n",
    "# Predictions[0][0] = pitch sequence\n",
    "# Predictions[0][1] = roll sequence\n",
    "\n",
    "pitch_predictions = []\n",
    "roll_predictions = []\n",
    "\n",
    "pitch_label = []\n",
    "roll_label = []\n",
    "\n",
    "for i in range(len(predictions)):\n",
    "    pitch_predictions.append(predictions[i][0])\n",
    "    roll_predictions.append(predictions[i][1])\n",
    "    pitch_label.append(labels[i][0])\n",
    "    roll_label.append(labels[i][1])\n",
    "\n",
    "pitch_predictions[0].shape, roll_predictions[0].shape, pitch_label[0].shape, roll_label[0].shape"
   ]
  },
  {
   "cell_type": "markdown",
   "metadata": {},
   "source": [
    "### Average loss-per-frame over all datapoints"
   ]
  },
  {
   "cell_type": "code",
   "execution_count": 55,
   "metadata": {},
   "outputs": [],
   "source": [
    "# function that returns a list with loss-values per frame\n",
    "def loss_per_frame(predicted_sequence, real_sequence):\n",
    "    loss_per_frame = []\n",
    "    criterion = nn.MSELoss()\n",
    "    if predicted_sequence.shape != real_sequence.shape:\n",
    "        return loss_per_frame\n",
    "    for i in range(len(predicted_sequence)):\n",
    "        loss = criterion(predicted_sequence[i], real_sequence[i])\n",
    "        loss_per_frame.append(loss.item())\n",
    "    return loss_per_frame"
   ]
  },
  {
   "cell_type": "code",
   "execution_count": 56,
   "metadata": {},
   "outputs": [
    {
     "data": {
      "application/vnd.jupyter.widget-view+json": {
       "model_id": "c4ab99b3313c48dcb29d685d627e13b9",
       "version_major": 2,
       "version_minor": 0
      },
      "text/plain": [
       "  0%|          | 0/30348 [00:00<?, ?it/s]"
      ]
     },
     "metadata": {},
     "output_type": "display_data"
    }
   ],
   "source": [
    "# calculate mean loss per frame over all test data\n",
    "total = len(pitch_predictions)\n",
    "pitch_total = np.zeros(FRAMES_OUT, dtype=np.float64)\n",
    "roll_total = np.zeros(FRAMES_OUT, dtype=np.float64)\n",
    "\n",
    "for i in tqdm(range(len(pitch_predictions))):\n",
    "    pitch_lpf = loss_per_frame(pitch_predictions[i], pitch_label[i])\n",
    "    roll_lpf = loss_per_frame(roll_predictions[i], roll_label[i])\n",
    "    pitch_total += pitch_lpf\n",
    "    roll_total += roll_lpf\n",
    "\n",
    "pitch_lpf_mse = pitch_total / total\n",
    "roll_lpf_mse = roll_total / total"
   ]
  },
  {
   "cell_type": "code",
   "execution_count": 57,
   "metadata": {},
   "outputs": [
    {
     "data": {
      "image/png": "[encoded data removed]",
      "text/plain": [
       "<Figure size 864x288 with 1 Axes>"
      ]
     },
     "metadata": {
      "needs_background": "light"
     },
     "output_type": "display_data"
    }
   ],
   "source": [
    "pitch_lpf_rmse = np.sqrt(pitch_lpf_mse)\n",
    "roll_lpf_rmse = np.sqrt(roll_lpf_mse)\n",
    "denorm = lambda x: denorm_pr(x)\n",
    "vfunc = np.vectorize(denorm)\n",
    "plt.figure(figsize=(12, 4))\n",
    "plt.plot(vfunc(pitch_lpf_rmse), label='pitch')\n",
    "plt.plot(vfunc(roll_lpf_rmse), color='orange', label='roll')\n",
    "plt.xlabel('predicted frame')\n",
    "plt.ylabel('Denormalized RMSE (°)')\n",
    "plt.title('Loss per frame: denormalized RMSE')\n",
    "plt.legend()\n",
    "if SAVE_RESULTS:\n",
    "    plt.savefig(f'{RESULT_FOLDER}/LPF-denorm-RMSE_{FRAMES_IN}in_{FRAMES_OUT}out_epochs{NUM_EPOCHS}')\n",
    "plt.show()"
   ]
  },
  {
   "cell_type": "markdown",
   "metadata": {},
   "source": [
    "### MSE results pitch"
   ]
  },
  {
   "cell_type": "code",
   "execution_count": 81,
   "metadata": {},
   "outputs": [
    {
     "name": "stdout",
     "output_type": "stream",
     "text": [
      "Pitch prediction\n",
      "   MSE: 0.00075\n",
      "   RMSE: 0.0273\n",
      "   RMSE denorm: 2.46°\n",
      "Zero prediction\n",
      "   MSE 0: 0.00449\n",
      "   RMSE 0: 0.067\n",
      "   RMSE denorm: 6.03°\n",
      "Improvement on zero prediction:\n",
      "   MSE delta%: 598.67 %\n",
      "   RMSE delta%: 245.42 %\n"
     ]
    }
   ],
   "source": [
    "n = len(pitch_predictions)\n",
    "loss0_tensor = torch.zeros(FRAMES_OUT)\n",
    "criterion = nn.MSELoss()\n",
    "\n",
    "loss = []\n",
    "loss0 = []\n",
    "\n",
    "total = 0\n",
    "total0 = 0\n",
    "\n",
    "for i in range(n):\n",
    "    error = criterion(pitch_label[i], pitch_predictions[i]).item()\n",
    "    error0 = criterion(pitch_label[i], loss0_tensor).item()\n",
    "    loss.append(denorm_pr(math.sqrt(error)))\n",
    "    loss0.append(denorm_pr(math.sqrt(error)))\n",
    "    total += error\n",
    "    total0 += error0\n",
    "    \n",
    "\n",
    "mse = round(total/n, 5)\n",
    "rmse = round(math.sqrt(total/n), 4)\n",
    "mse0 = round(total0/n, 5)\n",
    "rmse0 = round(math.sqrt(total0/n), 4)\n",
    "\n",
    "np.save(f\"{TEST_RESULT_FOLDER}/pitch_denormalized_error\", loss)\n",
    "np.save(f\"{TEST_RESULT_FOLDER}/pitch_zero_error\", loss0)\n",
    "\n",
    "print(\"Pitch prediction\")\n",
    "print(\"   MSE:\", mse)\n",
    "print(\"   RMSE:\", rmse)\n",
    "print(f\"   RMSE denorm: {round(denorm_pr(rmse), 2)}°\")\n",
    "print(\"Zero prediction\")\n",
    "print(\"   MSE 0:\", mse0)\n",
    "print(\"   RMSE 0:\", rmse0)\n",
    "print(f\"   RMSE denorm: {round(denorm_pr(rmse0), 2)}°\")\n",
    "print(\"Improvement on zero prediction:\")\n",
    "print(\"   MSE delta%:\", round(mse0/mse*100, 2), \"%\")\n",
    "print(\"   RMSE delta%:\", round(rmse0/rmse*100, 2), \"%\")"
   ]
  },
  {
   "cell_type": "markdown",
   "metadata": {},
   "source": [
    "### MSE results roll"
   ]
  },
  {
   "cell_type": "code",
   "execution_count": 82,
   "metadata": {},
   "outputs": [
    {
     "name": "stdout",
     "output_type": "stream",
     "text": [
      "Roll prediction\n",
      "   MSE: 0.00061\n",
      "   RMSE: 0.0246\n",
      "   RMSE denorm: 2.21°\n",
      "Zero prediction\n",
      "   MSE 0: 0.00716\n",
      "   RMSE 0: 0.0846\n",
      "   RMSE denorm: 7.61°\n",
      "Improvement on zero prediction:\n",
      "   MSE delta%: 1173.77 %\n",
      "   RMSE delta%: 343.9 %\n"
     ]
    }
   ],
   "source": [
    "n = len(pitch_predictions)\n",
    "loss0_tensor = torch.zeros(FRAMES_OUT)\n",
    "criterion = nn.MSELoss()\n",
    "\n",
    "loss = []\n",
    "loss0 = []\n",
    "\n",
    "total = 0\n",
    "total0 = 0\n",
    "\n",
    "for i in range(n):\n",
    "    error = criterion(roll_label[i], roll_predictions[i]).item()\n",
    "    error0 = criterion(roll_label[i], loss0_tensor).item()\n",
    "    loss.append(denorm_pr(math.sqrt(error)))\n",
    "    loss0.append(denorm_pr(math.sqrt(error)))\n",
    "    total += error\n",
    "    total0 += error0\n",
    "    \n",
    "\n",
    "mse = round(total/n, 5)\n",
    "rmse = round(math.sqrt(total/n), 4)\n",
    "mse0 = round(total0/n, 5)\n",
    "rmse0 = round(math.sqrt(total0/n), 4)\n",
    "\n",
    "np.save(f\"{TEST_RESULT_FOLDER}/roll_denormalized_error\", loss)\n",
    "np.save(f\"{TEST_RESULT_FOLDER}/roll_zero_error\", loss0)\n",
    "\n",
    "print(\"Roll prediction\")\n",
    "print(\"   MSE:\", mse)\n",
    "print(\"   RMSE:\", rmse)\n",
    "print(f\"   RMSE denorm: {round(denorm_pr(rmse), 2)}°\")\n",
    "print(\"Zero prediction\")\n",
    "print(\"   MSE 0:\", mse0)\n",
    "print(\"   RMSE 0:\", rmse0)\n",
    "print(f\"   RMSE denorm: {round(denorm_pr(rmse0), 2)}°\")\n",
    "print(\"Improvement on zero prediction:\")\n",
    "print(\"   MSE delta%:\", round(mse0/mse*100, 2), \"%\")\n",
    "print(\"   RMSE delta%:\", round(rmse0/rmse*100, 2), \"%\")"
   ]
  },
  {
   "cell_type": "code",
   "execution_count": 111,
   "metadata": {},
   "outputs": [
    {
     "data": {
      "image/png": "[encoded data removed]",
      "text/plain": [
       "<Figure size 360x576 with 1 Axes>"
      ]
     },
     "metadata": {
      "needs_background": "light"
     },
     "output_type": "display_data"
    }
   ],
   "source": [
    "fig, ax = plt.subplots(figsize=(5,8))\n",
    "pitch_error = np.load(f\"{TEST_RESULT_FOLDER}/pitch_denormalized_error.npy\")\n",
    "roll_error = np.load(f\"{TEST_RESULT_FOLDER}/roll_denormalized_error.npy\")\n",
    "ax.boxplot([pitch_error, roll_error], showfliers=False, widths=(0.5))\n",
    "ax.set_ylabel(\"error (°)\", fontsize=12)\n",
    "ax.set_xticks([1,2], [\"pitch\", \"roll\"], fontsize=12)\n",
    "ax.set_title(\"prediction error for pitch and roll\", fontsize=12)\n",
    "if SAVE_RESULTS:\n",
    "    plt.savefig(f'{RESULT_FOLDER}/error_boxplot_{FRAMES_IN}in_{FRAMES_OUT}out_epochs{NUM_EPOCHS}')"
   ]
  }
 ],
 "metadata": {
  "interpreter": {
   "hash": "10eea1320f31955e3067f39969a0854b449a89d7f91a5c6b0bcec70e16d0858a"
  },
  "kernelspec": {
   "display_name": "Python 3.8.13 ('thesis')",
   "language": "python",
   "name": "python3"
  },
  "language_info": {
   "codemirror_mode": {
    "name": "ipython",
    "version": 3
   },
   "file_extension": ".py",
   "mimetype": "text/x-python",
   "name": "python",
   "nbconvert_exporter": "python",
   "pygments_lexer": "ipython3",
   "version": "3.8.13"
  },
  "orig_nbformat": 4
 },
 "nbformat": 4,
 "nbformat_minor": 2
}
